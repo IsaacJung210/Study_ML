{
 "cells": [
  {
   "cell_type": "code",
   "execution_count": 3,
   "id": "788afa2d-6df0-408d-806c-8139206f4748",
   "metadata": {},
   "outputs": [],
   "source": [
    "import numpy as np\n",
    "from activation import softmax, sigmoid, relu\n",
    "from loss import mse, cross_entropy_err\n",
    "from sklearn.datasets import fetch_openml\n",
    "mnist = fetch_openml('mnist_784')"
   ]
  },
  {
   "cell_type": "code",
   "execution_count": 4,
   "id": "2f8d5d14-635d-48c6-a75c-bd6560b57b10",
   "metadata": {},
   "outputs": [],
   "source": [
    "x = mnist['data']\n",
    "y = mnist['target']"
   ]
  },
  {
   "cell_type": "code",
   "execution_count": 8,
   "id": "547db8b7-cc12-41c2-bb8f-10f91b81911c",
   "metadata": {},
   "outputs": [
    {
     "name": "stderr",
     "output_type": "stream",
     "text": [
      "/tmp/ipykernel_6923/3609945712.py:1: DeprecationWarning: `np.int` is a deprecated alias for the builtin `int`. To silence this warning, use `int` by itself. Doing this will not modify any behavior and is safe. When replacing `np.int`, you may wish to use e.g. `np.int64` or `np.int32` to specify the precision. If you wish to review your current use, check the release note link for additional information.\n",
      "Deprecated in NumPy 1.20; for more details and guidance: https://numpy.org/devdocs/release/1.20.0-notes.html#deprecations\n",
      "  y = y.astype(np.int)\n"
     ]
    }
   ],
   "source": [
    "y = y.astype(np.int)\n",
    "t = np.zeros((y.size,np.unique(y).size))"
   ]
  },
  {
   "cell_type": "code",
   "execution_count": 9,
   "id": "40e40791-aa7b-4cc5-a743-91bb648efa6c",
   "metadata": {},
   "outputs": [],
   "source": [
    "for i in range(y.size):\n",
    "    t[i,y[i]] = 1"
   ]
  },
  {
   "cell_type": "code",
   "execution_count": 70,
   "id": "642bb1d7-b049-4e26-a1d4-fbd8226cfc33",
   "metadata": {},
   "outputs": [],
   "source": [
    "def SimpleLayer(x,y):\n",
    "    W = np.random.randn(x,y)\n",
    "    b = np.random.randn(y)\n",
    "    network = {'W':W, 'b':b}\n",
    "    return network"
   ]
  },
  {
   "cell_type": "code",
   "execution_count": 126,
   "id": "10df3984-a406-47e7-952b-045a42a661ec",
   "metadata": {},
   "outputs": [],
   "source": [
    "def softmax(x):\n",
    "    c = np.max(x,axis=1).reshape(-1,1)\n",
    "    a = x - c\n",
    "    return np.exp(a)/np.sum(np.exp(a),axis=1).reshape(-1,1)"
   ]
  },
  {
   "cell_type": "code",
   "execution_count": 125,
   "id": "b8f2f45d-26c1-45a9-b3d1-642dee2785dd",
   "metadata": {},
   "outputs": [
    {
     "data": {
      "text/plain": [
       "array([[0.44321242, 0.34545059, 0.21133699],\n",
       "       [0.33196447, 0.58074333, 0.08729219],\n",
       "       [0.22921003, 0.10386444, 0.66692554],\n",
       "       [0.61530046, 0.01570133, 0.36899821]])"
      ]
     },
     "execution_count": 125,
     "metadata": {},
     "output_type": "execute_result"
    }
   ],
   "source": [
    "x = np.random.randn(4,3)\n",
    "softmax(x)"
   ]
  },
  {
   "cell_type": "code",
   "execution_count": 124,
   "id": "0126b9b8-9a3c-4d04-b93f-3861263f31ae",
   "metadata": {},
   "outputs": [
    {
     "data": {
      "text/plain": [
       "array([[ 1.62154334],\n",
       "       [ 0.72978897],\n",
       "       [-0.39557551],\n",
       "       [ 0.88169861]])"
      ]
     },
     "execution_count": 124,
     "metadata": {},
     "output_type": "execute_result"
    }
   ],
   "source": [
    "np.max(x,axis=1).reshape(-1,1)"
   ]
  },
  {
   "cell_type": "code",
   "execution_count": 71,
   "id": "7458d52a-1e7a-4682-8daa-59f59eaa4b0b",
   "metadata": {},
   "outputs": [],
   "source": [
    "init_network = SimpleLayer(x.shape[1],t.shape[1])"
   ]
  },
  {
   "cell_type": "code",
   "execution_count": 72,
   "id": "cdb8bd5f-b4e4-4c94-ae6d-80be0c3862de",
   "metadata": {},
   "outputs": [],
   "source": [
    "W, b = init_network['W'], init_network['b']"
   ]
  },
  {
   "cell_type": "code",
   "execution_count": 118,
   "id": "89aeaa35-e441-4bb3-ba03-c995943c1677",
   "metadata": {},
   "outputs": [],
   "source": [
    "y = softmax(np.dot(x,W)+b)"
   ]
  },
  {
   "cell_type": "code",
   "execution_count": 119,
   "id": "a594c559-20fb-43b4-9c39-3841c98bede7",
   "metadata": {},
   "outputs": [
    {
     "data": {
      "text/plain": [
       "array([[0.00000000e+000, 0.00000000e+000, 0.00000000e+000, ...,\n",
       "        0.00000000e+000, 0.00000000e+000, 0.00000000e+000],\n",
       "       [0.00000000e+000, 2.01486510e-269, 1.00000000e+000, ...,\n",
       "        0.00000000e+000, 0.00000000e+000, 0.00000000e+000],\n",
       "       [0.00000000e+000, 0.00000000e+000, 0.00000000e+000, ...,\n",
       "        4.79634262e-106, 0.00000000e+000, 0.00000000e+000],\n",
       "       ...,\n",
       "       [0.00000000e+000, 0.00000000e+000, 0.00000000e+000, ...,\n",
       "        0.00000000e+000, 0.00000000e+000, 1.00000000e+000],\n",
       "       [0.00000000e+000, 0.00000000e+000, 0.00000000e+000, ...,\n",
       "        0.00000000e+000, 0.00000000e+000, 1.00000000e+000],\n",
       "       [0.00000000e+000, 0.00000000e+000, 0.00000000e+000, ...,\n",
       "        0.00000000e+000, 0.00000000e+000, 1.00000000e+000]])"
      ]
     },
     "execution_count": 119,
     "metadata": {},
     "output_type": "execute_result"
    }
   ],
   "source": [
    "y"
   ]
  },
  {
   "cell_type": "code",
   "execution_count": 103,
   "id": "989bb418-451c-4023-bb4e-adc0a6a8cb84",
   "metadata": {},
   "outputs": [],
   "source": [
    "c = np.max(x,axis=1)"
   ]
  },
  {
   "cell_type": "code",
   "execution_count": 104,
   "id": "c4c90aa8-9105-45b1-95fd-0a9b74ee853b",
   "metadata": {},
   "outputs": [
    {
     "data": {
      "text/plain": [
       "0        255.0\n",
       "1        255.0\n",
       "2        255.0\n",
       "3        255.0\n",
       "4        255.0\n",
       "         ...  \n",
       "69995    255.0\n",
       "69996    254.0\n",
       "69997    255.0\n",
       "69998    255.0\n",
       "69999    254.0\n",
       "Length: 70000, dtype: float64"
      ]
     },
     "execution_count": 104,
     "metadata": {},
     "output_type": "execute_result"
    }
   ],
   "source": [
    "c"
   ]
  },
  {
   "cell_type": "code",
   "execution_count": 74,
   "id": "202af540-1c43-4153-a2d7-ce3a66d1b850",
   "metadata": {},
   "outputs": [
    {
     "data": {
      "text/plain": [
       "1.4031251040944408"
      ]
     },
     "execution_count": 74,
     "metadata": {},
     "output_type": "execute_result"
    }
   ],
   "source": [
    "cross_entropy_err(y,t)"
   ]
  },
  {
   "cell_type": "code",
   "execution_count": 61,
   "id": "e725b10b-8f71-4874-b348-46ce8532984a",
   "metadata": {},
   "outputs": [
    {
     "data": {
      "text/plain": [
       "(70000, 10)"
      ]
     },
     "execution_count": 61,
     "metadata": {},
     "output_type": "execute_result"
    }
   ],
   "source": [
    "np.dot(x,init_network['W']).shape"
   ]
  },
  {
   "cell_type": "code",
   "execution_count": 18,
   "id": "bd652981-c888-4475-8328-800cac066f32",
   "metadata": {},
   "outputs": [
    {
     "data": {
      "text/plain": [
       "array([13])"
      ]
     },
     "execution_count": 18,
     "metadata": {},
     "output_type": "execute_result"
    }
   ],
   "source": [
    "np.random.randint(10,100,1)"
   ]
  },
  {
   "cell_type": "code",
   "execution_count": 39,
   "id": "2aed6b6b-305d-4712-b552-66f3be7488dd",
   "metadata": {},
   "outputs": [
    {
     "data": {
      "text/plain": [
       "(70000, 10)"
      ]
     },
     "execution_count": 39,
     "metadata": {},
     "output_type": "execute_result"
    }
   ],
   "source": [
    "init_network['W'].shape"
   ]
  },
  {
   "cell_type": "code",
   "execution_count": 92,
   "id": "33cf6f85-eb39-4998-a968-2a46f59b9355",
   "metadata": {},
   "outputs": [],
   "source": [
    "def cross_entropy_error(y, t):\n",
    "    if y.ndim == 1:\n",
    "        t = t.reshape(1, t.size)\n",
    "        y = y.reshape(1, y.size)\n",
    "        \n",
    "    if t.size == y.size:\n",
    "        t = t.argmax(axis=1)\n",
    "             \n",
    "    batch_size = y.shape[0]\n",
    "    return -np.sum(np.log(y+ 1e-7)) / batch_size\n"
   ]
  },
  {
   "cell_type": "code",
   "execution_count": 93,
   "id": "290fc1a0-b51d-464b-aaa0-26fed2ecb3a0",
   "metadata": {},
   "outputs": [
    {
     "data": {
      "text/plain": [
       "1015035.0907345656"
      ]
     },
     "execution_count": 93,
     "metadata": {},
     "output_type": "execute_result"
    }
   ],
   "source": [
    "cross_entropy_error(y,t)"
   ]
  },
  {
   "cell_type": "code",
   "execution_count": 95,
   "id": "7006d8eb-23b1-460b-9643-07bd15826526",
   "metadata": {},
   "outputs": [
    {
     "data": {
      "text/plain": [
       "(10, 70000)"
      ]
     },
     "execution_count": 95,
     "metadata": {},
     "output_type": "execute_result"
    }
   ],
   "source": [
    "y.shape"
   ]
  },
  {
   "cell_type": "code",
   "execution_count": 145,
   "id": "ed1e5d32-a899-4670-ae1c-fae792921691",
   "metadata": {},
   "outputs": [],
   "source": [
    "def fx(x):\n",
    "    return x**3 - 3*x**2 + 3"
   ]
  },
  {
   "cell_type": "code",
   "execution_count": 136,
   "id": "f7703c5c-d12f-4ef2-865c-ebf78342ff8e",
   "metadata": {},
   "outputs": [],
   "source": [
    "def _diff(f,x):\n",
    "    h = 1e-5\n",
    "    fx = f\n",
    "    return (fx(x+h)-fx(x))/h"
   ]
  },
  {
   "cell_type": "code",
   "execution_count": 147,
   "id": "186e6808-684f-4805-8194-20ac36a2f0dc",
   "metadata": {},
   "outputs": [
    {
     "data": {
      "text/plain": [
       "array([-3.00000000e+00,  3.00001801e-05,  9.00006000e+00])"
      ]
     },
     "execution_count": 147,
     "metadata": {},
     "output_type": "execute_result"
    }
   ],
   "source": [
    "_diff(fx,np.array([1,2,3]))"
   ]
  },
  {
   "cell_type": "code",
   "execution_count": 149,
   "id": "c44256b2-23f7-4f1b-bcdc-a34bb3e9b71b",
   "metadata": {},
   "outputs": [],
   "source": [
    "def cross_entropy_err(y,t):\n",
    "    delta = 1e-7\n",
    "    return np.sum(-np.sum(t*np.log(y+delta)))/y.size"
   ]
  },
  {
   "cell_type": "code",
   "execution_count": null,
   "id": "c16cb485-fba3-4f4b-9c48-0366aa2624df",
   "metadata": {},
   "outputs": [],
   "source": [
    "y = x1**2+x2**2"
   ]
  },
  {
   "cell_type": "code",
   "execution_count": 168,
   "id": "e76cd042-18a9-48c4-9819-278d311e20c1",
   "metadata": {},
   "outputs": [],
   "source": [
    "def f2(x):\n",
    "    return np.sum(x**2,axis=1)"
   ]
  },
  {
   "cell_type": "code",
   "execution_count": 165,
   "id": "2c72ad30-4d85-40cb-9be6-68eb0ab37c24",
   "metadata": {},
   "outputs": [
    {
     "data": {
      "text/plain": [
       "(10, 1)"
      ]
     },
     "execution_count": 165,
     "metadata": {},
     "output_type": "execute_result"
    }
   ],
   "source": []
  },
  {
   "cell_type": "code",
   "execution_count": 155,
   "id": "206c1c50-8a25-4577-848d-fa4fa0b98f11",
   "metadata": {},
   "outputs": [],
   "source": [
    "x = np.random.randint(1,10,20).reshape(10,2)"
   ]
  },
  {
   "cell_type": "code",
   "execution_count": 169,
   "id": "ab0574f5-f7f7-4744-b0c3-3701536655b5",
   "metadata": {},
   "outputs": [
    {
     "data": {
      "text/plain": [
       "(10,)"
      ]
     },
     "execution_count": 169,
     "metadata": {},
     "output_type": "execute_result"
    }
   ],
   "source": [
    "_diff(f2,x).shape"
   ]
  },
  {
   "cell_type": "code",
   "execution_count": null,
   "id": "064ec9cc-5355-40e8-a3d5-6178a37990b5",
   "metadata": {},
   "outputs": [],
   "source": [
    "def _diff2(x):\n",
    "    return"
   ]
  },
  {
   "cell_type": "code",
   "execution_count": 175,
   "id": "db09a274-63e6-4800-b5ac-b051307f69f8",
   "metadata": {},
   "outputs": [],
   "source": [
    "x = np.random.randint(90,100,20).reshape(10,2)"
   ]
  },
  {
   "cell_type": "code",
   "execution_count": 207,
   "id": "4fb1d884-7542-4197-8417-ec5388014693",
   "metadata": {},
   "outputs": [],
   "source": [
    "x1 = np.random.randn(100)\n",
    "x2 = np.random.randn(100)\n",
    "x3 = np.random.randn(100)\n",
    "y = 2.5*x1 + 3.2*x2 + 4.1*x3"
   ]
  },
  {
   "cell_type": "code",
   "execution_count": 284,
   "id": "56ce4978-247d-45da-82f4-1d86544e3e94",
   "metadata": {},
   "outputs": [],
   "source": [
    "w1 = np.random.randn(1).reshape(1,1)"
   ]
  },
  {
   "cell_type": "code",
   "execution_count": 292,
   "id": "91222eb6-e520-49c9-93c6-9367a26ea91f",
   "metadata": {},
   "outputs": [
    {
     "data": {
      "text/plain": [
       "array([[1.80655767]])"
      ]
     },
     "execution_count": 292,
     "metadata": {},
     "output_type": "execute_result"
    }
   ],
   "source": [
    "w1"
   ]
  },
  {
   "cell_type": "code",
   "execution_count": 299,
   "id": "74aaac1b-ab7d-4661-a3c8-7d331de55eb4",
   "metadata": {},
   "outputs": [],
   "source": [
    "lr = 1e-3\n",
    "for i in range(10000):\n",
    "    delta = 1e-7\n",
    "    fx_h = mse(np.dot(x1.reshape(-1,1),w1+delta),y)   \n",
    "    fx = mse(np.dot(x1.reshape(-1,1),w1),y)\n",
    "    w1 = w1 - lr*((fx_h - fx)/delta)"
   ]
  },
  {
   "cell_type": "code",
   "execution_count": 311,
   "id": "fd15cbe6-cb37-438f-ba2a-1ea86bc87dd3",
   "metadata": {},
   "outputs": [],
   "source": [
    "w3 = np.array([10]).reshape(-1,1)"
   ]
  },
  {
   "cell_type": "code",
   "execution_count": 324,
   "id": "8812a2b0-9e42-4ef1-a63d-7611049d996a",
   "metadata": {},
   "outputs": [
    {
     "data": {
      "text/plain": [
       "3"
      ]
     },
     "execution_count": 324,
     "metadata": {},
     "output_type": "execute_result"
    }
   ],
   "source": [
    "W.size"
   ]
  },
  {
   "cell_type": "code",
   "execution_count": 319,
   "id": "0088c9d9-d2ef-46a1-94e9-358dfe466437",
   "metadata": {},
   "outputs": [],
   "source": [
    "lr = 1e-5\n",
    "for i in range(1000000):\n",
    "    delta = 1e-7\n",
    "    fx_h = mse(np.dot(x3.reshape(-1,1),w3+delta),y)   \n",
    "    fx = mse(np.dot(x3.reshape(-1,1),w3),y)\n",
    "    w3 = w3 - lr*((fx_h - fx)/delta)"
   ]
  },
  {
   "cell_type": "code",
   "execution_count": 331,
   "id": "f6a038ab-28c3-4f79-b6d2-29d368d63ce4",
   "metadata": {},
   "outputs": [
    {
     "data": {
      "text/plain": [
       "(1,)"
      ]
     },
     "execution_count": 331,
     "metadata": {},
     "output_type": "execute_result"
    }
   ],
   "source": [
    "W[i].shape"
   ]
  },
  {
   "cell_type": "code",
   "execution_count": 332,
   "id": "fdf61cb2-20bb-4e6b-9d50-e77d0b75a137",
   "metadata": {},
   "outputs": [
    {
     "data": {
      "text/plain": [
       "19.54503305731955"
      ]
     },
     "execution_count": 332,
     "metadata": {},
     "output_type": "execute_result"
    }
   ],
   "source": [
    "i = 0\n",
    "delta = 1e-7\n",
    "mse(np.dot(X[:,i].reshape(-1,1),W[i].reshape(1,-1)+delta),y)"
   ]
  },
  {
   "cell_type": "code",
   "execution_count": 338,
   "id": "07c75eb5-b7f1-4481-a3ab-25d71728f9d9",
   "metadata": {},
   "outputs": [],
   "source": [
    "def grad(x,y,w):\n",
    "    delta = 1e-7\n",
    "    tmp = np.random.randn(1)[0]\n",
    "    for i in range(w.size):\n",
    "        fx_h = mse(np.dot(x[:,i].reshape(-1,1),w[i].reshape(1,-1)+delta),y)\n",
    "        fx = mse(np.dot(x[:,i].reshape(-1,1),w[i].reshape(1,-1)),y)\n",
    "        tmp = tmp - lr*((fx_h-fx)/delta)\n",
    "        print(tmp)\n",
    "    return tmp"
   ]
  },
  {
   "cell_type": "code",
   "execution_count": 339,
   "id": "17ecae2a-061f-4835-8d44-d7434693430a",
   "metadata": {},
   "outputs": [
    {
     "name": "stdout",
     "output_type": "stream",
     "text": [
      "0.42128142650819655\n",
      "0.4212740384827163\n",
      "0.42127732168469323\n"
     ]
    },
    {
     "data": {
      "text/plain": [
       "0.42127732168469323"
      ]
     },
     "execution_count": 339,
     "metadata": {},
     "output_type": "execute_result"
    }
   ],
   "source": [
    "grad(X,y,W)"
   ]
  },
  {
   "cell_type": "code",
   "execution_count": 180,
   "id": "589effac-99e8-46a3-845f-77747b8daec4",
   "metadata": {},
   "outputs": [],
   "source": [
    "X = np.c_[x1,x2,x3].reshape(100,3)"
   ]
  },
  {
   "cell_type": "code",
   "execution_count": 258,
   "id": "68ada506-3b76-49ae-8d02-64b8d5489452",
   "metadata": {},
   "outputs": [],
   "source": [
    "W = np.random.randn(3,1)"
   ]
  },
  {
   "cell_type": "code",
   "execution_count": 227,
   "id": "3f7b96b2-cc43-4753-a6d1-4e709ce97ae4",
   "metadata": {},
   "outputs": [
    {
     "data": {
      "text/plain": [
       "array([[ 0.77528293],\n",
       "       [-0.44244975],\n",
       "       [-0.62173236]])"
      ]
     },
     "execution_count": 227,
     "metadata": {},
     "output_type": "execute_result"
    }
   ],
   "source": [
    "fx = w1*x1 + w2*x2 + w3*x3"
   ]
  },
  {
   "cell_type": "code",
   "execution_count": 229,
   "id": "ea91ad65-3ba1-4ded-aeb4-ce537cb744a0",
   "metadata": {},
   "outputs": [
    {
     "data": {
      "text/plain": [
       "array([[ 0.77498641],\n",
       "       [-0.44274628],\n",
       "       [-0.62202888]])"
      ]
     },
     "execution_count": 229,
     "metadata": {},
     "output_type": "execute_result"
    }
   ],
   "source": [
    "W"
   ]
  },
  {
   "cell_type": "code",
   "execution_count": 185,
   "id": "4972a90c-55fd-49a0-9eaa-94b8e18261aa",
   "metadata": {},
   "outputs": [],
   "source": [
    "y = y.reshape(-1,1)"
   ]
  },
  {
   "cell_type": "code",
   "execution_count": 186,
   "id": "a5974109-15cb-407b-bc94-5e8813226161",
   "metadata": {},
   "outputs": [],
   "source": [
    "def fx(X,W):\n",
    "    return np.dot(X,W)"
   ]
  },
  {
   "cell_type": "code",
   "execution_count": 220,
   "id": "b17da943-e941-4dc0-a14b-0219cc7c234d",
   "metadata": {},
   "outputs": [],
   "source": [
    "def mse(y,t):\n",
    "    return (1/2*np.sum((y-t)**2))/y.size"
   ]
  },
  {
   "cell_type": "code",
   "execution_count": 234,
   "id": "12735394-bccc-41c5-857b-e1b61dfd2f6b",
   "metadata": {},
   "outputs": [],
   "source": [
    "y = y.reshape(-1,1)"
   ]
  },
  {
   "cell_type": "code",
   "execution_count": 293,
   "id": "a75f061a-9cd5-493a-88c6-8d6944e9df32",
   "metadata": {},
   "outputs": [
    {
     "ename": "KeyboardInterrupt",
     "evalue": "",
     "output_type": "error",
     "traceback": [
      "\u001b[0;31m---------------------------------------------------------------------------\u001b[0m",
      "\u001b[0;31mKeyboardInterrupt\u001b[0m                         Traceback (most recent call last)",
      "\u001b[0;32m/tmp/ipykernel_6923/3572637675.py\u001b[0m in \u001b[0;36m<module>\u001b[0;34m\u001b[0m\n\u001b[1;32m      2\u001b[0m \u001b[0mlr\u001b[0m \u001b[0;34m=\u001b[0m \u001b[0;36m1e-5\u001b[0m\u001b[0;34m\u001b[0m\u001b[0;34m\u001b[0m\u001b[0m\n\u001b[1;32m      3\u001b[0m \u001b[0;32mfor\u001b[0m \u001b[0mi\u001b[0m \u001b[0;32min\u001b[0m \u001b[0mrange\u001b[0m\u001b[0;34m(\u001b[0m\u001b[0;36m1000000\u001b[0m\u001b[0;34m)\u001b[0m\u001b[0;34m:\u001b[0m\u001b[0;34m\u001b[0m\u001b[0;34m\u001b[0m\u001b[0m\n\u001b[0;32m----> 4\u001b[0;31m     \u001b[0mW\u001b[0m \u001b[0;34m=\u001b[0m \u001b[0mW\u001b[0m \u001b[0;34m-\u001b[0m \u001b[0mlr\u001b[0m\u001b[0;34m*\u001b[0m\u001b[0;34m(\u001b[0m\u001b[0;34m(\u001b[0m\u001b[0mmse\u001b[0m\u001b[0;34m(\u001b[0m\u001b[0mnp\u001b[0m\u001b[0;34m.\u001b[0m\u001b[0mdot\u001b[0m\u001b[0;34m(\u001b[0m\u001b[0mX\u001b[0m\u001b[0;34m,\u001b[0m\u001b[0;34m(\u001b[0m\u001b[0mW\u001b[0m\u001b[0;34m+\u001b[0m\u001b[0mdelta\u001b[0m\u001b[0;34m)\u001b[0m\u001b[0;34m)\u001b[0m\u001b[0;34m,\u001b[0m\u001b[0my\u001b[0m\u001b[0;34m)\u001b[0m\u001b[0;34m-\u001b[0m\u001b[0mmse\u001b[0m\u001b[0;34m(\u001b[0m\u001b[0mnp\u001b[0m\u001b[0;34m.\u001b[0m\u001b[0mdot\u001b[0m\u001b[0;34m(\u001b[0m\u001b[0mX\u001b[0m\u001b[0;34m,\u001b[0m\u001b[0mW\u001b[0m\u001b[0;34m)\u001b[0m\u001b[0;34m,\u001b[0m\u001b[0my\u001b[0m\u001b[0;34m)\u001b[0m\u001b[0;34m)\u001b[0m\u001b[0;34m/\u001b[0m\u001b[0mdelta\u001b[0m\u001b[0;34m)\u001b[0m\u001b[0;34m\u001b[0m\u001b[0;34m\u001b[0m\u001b[0m\n\u001b[0m",
      "\u001b[0;32m/tmp/ipykernel_6923/3153270204.py\u001b[0m in \u001b[0;36mmse\u001b[0;34m(y, t)\u001b[0m\n\u001b[1;32m      1\u001b[0m \u001b[0;32mdef\u001b[0m \u001b[0mmse\u001b[0m\u001b[0;34m(\u001b[0m\u001b[0my\u001b[0m\u001b[0;34m,\u001b[0m\u001b[0mt\u001b[0m\u001b[0;34m)\u001b[0m\u001b[0;34m:\u001b[0m\u001b[0;34m\u001b[0m\u001b[0;34m\u001b[0m\u001b[0m\n\u001b[0;32m----> 2\u001b[0;31m     \u001b[0;32mreturn\u001b[0m \u001b[0;34m(\u001b[0m\u001b[0;36m1\u001b[0m\u001b[0;34m/\u001b[0m\u001b[0;36m2\u001b[0m\u001b[0;34m*\u001b[0m\u001b[0mnp\u001b[0m\u001b[0;34m.\u001b[0m\u001b[0msum\u001b[0m\u001b[0;34m(\u001b[0m\u001b[0;34m(\u001b[0m\u001b[0my\u001b[0m\u001b[0;34m-\u001b[0m\u001b[0mt\u001b[0m\u001b[0;34m)\u001b[0m\u001b[0;34m**\u001b[0m\u001b[0;36m2\u001b[0m\u001b[0;34m)\u001b[0m\u001b[0;34m)\u001b[0m\u001b[0;34m/\u001b[0m\u001b[0my\u001b[0m\u001b[0;34m.\u001b[0m\u001b[0msize\u001b[0m\u001b[0;34m\u001b[0m\u001b[0;34m\u001b[0m\u001b[0m\n\u001b[0m",
      "\u001b[0;31mKeyboardInterrupt\u001b[0m: "
     ]
    }
   ],
   "source": [
    "delta = 1e-5\n",
    "lr = 1e-5\n",
    "for i in range(1000000):\n",
    "    W = W - lr*((mse(np.dot(X,(W+delta)),y)-mse(np.dot(X,W),y))/delta)"
   ]
  },
  {
   "cell_type": "code",
   "execution_count": 278,
   "id": "951d17d0-df03-4b72-84c6-9bcf2085c008",
   "metadata": {},
   "outputs": [
    {
     "data": {
      "text/plain": [
       "19.17694952337466"
      ]
     },
     "execution_count": 278,
     "metadata": {},
     "output_type": "execute_result"
    }
   ],
   "source": [
    "mse(np.dot(X,W),y)"
   ]
  },
  {
   "cell_type": "code",
   "execution_count": 279,
   "id": "db20398e-9993-427e-b10d-dc61c77b1e87",
   "metadata": {},
   "outputs": [
    {
     "data": {
      "text/plain": [
       "array([[-0.85669618],\n",
       "       [ 1.05758821],\n",
       "       [ 0.79703159]])"
      ]
     },
     "execution_count": 279,
     "metadata": {},
     "output_type": "execute_result"
    }
   ],
   "source": [
    "W"
   ]
  },
  {
   "cell_type": "code",
   "execution_count": 230,
   "id": "ea338d76-a492-46ad-b15f-e24e24beb350",
   "metadata": {},
   "outputs": [
    {
     "data": {
      "text/plain": [
       "29.74197022922453"
      ]
     },
     "execution_count": 230,
     "metadata": {},
     "output_type": "execute_result"
    }
   ],
   "source": [
    "(mse(np.dot(X,(W-delta)),y)-mse(np.dot(X,W),y))/delta"
   ]
  },
  {
   "cell_type": "code",
   "execution_count": 224,
   "id": "9b1b8245-9819-4c5c-9f15-d90601f85dfe",
   "metadata": {},
   "outputs": [
    {
     "name": "stdout",
     "output_type": "stream",
     "text": [
      "[[ 0.08468969]\n",
      " [-1.0883317 ]\n",
      " [-0.4998475 ]] ======= 2035.8495080585667\n",
      "[[ 0.08448611]\n",
      " [-1.08853529]\n",
      " [-0.50005108]] ======= 2035.8843968143117\n",
      "[[ 0.08428252]\n",
      " [-1.08873888]\n",
      " [-0.50025467]] ======= 2035.919298713317\n",
      "[[ 0.08407893]\n",
      " [-1.08894247]\n",
      " [-0.50045826]] ======= 2035.9542137564529\n",
      "[[ 0.08387533]\n",
      " [-1.08914606]\n",
      " [-0.50066186]] ======= 2035.9891419445894\n",
      "[[ 0.08367174]\n",
      " [-1.08934966]\n",
      " [-0.50086546]] ======= 2036.024083278599\n",
      "[[ 0.08346813]\n",
      " [-1.08955326]\n",
      " [-0.50106906]] ======= 2036.0590377593517\n",
      "[[ 0.08326453]\n",
      " [-1.08975687]\n",
      " [-0.50127267]] ======= 2036.09400538772\n",
      "[[ 0.08306092]\n",
      " [-1.08996048]\n",
      " [-0.50147628]] ======= 2036.128986164576\n",
      "[[ 0.0828573 ]\n",
      " [-1.09016409]\n",
      " [-0.50167989]] ======= 2036.1639800907928\n",
      "[[ 0.08265369]\n",
      " [-1.09036771]\n",
      " [-0.50188351]] ======= 2036.198987167242\n",
      "[[ 0.08245007]\n",
      " [-1.09057133]\n",
      " [-0.50208713]] ======= 2036.2340073947976\n",
      "[[ 0.08224645]\n",
      " [-1.09077495]\n",
      " [-0.50229075]] ======= 2036.2690407743335\n",
      "[[ 0.08204282]\n",
      " [-1.09097858]\n",
      " [-0.50249438]] ======= 2036.3040873067227\n",
      "[[ 0.08183919]\n",
      " [-1.09118221]\n",
      " [-0.50269801]] ======= 2036.3391469928401\n",
      "[[ 0.08163555]\n",
      " [-1.09138584]\n",
      " [-0.50290164]] ======= 2036.3742198335603\n",
      "[[ 0.08143192]\n",
      " [-1.09158948]\n",
      " [-0.50310528]] ======= 2036.4093058297576\n",
      "[[ 0.08122828]\n",
      " [-1.09179312]\n",
      " [-0.50330892]] ======= 2036.4444049823087\n",
      "[[ 0.08102463]\n",
      " [-1.09199677]\n",
      " [-0.50351256]] ======= 2036.4795172920876\n",
      "[[ 0.08082098]\n",
      " [-1.09220041]\n",
      " [-0.50371621]] ======= 2036.5146427599711\n",
      "[[ 0.08061733]\n",
      " [-1.09240407]\n",
      " [-0.50391986]] ======= 2036.549781386836\n",
      "[[ 0.08041368]\n",
      " [-1.09260772]\n",
      " [-0.50412352]] ======= 2036.5849331735587\n",
      "[[ 0.08021002]\n",
      " [-1.09281138]\n",
      " [-0.50432718]] ======= 2036.6200981210159\n",
      "[[ 0.08000636]\n",
      " [-1.09301504]\n",
      " [-0.50453084]] ======= 2036.6552762300853\n",
      "[[ 0.07980269]\n",
      " [-1.09321871]\n",
      " [-0.5047345 ]] ======= 2036.6904675016447\n",
      "[[ 0.07959902]\n",
      " [-1.09342238]\n",
      " [-0.50493817]] ======= 2036.725671936572\n",
      "[[ 0.07939535]\n",
      " [-1.09362605]\n",
      " [-0.50514185]] ======= 2036.7608895357462\n",
      "[[ 0.07919167]\n",
      " [-1.09382972]\n",
      " [-0.50534552]] ======= 2036.7961203000457\n",
      "[[ 0.07898799]\n",
      " [-1.0940334 ]\n",
      " [-0.5055492 ]] ======= 2036.8313642303494\n",
      "[[ 0.07878431]\n",
      " [-1.09423709]\n",
      " [-0.50575288]] ======= 2036.8666213275376\n",
      "[[ 0.07858062]\n",
      " [-1.09444077]\n",
      " [-0.50595657]] ======= 2036.90189159249\n",
      "[[ 0.07837693]\n",
      " [-1.09464446]\n",
      " [-0.50616026]] ======= 2036.9371750260864\n",
      "[[ 0.07817324]\n",
      " [-1.09484816]\n",
      " [-0.50636395]] ======= 2036.9724716292073\n",
      "[[ 0.07796954]\n",
      " [-1.09505186]\n",
      " [-0.50656765]] ======= 2037.007781402734\n",
      "[[ 0.07776584]\n",
      " [-1.09525556]\n",
      " [-0.50677135]] ======= 2037.0431043475476\n",
      "[[ 0.07756214]\n",
      " [-1.09545926]\n",
      " [-0.50697506]] ======= 2037.07844046453\n",
      "[[ 0.07735843]\n",
      " [-1.09566297]\n",
      " [-0.50717876]] ======= 2037.1137897545632\n",
      "[[ 0.07715472]\n",
      " [-1.09586668]\n",
      " [-0.50738248]] ======= 2037.1491522185293\n",
      "[[ 0.076951  ]\n",
      " [-1.09607039]\n",
      " [-0.50758619]] ======= 2037.184527857311\n",
      "[[ 0.07674728]\n",
      " [-1.09627411]\n",
      " [-0.50778991]] ======= 2037.219916671791\n",
      "[[ 0.07654356]\n",
      " [-1.09647783]\n",
      " [-0.50799363]] ======= 2037.2553186628536\n",
      "[[ 0.07633984]\n",
      " [-1.09668156]\n",
      " [-0.50819736]] ======= 2037.2907338313819\n",
      "[[ 0.07613611]\n",
      " [-1.09688529]\n",
      " [-0.50840109]] ======= 2037.3261621782603\n",
      "[[ 0.07593238]\n",
      " [-1.09708902]\n",
      " [-0.50860482]] ======= 2037.3616037043726\n",
      "[[ 0.07572864]\n",
      " [-1.09729276]\n",
      " [-0.50880855]] ======= 2037.3970584106044\n",
      "[[ 0.0755249 ]\n",
      " [-1.0974965 ]\n",
      " [-0.50901229]] ======= 2037.4325262978402\n",
      "[[ 0.07532116]\n",
      " [-1.09770024]\n",
      " [-0.50921604]] ======= 2037.468007366966\n",
      "[[ 0.07511741]\n",
      " [-1.09790399]\n",
      " [-0.50941978]] ======= 2037.5035016188676\n",
      "[[ 0.07491366]\n",
      " [-1.09810774]\n",
      " [-0.50962353]] ======= 2037.5390090544308\n",
      "[[ 0.07470991]\n",
      " [-1.09831149]\n",
      " [-0.50982729]] ======= 2037.5745296745426\n",
      "[[ 0.07450615]\n",
      " [-1.09851525]\n",
      " [-0.51003105]] ======= 2037.6100634800898\n",
      "[[ 0.07430239]\n",
      " [-1.09871901]\n",
      " [-0.51023481]] ======= 2037.6456104719598\n",
      "[[ 0.07409862]\n",
      " [-1.09892278]\n",
      " [-0.51043857]] ======= 2037.6811706510402\n",
      "[[ 0.07389485]\n",
      " [-1.09912654]\n",
      " [-0.51064234]] ======= 2037.7167440182177\n",
      "[[ 0.07369108]\n",
      " [-1.09933032]\n",
      " [-0.51084611]] ======= 2037.7523305743828\n",
      "[[ 0.07348731]\n",
      " [-1.09953409]\n",
      " [-0.51104989]] ======= 2037.7879303204227\n",
      "[[ 0.07328353]\n",
      " [-1.09973787]\n",
      " [-0.51125367]] ======= 2037.8235432572267\n",
      "[[ 0.07307975]\n",
      " [-1.09994165]\n",
      " [-0.51145745]] ======= 2037.8591693856847\n",
      "[[ 0.07287596]\n",
      " [-1.10014544]\n",
      " [-0.51166123]] ======= 2037.894808706686\n",
      "[[ 0.07267217]\n",
      " [-1.10034923]\n",
      " [-0.51186502]] ======= 2037.9304612211206\n",
      "[[ 0.07246838]\n",
      " [-1.10055302]\n",
      " [-0.51206882]] ======= 2037.966126929879\n",
      "[[ 0.07226458]\n",
      " [-1.10075682]\n",
      " [-0.51227261]] ======= 2038.001805833852\n",
      "[[ 0.07206078]\n",
      " [-1.10096062]\n",
      " [-0.51247641]] ======= 2038.0374979339308\n",
      "[[ 0.07185698]\n",
      " [-1.10116442]\n",
      " [-0.51268022]] ======= 2038.073203231007\n",
      "[[ 0.07165317]\n",
      " [-1.10136823]\n",
      " [-0.51288402]] ======= 2038.1089217259723\n",
      "[[ 0.07144936]\n",
      " [-1.10157204]\n",
      " [-0.51308784]] ======= 2038.144653419719\n",
      "[[ 0.07124554]\n",
      " [-1.10177585]\n",
      " [-0.51329165]] ======= 2038.1803983131388\n",
      "[[ 0.07104173]\n",
      " [-1.10197967]\n",
      " [-0.51349547]] ======= 2038.2161564071264\n",
      "[[ 0.0708379 ]\n",
      " [-1.10218349]\n",
      " [-0.51369929]] ======= 2038.2519277025735\n",
      "[[ 0.07063408]\n",
      " [-1.10238732]\n",
      " [-0.51390311]] ======= 2038.2877122003747\n",
      "[[ 0.07043025]\n",
      " [-1.10259115]\n",
      " [-0.51410694]] ======= 2038.3235099014232\n",
      "[[ 0.07022642]\n",
      " [-1.10279498]\n",
      " [-0.51431078]] ======= 2038.3593208066136\n",
      "[[ 0.07002258]\n",
      " [-1.10299881]\n",
      " [-0.51451461]] ======= 2038.395144916841\n",
      "[[ 0.06981874]\n",
      " [-1.10320265]\n",
      " [-0.51471845]] ======= 2038.430982232999\n",
      "[[ 0.0696149 ]\n",
      " [-1.1034065 ]\n",
      " [-0.51492229]] ======= 2038.466832755985\n",
      "[[ 0.06941105]\n",
      " [-1.10361034]\n",
      " [-0.51512614]] ======= 2038.5026964866934\n",
      "[[ 0.0692072 ]\n",
      " [-1.10381419]\n",
      " [-0.51532999]] ======= 2038.5385734260208\n",
      "[[ 0.06900335]\n",
      " [-1.10401805]\n",
      " [-0.51553384]] ======= 2038.5744635748633\n",
      "[[ 0.06879949]\n",
      " [-1.10422191]\n",
      " [-0.5157377 ]] ======= 2038.610366934118\n",
      "[[ 0.06859563]\n",
      " [-1.10442577]\n",
      " [-0.51594156]] ======= 2038.6462835046814\n",
      "[[ 0.06839177]\n",
      " [-1.10462963]\n",
      " [-0.51614543]] ======= 2038.682213287452\n",
      "[[ 0.0681879]\n",
      " [-1.1048335]\n",
      " [-0.5163493]] ======= 2038.7181562833273\n",
      "[[ 0.06798403]\n",
      " [-1.10503737]\n",
      " [-0.51655317]] ======= 2038.754112493205\n",
      "[[ 0.06778015]\n",
      " [-1.10524125]\n",
      " [-0.51675704]] ======= 2038.7900819179838\n",
      "[[ 0.06757627]\n",
      " [-1.10544513]\n",
      " [-0.51696092]] ======= 2038.8260645585633\n",
      "[[ 0.06737239]\n",
      " [-1.10564901]\n",
      " [-0.51716481]] ======= 2038.8620604158416\n",
      "[[ 0.0671685 ]\n",
      " [-1.10585289]\n",
      " [-0.51736869]] ======= 2038.89806949072\n",
      "[[ 0.06696461]\n",
      " [-1.10605678]\n",
      " [-0.51757258]] ======= 2038.9340917840966\n",
      "[[ 0.06676072]\n",
      " [-1.10626068]\n",
      " [-0.51777647]] ======= 2038.9701272968732\n",
      "[[ 0.06655682]\n",
      " [-1.10646457]\n",
      " [-0.51798037]] ======= 2039.0061760299495\n",
      "[[ 0.06635292]\n",
      " [-1.10666848]\n",
      " [-0.51818427]] ======= 2039.0422379842273\n",
      "[[ 0.06614902]\n",
      " [-1.10687238]\n",
      " [-0.51838818]] ======= 2039.0783131606074\n",
      "[[ 0.06594511]\n",
      " [-1.10707629]\n",
      " [-0.51859208]] ======= 2039.1144015599918\n",
      "[[ 0.0657412]\n",
      " [-1.1072802]\n",
      " [-0.518796 ]] ======= 2039.1505031832826\n",
      "[[ 0.06553728]\n",
      " [-1.10748411]\n",
      " [-0.51899991]] ======= 2039.186618031382\n",
      "[[ 0.06533336]\n",
      " [-1.10768803]\n",
      " [-0.51920383]] ======= 2039.2227461051934\n",
      "[[ 0.06512944]\n",
      " [-1.10789196]\n",
      " [-0.51940775]] ======= 2039.2588874056194\n",
      "[[ 0.06492552]\n",
      " [-1.10809588]\n",
      " [-0.51961168]] ======= 2039.2950419335634\n",
      "[[ 0.06472159]\n",
      " [-1.10829981]\n",
      " [-0.51981561]] ======= 2039.3312096899303\n",
      "[[ 0.06451765]\n",
      " [-1.10850374]\n",
      " [-0.52001954]] ======= 2039.367390675623\n"
     ]
    }
   ],
   "source": [
    "for i in range(100):\n",
    "    W = W - 1e-7*mse(np.dot(X,W),y)\n",
    "    print(W,\"=======\",mse(np.dot(X,W),y))"
   ]
  },
  {
   "cell_type": "code",
   "execution_count": 198,
   "id": "e9c4a979-b6e4-42dd-ab6f-641bc51723f5",
   "metadata": {},
   "outputs": [
    {
     "data": {
      "text/plain": [
       "nan"
      ]
     },
     "execution_count": 198,
     "metadata": {},
     "output_type": "execute_result"
    }
   ],
   "source": [
    "mse(np.dot(X,W),y)"
   ]
  },
  {
   "cell_type": "code",
   "execution_count": null,
   "id": "c018216d-9a4d-4bf9-9c68-ce7da592353e",
   "metadata": {},
   "outputs": [],
   "source": [
    "def _diff(f,y,t):\n",
    "    h = 1e-5\n",
    "    fx = f\n",
    "    return (fx(x+h)-fx(x))/h"
   ]
  }
 ],
 "metadata": {
  "kernelspec": {
   "display_name": "Python 3 (ipykernel)",
   "language": "python",
   "name": "python3"
  },
  "language_info": {
   "codemirror_mode": {
    "name": "ipython",
    "version": 3
   },
   "file_extension": ".py",
   "mimetype": "text/x-python",
   "name": "python",
   "nbconvert_exporter": "python",
   "pygments_lexer": "ipython3",
   "version": "3.9.7"
  }
 },
 "nbformat": 4,
 "nbformat_minor": 5
}
