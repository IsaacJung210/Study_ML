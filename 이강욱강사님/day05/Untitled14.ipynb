{
 "cells": [
  {
   "cell_type": "code",
   "execution_count": 69,
   "id": "f9bd9260-973c-46ee-bb78-1a055db14402",
   "metadata": {},
   "outputs": [],
   "source": [
    "import warnings\n",
    "warnings.filterwarnings(action='ignore')\n",
    "import numpy as np\n",
    "import matplotlib.pyplot as plt"
   ]
  },
  {
   "cell_type": "code",
   "execution_count": 13,
   "id": "8931b55b-8cb5-4e23-9135-542eb58f314e",
   "metadata": {},
   "outputs": [],
   "source": [
    "a = np.random.randint(1,100,1)"
   ]
  },
  {
   "cell_type": "code",
   "execution_count": 14,
   "id": "c8d228f6-ccb8-462d-87f4-398db7a995ac",
   "metadata": {},
   "outputs": [],
   "source": [
    "x = np.random.randint(1,10,100)"
   ]
  },
  {
   "cell_type": "code",
   "execution_count": 15,
   "id": "7d14989f-ebfc-48a8-8f85-54ba233d4f1e",
   "metadata": {},
   "outputs": [],
   "source": [
    "y = a*x + np.random.randn(100)"
   ]
  },
  {
   "cell_type": "code",
   "execution_count": 17,
   "id": "bd4183bc-d042-41b3-bfad-07709a24341c",
   "metadata": {},
   "outputs": [],
   "source": [
    "a_hat = np.random.randint(1,100,1)"
   ]
  },
  {
   "cell_type": "code",
   "execution_count": 18,
   "id": "abaa80cf-ee83-4f17-8480-52fcb609ffbd",
   "metadata": {},
   "outputs": [
    {
     "data": {
      "text/plain": [
       "array([30])"
      ]
     },
     "execution_count": 18,
     "metadata": {},
     "output_type": "execute_result"
    }
   ],
   "source": [
    "a_hat"
   ]
  },
  {
   "cell_type": "code",
   "execution_count": null,
   "id": "9724c1dd-da39-4023-a9f2-e47c85ee2765",
   "metadata": {},
   "outputs": [],
   "source": [
    "lr = 1e-5"
   ]
  },
  {
   "cell_type": "code",
   "execution_count": 30,
   "id": "035ae63f-0e13-49fd-8bb3-63fb2fbcf92c",
   "metadata": {},
   "outputs": [],
   "source": [
    "epochs = 100000\n",
    "for epoch in range(epochs):\n",
    "    a_hat = a_hat - lr*(np.sum(2*x*(a_hat*x-y))/x.size)"
   ]
  },
  {
   "cell_type": "code",
   "execution_count": 31,
   "id": "3eb2893f-091e-4fdb-ae5e-c5826b8d29b0",
   "metadata": {},
   "outputs": [
    {
     "data": {
      "text/plain": [
       "array([71.99958196])"
      ]
     },
     "execution_count": 31,
     "metadata": {},
     "output_type": "execute_result"
    }
   ],
   "source": [
    "a_hat"
   ]
  },
  {
   "cell_type": "code",
   "execution_count": 34,
   "id": "e03382be-59eb-4207-af43-d6786fc3ad0b",
   "metadata": {},
   "outputs": [],
   "source": [
    "def AND(x1,x2):\n",
    "    w1 = 0.5\n",
    "    w2 = 0.5\n",
    "    theta = 0.6\n",
    "    if w1*x1 + w2*x2 > theta:\n",
    "        return 1\n",
    "    else:\n",
    "        return 0"
   ]
  },
  {
   "cell_type": "code",
   "execution_count": 39,
   "id": "354e84dd-746e-43a1-b3a2-f65735566ada",
   "metadata": {},
   "outputs": [],
   "source": [
    "def OR(x1,x2):\n",
    "    w1 = 0.5\n",
    "    w2 = 0.5\n",
    "    theta = 0.4\n",
    "    if w1*x1+w2*x2 < 0.4:\n",
    "        return 0\n",
    "    else:\n",
    "        return 1"
   ]
  },
  {
   "cell_type": "code",
   "execution_count": 43,
   "id": "1051b788-47c1-4e9b-8b57-4514829c78c5",
   "metadata": {},
   "outputs": [],
   "source": [
    "def NAND(x1,x2):\n",
    "    w1 = 0.5\n",
    "    w2 = 0.5\n",
    "    theta = 0.7\n",
    "    if w1*x1+w2*x2 < theta:\n",
    "        return 1\n",
    "    else:\n",
    "        return 0"
   ]
  },
  {
   "cell_type": "code",
   "execution_count": 47,
   "id": "76f7ba01-a4f4-41bb-8f97-059f2727c339",
   "metadata": {},
   "outputs": [],
   "source": [
    "def XOR(x1,x2):\n",
    "    w1 = 0.5\n",
    "    w2 = 0.5\n",
    "    theta = 0.1\n",
    "    if w1*x1+w2*x2 <= theta:\n",
    "        return 0\n",
    "    else:\n",
    "        return 1\n",
    "    "
   ]
  },
  {
   "cell_type": "code",
   "execution_count": 51,
   "id": "61c1d7d7-d21b-4878-9648-101724ae5212",
   "metadata": {},
   "outputs": [
    {
     "data": {
      "text/plain": [
       "0"
      ]
     },
     "execution_count": 51,
     "metadata": {},
     "output_type": "execute_result"
    }
   ],
   "source": [
    "XOR(1,1)"
   ]
  },
  {
   "cell_type": "code",
   "execution_count": 52,
   "id": "939c2611-7774-431c-9f37-d367f3c58a3c",
   "metadata": {},
   "outputs": [],
   "source": [
    "def XOR(x1,x2):\n",
    "    s1 = NAND(x1,x2)\n",
    "    s2 = OR(x1,x2)\n",
    "    return AND(s1,s2)"
   ]
  },
  {
   "cell_type": "code",
   "execution_count": 56,
   "id": "54d6fe0b-9973-4293-bcfb-66a7e4438de4",
   "metadata": {},
   "outputs": [
    {
     "data": {
      "text/plain": [
       "1"
      ]
     },
     "execution_count": 56,
     "metadata": {},
     "output_type": "execute_result"
    }
   ],
   "source": [
    "XOR(0,1)"
   ]
  },
  {
   "cell_type": "code",
   "execution_count": 57,
   "id": "095fff35-771e-41df-9e93-645925f76f86",
   "metadata": {},
   "outputs": [],
   "source": [
    "def step_func(x):\n",
    "    if x > 0.5:\n",
    "        return 1\n",
    "    else:\n",
    "        return 0 "
   ]
  },
  {
   "cell_type": "code",
   "execution_count": 73,
   "id": "71606302-2d22-4217-bd93-5b90744b6b25",
   "metadata": {},
   "outputs": [],
   "source": [
    "def ident_func(x):\n",
    "    return x"
   ]
  },
  {
   "cell_type": "code",
   "execution_count": 63,
   "id": "57f8aafa-6b14-49db-b8fa-a90d785c04c2",
   "metadata": {},
   "outputs": [],
   "source": [
    "def step_func(x):\n",
    "    result = x > 0.5\n",
    "    return result.astype(np.int)"
   ]
  },
  {
   "cell_type": "code",
   "execution_count": 71,
   "id": "9fb69c40-9fe7-4bce-b4fc-1652f72b294f",
   "metadata": {},
   "outputs": [],
   "source": [
    "def sigmoid(x):\n",
    "    return 1/(1+np.exp(-x))"
   ]
  },
  {
   "cell_type": "code",
   "execution_count": 76,
   "id": "e650c22a-5abe-422d-9ac7-7cc897ff1b1f",
   "metadata": {},
   "outputs": [],
   "source": [
    "def relu(x):\n",
    "    return np.maximum(0,x)"
   ]
  },
  {
   "cell_type": "code",
   "execution_count": 81,
   "id": "74a452b5-38a7-42ca-a4d3-eb327d0d1064",
   "metadata": {},
   "outputs": [
    {
     "data": {
      "image/png": "[encoded data removed]",
      "text/plain": [
       "<Figure size 432x288 with 1 Axes>"
      ]
     },
     "metadata": {
      "needs_background": "light"
     },
     "output_type": "display_data"
    }
   ],
   "source": [
    "x = np.arange(-1,1,0.1)\n",
    "#plt.plot(x,ident_func(x))\n",
    "plt.plot(x,step_func(x))\n",
    "plt.plot(x,sigmoid(x))\n",
    "plt.plot(x,relu(x))\n",
    "plt.show()"
   ]
  },
  {
   "cell_type": "code",
   "execution_count": 82,
   "id": "cf7f8a49-d628-4dc5-aab4-f17e909d08f8",
   "metadata": {},
   "outputs": [],
   "source": [
    "# 변수가 10개의 종류\n",
    "from sklearn.datasets import load_iris"
   ]
  },
  {
   "cell_type": "code",
   "execution_count": 132,
   "id": "774780a2-9d0e-4a74-8dcd-28521b582694",
   "metadata": {},
   "outputs": [],
   "source": [
    "x = load_iris()['data']\n",
    "y = load_iris()['target']"
   ]
  },
  {
   "cell_type": "code",
   "execution_count": 140,
   "id": "4333e6aa-6d01-4d18-afb6-2251c1ef9779",
   "metadata": {},
   "outputs": [],
   "source": [
    "layer1 = np.random.randn(4,100)\n",
    "layer2 = np.random.randn(100,30)\n",
    "layer3 = np.random.randn(30,70)\n",
    "output = np.random.randn(70,3)\n",
    "l1 = np.dot(x,layer1)\n",
    "a1 = relu(l1) \n",
    "l2 = np.dot(a1,layer2)\n",
    "a2 = sigmoid(l2)\n",
    "l3 = np.dot(a2,layer3)\n",
    "out = np.dot(l3,output)"
   ]
  },
  {
   "cell_type": "code",
   "execution_count": 137,
   "id": "1614aa0e-2c0b-42ff-aa24-0a3af2c9f4a9",
   "metadata": {},
   "outputs": [],
   "source": [
    "one_y = np.zeros((150,3))"
   ]
  },
  {
   "cell_type": "code",
   "execution_count": 152,
   "id": "684b8d72-dc46-4444-91ae-a8ccb2ac1882",
   "metadata": {},
   "outputs": [],
   "source": [
    "def softmax(x):\n",
    "    c = np.max(x)\n",
    "    a = x - c\n",
    "    return np.exp(a)/np.sum(np.exp(a))"
   ]
  },
  {
   "cell_type": "code",
   "execution_count": 154,
   "id": "db814d75-3896-4d51-a6de-24fb78f65c1f",
   "metadata": {},
   "outputs": [
    {
     "data": {
      "text/plain": [
       "array([0.0320586 , 0.08714432, 0.23688282, 0.64391426])"
      ]
     },
     "execution_count": 154,
     "metadata": {},
     "output_type": "execute_result"
    }
   ],
   "source": [
    "x = np.array([1,2,3,4])\n",
    "softmax(x)"
   ]
  },
  {
   "cell_type": "code",
   "execution_count": 151,
   "id": "852beac2-cda2-465f-ad60-3f53ddc2315b",
   "metadata": {},
   "outputs": [
    {
     "data": {
      "text/plain": [
       "[<matplotlib.lines.Line2D at 0x7f11153551c0>]"
      ]
     },
     "execution_count": 151,
     "metadata": {},
     "output_type": "execute_result"
    },
    {
     "data": {
      "image/png": "[encoded data removed]",
      "text/plain": [
       "<Figure size 432x288 with 1 Axes>"
      ]
     },
     "metadata": {
      "needs_background": "light"
     },
     "output_type": "display_data"
    }
   ],
   "source": [
    "x = np.arange(-100,1000)\n",
    "plt.plot(x,np.exp(x))"
   ]
  },
  {
   "cell_type": "code",
   "execution_count": null,
   "id": "e52702c4-d400-444a-93b7-df88bed7fd78",
   "metadata": {},
   "outputs": [],
   "source": []
  },
  {
   "cell_type": "code",
   "execution_count": null,
   "id": "c89d73a3-6dbb-40b8-8695-bed60d16a7d9",
   "metadata": {},
   "outputs": [],
   "source": []
  }
 ],
 "metadata": {
  "kernelspec": {
   "display_name": "Python 3 (ipykernel)",
   "language": "python",
   "name": "python3"
  },
  "language_info": {
   "codemirror_mode": {
    "name": "ipython",
    "version": 3
   },
   "file_extension": ".py",
   "mimetype": "text/x-python",
   "name": "python",
   "nbconvert_exporter": "python",
   "pygments_lexer": "ipython3",
   "version": "3.9.7"
  }
 },
 "nbformat": 4,
 "nbformat_minor": 5
}
