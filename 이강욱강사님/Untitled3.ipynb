{
 "cells": [
  {
   "cell_type": "code",
   "execution_count": 1,
   "id": "8544d0bb-8c5e-4fdf-920c-356ca287a06d",
   "metadata": {},
   "outputs": [],
   "source": [
    "import sys\n",
    "import os"
   ]
  },
  {
   "cell_type": "code",
   "execution_count": 2,
   "id": "0fe2ec79-5dc1-46f0-b59b-52834bace8a8",
   "metadata": {},
   "outputs": [
    {
     "data": {
      "text/plain": [
       "'C:\\\\python_work'"
      ]
     },
     "execution_count": 2,
     "metadata": {},
     "output_type": "execute_result"
    }
   ],
   "source": [
    "os.getcwd()"
   ]
  },
  {
   "cell_type": "code",
   "execution_count": 3,
   "id": "1da7284c-29ac-44c6-aee5-5cbe1af8bf49",
   "metadata": {},
   "outputs": [],
   "source": [
    "file = open(\"basic.txt\",\"w\")"
   ]
  },
  {
   "cell_type": "code",
   "execution_count": 4,
   "id": "944e1d26-e420-44f1-a3b0-b4cdfcfd3979",
   "metadata": {},
   "outputs": [
    {
     "data": {
      "text/plain": [
       "29"
      ]
     },
     "execution_count": 4,
     "metadata": {},
     "output_type": "execute_result"
    }
   ],
   "source": [
    "file.write(\"Hello Python Programming...!!\")"
   ]
  },
  {
   "cell_type": "code",
   "execution_count": 5,
   "id": "890a238f-5957-4392-8fa7-8204d3784d7e",
   "metadata": {},
   "outputs": [],
   "source": [
    "students = ['조혜원','정지훈','이대혁','강청우',\"정호영\",\n",
    "          '강보민','정지연','백인엽','권혜진','이정승','김수빈']"
   ]
  },
  {
   "cell_type": "code",
   "execution_count": 6,
   "id": "244cd353-e422-4923-813b-531028dcc3c6",
   "metadata": {},
   "outputs": [],
   "source": [
    "file_student = open(\"student.csv\",\"w\")\n",
    "for student in students:\n",
    "    student = student+\",\"\n",
    "    file_student.write(student)\n",
    "file_student.close()"
   ]
  },
  {
   "cell_type": "code",
   "execution_count": 7,
   "id": "52053ff9-1786-41fc-b9b4-5556100a7240",
   "metadata": {},
   "outputs": [],
   "source": [
    "file.close()"
   ]
  },
  {
   "cell_type": "code",
   "execution_count": 8,
   "id": "a102aa96-b839-4ec8-bc17-e39fbbf92eaf",
   "metadata": {},
   "outputs": [],
   "source": [
    "with open(\"student.csv\",\"w\") as file_student:\n",
    "    for student in students:\n",
    "        student = student+\"\\n\"\n",
    "        file_student.write(student)"
   ]
  },
  {
   "cell_type": "code",
   "execution_count": 9,
   "id": "6796c59f-9d8c-4614-88dc-40618dce7654",
   "metadata": {},
   "outputs": [],
   "source": [
    "with open('basic.txt','r') as file:\n",
    "    contents = file.read()"
   ]
  },
  {
   "cell_type": "code",
   "execution_count": 10,
   "id": "7ab4e982-23cd-48e2-9605-cf2a68e2c8d9",
   "metadata": {},
   "outputs": [
    {
     "data": {
      "text/plain": [
       "'Hello Python Programming...!!'"
      ]
     },
     "execution_count": 10,
     "metadata": {},
     "output_type": "execute_result"
    }
   ],
   "source": [
    "contents"
   ]
  },
  {
   "cell_type": "code",
   "execution_count": 11,
   "id": "585d5b17-24ef-4346-9586-6565d2d85e8d",
   "metadata": {},
   "outputs": [],
   "source": [
    "with open(\"student.csv\",'r') as file:\n",
    "    student = file.read()"
   ]
  },
  {
   "cell_type": "code",
   "execution_count": 12,
   "id": "23963ea6-8ebc-4898-adf1-62896e27bf94",
   "metadata": {},
   "outputs": [
    {
     "data": {
      "text/plain": [
       "'조혜원\\n정지훈\\n이대혁\\n강청우\\n정호영\\n강보민\\n정지연\\n백인엽\\n권혜진\\n이정승\\n김수빈\\n'"
      ]
     },
     "execution_count": 12,
     "metadata": {},
     "output_type": "execute_result"
    }
   ],
   "source": [
    "student"
   ]
  },
  {
   "cell_type": "code",
   "execution_count": null,
   "id": "d03a3ffb-1053-4443-be48-5812752fc0fc",
   "metadata": {},
   "outputs": [],
   "source": [
    "with open(\"20220209.ipynb\",'r',encoding='utf-8') as file:\n",
    "    tmp = file.read()"
   ]
  },
  {
   "cell_type": "code",
   "execution_count": null,
   "id": "bd62a2e4-a64a-47af-9c1e-4ca432716ac2",
   "metadata": {},
   "outputs": [],
   "source": [
    "prin"
   ]
  }
 ],
 "metadata": {
  "kernelspec": {
   "display_name": "isaac",
   "language": "python",
   "name": "isaac"
  },
  "language_info": {
   "codemirror_mode": {
    "name": "ipython",
    "version": 3
   },
   "file_extension": ".py",
   "mimetype": "text/x-python",
   "name": "python",
   "nbconvert_exporter": "python",
   "pygments_lexer": "ipython3",
   "version": "3.7.11"
  }
 },
 "nbformat": 4,
 "nbformat_minor": 5
}
