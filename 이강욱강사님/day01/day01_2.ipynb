{
 "cells": [
  {
   "cell_type": "code",
   "execution_count": 212,
   "id": "45cb58c6-6157-4b37-a7d5-1ebd226ece92",
   "metadata": {},
   "outputs": [],
   "source": [
    "from activation import sigmoid, softmax, relu\n",
    "from loss import mse, cross_entropy_err\n",
    "import pickle\n",
    "import numpy as np\n",
    "import matplotlib.pyplot as plt"
   ]
  },
  {
   "cell_type": "code",
   "execution_count": 135,
   "id": "1195af95-7432-4b6c-908e-754ef3458c06",
   "metadata": {},
   "outputs": [],
   "source": [
    "from sklearn.datasets import fetch_openml"
   ]
  },
  {
   "cell_type": "code",
   "execution_count": 136,
   "id": "4450a1cd-202d-4ba6-8edf-9645b79ac34d",
   "metadata": {},
   "outputs": [],
   "source": [
    "mnist = fetch_openml('mnist_784')"
   ]
  },
  {
   "cell_type": "code",
   "execution_count": 186,
   "id": "3edfcc5f-b915-4ce3-9764-d663eb1ed670",
   "metadata": {},
   "outputs": [],
   "source": [
    "x = mnist['data']\n",
    "y = mnist['target']"
   ]
  },
  {
   "cell_type": "code",
   "execution_count": 138,
   "id": "0ac3772b-be22-4465-ad30-6ebd7b2348b4",
   "metadata": {},
   "outputs": [],
   "source": [
    "with open('sample_weight.pkl','rb') as f:\n",
    "    network = pickle.load(f)"
   ]
  },
  {
   "cell_type": "code",
   "execution_count": 82,
   "id": "160f29de-928a-4b1c-8cda-2a4548d4fd24",
   "metadata": {
    "tags": []
   },
   "outputs": [],
   "source": [
    "def predict(x):\n",
    "    W1 = weight['W1']\n",
    "    W2 = weight['W2']\n",
    "    W3 = weight['W3']\n",
    "    b1, b2, b3 = weight['b1'], weight['b2'], weight['b3']\n",
    "    h1 = np.dot(x,W1) + b1\n",
    "    a1 = sigmoid(h1)\n",
    "    h2 = np.dot(a1,W2) + b2\n",
    "    a2 = sigmoid(h2)\n",
    "    out = np.dot(a2,W3) + b3\n",
    "    out = np.argmax(out,axis=1).astype('str')\n",
    "    return out\n",
    "\n",
    "def accuracy(x,y):\n",
    "    return sum(predict(x) == y.values)/y.size"
   ]
  },
  {
   "cell_type": "code",
   "execution_count": 209,
   "id": "248a35e5-b322-44d4-81e8-812d0731c458",
   "metadata": {},
   "outputs": [],
   "source": [
    "def predict(x,network):\n",
    "    input_layer = x\n",
    "    layers = []\n",
    "    bias = []\n",
    "    num_layer = int(len(network.keys())/2)\n",
    "    for i in range(num_layer):\n",
    "        layers.append(network['W'+str(i+1)])\n",
    "        bias.append(network['b'+str(i+1)])\n",
    "    for i in range(num_layer):\n",
    "        if num_layer != i:\n",
    "            input_layer = sigmoid(np.dot(input_layer,layers[i]) + bias[i])\n",
    "        else:\n",
    "            input_layer = np.dot(input_layer,layers[i]) + bias[i]\n",
    "    return input_layer"
   ]
  },
  {
   "cell_type": "code",
   "execution_count": 169,
   "id": "37adc7ee-a200-44ad-8784-81bd1108bcef",
   "metadata": {},
   "outputs": [],
   "source": [
    "tf = np.array([0,1,0,0,0,0,0,0,0,0])"
   ]
  },
  {
   "cell_type": "code",
   "execution_count": 170,
   "id": "504b7cba-4a18-40ec-add2-50a1bfad749f",
   "metadata": {},
   "outputs": [],
   "source": [
    "tt = np.array([0,0,0,0,1,0,0,0,0,0])"
   ]
  },
  {
   "cell_type": "code",
   "execution_count": 174,
   "id": "531ba8eb-963c-4d0c-977f-2a3867226912",
   "metadata": {},
   "outputs": [],
   "source": [
    "yt = softmax(predict(x,network)[0])\n",
    "yf = softmax(predict(x,network)[24])"
   ]
  },
  {
   "cell_type": "code",
   "execution_count": 179,
   "id": "43d811ae-1e42-44b5-b08c-f41855031a62",
   "metadata": {},
   "outputs": [
    {
     "data": {
      "text/plain": [
       "13.797414852781706"
      ]
     },
     "execution_count": 179,
     "metadata": {},
     "output_type": "execute_result"
    }
   ],
   "source": [
    "-np.sum(yf*np.log(tf+1e-7))"
   ]
  },
  {
   "cell_type": "code",
   "execution_count": 176,
   "id": "9fc08f39-8388-4da7-b8a3-c9efbd0f1c9b",
   "metadata": {},
   "outputs": [
    {
     "data": {
      "text/plain": [
       "0.4993157237738211"
      ]
     },
     "execution_count": 176,
     "metadata": {},
     "output_type": "execute_result"
    }
   ],
   "source": [
    "1/2*np.sum((yt-tt)**2)"
   ]
  },
  {
   "cell_type": "code",
   "execution_count": 158,
   "id": "4cea2501-efed-410a-af92-8d01605e4d08",
   "metadata": {},
   "outputs": [],
   "source": [
    "p = softmax(f)"
   ]
  },
  {
   "cell_type": "code",
   "execution_count": 161,
   "id": "bbc0e2ee-44e5-4f44-b1ac-51853f437781",
   "metadata": {},
   "outputs": [
    {
     "data": {
      "text/plain": [
       "1.799511709333263"
      ]
     },
     "execution_count": 161,
     "metadata": {},
     "output_type": "execute_result"
    }
   ],
   "source": [
    "1/2*np.sum((f-r)**2)"
   ]
  },
  {
   "cell_type": "code",
   "execution_count": 145,
   "id": "f8dc423e-0e38-4c5f-b6fd-e8244d4a4222",
   "metadata": {},
   "outputs": [
    {
     "data": {
      "text/plain": [
       "24       1\n",
       "48       9\n",
       "70       1\n",
       "80       9\n",
       "100      5\n",
       "        ..\n",
       "69970    5\n",
       "69975    3\n",
       "69982    5\n",
       "69986    3\n",
       "69998    5\n",
       "Name: class, Length: 5282, dtype: category\n",
       "Categories (10, object): ['0', '1', '2', '3', ..., '6', '7', '8', '9']"
      ]
     },
     "execution_count": 145,
     "metadata": {},
     "output_type": "execute_result"
    }
   ],
   "source": [
    "y[predict(x,network) != y]"
   ]
  },
  {
   "cell_type": "code",
   "execution_count": 123,
   "id": "263e0520-b40d-4e7a-86c3-1b0fe8914fc4",
   "metadata": {},
   "outputs": [],
   "source": [
    "# y 값을 one_hot -- tk\n",
    "# network softmax\n",
    "def f(x):\n",
    "    return x**2"
   ]
  },
  {
   "cell_type": "code",
   "execution_count": 125,
   "id": "e7acb4cb-ad19-48d9-9e51-2064dd881bb3",
   "metadata": {},
   "outputs": [],
   "source": [
    "def der_f(x):\n",
    "    return 2*x"
   ]
  },
  {
   "cell_type": "code",
   "execution_count": 126,
   "id": "e14c377f-b1a1-4062-98c5-7addea572cc2",
   "metadata": {},
   "outputs": [
    {
     "data": {
      "text/plain": [
       "6"
      ]
     },
     "execution_count": 126,
     "metadata": {},
     "output_type": "execute_result"
    }
   ],
   "source": [
    "der_f(3)"
   ]
  },
  {
   "cell_type": "code",
   "execution_count": 128,
   "id": "36fabfd9-0e76-4a2e-8a2b-fc38a50bb7e7",
   "metadata": {},
   "outputs": [
    {
     "data": {
      "text/plain": [
       "6.000000087880153"
      ]
     },
     "execution_count": 128,
     "metadata": {},
     "output_type": "execute_result"
    }
   ],
   "source": [
    "(f(3+1e-7) - f(3))/1e-7"
   ]
  },
  {
   "cell_type": "code",
   "execution_count": 121,
   "id": "4fecaa23-1207-47bf-a012-389c0174bac9",
   "metadata": {},
   "outputs": [
    {
     "data": {
      "text/plain": [
       "0.8191285714285714"
      ]
     },
     "execution_count": 121,
     "metadata": {},
     "output_type": "execute_result"
    }
   ],
   "source": [
    "sum(pre == y)/y.size"
   ]
  },
  {
   "cell_type": "code",
   "execution_count": 100,
   "id": "f1c73f9d-4da1-4e1d-ad66-8946c1795bec",
   "metadata": {},
   "outputs": [
    {
     "name": "stdout",
     "output_type": "stream",
     "text": [
      "W1\n",
      "b1\n",
      "W2\n",
      "b2\n",
      "W3\n",
      "b3\n"
     ]
    }
   ],
   "source": [
    "for i in range(int(len(network.keys())/2)):\n",
    "    print('W'+str(i+1))\n",
    "    print('b'+str(i+1))\n"
   ]
  },
  {
   "cell_type": "code",
   "execution_count": 118,
   "id": "a3c03626-dabf-431f-9de3-e0256e3411b2",
   "metadata": {},
   "outputs": [
    {
     "data": {
      "text/plain": [
       "array([[ 991.38860958,    0.        ,    0.        , ...,  461.81789378,\n",
       "           0.        ,    0.        ],\n",
       "       [1251.53191894,  865.42200546,    0.        , ...,  297.65761123,\n",
       "           0.        ,   43.0190886 ],\n",
       "       [   0.        ,  384.96450885,  522.83004731, ...,    0.        ,\n",
       "         359.95052797,  276.16372561],\n",
       "       ...,\n",
       "       [   0.        ,    0.        ,  620.68962102, ...,    0.        ,\n",
       "         507.20683358,  220.44589879],\n",
       "       [   0.        ,    0.        ,    0.        , ...,    0.        ,\n",
       "         350.09469865,   55.06031603],\n",
       "       [ 757.27764039, 1793.27601436,    0.        , ...,    0.        ,\n",
       "         587.88680071,  933.27330242]])"
      ]
     },
     "execution_count": 118,
     "metadata": {},
     "output_type": "execute_result"
    }
   ],
   "source": [
    "relu(np.dot(x,network['W1']))"
   ]
  },
  {
   "cell_type": "code",
   "execution_count": 129,
   "id": "b78bd7e8-1ff1-4628-8c28-9b5e0e95a08f",
   "metadata": {},
   "outputs": [],
   "source": [
    "import numpy as np"
   ]
  },
  {
   "cell_type": "code",
   "execution_count": 132,
   "id": "b08ac3f8-88fc-4222-8da2-c9ff09a624f4",
   "metadata": {},
   "outputs": [
    {
     "data": {
      "text/plain": [
       "array([1.38389653e-87, 3.72007598e-44, 1.00000000e+00])"
      ]
     },
     "execution_count": 132,
     "metadata": {},
     "output_type": "execute_result"
    }
   ],
   "source": [
    "softmax(np.array([100,200,300]))"
   ]
  },
  {
   "cell_type": "code",
   "execution_count": 133,
   "id": "a3b2faa1-a4f3-467a-8d3e-3fc1f3cad979",
   "metadata": {},
   "outputs": [
    {
     "data": {
      "text/plain": [
       "array([8.00557267e-31, 1.00000000e+00, 2.17052201e-29])"
      ]
     },
     "execution_count": 133,
     "metadata": {},
     "output_type": "execute_result"
    }
   ],
   "source": [
    "softmax(np.array([0.7,70,4]))"
   ]
  },
  {
   "cell_type": "code",
   "execution_count": null,
   "id": "cad5532c-9012-40c1-bdbd-1ed9076bd860",
   "metadata": {},
   "outputs": [],
   "source": []
  },
  {
   "cell_type": "code",
   "execution_count": 181,
   "id": "876e208f-7ca5-4036-90ee-07b6be3ebad3",
   "metadata": {},
   "outputs": [],
   "source": [
    "def mse(y,t):\n",
    "    return (1/2*np.sum((y-t)**2))*y.size"
   ]
  },
  {
   "cell_type": "code",
   "execution_count": 182,
   "id": "cebc42a3-3fdc-4ef1-9c87-c1f91c60ae33",
   "metadata": {},
   "outputs": [],
   "source": [
    "def cross_entropy_err(y,t):\n",
    "    return np.sum(-np.sum(t*np.log(y)))/y.size"
   ]
  },
  {
   "cell_type": "code",
   "execution_count": 187,
   "id": "8e1d48b4-db51-43b3-a30f-232910cc7b20",
   "metadata": {},
   "outputs": [
    {
     "name": "stderr",
     "output_type": "stream",
     "text": [
      "/tmp/ipykernel_3943/2727405977.py:1: DeprecationWarning: `np.int` is a deprecated alias for the builtin `int`. To silence this warning, use `int` by itself. Doing this will not modify any behavior and is safe. When replacing `np.int`, you may wish to use e.g. `np.int64` or `np.int32` to specify the precision. If you wish to review your current use, check the release note link for additional information.\n",
      "Deprecated in NumPy 1.20; for more details and guidance: https://numpy.org/devdocs/release/1.20.0-notes.html#deprecations\n",
      "  y = y.values.astype(np.int)\n"
     ]
    }
   ],
   "source": [
    "y = y.values.astype(np.int)"
   ]
  },
  {
   "cell_type": "code",
   "execution_count": 199,
   "id": "aa342f69-29ad-4ddb-baca-939a249b2c7c",
   "metadata": {},
   "outputs": [],
   "source": [
    "y_one = np.zeros((y.size,np.unique(y).size))"
   ]
  },
  {
   "cell_type": "code",
   "execution_count": 210,
   "id": "82950fa1-ec10-4755-b59f-2fffeb57551f",
   "metadata": {},
   "outputs": [
    {
     "data": {
      "text/plain": [
       "67948315688.16142"
      ]
     },
     "execution_count": 210,
     "metadata": {},
     "output_type": "execute_result"
    }
   ],
   "source": [
    "mse(predict(x,network),y_one)"
   ]
  },
  {
   "cell_type": "code",
   "execution_count": 211,
   "id": "52025042-0628-452f-8471-2144d75ca2d8",
   "metadata": {},
   "outputs": [
    {
     "data": {
      "text/plain": [
       "0.0010418838073685257"
      ]
     },
     "execution_count": 211,
     "metadata": {},
     "output_type": "execute_result"
    }
   ],
   "source": [
    "cross_entropy_err(predict(x,network),y_one)"
   ]
  },
  {
   "cell_type": "code",
   "execution_count": null,
   "id": "ae0ea040-3fbd-43ac-a18f-d0327397683c",
   "metadata": {},
   "outputs": [],
   "source": []
  }
 ],
 "metadata": {
  "kernelspec": {
   "display_name": "Python 3 (ipykernel)",
   "language": "python",
   "name": "python3"
  },
  "language_info": {
   "codemirror_mode": {
    "name": "ipython",
    "version": 3
   },
   "file_extension": ".py",
   "mimetype": "text/x-python",
   "name": "python",
   "nbconvert_exporter": "python",
   "pygments_lexer": "ipython3",
   "version": "3.9.7"
  }
 },
 "nbformat": 4,
 "nbformat_minor": 5
}
