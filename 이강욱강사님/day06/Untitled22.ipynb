{
 "cells": [
  {
   "cell_type": "code",
   "execution_count": 31,
   "id": "f1023080-62e1-4872-8f7c-36ca0568c0a9",
   "metadata": {},
   "outputs": [],
   "source": [
    "class MulGraph:\n",
    "    \n",
    "    def _init__(self):\n",
    "        self.x = None\n",
    "        self.y = None\n",
    "    \n",
    "    def forward(self,x,y):\n",
    "        self.x = x\n",
    "        self.y = y\n",
    "        \n",
    "        out = x * y\n",
    "        return out\n",
    "    \n",
    "    def backward(self, dout):\n",
    "        \n",
    "        dx = dout*self.y\n",
    "        dy = dout*self.x\n",
    "\n",
    "        return dx, dy"
   ]
  },
  {
   "cell_type": "code",
   "execution_count": 38,
   "id": "d1f31418-e784-4ded-b99a-18df79ca563c",
   "metadata": {},
   "outputs": [],
   "source": [
    "class AddGraph:\n",
    "    def __init__(self):\n",
    "        pass\n",
    "    \n",
    "    def forward(self,x,y):\n",
    "        out = x+y\n",
    "        return out\n",
    "    \n",
    "    def backward(self,dout):\n",
    "        dx = dout*1\n",
    "        dy = dout*1\n",
    "        return dx, dy"
   ]
  },
  {
   "cell_type": "code",
   "execution_count": 42,
   "id": "2348dbe6-2222-4b09-9593-8101e7ca022a",
   "metadata": {},
   "outputs": [],
   "source": [
    "x1 = 5\n",
    "x2 = 3\n",
    "x3 = 4\n",
    "f1 = AddGraph()\n",
    "f2 = AddGraph()\n",
    "part_sum = f1.forward(x1,x2)\n",
    "total_sum = f2.forward(part_sum,x3)"
   ]
  },
  {
   "cell_type": "code",
   "execution_count": 43,
   "id": "fc27dd27-9068-4726-b316-b2875ae57f24",
   "metadata": {},
   "outputs": [],
   "source": [
    "dout = 1\n",
    "df1, dx3 = f2.backward(dout)"
   ]
  },
  {
   "cell_type": "code",
   "execution_count": 45,
   "id": "aa9723fc-fc3b-40b6-bb63-d03c9b1f023d",
   "metadata": {},
   "outputs": [
    {
     "data": {
      "text/plain": [
       "1"
      ]
     },
     "execution_count": 45,
     "metadata": {},
     "output_type": "execute_result"
    }
   ],
   "source": [
    "dx3"
   ]
  },
  {
   "cell_type": "code",
   "execution_count": 20,
   "id": "947e29f1-fdfe-4293-a4eb-ad4fab2ed429",
   "metadata": {},
   "outputs": [],
   "source": [
    "apple = 100\n",
    "number = 2\n",
    "tax = 1.1\n",
    "\n",
    "cal_apple = ComputeGraph()\n",
    "cal_tax = ComputeGraph()\n",
    "apple_price = cal_apple.forward(apple,number)\n",
    "total_price = cal_tax.forward(apple_price,tax)"
   ]
  },
  {
   "cell_type": "code",
   "execution_count": 25,
   "id": "9ac4507d-31d4-48ab-8846-0280d35a7a56",
   "metadata": {},
   "outputs": [],
   "source": [
    "dout = 1\n",
    "dapple_price,dtax = cal_tax.backward(dout)"
   ]
  },
  {
   "cell_type": "code",
   "execution_count": 28,
   "id": "f3a8250f-71db-4d62-a27a-01e2b0a2e669",
   "metadata": {},
   "outputs": [],
   "source": [
    "dout = dapple_price \n",
    "dapple, dnumber = cal_apple.backward(dout)"
   ]
  },
  {
   "cell_type": "code",
   "execution_count": 30,
   "id": "6789c320-b8f6-43d9-acb1-ab80f9284298",
   "metadata": {},
   "outputs": [
    {
     "data": {
      "text/plain": [
       "110.00000000000001"
      ]
     },
     "execution_count": 30,
     "metadata": {},
     "output_type": "execute_result"
    }
   ],
   "source": [
    "dnumber"
   ]
  },
  {
   "cell_type": "code",
   "execution_count": 15,
   "id": "6014884f-d031-4693-bb31-87fb30e0e41e",
   "metadata": {},
   "outputs": [],
   "source": [
    "dout = 1\n",
    "dnumber, dapple = cal_apple.backward(dout)\n",
    "dapple_price, dtax = cal_tax.backward(dout)"
   ]
  },
  {
   "cell_type": "code",
   "execution_count": 19,
   "id": "609d7387-7603-4b7b-8e37-7d5338510c69",
   "metadata": {},
   "outputs": [
    {
     "data": {
      "text/plain": [
       "200"
      ]
     },
     "execution_count": 19,
     "metadata": {},
     "output_type": "execute_result"
    }
   ],
   "source": [
    "apple = 100\n",
    "apple_num = 2\n",
    "orange = 150\n",
    "orange_num = 3\n",
    "tax = 1.1\n",
    "#total_price\n",
    "#dApple\n",
    "#dOrange\n",
    "#dOrange\n",
    "#dOrange_num\n",
    "#dTax"
   ]
  },
  {
   "cell_type": "code",
   "execution_count": 62,
   "id": "c1f506ea-58b2-4342-a252-54ac931f0626",
   "metadata": {},
   "outputs": [],
   "source": [
    "class MulLayer:\n",
    "    def __init__(self):\n",
    "        self.x = None\n",
    "        self.y = None\n",
    "    \n",
    "    def forward(self,x,y):\n",
    "        self.x = x \n",
    "        self.y = y\n",
    "        out = self.x*self.y\n",
    "        return out\n",
    "    def backward(self,dout):\n",
    "        dx = dout*self.y\n",
    "        dy = dout*self.x\n",
    "        return dx, dy\n",
    "class AddLayer:\n",
    "    def __init__(self):\n",
    "        pass\n",
    "    def forward(self,x,y):\n",
    "        out = x + y\n",
    "        return out\n",
    "    def backward(self,dout):\n",
    "        dx = dout*1\n",
    "        dy = dout*1\n",
    "        return dx, dy\n",
    "        "
   ]
  },
  {
   "cell_type": "code",
   "execution_count": 63,
   "id": "87510aab-ba27-4250-97fb-035ca3fc0527",
   "metadata": {},
   "outputs": [],
   "source": [
    "apple = 100\n",
    "apple_num = 2\n",
    "orange = 150\n",
    "orange_num = 3\n",
    "tax = 1.1\n",
    "#total_price\n",
    "#dApple\n",
    "#dApple_num\n",
    "#dOrange\n",
    "#dOrange_num\n",
    "#dTax"
   ]
  },
  {
   "cell_type": "code",
   "execution_count": 64,
   "id": "960b0bce-78fc-44e2-ab99-cb23a8e7d70d",
   "metadata": {},
   "outputs": [],
   "source": [
    "mul_apple_layer = MulLayer()\n",
    "mul_orange_layer = MulLayer()\n",
    "add_apple_orange_layer = AddLayer()\n",
    "mul_tax_layer = MulLayer()"
   ]
  },
  {
   "cell_type": "code",
   "execution_count": 65,
   "id": "31ac6938-9801-4103-aec0-8b8756467d92",
   "metadata": {},
   "outputs": [],
   "source": [
    "apple_price = mul_apple_layer.forward(apple,apple_num)\n",
    "orange_price = mul_orange_layer.forward(orange, orange_num)"
   ]
  },
  {
   "cell_type": "code",
   "execution_count": 66,
   "id": "3dba7656-6731-4175-9458-522c7deb8dc9",
   "metadata": {},
   "outputs": [],
   "source": [
    "price = add_apple_orange_layer.forward(apple_price,orange_price)"
   ]
  },
  {
   "cell_type": "code",
   "execution_count": 68,
   "id": "88a8617c-04c3-4fac-93e2-c0fdfbb9f130",
   "metadata": {},
   "outputs": [],
   "source": [
    "total_price = mul_tax_layer.forward(price,tax)"
   ]
  },
  {
   "cell_type": "code",
   "execution_count": 75,
   "id": "473284ae-36b2-4360-9f2b-9da2d00621d5",
   "metadata": {},
   "outputs": [],
   "source": [
    "dout = 1\n",
    "dprice,dtax = mul_tax_layer.backward(dout)"
   ]
  },
  {
   "cell_type": "code",
   "execution_count": 77,
   "id": "8a169f95-5127-472d-bc60-bb7b1e845642",
   "metadata": {},
   "outputs": [],
   "source": [
    "dapple, dorange = add_apple_orange_layer.backward(dprice)"
   ]
  },
  {
   "cell_type": "code",
   "execution_count": 78,
   "id": "81a0c50a-75ee-437c-af9c-761cc62df870",
   "metadata": {},
   "outputs": [],
   "source": [
    "dApple, dApple_num = mul_apple_layer.backward(dapple)\n",
    "dOrange, dOrange_num = mul_orange_layer.backward(dorange)"
   ]
  },
  {
   "cell_type": "code",
   "execution_count": 84,
   "id": "1510fb29-6633-4c59-9037-12ff6000101f",
   "metadata": {},
   "outputs": [
    {
     "data": {
      "text/plain": [
       "165.0"
      ]
     },
     "execution_count": 84,
     "metadata": {},
     "output_type": "execute_result"
    }
   ],
   "source": [
    "dOrange_num"
   ]
  },
  {
   "cell_type": "code",
   "execution_count": 85,
   "id": "5bd7b891-a208-407d-905c-15713e9da4fb",
   "metadata": {},
   "outputs": [],
   "source": [
    "def relu(x):\n",
    "    return np.where(x > 0, x, 0)"
   ]
  },
  {
   "cell_type": "code",
   "execution_count": 99,
   "id": "47c5b13d-2b2d-4884-b519-58a07c80c998",
   "metadata": {},
   "outputs": [],
   "source": [
    "class Relu:\n",
    "    def __init__(self):\n",
    "        self.mask = None\n",
    "    \n",
    "    def forward(self,x):\n",
    "        self.mask = (x <= 0)\n",
    "        out = x.copy()\n",
    "        out[self.mask] = 0\n",
    "        return out       \n",
    "        \n",
    "    def backward(self,dout):\n",
    "        dout[self.mask] = 0\n",
    "        dx = dout\n",
    "        return dx"
   ]
  },
  {
   "cell_type": "code",
   "execution_count": 138,
   "id": "fd8bc783-025f-4a59-85dc-389826c72e48",
   "metadata": {},
   "outputs": [],
   "source": [
    "class Sigmoid:\n",
    "    def __init_(self):\n",
    "        self.out = None\n",
    "    \n",
    "    def forward(self,x):\n",
    "        out = 1 / (1+np.exp(-x))\n",
    "        self.out = out\n",
    "        return out \n",
    "    \n",
    "    def backward(self,dout):\n",
    "        dx = dout*self.out*(1-self.out)\n",
    "        return dx"
   ]
  },
  {
   "cell_type": "code",
   "execution_count": 139,
   "id": "77e320f1-e899-45ae-8bc1-f4ab9b534ec3",
   "metadata": {},
   "outputs": [],
   "source": [
    "X = np.random.randn(2)\n",
    "W = np.random.randn(2,3)\n",
    "b = np.random.randn(3)"
   ]
  },
  {
   "cell_type": "code",
   "execution_count": null,
   "id": "914447aa-667f-4d98-8740-e3fa2361c9fe",
   "metadata": {},
   "outputs": [],
   "source": [
    "class Affine:\n",
    "    "
   ]
  },
  {
   "cell_type": "code",
   "execution_count": 163,
   "id": "e69b910a-f454-4abf-98ac-ad374880376b",
   "metadata": {},
   "outputs": [],
   "source": [
    "x = np.array([[0,0,0],[10.,10,10]])\n",
    "b = np.array([1,2,3])\n",
    "out = x+b"
   ]
  },
  {
   "cell_type": "code",
   "execution_count": 164,
   "id": "163e90a2-874f-48d9-abe9-f634a3ced8ab",
   "metadata": {},
   "outputs": [],
   "source": [
    "dy = np.arange(1,7).reshape(2,3)"
   ]
  },
  {
   "cell_type": "code",
   "execution_count": 169,
   "id": "3dd7e34d-69f9-4f32-898f-3094369c0656",
   "metadata": {},
   "outputs": [],
   "source": [
    "dB = np.sum(dy, axis=0)"
   ]
  },
  {
   "cell_type": "code",
   "execution_count": 170,
   "id": "f953da80-0aa8-44ab-a405-328578f06bf6",
   "metadata": {},
   "outputs": [
    {
     "data": {
      "text/plain": [
       "array([5, 7, 9])"
      ]
     },
     "execution_count": 170,
     "metadata": {},
     "output_type": "execute_result"
    }
   ],
   "source": [
    "dB"
   ]
  },
  {
   "cell_type": "code",
   "execution_count": 175,
   "id": "91467246-c4d9-4888-a8da-719ed114eb7c",
   "metadata": {},
   "outputs": [],
   "source": [
    "class Affine:\n",
    "    def __init__(self,W,b):\n",
    "        self.W = W\n",
    "        self.b = b\n",
    "        self.x = None\n",
    "        self.dW = None\n",
    "        self.db = None\n",
    "    \n",
    "    def forward(self,x):\n",
    "        self.x = x\n",
    "        out = np.dot(x,self.W) + self.b\n",
    "        \n",
    "        return out\n",
    "    \n",
    "    def backward(self,dout):\n",
    "        \n",
    "        dx = np.dot(dout, self.W.T)\n",
    "        self.dW = np.dot(self.x.T,dout)\n",
    "        self.db = np.sum(dout,axis=0)\n",
    "        \n",
    "        return dx"
   ]
  },
  {
   "cell_type": "code",
   "execution_count": 183,
   "id": "29697150-4031-4324-a26c-fd9072b8d8a7",
   "metadata": {},
   "outputs": [],
   "source": [
    "x = np.random.randn(4,2)\n",
    "W = np.random.randn(2,3)\n",
    "b = np.random.randn(3)"
   ]
  },
  {
   "cell_type": "code",
   "execution_count": 184,
   "id": "41b9b570-eebe-4618-bc58-2d63675827e6",
   "metadata": {},
   "outputs": [],
   "source": [
    "affine = Affine(W,b)"
   ]
  },
  {
   "cell_type": "code",
   "execution_count": null,
   "id": "f027cad8-8a78-4e44-a043-f553a808fb48",
   "metadata": {},
   "outputs": [],
   "source": [
    "out = affine.forward(x)"
   ]
  },
  {
   "cell_type": "code",
   "execution_count": null,
   "id": "9a0cf35d-d24a-4b11-a4f9-b311f823896c",
   "metadata": {},
   "outputs": [
    {
     "data": {
      "text/plain": [
       "array([[-8.18435951,  0.56471461],\n",
       "       [ 7.93715958,  1.17822735],\n",
       "       [-2.3962259 ,  1.82793382],\n",
       "       [ 5.73454589,  2.24728797]])"
      ]
     },
     "execution_count": 187,
     "metadata": {},
     "output_type": "execute_result"
    }
   ],
   "source": [
    "affine.backward(out)"
   ]
  },
  {
   "cell_type": "code",
   "execution_count": null,
   "id": "dc81bab0-1ec1-4221-8a7a-0f97b77d4640",
   "metadata": {},
   "outputs": [
    {
     "data": {
      "text/plain": [
       "array([ 3.29149053, -0.99255077, -3.9090872 ])"
      ]
     },
     "execution_count": 189,
     "metadata": {},
     "output_type": "execute_result"
    }
   ],
   "source": [
    "affine.db"
   ]
  },
  {
   "cell_type": "code",
   "execution_count": 200,
   "id": "a4e1101c-7dde-407e-ba11-1065ed0f71ab",
   "metadata": {},
   "outputs": [],
   "source": [
    "x = np.random.randn(5,3)\n",
    "w1 = np.random.randn(3,4)\n",
    "b1 = np.random.randn(4)\n",
    "w2 = np.random.randn(4,3)\n",
    "b2 = np.random.randn(3)\n",
    "t = np.zeros((5,3))\n",
    "t[:,1] = 1"
   ]
  },
  {
   "cell_type": "code",
   "execution_count": 210,
   "id": "4d2cefcb-965b-49fc-bd8b-72aee595127a",
   "metadata": {},
   "outputs": [
    {
     "data": {
      "text/plain": [
       "0.8177568142634734"
      ]
     },
     "execution_count": 210,
     "metadata": {},
     "output_type": "execute_result"
    }
   ],
   "source": [
    "from loss import cross_entropy_error\n",
    "from activation import softmax\n",
    "def relu(x):\n",
    "    return np.maximum(0,x)\n",
    "l1 = np.dot(x,w1) + b1\n",
    "z1 = relu(l1)\n",
    "l2 = np.dot(z1,w2) + b2\n",
    "cross_entropy_error(softmax(l2),t)"
   ]
  },
  {
   "cell_type": "code",
   "execution_count": 207,
   "id": "6dee5f4c-d8e2-4192-8d8f-35289392c745",
   "metadata": {},
   "outputs": [],
   "source": [
    "class SoftmaxWithLoss:\n",
    "    def __init__(self):\n",
    "        self.loss = None\n",
    "        self.y = None\n",
    "        self.t = None\n",
    "    \n",
    "    def forward(self,x,t):\n",
    "        self.y = softmax(x)\n",
    "        self.t = t\n",
    "        self.loss = cross_entropy_error(self.y,self.t)\n",
    "        return self.loss\n",
    "    \n",
    "    def backward(self,dout=1):\n",
    "        dx = dout*(self.y - self.t)/y.shape[0]\n",
    "        return dx"
   ]
  },
  {
   "cell_type": "code",
   "execution_count": 208,
   "id": "9adaaf73-38cf-4bcf-9ad6-67f78e19c06d",
   "metadata": {},
   "outputs": [],
   "source": [
    "dL = SoftmaxWithLoss() "
   ]
  },
  {
   "cell_type": "code",
   "execution_count": 209,
   "id": "68122a0d-fbdc-4c21-96bf-d6ec075d19c3",
   "metadata": {},
   "outputs": [],
   "source": [
    "dLforward = dL.forward(l2,t)"
   ]
  },
  {
   "cell_type": "code",
   "execution_count": 213,
   "id": "2c567401-6821-444c-a8d3-ffbe711a4503",
   "metadata": {},
   "outputs": [
    {
     "data": {
      "text/plain": [
       "(5, 3)"
      ]
     },
     "execution_count": 213,
     "metadata": {},
     "output_type": "execute_result"
    }
   ],
   "source": [
    "dL.backward().shape"
   ]
  },
  {
   "cell_type": "code",
   "execution_count": 214,
   "id": "478d15cf-d20a-433e-875f-fa820b0f7bfe",
   "metadata": {},
   "outputs": [
    {
     "data": {
      "text/plain": [
       "(5, 3)"
      ]
     },
     "execution_count": 214,
     "metadata": {},
     "output_type": "execute_result"
    }
   ],
   "source": [
    "l2.shape"
   ]
  },
  {
   "cell_type": "code",
   "execution_count": null,
   "id": "f0bdab3f-d1bd-450d-8f28-45e62dfae3e5",
   "metadata": {},
   "outputs": [],
   "source": []
  }
 ],
 "metadata": {
  "kernelspec": {
   "display_name": "Python 3 (ipykernel)",
   "language": "python",
   "name": "python3"
  },
  "language_info": {
   "codemirror_mode": {
    "name": "ipython",
    "version": 3
   },
   "file_extension": ".py",
   "mimetype": "text/x-python",
   "name": "python",
   "nbconvert_exporter": "python",
   "pygments_lexer": "ipython3",
   "version": "3.9.7"
  }
 },
 "nbformat": 4,
 "nbformat_minor": 5
}
