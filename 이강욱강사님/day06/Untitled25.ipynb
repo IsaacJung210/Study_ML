{
 "cells": [
  {
   "cell_type": "code",
   "execution_count": 1,
   "id": "46fe611b-bf5f-4e3c-b0e0-4adadae1a8dc",
   "metadata": {},
   "outputs": [],
   "source": [
    "import numpy as np\n",
    "from sklearn.model_selection import train_test_split\n",
    "from sklearn.datasets import fetch_openml\n",
    "from layers import MultiLayer\n",
    "from layers import Affine, Relu, SoftmaxWithLoss\n",
    "from collections import OrderedDict"
   ]
  },
  {
   "cell_type": "code",
   "execution_count": 2,
   "id": "412a66a1-81b8-4013-bacf-895c87f3974a",
   "metadata": {},
   "outputs": [],
   "source": [
    "def make_one(x):\n",
    "    if x.ndim == 1:\n",
    "        t = np.zeros((x.size,np.unique(x).size))\n",
    "        for i in range(t.shape[0]):\n",
    "            t[i,x[i]] = 1\n",
    "        return t"
   ]
  },
  {
   "cell_type": "code",
   "execution_count": 3,
   "id": "ede7683f-f0b2-4e97-9796-37d3adffd453",
   "metadata": {},
   "outputs": [],
   "source": [
    "mnist = fetch_openml('mnist_784')"
   ]
  },
  {
   "cell_type": "code",
   "execution_count": 4,
   "id": "0cda2529-6f04-410f-ad98-eff06434b048",
   "metadata": {},
   "outputs": [],
   "source": [
    "X = mnist['data']\n",
    "y = mnist['target']"
   ]
  },
  {
   "cell_type": "code",
   "execution_count": 5,
   "id": "c7a93ddb-8f27-452e-96e1-d29220237016",
   "metadata": {},
   "outputs": [],
   "source": [
    "from sklearn.datasets import load_iris"
   ]
  },
  {
   "cell_type": "code",
   "execution_count": 6,
   "id": "204d0044-fd69-46b3-9c31-754257d5a9e1",
   "metadata": {},
   "outputs": [],
   "source": [
    "X = load_iris()['data']\n",
    "y = load_iris()['target']\n",
    "y = make_one(y)"
   ]
  },
  {
   "cell_type": "code",
   "execution_count": 7,
   "id": "14ee6427-d020-4273-af9c-04f1fe7e31e5",
   "metadata": {},
   "outputs": [
    {
     "ename": "AttributeError",
     "evalue": "'numpy.ndarray' object has no attribute 'values'",
     "output_type": "error",
     "traceback": [
      "\u001b[1;31m---------------------------------------------------------------------------\u001b[0m",
      "\u001b[1;31mAttributeError\u001b[0m                            Traceback (most recent call last)",
      "\u001b[1;32m~\\AppData\\Local\\Temp/ipykernel_10200/3194376787.py\u001b[0m in \u001b[0;36m<module>\u001b[1;34m\u001b[0m\n\u001b[1;32m----> 1\u001b[1;33m \u001b[0mX\u001b[0m \u001b[1;33m=\u001b[0m \u001b[0mX\u001b[0m\u001b[1;33m.\u001b[0m\u001b[0mastype\u001b[0m\u001b[1;33m(\u001b[0m\u001b[0mnp\u001b[0m\u001b[1;33m.\u001b[0m\u001b[0mfloat32\u001b[0m\u001b[1;33m)\u001b[0m\u001b[1;33m.\u001b[0m\u001b[0mvalues\u001b[0m\u001b[1;33m/\u001b[0m\u001b[1;36m255.\u001b[0m\u001b[1;33m\u001b[0m\u001b[1;33m\u001b[0m\u001b[0m\n\u001b[0m\u001b[0;32m      2\u001b[0m \u001b[0my\u001b[0m \u001b[1;33m=\u001b[0m \u001b[0my\u001b[0m\u001b[1;33m.\u001b[0m\u001b[0mastype\u001b[0m\u001b[1;33m(\u001b[0m\u001b[0mnp\u001b[0m\u001b[1;33m.\u001b[0m\u001b[0mint32\u001b[0m\u001b[1;33m)\u001b[0m\u001b[1;33m.\u001b[0m\u001b[0mvalues\u001b[0m\u001b[1;33m\u001b[0m\u001b[1;33m\u001b[0m\u001b[0m\n\u001b[0;32m      3\u001b[0m \u001b[0my\u001b[0m \u001b[1;33m=\u001b[0m \u001b[0mmake_one\u001b[0m\u001b[1;33m(\u001b[0m\u001b[0my\u001b[0m\u001b[1;33m)\u001b[0m\u001b[1;33m\u001b[0m\u001b[1;33m\u001b[0m\u001b[0m\n",
      "\u001b[1;31mAttributeError\u001b[0m: 'numpy.ndarray' object has no attribute 'values'"
     ]
    }
   ],
   "source": [
    "X = X.astype(np.float32).values/255.\n",
    "y = y.astype(np.int32).values\n",
    "y = make_one(y)"
   ]
  },
  {
   "cell_type": "code",
   "execution_count": null,
   "id": "1bdda9a7-be7d-4b1f-a858-534dcd0f5e20",
   "metadata": {},
   "outputs": [],
   "source": [
    "X_train, X_test, y_train, y_test = train_test_split(X,y,test_size=.4)\n",
    "X_val, X_test, y_val, y_test = train_test_split(X_test,y_test, test_size=.5)"
   ]
  },
  {
   "cell_type": "code",
   "execution_count": null,
   "id": "9bccd1ef-96f5-4a12-beb8-90d853fe54a0",
   "metadata": {},
   "outputs": [],
   "source": [
    "input_size = X_train.shape[1]\n",
    "hidden_size = [100,150]\n",
    "output_size = y_train.shape[1]"
   ]
  },
  {
   "cell_type": "code",
   "execution_count": null,
   "id": "8b886a43-9edc-4257-9fcb-145a855e5771",
   "metadata": {},
   "outputs": [],
   "source": [
    "model = MultiLayer(input_size,hidden_size,output_size)"
   ]
  },
  {
   "cell_type": "code",
   "execution_count": null,
   "id": "5248cd0b-5b0e-4a16-ab80-76076dded4d1",
   "metadata": {},
   "outputs": [
    {
     "data": {
      "text/plain": [
       "dict_keys(['W1', 'b1', 'W2', 'b2', 'W3', 'b3'])"
      ]
     },
     "execution_count": 180,
     "metadata": {},
     "output_type": "execute_result"
    }
   ],
   "source": [
    "model.W.keys()"
   ]
  },
  {
   "cell_type": "code",
   "execution_count": null,
   "id": "66f0ce79-93ed-481a-b163-8b3a77b3ca42",
   "metadata": {},
   "outputs": [],
   "source": [
    "epochs = 1000\n",
    "lr = 1e-3\n",
    "batch_size = 100\n",
    "model.fit(epochs,lr,batch_size,X_train,y_train,X_val,y_val)\n",
    "model.accuracy(X_test,y_test)"
   ]
  },
  {
   "cell_type": "code",
   "execution_count": null,
   "id": "83e0fafd-8838-4202-8a5c-6263f05aec83",
   "metadata": {},
   "outputs": [],
   "source": [
    "class MultiLayer:\n",
    "    def __init__(self,input_size,hidden_size,output_size):\n",
    "        self.input_size = input_size\n",
    "        self.hidden_size = hidden_size\n",
    "        self.output_size = output_size\n",
    "        \n",
    "        self.hidden_size.insert(0,self.input_size)\n",
    "        self.hidden_size.append(self.output_size)\n",
    "        self.W = {}\n",
    "        for i in range(len(hidden_size)-1):\n",
    "            w_key = 'W'+str(i+1)\n",
    "            b_key = 'b'+str(i+1)\n",
    "            self.W[w_key] = np.random.randn(hidden_size[i],hidden_size[i+1])\n",
    "            self.W[b_key] = np.random.randn(hidden_size[i+1])\n",
    "            \n",
    "        self.layers = OrderedDict()\n",
    "        \n",
    "        for i in range(int(len(self.W)/2-1)):\n",
    "            j = i*2 \n",
    "            key1 = 'Affine'+str(i+1)\n",
    "            key2 = 'Relu'+str(i+1)\n",
    "            w = list(self.W.keys())[j]\n",
    "            b = list(self.W.keys())[j+1]\n",
    "            self.layers[key1] = Affine(self.W[w],self.W[b])\n",
    "            self.layers[key2] = Relu()\n",
    "        \n",
    "        last_num = str(int(len(self.W)/2))\n",
    "        self.layers['Affine'+last_num] = Affine(self.W['W'+last_num],self.W['b'+last_num])\n",
    "        self.Lastlayer = SoftmaxWithLoss()\n",
    "        self.loss_val = []\n",
    "        self.acc_val = []\n",
    "    \n",
    "    #def summary(self):\n",
    "        \n",
    "    \n",
    "    def predict(self,x):\n",
    "        for layer in self.layers.values():\n",
    "            x = layer.forward(x)\n",
    "        return x\n",
    "\n",
    "    def loss(self,x,t):\n",
    "        y = self.predict(x)\n",
    "        loss = self.Lastlayer.forward(y,t)\n",
    "        return loss\n",
    "\n",
    "    def gradient(self,x,t):\n",
    "        self.loss(x,t)\n",
    "        dout = 1\n",
    "        dout = self.Lastlayer.backward(dout)\n",
    "        layers = list(self.layers.values())\n",
    "        layers.reverse()\n",
    "        for layer in layers:\n",
    "            dout = layer.backward(dout)\n",
    "        \n",
    "        grads = {}\n",
    "        layer_number = int(len(self.layers.keys())/2)\n",
    "        \n",
    "        for i in range(1,layer_number):\n",
    "            grads['W'+str(i)] = self.layers['Affine'+str(i)].dW\n",
    "            grads['b'+str(i)] = self.layers['Affine'+str(i)].db\n",
    "            \n",
    "        return grads\n",
    "    \n",
    "    def accuracy(self,x,t):\n",
    "        y = np.argmax(self.predict(x),axis=1)\n",
    "        t = np.argmax(t, axis=1)\n",
    "        acc = np.sum(y==t)/y.size\n",
    "        return acc\n",
    "    \n",
    "    def batch_size(self,epochs,batch_size,x,t):\n",
    "        epochs = divmode(epochs,batch_size)[0]\n",
    "        start =\n",
    "        end\n",
    "        x[start:end,:]\n",
    "        for epoch in range(epochs):\n",
    "            for akll in ():\n",
    "                print(x.shape[0])\n",
    "            print(epoch)\n",
    "        \n",
    "    \n",
    "    def fit(self,epochs,lr,x,t,x_val,t_val):\n",
    "        for epoch in range(epochs):\n",
    "            grads = self.gradient(x,t)\n",
    "            for key in grads.keys():\n",
    "                self.W[key] -=  lr*grads[key]\n",
    "            print(\"epoch \",epoch,\":val_loss===========\",self.loss(x_val,t_val),\"val_acc:========\",self.accuracy(x_val,t_val))\n",
    "            self.loss_val.append(self.loss(x_val,t_val))\n",
    "            self.acc_val.append(np.round(self.accuracy(x_val,t_val),2))"
   ]
  },
  {
   "cell_type": "code",
   "execution_count": null,
   "id": "4673c275-30d0-4d67-bbeb-e7845f41bc90",
   "metadata": {},
   "outputs": [],
   "source": [
    "input_size = X.shape[1]\n",
    "hidden_size = [100]\n",
    "output_size = y.shape[1]\n",
    "model = MultiLayer(input_size,hidden_size,output_size)"
   ]
  },
  {
   "cell_type": "code",
   "execution_count": null,
   "id": "efabffcc-0f2d-4548-b403-6f7ac4d43f5b",
   "metadata": {},
   "outputs": [
    {
     "name": "stdout",
     "output_type": "stream",
     "text": [
      "0 0 1001\n",
      "1 1001 2002\n",
      "2 2002 3003\n",
      "3 3003 4004\n",
      "4 4004 5005\n",
      "5 5005 6006\n",
      "6 6006 7007\n",
      "7 7007 8008\n",
      "8 8008 9009\n",
      "9 9009 10010\n",
      "10 10010 11011\n",
      "11 11011 12012\n",
      "12 12012 13013\n",
      "13 13013 14014\n",
      "14 14014 15015\n",
      "15 15015 16016\n",
      "16 16016 17017\n",
      "17 17017 18018\n",
      "18 18018 19019\n",
      "19 19019 20020\n",
      "20 20020 21021\n",
      "21 21021 22022\n",
      "22 22022 23023\n",
      "23 23023 24024\n",
      "24 24024 25025\n",
      "25 25025 26026\n",
      "26 26026 27027\n",
      "27 27027 28028\n",
      "28 28028 29029\n",
      "29 29029 30030\n",
      "30 30030 31031\n",
      "31 31031 32032\n",
      "32 32032 33033\n",
      "33 33033 34034\n",
      "34 34034 35035\n",
      "35 35035 36036\n",
      "36 36036 37037\n",
      "37 37037 38038\n",
      "38 38038 39039\n",
      "39 39039 40040\n",
      "40 40040 41041\n",
      "41 41041 42042\n",
      "42 42042 43043\n",
      "43 43043 44044\n",
      "44 44044 45045\n",
      "45 45045 46046\n",
      "46 46046 47047\n",
      "47 47047 48048\n",
      "48 48048 49049\n",
      "49 49049 50050\n",
      "50 50050 51051\n",
      "51 51051 52052\n",
      "52 52052 53053\n",
      "53 53053 54054\n",
      "54 54054 55055\n",
      "55 55055 56056\n",
      "56 56056 57057\n",
      "57 57057 58058\n",
      "58 58058 59059\n",
      "59 59059 60060\n",
      "60 60060 61061\n",
      "61 61061 62062\n",
      "62 62062 63063\n",
      "63 63063 64064\n",
      "64 64064 65065\n",
      "65 65065 66066\n",
      "66 66066 67067\n",
      "67 67067 68068\n",
      "68 68068 69069\n",
      "69 69069 70000\n"
     ]
    }
   ],
   "source": [
    "X.shape[0]\n",
    "batch_size = 1001\n",
    "if divmod(X.shape[0],batch_size)[1] > 0:\n",
    "    epochs = divmod(X.shape[0],batch_size)[0] + 1\n",
    "else:\n",
    "    epochs = divmod(X.shape[0],batch_size)[0]\n",
    "for epoch in range(epochs):\n",
    "    if epoch == 0:\n",
    "        start = 0\n",
    "    end = start + batch_size\n",
    "    if epoch == epochs-1 and divmod(X.shape[0],batch_size)[1] != 0:\n",
    "        end = start+divmod(X.shape[0],batch_size)[1]\n",
    "    print(epoch,start,end)\n",
    "    start = end"
   ]
  },
  {
   "cell_type": "code",
   "execution_count": null,
   "id": "374f10ce-8de7-4c4d-9018-0c50ab6e613f",
   "metadata": {},
   "outputs": [
    {
     "data": {
      "text/plain": [
       "0.5"
      ]
     },
     "execution_count": 169,
     "metadata": {},
     "output_type": "execute_result"
    }
   ],
   "source": [
    "# epochs = 1000\n",
    "# lr = 1e-3\n",
    "# model.fit(epochs,lr,X_train,y_train,X_val,y_val)\n",
    "model.accuracy(X_test,y_test)"
   ]
  },
  {
   "cell_type": "code",
   "execution_count": null,
   "id": "aac4d0a1-1cfc-473c-aa81-2baa53e2e35b",
   "metadata": {},
   "outputs": [
    {
     "name": "stdout",
     "output_type": "stream",
     "text": [
      "W1 ==== (784, 784)\n",
      "b1 ==== (784,)\n",
      "W2 ==== (784, 784)\n",
      "b2 ==== (784,)\n",
      "W3 ==== (784, 100)\n",
      "b3 ==== (100,)\n",
      "W4 ==== (100, 256)\n",
      "b4 ==== (256,)\n",
      "W5 ==== (256, 100)\n",
      "b5 ==== (100,)\n",
      "W6 ==== (100, 10)\n",
      "b6 ==== (10,)\n"
     ]
    }
   ],
   "source": [
    "X_train[0:batch_size]\n",
    "X_train[batch_size:2*batch_size]"
   ]
  },
  {
   "cell_type": "code",
   "execution_count": null,
   "id": "e64d1cf3-1a8b-4627-921e-e05f8da6cfcd",
   "metadata": {},
   "outputs": [
    {
     "data": {
      "text/plain": [
       "2000"
      ]
     },
     "execution_count": 193,
     "metadata": {},
     "output_type": "execute_result"
    }
   ],
   "source": [
    "batch_size = 10000\n",
    "X_train.shape[0]//batch_size\n",
    "X_train.shape[0]%batch_size"
   ]
  },
  {
   "cell_type": "code",
   "execution_count": null,
   "id": "3ab76805-00b0-42eb-8e87-1835b2c987ae",
   "metadata": {},
   "outputs": [
    {
     "data": {
      "text/plain": [
       "2000"
      ]
     },
     "execution_count": 196,
     "metadata": {},
     "output_type": "execute_result"
    }
   ],
   "source": [
    "divmod(X_train.shape[0],batch_size)[1]"
   ]
  },
  {
   "cell_type": "code",
   "execution_count": null,
   "id": "c2f8e5ab-e7f8-4e08-b436-dacf5457e421",
   "metadata": {},
   "outputs": [],
   "source": [
    "[1,2,3,4,5]\n"
   ]
  }
 ],
 "metadata": {
  "kernelspec": {
   "display_name": "Python 3 (ipykernel)",
   "language": "python",
   "name": "python3"
  },
  "language_info": {
   "codemirror_mode": {
    "name": "ipython",
    "version": 3
   },
   "file_extension": ".py",
   "mimetype": "text/x-python",
   "name": "python",
   "nbconvert_exporter": "python",
   "pygments_lexer": "ipython3",
   "version": "3.9.7"
  }
 },
 "nbformat": 4,
 "nbformat_minor": 5
}
