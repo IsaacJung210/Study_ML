{
 "cells": [
  {
   "cell_type": "code",
   "execution_count": 15,
   "id": "2c9f9382-fb68-4ae6-bc16-53c02f5a66ce",
   "metadata": {},
   "outputs": [],
   "source": [
    "import numpy as np\n",
    "from layers import Relu, SoftmaxWithLoss, Sigmoid, Affine\n",
    "from collections import OrderedDict\n",
    "from loss import cross_entropy_error\n",
    "from activation import softmax"
   ]
  },
  {
   "cell_type": "code",
   "execution_count": null,
   "id": "ca8bb5af-e142-4ccc-b7ab-f0ce44002b1e",
   "metadata": {},
   "outputs": [],
   "source": [
    "class TwoLayerNet:\n",
    "    def __init__(self,input_size,hidden_size,output_size):\n",
    "        self.W = {}\n",
    "        self.W['W1'] = np.random.randn(input_size,hidden_size)\n",
    "        self.W['b1'] = np.random.randn(hidden_size)\n",
    "        self.W['W2'] = np.random.randn(hidden_size,output_size)\n",
    "        self.W['b2'] = np.random.randn(output_size)\n",
    "        self.loss_val = []\n",
    "        self.layers = OrderedDict()\n",
    "        self.layers['Affine1'] = Affine(self.W['W1'],self.W['b1'])\n",
    "        self.layers['Relu1'] = Relu()\n",
    "        self.layers['Affine2'] = Affine(self.W['W2'],self.W['b2'])\n",
    "        \n",
    "        self.lastLayer = SoftmaxWithLoss()\n",
    "    \n",
    "    def predict(self,x):\n",
    "        for layer in self.layers.values():\n",
    "            x = layer.forward(x)\n",
    "        return x\n",
    "    \n",
    "    def loss(self,x,t):\n",
    "        y = self.predict(x)\n",
    "        loss = self.lastLayer.forward(y,t)\n",
    "        return loss\n",
    "\n",
    "    def numerical_gradient(self,x,t):\n",
    "        f = lambda W: self.loss(x,t)\n",
    "        \n",
    "        grads = {}\n",
    "        grads['W1'] = numerical_gradient(f, self.W['W1'])\n",
    "        grads['b1'] = numerical_gradient(f, self.W['b1'])\n",
    "        grads['W2'] = numerical_gradient(f, self.W['W2'])\n",
    "        grads['b2'] = numerical_gradient(f, self.W['b2'])\n",
    "        \n",
    "        return grads\n",
    "    \n",
    "    def gradient(self,x,t):\n",
    "        self.loss(x,t)\n",
    "        dout = 1\n",
    "        dout = self.lastLayer.backward(dout)\n",
    "        layers = list(self.layers.values())\n",
    "        layers.reverse()\n",
    "        for layer in layers:\n",
    "            dout = layer.backward(dout)\n",
    "        \n",
    "        grads = {}\n",
    "        grads['W1'] = self.layers['Affine1'].dW\n",
    "        grads['b1'] = self.layers['Affine1'].db\n",
    "        grads['W2'] = self.layers['Affine2'].dW\n",
    "        grads['b2'] = self.layers['Affine2'].db\n",
    "        \n",
    "        return grads\n",
    "        \n",
    "\n",
    "    \n",
    "    def accuracy(self,x,t):\n",
    "        y = self.predict(x)\n",
    "        y = np.argmax(y,axis=1)\n",
    "        t = np.argmax(t,axis=1)\n",
    "        acc = sum(y == t)/x.shape[0]\n",
    "        return acc\n",
    "    \n",
    "    def fit(self,epochs,lr,x,t):\n",
    "        for epoch in range(epochs):\n",
    "            grads = self.gradient(x,t)\n",
    "            for key in grads.keys():\n",
    "                self.W[key] -= lr*grads[key]\n",
    "            self.loss_val.append(self.loss(x,t))\n"
   ]
  },
  {
   "cell_type": "code",
   "execution_count": 17,
   "id": "efd41a4d-df2a-409c-924d-a5d85ef824d5",
   "metadata": {},
   "outputs": [],
   "source": [
    "x = np.random.randn(10,5)\n",
    "t = np.random.randn(10,4)\n",
    "input_size = x.shape[1]\n",
    "hidden_size = 3\n",
    "output_size = 4\n",
    "W = {}\n",
    "W['W1'] = np.random.randn(input_size,hidden_size)\n",
    "W['b1'] = np.random.randn(hidden_size)\n",
    "W['W2'] = np.random.randn(hidden_size,output_size)\n",
    "W['b2'] = np.random.randn(output_size)\n",
    "layers = OrderedDict()\n",
    "layers['Affine1'] = Affine(W['W1'],W['b1'])\n",
    "layers['Relu1'] = Relu()\n",
    "layers['Affine2'] = Affine(W['W2'],W['b2'])"
   ]
  },
  {
   "cell_type": "code",
   "execution_count": 31,
   "id": "ec20d16f-3b94-45d6-95dc-601b9d575cca",
   "metadata": {},
   "outputs": [],
   "source": [
    "layers = list(layers.values())\n",
    "layers.reverse()"
   ]
  },
  {
   "cell_type": "code",
   "execution_count": 32,
   "id": "432057ee-f038-4b9a-bcd9-ae3fb7c1b3e7",
   "metadata": {},
   "outputs": [
    {
     "data": {
      "text/plain": [
       "[<layers.Affine at 0x7f646f738e80>,\n",
       " <layers.Relu at 0x7f646f738b80>,\n",
       " <layers.Affine at 0x7f646f738fa0>]"
      ]
     },
     "execution_count": 32,
     "metadata": {},
     "output_type": "execute_result"
    }
   ],
   "source": []
  },
  {
   "cell_type": "code",
   "execution_count": 18,
   "id": "c7f50030-46ba-4f0d-be27-15070bba6c3b",
   "metadata": {},
   "outputs": [],
   "source": [
    "for layer in layers.values():\n",
    "    x = layer.forward(x)\n"
   ]
  },
  {
   "cell_type": "code",
   "execution_count": 19,
   "id": "ee64dba4-2e71-49bb-9fef-7d3cde719f71",
   "metadata": {},
   "outputs": [],
   "source": [
    "y = softmax(x)\n",
    "loss = cross_entropy_error(y,t)"
   ]
  },
  {
   "cell_type": "code",
   "execution_count": 21,
   "id": "4cd57d28-8e08-45c2-a50b-aa67521738ad",
   "metadata": {},
   "outputs": [],
   "source": [
    "dout = 1\n",
    "dout = dout*(y - t)/y.shape[0]"
   ]
  },
  {
   "cell_type": "code",
   "execution_count": 23,
   "id": "23ae3b6f-7eb7-4ddf-aa1d-8e2427c36215",
   "metadata": {},
   "outputs": [
    {
     "data": {
      "text/plain": [
       "(10, 4)"
      ]
     },
     "execution_count": 23,
     "metadata": {},
     "output_type": "execute_result"
    }
   ],
   "source": [
    "dout.shape"
   ]
  },
  {
   "cell_type": "code",
   "execution_count": null,
   "id": "a01a547d-83fb-4001-8acd-d74265c3a5d5",
   "metadata": {},
   "outputs": [],
   "source": [
    "def predict(self, x):\n",
    "    w1, w2 = self.W['W1'] , self.W['W2']\n",
    "    b1, b2 = self.W['b1'] , self.W['b2']\n",
    "    a1 = np.dot(x,W1) + b1\n",
    "    z1 = relu(a1)\n",
    "    a2 = np.dot(z1,W2) + b2\n",
    "    y = softmax(a2)"
   ]
  }
 ],
 "metadata": {
  "kernelspec": {
   "display_name": "Python 3 (ipykernel)",
   "language": "python",
   "name": "python3"
  },
  "language_info": {
   "codemirror_mode": {
    "name": "ipython",
    "version": 3
   },
   "file_extension": ".py",
   "mimetype": "text/x-python",
   "name": "python",
   "nbconvert_exporter": "python",
   "pygments_lexer": "ipython3",
   "version": "3.9.7"
  }
 },
 "nbformat": 4,
 "nbformat_minor": 5
}
