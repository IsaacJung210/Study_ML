{
 "cells": [
  {
   "cell_type": "code",
   "execution_count": 14,
   "id": "1d4a0b07-4b63-4e2c-aad5-ff656c74c2de",
   "metadata": {},
   "outputs": [],
   "source": [
    "a = [[1,2,3],[4,5,6],[8,9]]\n",
    "b = {\"name\" : \"정지훈\",'age':12}"
   ]
  },
  {
   "cell_type": "code",
   "execution_count": 4,
   "id": "58a24e8b-a3ad-4010-9106-c2349c3b89b2",
   "metadata": {},
   "outputs": [
    {
     "name": "stdout",
     "output_type": "stream",
     "text": [
      "1\n",
      "2\n",
      "3\n",
      "4\n",
      "5\n",
      "6\n",
      "8\n",
      "9\n"
     ]
    }
   ],
   "source": [
    "for i in list_of_list:\n",
    "    for j in i:\n",
    "        print(j)\n",
    "        "
   ]
  },
  {
   "cell_type": "code",
   "execution_count": 7,
   "id": "c9534f87-221e-430f-acbd-2fcabb7c2ebd",
   "metadata": {},
   "outputs": [
    {
     "name": "stdout",
     "output_type": "stream",
     "text": [
      "[(0, 1), (1, 2), (2, 3), (3, 4), (4, 5), (5, 6), (6, 8), (7, 9)]\n"
     ]
    }
   ],
   "source": [
    "print(list(enumerate(j for i in list_of_list for j in i)))"
   ]
  },
  {
   "cell_type": "code",
   "execution_count": 13,
   "id": "e91b3125-67ff-423e-a62e-b544b4e35517",
   "metadata": {},
   "outputs": [
    {
     "data": {
      "text/plain": [
       "[(0, [1, 2, 3]), (1, [4, 5, 6]), (2, [8, 9])]"
      ]
     },
     "execution_count": 13,
     "metadata": {},
     "output_type": "execute_result"
    }
   ],
   "source": [
    "list(enumerate(a))"
   ]
  },
  {
   "cell_type": "code",
   "execution_count": 15,
   "id": "a095365a-ae50-4cbf-9ec8-0cac72296da8",
   "metadata": {},
   "outputs": [
    {
     "data": {
      "text/plain": [
       "dict_items([('name', '정지훈'), ('age', 12)])"
      ]
     },
     "execution_count": 15,
     "metadata": {},
     "output_type": "execute_result"
    }
   ],
   "source": [
    "b.items()"
   ]
  },
  {
   "cell_type": "code",
   "execution_count": 16,
   "id": "0defe0c2-f5e4-4d3e-bddf-b8cb280f97cd",
   "metadata": {},
   "outputs": [
    {
     "ename": "NameError",
     "evalue": "name 'items' is not defined",
     "output_type": "error",
     "traceback": [
      "\u001b[1;31m---------------------------------------------------------------------------\u001b[0m",
      "\u001b[1;31mNameError\u001b[0m                                 Traceback (most recent call last)",
      "\u001b[1;32m~\\AppData\\Local\\Temp/ipykernel_13784/3658358675.py\u001b[0m in \u001b[0;36m<module>\u001b[1;34m\u001b[0m\n\u001b[1;32m----> 1\u001b[1;33m \u001b[0mitems\u001b[0m\u001b[1;33m(\u001b[0m\u001b[0mb\u001b[0m\u001b[1;33m)\u001b[0m\u001b[1;33m\u001b[0m\u001b[1;33m\u001b[0m\u001b[0m\n\u001b[0m",
      "\u001b[1;31mNameError\u001b[0m: name 'items' is not defined"
     ]
    }
   ],
   "source": [
    "items(b)"
   ]
  },
  {
   "cell_type": "code",
   "execution_count": 17,
   "id": "762b04c8-5c4e-4818-ab3c-e95a95754ac5",
   "metadata": {},
   "outputs": [
    {
     "data": {
      "text/plain": [
       "'12'"
      ]
     },
     "execution_count": 17,
     "metadata": {},
     "output_type": "execute_result"
    }
   ],
   "source": [
    "\"{:o}\".format(10)"
   ]
  },
  {
   "cell_type": "code",
   "execution_count": 18,
   "id": "20a75769-ccc0-4701-8679-72e4d0af7ad6",
   "metadata": {},
   "outputs": [
    {
     "data": {
      "text/plain": [
       "10"
      ]
     },
     "execution_count": 18,
     "metadata": {},
     "output_type": "execute_result"
    }
   ],
   "source": [
    "int(\"12\",8)"
   ]
  },
  {
   "cell_type": "code",
   "execution_count": 23,
   "id": "4746c326-35c2-4d32-8a63-24610da8a93a",
   "metadata": {},
   "outputs": [],
   "source": [
    "output = list(range(1,101))\n",
    "for i in output:\n",
    "    if \"{:b}\".format(i) ==  "
   ]
  },
  {
   "cell_type": "code",
   "execution_count": 27,
   "id": "1b6ff9ba-e790-4a88-b707-241598515df2",
   "metadata": {},
   "outputs": [
    {
     "name": "stdout",
     "output_type": "stream",
     "text": [
      "1 : 1\n",
      "2 : 10\n",
      "3 : 11\n",
      "4 : 100\n",
      "5 : 101\n",
      "6 : 110\n",
      "7 : 111\n",
      "8 : 1000\n",
      "9 : 1001\n",
      "10 : 1010\n",
      "11 : 1011\n",
      "12 : 1100\n",
      "13 : 1101\n",
      "14 : 1110\n",
      "15 : 1111\n",
      "16 : 10000\n",
      "17 : 10001\n",
      "18 : 10010\n",
      "19 : 10011\n",
      "20 : 10100\n",
      "21 : 10101\n",
      "22 : 10110\n",
      "23 : 10111\n",
      "24 : 11000\n",
      "25 : 11001\n",
      "26 : 11010\n",
      "27 : 11011\n",
      "28 : 11100\n",
      "29 : 11101\n",
      "30 : 11110\n",
      "31 : 11111\n",
      "32 : 100000\n",
      "33 : 100001\n",
      "34 : 100010\n",
      "35 : 100011\n",
      "36 : 100100\n",
      "37 : 100101\n",
      "38 : 100110\n",
      "39 : 100111\n",
      "40 : 101000\n",
      "41 : 101001\n",
      "42 : 101010\n",
      "43 : 101011\n",
      "44 : 101100\n",
      "45 : 101101\n",
      "46 : 101110\n",
      "47 : 101111\n",
      "48 : 110000\n",
      "49 : 110001\n",
      "50 : 110010\n",
      "51 : 110011\n",
      "52 : 110100\n",
      "53 : 110101\n",
      "54 : 110110\n",
      "55 : 110111\n",
      "56 : 111000\n",
      "57 : 111001\n",
      "58 : 111010\n",
      "59 : 111011\n",
      "60 : 111100\n",
      "61 : 111101\n",
      "62 : 111110\n",
      "63 : 111111\n",
      "64 : 1000000\n",
      "65 : 1000001\n",
      "66 : 1000010\n",
      "67 : 1000011\n",
      "68 : 1000100\n",
      "69 : 1000101\n",
      "70 : 1000110\n",
      "71 : 1000111\n",
      "72 : 1001000\n",
      "73 : 1001001\n",
      "74 : 1001010\n",
      "75 : 1001011\n",
      "76 : 1001100\n",
      "77 : 1001101\n",
      "78 : 1001110\n",
      "79 : 1001111\n",
      "80 : 1010000\n",
      "81 : 1010001\n",
      "82 : 1010010\n",
      "83 : 1010011\n",
      "84 : 1010100\n",
      "85 : 1010101\n",
      "86 : 1010110\n",
      "87 : 1010111\n",
      "88 : 1011000\n",
      "89 : 1011001\n",
      "90 : 1011010\n",
      "91 : 1011011\n",
      "92 : 1011100\n",
      "93 : 1011101\n",
      "94 : 1011110\n",
      "95 : 1011111\n",
      "96 : 1100000\n",
      "97 : 1100001\n",
      "98 : 1100010\n",
      "99 : 1100011\n",
      "100 : 1100100\n",
      "합계: 5050\n"
     ]
    }
   ],
   "source": [
    "for i in output:\n",
    "    print('{} : {}'.format(i, \"{:b}\".format(i)))\n",
    "print('합계:',sum(output))"
   ]
  },
  {
   "cell_type": "code",
   "execution_count": null,
   "id": "9033f804-1e28-44e0-8e7b-cc1a2cd32e62",
   "metadata": {},
   "outputs": [],
   "source": []
  }
 ],
 "metadata": {
  "kernelspec": {
   "display_name": "isaac",
   "language": "python",
   "name": "isaac"
  },
  "language_info": {
   "codemirror_mode": {
    "name": "ipython",
    "version": 3
   },
   "file_extension": ".py",
   "mimetype": "text/x-python",
   "name": "python",
   "nbconvert_exporter": "python",
   "pygments_lexer": "ipython3",
   "version": "3.7.11"
  }
 },
 "nbformat": 4,
 "nbformat_minor": 5
}
