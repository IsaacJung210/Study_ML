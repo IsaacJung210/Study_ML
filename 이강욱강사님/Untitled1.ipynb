{
 "cells": [
  {
   "cell_type": "code",
   "execution_count": 4,
   "id": "75e3c85a-f233-447b-bb51-52562eb1a4ea",
   "metadata": {},
   "outputs": [
    {
     "data": {
      "text/plain": [
       "10"
      ]
     },
     "execution_count": 4,
     "metadata": {},
     "output_type": "execute_result"
    }
   ],
   "source": [
    "len(list(range(10)))"
   ]
  },
  {
   "cell_type": "code",
   "execution_count": 7,
   "id": "cbd74b95-94ec-4e52-aff9-544c37df8295",
   "metadata": {},
   "outputs": [
    {
     "data": {
      "text/plain": [
       "8"
      ]
     },
     "execution_count": 7,
     "metadata": {},
     "output_type": "execute_result"
    }
   ],
   "source": [
    "len(list(range(2,10)))"
   ]
  },
  {
   "cell_type": "code",
   "execution_count": 8,
   "id": "f31ad4a9-7529-4557-b602-edc9be0b8cb9",
   "metadata": {},
   "outputs": [
    {
     "data": {
      "text/plain": [
       "[1, 3, 5, 7, 9]"
      ]
     },
     "execution_count": 8,
     "metadata": {},
     "output_type": "execute_result"
    }
   ],
   "source": [
    "list(range(1,10,2))"
   ]
  },
  {
   "cell_type": "code",
   "execution_count": 9,
   "id": "2df2797a-9145-4fba-aa13-25cf8f109ff4",
   "metadata": {},
   "outputs": [
    {
     "data": {
      "text/plain": [
       "[1, 3, 5, 7, 9]"
      ]
     },
     "execution_count": 9,
     "metadata": {},
     "output_type": "execute_result"
    }
   ],
   "source": [
    "list(range(1,11,2))"
   ]
  },
  {
   "cell_type": "code",
   "execution_count": 13,
   "id": "52807d69-dfbd-4071-b809-058eb1edb04a",
   "metadata": {},
   "outputs": [
    {
     "name": "stdout",
     "output_type": "stream",
     "text": [
      "0=반복변수\n",
      "1=반복변수\n",
      "2=반복변수\n",
      "3=반복변수\n",
      "4=반복변수\n"
     ]
    }
   ],
   "source": [
    "for i in range(5):\n",
    "    print(str(i)+\"=반복변수\")"
   ]
  },
  {
   "cell_type": "code",
   "execution_count": 14,
   "id": "a1aefc77-92fe-47c4-aa8a-3ba277f9e587",
   "metadata": {},
   "outputs": [
    {
     "name": "stdout",
     "output_type": "stream",
     "text": [
      "1=반복변수\n",
      "3=반복변수\n",
      "4=반복변수\n",
      "2=반복변수\n",
      "0=반복변수\n"
     ]
    }
   ],
   "source": [
    "for i in [1,3,4,2,0]:\n",
    "    print(str(i)+ \"=반복변수\")"
   ]
  },
  {
   "cell_type": "code",
   "execution_count": 15,
   "id": "e5816bc3-89b4-4e70-a6b6-89b59c0016fc",
   "metadata": {},
   "outputs": [
    {
     "name": "stdout",
     "output_type": "stream",
     "text": [
      "5=반복변수\n",
      "6=반복변수\n",
      "7=반복변수\n",
      "8=반복변수\n",
      "9=반복변수\n"
     ]
    }
   ],
   "source": [
    "for i in range(5,10):\n",
    "    print(str(i) + '=반복변수')"
   ]
  },
  {
   "cell_type": "code",
   "execution_count": 16,
   "id": "e5b281eb-5d21-47d3-aa7f-bf251034eb8c",
   "metadata": {},
   "outputs": [
    {
     "name": "stdout",
     "output_type": "stream",
     "text": [
      "0=반복변수\n",
      "3=반복변수\n",
      "6=반복변수\n",
      "9=반복변수\n"
     ]
    }
   ],
   "source": [
    "for i in range(0,10,3):\n",
    "    print(str(i) + '=반복변수')"
   ]
  },
  {
   "cell_type": "code",
   "execution_count": 2,
   "id": "41c3499e-86fe-4a4e-8a0a-ea4bc816fa1f",
   "metadata": {},
   "outputs": [],
   "source": [
    "array = [273,32,103,57,52]"
   ]
  },
  {
   "cell_type": "markdown",
   "id": "3da2da72-454d-4222-b6dd-f3e8e1c46cef",
   "metadata": {},
   "source": [
    "0번째 반복 : 273\n",
    "1번째 반복 : 32\n",
    "2번째 반복 : 103\n",
    "3번째 반복 : 57\n",
    "4번째 반복 : 52"
   ]
  },
  {
   "cell_type": "code",
   "execution_count": 18,
   "id": "16885429-e1e5-4f99-b1cd-d64407d15903",
   "metadata": {},
   "outputs": [
    {
     "name": "stdout",
     "output_type": "stream",
     "text": [
      "0번째 반복 : 273\n"
     ]
    }
   ],
   "source": [
    "print(\"0번째 반복 : 273\")"
   ]
  },
  {
   "cell_type": "code",
   "execution_count": 19,
   "id": "5321f5a5-fab7-4e83-abc5-2f65d3759451",
   "metadata": {},
   "outputs": [
    {
     "name": "stdout",
     "output_type": "stream",
     "text": [
      "00번째 반복:273\n"
     ]
    }
   ],
   "source": [
    "i = 0\n",
    "number = 273\n",
    "print(str(0)+\"0번째 반복:\"+str(number))"
   ]
  },
  {
   "cell_type": "code",
   "execution_count": 20,
   "id": "1abd37e4-353b-4a0c-837a-c7710bd1cb5b",
   "metadata": {},
   "outputs": [
    {
     "name": "stdout",
     "output_type": "stream",
     "text": [
      "0번째 반복:273\n"
     ]
    }
   ],
   "source": [
    "i = 0\n",
    "print(str(i)+\"번째 반복:\"+str(array[i]))"
   ]
  },
  {
   "cell_type": "code",
   "execution_count": 26,
   "id": "9a901c8a-cacc-4606-a78a-244e697c67c8",
   "metadata": {},
   "outputs": [
    {
     "name": "stdout",
     "output_type": "stream",
     "text": [
      "0번째 반복:273\n",
      "1번째 반복:32\n",
      "2번째 반복:103\n",
      "3번째 반복:57\n",
      "4번째 반복:52\n"
     ]
    }
   ],
   "source": [
    "for i in range(len(array)):\n",
    "    print(str(i)+\"번째 반복:\"+str(array[i]))"
   ]
  },
  {
   "cell_type": "code",
   "execution_count": 27,
   "id": "902edef1-c8e3-4402-b659-cae0266e44f4",
   "metadata": {},
   "outputs": [
    {
     "name": "stdout",
     "output_type": "stream",
     "text": [
      "0번째 반복: 273\n",
      "1번째 반복: 32\n",
      "2번째 반복: 103\n",
      "3번째 반복: 57\n",
      "4번째 반복: 52\n"
     ]
    }
   ],
   "source": [
    "for i in range(len(array)):\n",
    "    print(f\"{i}번째 반복: {array[i]}\")"
   ]
  },
  {
   "cell_type": "code",
   "execution_count": 28,
   "id": "28cbff7c-3d0d-46ab-8e0b-674d414d201f",
   "metadata": {},
   "outputs": [
    {
     "data": {
      "text/plain": [
       "[4, 3, 2, 1, 0]"
      ]
     },
     "execution_count": 28,
     "metadata": {},
     "output_type": "execute_result"
    }
   ],
   "source": [
    "list(range(len(array)-1,-1,-1))"
   ]
  },
  {
   "cell_type": "code",
   "execution_count": 29,
   "id": "3715521e-b21d-4551-a6fd-69f31006c451",
   "metadata": {},
   "outputs": [
    {
     "name": "stdout",
     "output_type": "stream",
     "text": [
      "4번째 반복:52\n",
      "3번째 반복:57\n",
      "2번째 반복:103\n",
      "1번째 반복:32\n",
      "0번째 반복:273\n"
     ]
    }
   ],
   "source": [
    "for i in range(len(array)-1,-1,-1):\n",
    "    print('{}번째 반복:{}'.format(i,array[i]))"
   ]
  },
  {
   "cell_type": "code",
   "execution_count": 31,
   "id": "2e3aebe0-2f67-4ec6-8933-37d0127d07f9",
   "metadata": {},
   "outputs": [
    {
     "name": "stdout",
     "output_type": "stream",
     "text": [
      "4번째 반복: 52\n",
      "3번째 반복: 57\n",
      "2번째 반복: 103\n",
      "1번째 반복: 32\n",
      "0번째 반복: 273\n"
     ]
    }
   ],
   "source": [
    "for i in range(len(array)):\n",
    "    x = len(array)-(i+1)\n",
    "    print(f'{x}번째 반복: {array[x]}')"
   ]
  },
  {
   "cell_type": "code",
   "execution_count": 34,
   "id": "5021eb88-9e5a-46b3-abfc-482b75125420",
   "metadata": {},
   "outputs": [
    {
     "name": "stdout",
     "output_type": "stream",
     "text": [
      "4번째 반복:52\n",
      "3번째 반복:57\n",
      "2번째 반복:103\n",
      "1번째 반복:32\n",
      "0번째 반복:273\n"
     ]
    }
   ],
   "source": [
    "for i in list(range(len(array)))[::-1]:\n",
    "    print('{}번째 반복:{}'.format(i,array[i]))"
   ]
  },
  {
   "cell_type": "code",
   "execution_count": 37,
   "id": "e6c248be-b8d1-4da3-9375-d79a4588bc6c",
   "metadata": {},
   "outputs": [
    {
     "name": "stdout",
     "output_type": "stream",
     "text": [
      "4번째 반복:52\n",
      "3번째 반복:57\n",
      "2번째 반복:103\n",
      "1번째 반복:32\n",
      "0번째 반복:273\n"
     ]
    }
   ],
   "source": [
    "for i in reversed(range(len(array))):\n",
    "    print('{}번째 반복:{}'.format(i,array[i]))"
   ]
  },
  {
   "cell_type": "code",
   "execution_count": 38,
   "id": "88f85582-a775-48f0-b57e-8c44419f610f",
   "metadata": {},
   "outputs": [
    {
     "data": {
      "text/plain": [
       "[52, 57, 103, 32, 273]"
      ]
     },
     "execution_count": 38,
     "metadata": {},
     "output_type": "execute_result"
    }
   ],
   "source": [
    "array[::-1]"
   ]
  },
  {
   "cell_type": "code",
   "execution_count": 41,
   "id": "8b0f2209-67d3-4d1b-a466-1f240eb15fff",
   "metadata": {},
   "outputs": [
    {
     "data": {
      "text/plain": [
       "500500"
      ]
     },
     "execution_count": 41,
     "metadata": {},
     "output_type": "execute_result"
    }
   ],
   "source": [
    "s = 0\n",
    "for i in range(1,1001):\n",
    "    s += i\n",
    "s"
   ]
  },
  {
   "cell_type": "code",
   "execution_count": 43,
   "id": "801d7ae3-e56b-4ba2-ace7-7eb1b040d8be",
   "metadata": {},
   "outputs": [
    {
     "data": {
      "text/plain": [
       "55"
      ]
     },
     "execution_count": 43,
     "metadata": {},
     "output_type": "execute_result"
    }
   ],
   "source": [
    "s = 0\n",
    "i = 0\n",
    "while i < 11:\n",
    "    s += i\n",
    "    i += 1\n",
    "s"
   ]
  },
  {
   "cell_type": "code",
   "execution_count": 2,
   "id": "94b2fdea-dd5a-4ace-8327-575e091de417",
   "metadata": {},
   "outputs": [
    {
     "name": "stdout",
     "output_type": "stream",
     "text": [
      "1번째 반복 값입니다.\n",
      "2번째 반복 값입니다.\n",
      "3번째 반복 값입니다.\n",
      "4번째 반복 값입니다.\n",
      "5번째 반복 값입니다.\n",
      "6번째 반복 값입니다.\n",
      "7번째 반복 값입니다.\n",
      "8번째 반복 값입니다.\n",
      "9번째 반복 값입니다.\n",
      "10번째 반복 값입니다.\n"
     ]
    }
   ],
   "source": [
    "for i in range(10):\n",
    "    print(f'{i+1}번째 반복 값입니다.')"
   ]
  },
  {
   "cell_type": "code",
   "execution_count": 1,
   "id": "ea173870-8e73-4f8c-8931-13c1b45d7617",
   "metadata": {},
   "outputs": [
    {
     "name": "stdout",
     "output_type": "stream",
     "text": [
      "1번째 반복 값입니다.\n",
      "2번째 반복 값입니다.\n",
      "3번째 반복 값입니다.\n",
      "4번째 반복 값입니다.\n",
      "5번째 반복 값입니다.\n",
      "6번째 반복 값입니다.\n",
      "7번째 반복 값입니다.\n",
      "8번째 반복 값입니다.\n",
      "9번째 반복 값입니다.\n",
      "10번째 반복 값입니다.\n"
     ]
    }
   ],
   "source": [
    "i = 0\n",
    "while i <10:\n",
    "    print(f'{i+1}번째 반복 값입니다.')\n",
    "    i += 1"
   ]
  },
  {
   "cell_type": "code",
   "execution_count": 53,
   "id": "b49ef8b1-a8f2-4a04-9869-948132c470b1",
   "metadata": {},
   "outputs": [
    {
     "name": "stdout",
     "output_type": "stream",
     "text": [
      "0번째 반복: 273\n",
      "1번째 반복: 32\n",
      "2번째 반복: 103\n",
      "3번째 반복: 57\n",
      "4번째 반복: 52\n"
     ]
    }
   ],
   "source": [
    "i = 0\n",
    "while i <5:\n",
    "    print(f\"{i}번째 반복: {array[i]}\")\n",
    "    i +=1"
   ]
  },
  {
   "cell_type": "code",
   "execution_count": 3,
   "id": "b1ce9fcf-8b5f-489c-84a4-b2a81f5bff3f",
   "metadata": {},
   "outputs": [
    {
     "name": "stdout",
     "output_type": "stream",
     "text": [
      "4번째 반복: 52\n",
      "3번째 반복: 57\n",
      "2번째 반복: 103\n",
      "1번째 반복: 32\n",
      "0번째 반복: 273\n"
     ]
    }
   ],
   "source": [
    "i = 4\n",
    "while i >= 0:\n",
    "    print(f\"{i}번째 반복: {array[i]}\")\n",
    "    i -= 1"
   ]
  },
  {
   "cell_type": "code",
   "execution_count": 23,
   "id": "dfee4a53-68d6-439e-a7cf-01d1d5faab07",
   "metadata": {},
   "outputs": [],
   "source": [
    "list_test = [1,1,2,2]\n",
    "list_odd = []\n",
    "list_even = []"
   ]
  },
  {
   "cell_type": "code",
   "execution_count": 14,
   "id": "855ca2bd-7cba-4d6e-87cb-14d3264753f1",
   "metadata": {},
   "outputs": [
    {
     "name": "stdout",
     "output_type": "stream",
     "text": [
      "[1, 1, 2, 2]\n",
      "[1]\n",
      "[]\n"
     ]
    }
   ],
   "source": [
    "while i in list_test:\n",
    "    if i%2 ==1:\n",
    "        list_odd.append(i)\n",
    "    else:\n",
    "        list_even.append(i)"
   ]
  },
  {
   "cell_type": "code",
   "execution_count": 26,
   "id": "6ad24798-d543-4747-9d76-6a9dfd32301c",
   "metadata": {},
   "outputs": [],
   "source": [
    "list_test = [1,1,2,2]\n",
    "list_odd = []\n",
    "list_even = []\n",
    "i = 0\n",
    "while i <= len(list_test)-1:\n",
    "    if list_test[i] % 2 == 1:\n",
    "        list_odd.append(list_test[i])\n",
    "    else:\n",
    "        list_even.append(list_test[i])\n",
    "    i += 1"
   ]
  },
  {
   "cell_type": "code",
   "execution_count": 27,
   "id": "aa80ffa5-a6e2-4b0a-a0ca-77c3a10ffc3e",
   "metadata": {},
   "outputs": [
    {
     "data": {
      "text/plain": [
       "[1, 1]"
      ]
     },
     "execution_count": 27,
     "metadata": {},
     "output_type": "execute_result"
    }
   ],
   "source": [
    "list_odd"
   ]
  },
  {
   "cell_type": "code",
   "execution_count": 28,
   "id": "b3f5fe8f-0bbb-4415-9683-8915c9fc3d50",
   "metadata": {},
   "outputs": [
    {
     "data": {
      "text/plain": [
       "[2, 2]"
      ]
     },
     "execution_count": 28,
     "metadata": {},
     "output_type": "execute_result"
    }
   ],
   "source": [
    "list_even"
   ]
  },
  {
   "cell_type": "code",
   "execution_count": 35,
   "id": "e5d51fd9-1893-4a1f-b2ea-b72a478d4ecf",
   "metadata": {},
   "outputs": [],
   "source": [
    "from time import time"
   ]
  },
  {
   "cell_type": "code",
   "execution_count": 34,
   "id": "9334c4d9-9dd7-41c7-a1ef-cafe273fcc23",
   "metadata": {},
   "outputs": [],
   "source": [
    "import time"
   ]
  },
  {
   "cell_type": "code",
   "execution_count": 36,
   "id": "d56aae37-776d-4047-8f09-af46f44f8da3",
   "metadata": {},
   "outputs": [
    {
     "data": {
      "text/plain": [
       "5.0"
      ]
     },
     "execution_count": 36,
     "metadata": {},
     "output_type": "execute_result"
    }
   ],
   "source": [
    "(time()+5) -  time()"
   ]
  },
  {
   "cell_type": "code",
   "execution_count": 40,
   "id": "4392ddb8-7789-42c7-84cc-9408b9e51e8a",
   "metadata": {
    "tags": []
   },
   "outputs": [
    {
     "name": "stdout",
     "output_type": "stream",
     "text": [
      "55562790\n"
     ]
    }
   ],
   "source": [
    "target_time = time()+5\n",
    "number = 0\n",
    "while time() < target_time:\n",
    "    number += 1\n",
    "print(number)"
   ]
  },
  {
   "cell_type": "code",
   "execution_count": 41,
   "id": "137bb901-746f-4f93-a2cd-8ff547283a3a",
   "metadata": {},
   "outputs": [
    {
     "data": {
      "text/plain": [
       "1.3384549617767334"
      ]
     },
     "execution_count": 41,
     "metadata": {},
     "output_type": "execute_result"
    }
   ],
   "source": [
    "start_time = time()\n",
    "for i in range(55562790):\n",
    "    pass\n",
    "end_time = time()\n",
    "\n",
    "end_time - start_time"
   ]
  },
  {
   "cell_type": "code",
   "execution_count": 45,
   "id": "d0aea535-15ff-4798-b544-d52e0aae0825",
   "metadata": {},
   "outputs": [
    {
     "data": {
      "text/plain": [
       "6"
      ]
     },
     "execution_count": 45,
     "metadata": {},
     "output_type": "execute_result"
    }
   ],
   "source": [
    "dt = [1,2,3,2,3,4]\n",
    "s = 0\n",
    "for i in dt:\n",
    "    if i == 3:\n",
    "        s += i\n",
    "        break\n",
    "    else:\n",
    "        s += i\n",
    "s\n",
    "    "
   ]
  },
  {
   "cell_type": "code",
   "execution_count": 56,
   "id": "28ebc25d-affb-4301-877a-26f2d30a452f",
   "metadata": {},
   "outputs": [],
   "source": [
    "s = 0\n",
    "i = 0\n",
    "while True:\n",
    "    if dt[i] == 3:\n",
    "        s += dt[i]\n",
    "        break\n",
    "    else:\n",
    "        s += dt[i]\n",
    "    i += 1"
   ]
  },
  {
   "cell_type": "code",
   "execution_count": 57,
   "id": "63ac3b9e-d0ba-4a3d-853c-20039d4f2e31",
   "metadata": {},
   "outputs": [
    {
     "data": {
      "text/plain": [
       "6"
      ]
     },
     "execution_count": 57,
     "metadata": {},
     "output_type": "execute_result"
    }
   ],
   "source": [
    "s"
   ]
  },
  {
   "cell_type": "code",
   "execution_count": 67,
   "id": "c780d647-e167-4dba-8bcc-a0c7f59cdd20",
   "metadata": {},
   "outputs": [
    {
     "name": "stdin",
     "output_type": "stream",
     "text": [
      "값을 입력하세요 10\n"
     ]
    },
    {
     "name": "stdout",
     "output_type": "stream",
     "text": [
      "입력한 값은 10이고 합계는 55입니다\n"
     ]
    }
   ],
   "source": [
    "x = int(input(\"값을 입력하세요\"))\n",
    "i = 0\n",
    "s = 0\n",
    "while True:\n",
    "    if i == x:\n",
    "        s += i\n",
    "        break\n",
    "    else:\n",
    "        s += i\n",
    "    i += 1\n",
    "print(f'입력한 값은 {x}이고 합계는 {s}입니다')"
   ]
  },
  {
   "cell_type": "code",
   "execution_count": 68,
   "id": "08d47a00-884f-4d19-ac58-372fcfba36ff",
   "metadata": {},
   "outputs": [],
   "source": [
    "numbers = [5, 15, 6, 20, 7, 25]"
   ]
  },
  {
   "cell_type": "code",
   "execution_count": 69,
   "id": "39f7c9ea-d7f0-4c7f-9a5d-a842f57484a0",
   "metadata": {},
   "outputs": [
    {
     "name": "stdout",
     "output_type": "stream",
     "text": [
      "15\n",
      "20\n",
      "25\n"
     ]
    }
   ],
   "source": [
    "for number in numbers:\n",
    "    if number > 10:\n",
    "        print(number)"
   ]
  },
  {
   "cell_type": "code",
   "execution_count": 70,
   "id": "a8e0fcb7-6261-4a70-91c9-51f29074e0d5",
   "metadata": {},
   "outputs": [
    {
     "name": "stdout",
     "output_type": "stream",
     "text": [
      "15\n",
      "20\n",
      "25\n"
     ]
    }
   ],
   "source": [
    "for number in numbers:\n",
    "    if number < 10:\n",
    "        continue\n",
    "    print(number)"
   ]
  },
  {
   "cell_type": "code",
   "execution_count": 76,
   "id": "699e10d0-1cb4-4a53-a35e-6a64933ba9bd",
   "metadata": {},
   "outputs": [
    {
     "data": {
      "text/plain": [
       "[3, 6, 9]"
      ]
     },
     "execution_count": 76,
     "metadata": {},
     "output_type": "execute_result"
    }
   ],
   "source": [
    "list(range(3,12,3))"
   ]
  },
  {
   "cell_type": "code",
   "execution_count": 3,
   "id": "9da01d68-4219-4a19-ab67-5c1bb16f8a9d",
   "metadata": {},
   "outputs": [],
   "source": [
    "key_list = [\"name\",\"hp\",\"mp\",\"level\"]\n",
    "value_list = [\"기사\",200,30,5]\n",
    "character = {}"
   ]
  },
  {
   "cell_type": "markdown",
   "id": "f0b42591-f962-4261-99fb-b13835dccf8a",
   "metadata": {},
   "source": [
    "{'name':'기사','hp':200,'mp':30,'level':5}"
   ]
  },
  {
   "cell_type": "code",
   "execution_count": 83,
   "id": "00d46ad2-74e2-4fca-baf7-f35753d91dd3",
   "metadata": {},
   "outputs": [
    {
     "data": {
      "text/plain": [
       "{'name': '기사', 'hp': 200, 'mp': 30, 'level': 5}"
      ]
     },
     "execution_count": 83,
     "metadata": {},
     "output_type": "execute_result"
    }
   ],
   "source": [
    "for i in range(len(key_list)):\n",
    "    character[key_list[i]] = value_list[i]\n",
    "character"
   ]
  },
  {
   "cell_type": "code",
   "execution_count": 88,
   "id": "0cc81ff8-69ca-44db-945c-d033470578b8",
   "metadata": {},
   "outputs": [],
   "source": [
    "character = {}\n",
    "for a,b in zip(key_list,value_list):\n",
    "    character[a] = b"
   ]
  },
  {
   "cell_type": "code",
   "execution_count": 93,
   "id": "cd07ca23-3bcb-46a4-8568-1f35d7e8380f",
   "metadata": {},
   "outputs": [],
   "source": [
    "character = {}"
   ]
  },
  {
   "cell_type": "code",
   "execution_count": 96,
   "id": "c4c3ecfb-2635-48b8-b55e-ddf784d54e95",
   "metadata": {},
   "outputs": [],
   "source": [
    "character = { k:v for k,v in zip(key_list,value_list)}"
   ]
  },
  {
   "cell_type": "code",
   "execution_count": 97,
   "id": "9c0f349f-ea16-4000-964c-05f52a589469",
   "metadata": {},
   "outputs": [
    {
     "data": {
      "text/plain": [
       "{'name': '기사', 'hp': 200, 'mp': 30, 'level': 5}"
      ]
     },
     "execution_count": 97,
     "metadata": {},
     "output_type": "execute_result"
    }
   ],
   "source": [
    "character"
   ]
  },
  {
   "cell_type": "code",
   "execution_count": 106,
   "id": "17bc52d7-9e89-498a-ad2b-416ae2b7b677",
   "metadata": {},
   "outputs": [
    {
     "name": "stdout",
     "output_type": "stream",
     "text": [
      "45\n",
      "1035\n"
     ]
    }
   ],
   "source": [
    "s = 0\n",
    "for i in range(1,1001):\n",
    "    s += i\n",
    "    if s >= 1000:\n",
    "        break\n",
    "print(i)\n",
    "print(s)"
   ]
  },
  {
   "cell_type": "code",
   "execution_count": 111,
   "id": "d78632d1-5ee0-4556-94dc-94518b3a153f",
   "metadata": {},
   "outputs": [
    {
     "name": "stdout",
     "output_type": "stream",
     "text": [
      "45\n",
      "1035\n"
     ]
    }
   ],
   "source": [
    "s = 0\n",
    "i = 0\n",
    "while i <= 1001:\n",
    "    s += i\n",
    "    if s>=1000:\n",
    "        break\n",
    "    else:\n",
    "        i +=1 \n",
    "print(i)\n",
    "print(s)"
   ]
  },
  {
   "cell_type": "code",
   "execution_count": 113,
   "id": "44ca49ed-0707-4c99-995a-bab946a77d14",
   "metadata": {},
   "outputs": [],
   "source": [
    "limit = 10000\n",
    "i = 1\n",
    "while True:\n",
    "    s = 0\n",
    "    for j in range(i+1):\n",
    "        s += j\n",
    "    if s > limit:\n",
    "        break\n",
    "    i += 1"
   ]
  },
  {
   "cell_type": "code",
   "execution_count": 121,
   "id": "c2cb087d-9d85-4070-b812-dc078b136319",
   "metadata": {},
   "outputs": [],
   "source": [
    "a_min = a[0]\n",
    "for i in range(len(a)):\n",
    "    if a_min > a[i]:\n",
    "        a_min = a[i]"
   ]
  },
  {
   "cell_type": "code",
   "execution_count": 122,
   "id": "fcc24ba4-f0dc-4639-8137-e4d1a4dfd630",
   "metadata": {},
   "outputs": [],
   "source": [
    "a_max = a[0]\n",
    "for i in range(len(a)):\n",
    "    if a_max < a[i]:\n",
    "        a_max = a[i]"
   ]
  },
  {
   "cell_type": "code",
   "execution_count": 123,
   "id": "2e802591-efdf-42a3-b560-2c598c0a8844",
   "metadata": {},
   "outputs": [
    {
     "data": {
      "text/plain": [
       "500000.5"
      ]
     },
     "execution_count": 123,
     "metadata": {},
     "output_type": "execute_result"
    }
   ],
   "source": [
    "##평균, 합, 분산, 표준편차\n"
   ]
  },
  {
   "cell_type": "code",
   "execution_count": 6,
   "id": "a039b885-1345-4051-b0c8-6d4d40ce0443",
   "metadata": {
    "collapsed": true,
    "jupyter": {
     "outputs_hidden": true
    },
    "tags": []
   },
   "outputs": [
    {
     "ename": "SyntaxError",
     "evalue": "invalid syntax (Temp/ipykernel_5892/3213617766.py, line 2)",
     "output_type": "error",
     "traceback": [
      "\u001b[1;36m  File \u001b[1;32m\"C:\\Users\\user\\AppData\\Local\\Temp/ipykernel_5892/3213617766.py\"\u001b[1;36m, line \u001b[1;32m2\u001b[0m\n\u001b[1;33m    sum((a - sum(a)/len(a))**2)/len(a)-1)\u001b[0m\n\u001b[1;37m                                        ^\u001b[0m\n\u001b[1;31mSyntaxError\u001b[0m\u001b[1;31m:\u001b[0m invalid syntax\n"
     ]
    }
   ],
   "source": [
    "## 분산\n",
    "sum((a - sum(a)/len(a))**2)/len(a)-1"
   ]
  },
  {
   "cell_type": "code",
   "execution_count": 133,
   "id": "e7d217f4-c38a-4aaa-9f90-ad14fd5dd13a",
   "metadata": {
    "collapsed": true,
    "jupyter": {
     "outputs_hidden": true
    },
    "tags": []
   },
   "outputs": [
    {
     "ename": "KeyboardInterrupt",
     "evalue": "",
     "output_type": "error",
     "traceback": [
      "\u001b[1;31m---------------------------------------------------------------------------\u001b[0m",
      "\u001b[1;31mKeyboardInterrupt\u001b[0m                         Traceback (most recent call last)",
      "\u001b[1;32m~\\AppData\\Local\\Temp/ipykernel_8068/3429095492.py\u001b[0m in \u001b[0;36m<module>\u001b[1;34m\u001b[0m\n\u001b[0;32m      1\u001b[0m \u001b[0ms\u001b[0m \u001b[1;33m=\u001b[0m \u001b[1;36m0\u001b[0m\u001b[1;33m\u001b[0m\u001b[1;33m\u001b[0m\u001b[0m\n\u001b[0;32m      2\u001b[0m \u001b[1;32mfor\u001b[0m \u001b[0mi\u001b[0m \u001b[1;32min\u001b[0m \u001b[0ma\u001b[0m\u001b[1;33m:\u001b[0m\u001b[1;33m\u001b[0m\u001b[1;33m\u001b[0m\u001b[0m\n\u001b[1;32m----> 3\u001b[1;33m     \u001b[0mx\u001b[0m \u001b[1;33m=\u001b[0m \u001b[1;33m(\u001b[0m\u001b[0mi\u001b[0m \u001b[1;33m-\u001b[0m \u001b[0msum\u001b[0m\u001b[1;33m(\u001b[0m\u001b[0ma\u001b[0m\u001b[1;33m)\u001b[0m\u001b[1;33m/\u001b[0m\u001b[0mlen\u001b[0m\u001b[1;33m(\u001b[0m\u001b[0ma\u001b[0m\u001b[1;33m)\u001b[0m\u001b[1;33m)\u001b[0m\u001b[1;33m**\u001b[0m\u001b[1;36m2\u001b[0m\u001b[1;33m\u001b[0m\u001b[1;33m\u001b[0m\u001b[0m\n\u001b[0m\u001b[0;32m      4\u001b[0m     \u001b[0ms\u001b[0m \u001b[1;33m+=\u001b[0m \u001b[0mx\u001b[0m\u001b[1;33m\u001b[0m\u001b[1;33m\u001b[0m\u001b[0m\n\u001b[0;32m      5\u001b[0m \u001b[0ms\u001b[0m\u001b[1;33m/\u001b[0m\u001b[1;33m(\u001b[0m\u001b[0mlen\u001b[0m\u001b[1;33m(\u001b[0m\u001b[0ma\u001b[0m\u001b[1;33m)\u001b[0m\u001b[1;33m-\u001b[0m\u001b[1;36m1\u001b[0m\u001b[1;33m)\u001b[0m\u001b[1;33m\u001b[0m\u001b[1;33m\u001b[0m\u001b[0m\n",
      "\u001b[1;31mKeyboardInterrupt\u001b[0m: "
     ]
    }
   ],
   "source": [
    "s = 0\n",
    "for i in a:\n",
    "    x = (i - sum(a)/len(a))**2\n",
    "    s += x\n",
    "s/(len(a)-1)    "
   ]
  },
  {
   "cell_type": "code",
   "execution_count": 135,
   "id": "a8388f15-4e08-464f-856f-7c146d24ecd3",
   "metadata": {},
   "outputs": [
    {
     "data": {
      "text/plain": [
       "True"
      ]
     },
     "execution_count": 135,
     "metadata": {},
     "output_type": "execute_result"
    }
   ],
   "source": [
    "list(reversed(a)) == a[::-1]"
   ]
  },
  {
   "cell_type": "code",
   "execution_count": 136,
   "id": "0f5890ad-ac94-465f-9116-b5beb5db4156",
   "metadata": {},
   "outputs": [],
   "source": [
    "example_dictionry = {\n",
    "    \"키A\":'값A',\n",
    "    '키B':'값B',\n",
    "    '키C':'값C'\n",
    "    \n",
    "}"
   ]
  },
  {
   "cell_type": "code",
   "execution_count": 137,
   "id": "8da9496d-49ff-4104-8ff1-ded1131b7740",
   "metadata": {},
   "outputs": [
    {
     "data": {
      "text/plain": [
       "{'키A': '값A', '키B': '값B', '키C': '값C'}"
      ]
     },
     "execution_count": 137,
     "metadata": {},
     "output_type": "execute_result"
    }
   ],
   "source": [
    "example_dictionry"
   ]
  },
  {
   "cell_type": "code",
   "execution_count": 138,
   "id": "6f0192ce-e7f4-4c77-bc3a-f831b2843f94",
   "metadata": {},
   "outputs": [],
   "source": [
    "ex_dict = {\"키\"+i:\"값\"+i for i in \"ABC\"}"
   ]
  },
  {
   "cell_type": "code",
   "execution_count": 141,
   "id": "836774c7-6ba8-479c-8a68-d83784d81718",
   "metadata": {},
   "outputs": [
    {
     "data": {
      "text/plain": [
       "{'키A': '값A', '키B': '값B', '키C': '값C'}"
      ]
     },
     "execution_count": 141,
     "metadata": {},
     "output_type": "execute_result"
    }
   ],
   "source": [
    "ex_dict"
   ]
  },
  {
   "cell_type": "code",
   "execution_count": 144,
   "id": "c47ebddf-4f1f-43a9-bd31-61948a8c204d",
   "metadata": {},
   "outputs": [
    {
     "name": "stdout",
     "output_type": "stream",
     "text": [
      "키A : 값A\n",
      "키B : 값B\n",
      "키C : 값C\n"
     ]
    }
   ],
   "source": [
    "for i in ex_dict:\n",
    "    print(f'{i} : {ex_dict[i]}')"
   ]
  },
  {
   "cell_type": "code",
   "execution_count": 146,
   "id": "a4298123-d329-418a-8608-811bc13348d9",
   "metadata": {},
   "outputs": [
    {
     "name": "stdout",
     "output_type": "stream",
     "text": [
      "키A : 값A\n",
      "키B : 값B\n",
      "키C : 값C\n"
     ]
    }
   ],
   "source": [
    "for i,j in ex_dict.items():\n",
    "    print(f'{i} : {j}')"
   ]
  },
  {
   "cell_type": "code",
   "execution_count": 147,
   "id": "c7556eea-1760-486d-beb7-30a661637e3a",
   "metadata": {},
   "outputs": [
    {
     "name": "stdout",
     "output_type": "stream",
     "text": [
      "값A\n",
      "값B\n",
      "값C\n"
     ]
    }
   ],
   "source": [
    "for j in ex_dict.values():\n",
    "    print(f'{j}')"
   ]
  },
  {
   "cell_type": "code",
   "execution_count": 148,
   "id": "1492a358-9686-4f58-9673-0c981174850c",
   "metadata": {},
   "outputs": [
    {
     "name": "stdout",
     "output_type": "stream",
     "text": [
      "키A\n",
      "키B\n",
      "키C\n"
     ]
    }
   ],
   "source": [
    "for j in ex_dict.keys():\n",
    "    print(f'{j}')"
   ]
  },
  {
   "cell_type": "code",
   "execution_count": 153,
   "id": "ed2127b8-0236-4d40-aee0-8593f2afee30",
   "metadata": {},
   "outputs": [],
   "source": [
    "import random"
   ]
  },
  {
   "cell_type": "code",
   "execution_count": 189,
   "id": "44543447-1c78-448a-93f2-0bcdcee7f307",
   "metadata": {},
   "outputs": [
    {
     "name": "stdout",
     "output_type": "stream",
     "text": [
      "짝수의 개수는 500, 홀수의 개수는 500\n"
     ]
    }
   ],
   "source": [
    "a = list(range(1000))\n",
    "random.shuffle(a)\n",
    "even = 0\n",
    "for i in a:\n",
    "    if i%2 == 0:\n",
    "        even += 1\n",
    "odds = len(a) - even\n",
    "print(f'짝수의 개수는 {even}, 홀수의 개수는 {odds}')"
   ]
  },
  {
   "cell_type": "code",
   "execution_count": 163,
   "id": "afb6f547-76d9-477e-8811-7189b0b8c8dd",
   "metadata": {},
   "outputs": [
    {
     "data": {
      "text/plain": [
       "334"
      ]
     },
     "execution_count": 163,
     "metadata": {},
     "output_type": "execute_result"
    }
   ],
   "source": [
    "three_times = 0\n",
    "for i in a:\n",
    "    if i %3 == 0:\n",
    "        three_times += 1\n",
    "three_times"
   ]
  },
  {
   "cell_type": "code",
   "execution_count": 169,
   "id": "2da088c6-8fef-4189-bb06-fb880f88aef7",
   "metadata": {},
   "outputs": [
    {
     "data": {
      "text/plain": [
       "114"
      ]
     },
     "execution_count": 169,
     "metadata": {},
     "output_type": "execute_result"
    }
   ],
   "source": [
    "three_times = 0\n",
    "for i in range(2,len(a)+1,3):\n",
    "    if a[i] % 3 ==0:\n",
    "        three_times += 1\n",
    "three_times"
   ]
  },
  {
   "cell_type": "code",
   "execution_count": 190,
   "id": "9e8d451b-caa1-48b3-8b52-45d0e490aa4d",
   "metadata": {},
   "outputs": [
    {
     "data": {
      "text/plain": [
       "334"
      ]
     },
     "execution_count": 190,
     "metadata": {},
     "output_type": "execute_result"
    }
   ],
   "source": [
    "three_times = 0\n",
    "for k,v in enumerate(a):\n",
    "    a_k = i+1\n",
    "    if a_k %3 ==0:\n",
    "        if v % 3 ==0:\n",
    "            three_times += 1\n",
    "three_times"
   ]
  },
  {
   "cell_type": "code",
   "execution_count": 198,
   "id": "81339708-7ebe-4f3c-ad7e-fabbf473d54b",
   "metadata": {},
   "outputs": [],
   "source": [
    "a_a = {i+1:v for i, v in enumerate(a)}"
   ]
  },
  {
   "cell_type": "code",
   "execution_count": 200,
   "id": "009f54ac-e311-4e22-a7c8-2df69d146bf4",
   "metadata": {},
   "outputs": [
    {
     "data": {
      "text/plain": [
       "42"
      ]
     },
     "execution_count": 200,
     "metadata": {},
     "output_type": "execute_result"
    }
   ],
   "source": [
    "five_times = 0\n",
    "for k,v in a_a.items():\n",
    "    if k % 5 == 0:\n",
    "        if v % 5 == 0:\n",
    "            five_times += 1\n",
    "five_times"
   ]
  },
  {
   "cell_type": "code",
   "execution_count": 202,
   "id": "4e78f14e-653d-40c8-9853-3b2bf029fdb0",
   "metadata": {},
   "outputs": [
    {
     "data": {
      "text/plain": [
       "42"
      ]
     },
     "execution_count": 202,
     "metadata": {},
     "output_type": "execute_result"
    }
   ],
   "source": [
    "five_times = 0\n",
    "for k,v in a_a.items():\n",
    "    if (k % 5 == 0) and (v%5 ==0):\n",
    "        five_times += 1\n",
    "five_times"
   ]
  },
  {
   "cell_type": "code",
   "execution_count": 203,
   "id": "b017ac4b-088f-41d5-948d-57c45ba33175",
   "metadata": {},
   "outputs": [],
   "source": [
    "array = [i*i for i in range(0,20,2)]"
   ]
  },
  {
   "cell_type": "code",
   "execution_count": 204,
   "id": "833ef995-ed04-4721-b250-9980d226f424",
   "metadata": {},
   "outputs": [
    {
     "name": "stdout",
     "output_type": "stream",
     "text": [
      "[0, 4, 16, 36, 64, 100, 144, 196, 256, 324]\n"
     ]
    }
   ],
   "source": [
    "print(array)"
   ]
  },
  {
   "cell_type": "code",
   "execution_count": 206,
   "id": "60d1a4e8-889f-4555-8fc5-262e556dd3fc",
   "metadata": {},
   "outputs": [],
   "source": [
    "array = [str(i)   for i in range(0,20,2)]"
   ]
  },
  {
   "cell_type": "code",
   "execution_count": 209,
   "id": "0944b2d9-ee09-4e95-990d-889611ed8f5a",
   "metadata": {},
   "outputs": [
    {
     "data": {
      "text/plain": [
       "90"
      ]
     },
     "execution_count": 209,
     "metadata": {},
     "output_type": "execute_result"
    }
   ],
   "source": [
    "sum([int(i) for i in array])"
   ]
  },
  {
   "cell_type": "code",
   "execution_count": 210,
   "id": "958fc340-a3d9-450c-8701-72fa2fdc63ae",
   "metadata": {},
   "outputs": [],
   "source": [
    "foods = ['사과','자두','초콜릿','바나나','체리']\n",
    "fruits = []\n",
    "for food in foods:\n",
    "    if food != \"초코렛\":\n",
    "        fruits.append(food)"
   ]
  },
  {
   "cell_type": "code",
   "execution_count": 219,
   "id": "bd7c6b9b-925b-409e-8cd7-8da15f79b13c",
   "metadata": {},
   "outputs": [],
   "source": [
    "fruits = {k:food for k,food in enumerate(foods) if food != \"초코렛\"}"
   ]
  },
  {
   "cell_type": "code",
   "execution_count": 220,
   "id": "f95ca752-3a90-4a5e-a89a-a7b82e26b0df",
   "metadata": {},
   "outputs": [
    {
     "data": {
      "text/plain": [
       "{0: '사과', 1: '자두', 2: '초콜릿', 3: '바나나', 4: '체리'}"
      ]
     },
     "execution_count": 220,
     "metadata": {},
     "output_type": "execute_result"
    }
   ],
   "source": [
    "fruits"
   ]
  },
  {
   "cell_type": "code",
   "execution_count": 222,
   "id": "6b965295-6f0b-4e7c-8984-3e4779fd6b7c",
   "metadata": {
    "collapsed": true,
    "jupyter": {
     "outputs_hidden": true
    },
    "tags": []
   },
   "outputs": [
    {
     "ename": "TypeError",
     "evalue": "unsupported operand type(s) for /: 'list' and 'int'",
     "output_type": "error",
     "traceback": [
      "\u001b[1;31m---------------------------------------------------------------------------\u001b[0m",
      "\u001b[1;31mTypeError\u001b[0m                                 Traceback (most recent call last)",
      "\u001b[1;32m~\\AppData\\Local\\Temp/ipykernel_8068/21729900.py\u001b[0m in \u001b[0;36m<module>\u001b[1;34m\u001b[0m\n\u001b[1;32m----> 1\u001b[1;33m \u001b[0msum\u001b[0m\u001b[1;33m(\u001b[0m\u001b[1;33m[\u001b[0m\u001b[1;33m(\u001b[0m\u001b[0mi\u001b[0m\u001b[1;33m-\u001b[0m\u001b[0msum\u001b[0m\u001b[1;33m(\u001b[0m\u001b[0ma\u001b[0m\u001b[1;33m)\u001b[0m\u001b[1;33m)\u001b[0m\u001b[1;33m**\u001b[0m\u001b[1;36m2\u001b[0m \u001b[1;32mfor\u001b[0m \u001b[0mi\u001b[0m \u001b[1;32min\u001b[0m \u001b[0ma\u001b[0m\u001b[1;33m]\u001b[0m\u001b[1;33m/\u001b[0m\u001b[0mlen\u001b[0m\u001b[1;33m(\u001b[0m\u001b[0ma\u001b[0m\u001b[1;33m)\u001b[0m\u001b[1;33m-\u001b[0m\u001b[1;36m1\u001b[0m\u001b[1;33m)\u001b[0m\u001b[1;33m\u001b[0m\u001b[1;33m\u001b[0m\u001b[0m\n\u001b[0m",
      "\u001b[1;31mTypeError\u001b[0m: unsupported operand type(s) for /: 'list' and 'int'"
     ]
    }
   ],
   "source": [
    "sum([(i-sum(a))**2 for i in a]/len(a)-1)"
   ]
  },
  {
   "cell_type": "code",
   "execution_count": 225,
   "id": "4955013d-e637-4750-ba54-5f999f0fa78d",
   "metadata": {},
   "outputs": [
    {
     "data": {
      "text/plain": [
       "10"
      ]
     },
     "execution_count": 225,
     "metadata": {},
     "output_type": "execute_result"
    }
   ],
   "source": [
    "int(\"{:b}\".format(10),2)"
   ]
  },
  {
   "cell_type": "code",
   "execution_count": 227,
   "id": "a9d4ee65-10ce-4f68-a203-bdcaae92f00c",
   "metadata": {},
   "outputs": [],
   "source": [
    "x = [22,33,2,32,21,23,3,44,2,2]"
   ]
  },
  {
   "cell_type": "code",
   "execution_count": 230,
   "id": "f89a7f2c-ffab-47dc-85df-e9134bbe41c3",
   "metadata": {},
   "outputs": [
    {
     "data": {
      "text/plain": [
       "3"
      ]
     },
     "execution_count": 230,
     "metadata": {},
     "output_type": "execute_result"
    }
   ],
   "source": [
    "cnt = 0\n",
    "for i in x:\n",
    "    if i == 2:\n",
    "        cnt += 1\n",
    "cnt"
   ]
  },
  {
   "cell_type": "code",
   "execution_count": 256,
   "id": "99313588-bd4d-414a-9610-0949eaac43e7",
   "metadata": {},
   "outputs": [],
   "source": [
    "output = []\n",
    "for i in range(1,101):\n",
    "    output.append(\"{:b}\".format(i))"
   ]
  },
  {
   "cell_type": "code",
   "execution_count": 254,
   "id": "316c36d3-51e6-46a2-b3f5-9088d86b643c",
   "metadata": {
    "collapsed": true,
    "jupyter": {
     "outputs_hidden": true
    },
    "tags": []
   },
   "outputs": [
    {
     "ename": "SyntaxError",
     "evalue": "invalid syntax (Temp/ipykernel_8068/872746607.py, line 1)",
     "output_type": "error",
     "traceback": [
      "\u001b[1;36m  File \u001b[1;32m\"C:\\Users\\user\\AppData\\Local\\Temp/ipykernel_8068/872746607.py\"\u001b[1;36m, line \u001b[1;32m1\u001b[0m\n\u001b[1;33m    output = [\"{:b}\".format(i) for i in range(1,101) if i.count('0')!=1 del i]\u001b[0m\n\u001b[1;37m                                                                          ^\u001b[0m\n\u001b[1;31mSyntaxError\u001b[0m\u001b[1;31m:\u001b[0m invalid syntax\n"
     ]
    }
   ],
   "source": [
    "output = [\"{:b}\".format(i) for i in range(1,101) if i.count('0')!=1 del i]"
   ]
  },
  {
   "cell_type": "code",
   "execution_count": 252,
   "id": "35f03d47-1cc1-4e50-95ea-47d996907d84",
   "metadata": {},
   "outputs": [
    {
     "data": {
      "text/plain": [
       "False"
      ]
     },
     "execution_count": 252,
     "metadata": {},
     "output_type": "execute_result"
    }
   ],
   "source": [
    "output[3].count('0')==1"
   ]
  },
  {
   "cell_type": "code",
   "execution_count": 250,
   "id": "1ef8a26d-440e-4d09-9edf-3dc799c6d2bb",
   "metadata": {
    "collapsed": true,
    "jupyter": {
     "outputs_hidden": true
    },
    "tags": []
   },
   "outputs": [
    {
     "ename": "ValueError",
     "evalue": "Unknown format code 'b' for object of type 'str'",
     "output_type": "error",
     "traceback": [
      "\u001b[1;31m---------------------------------------------------------------------------\u001b[0m",
      "\u001b[1;31mValueError\u001b[0m                                Traceback (most recent call last)",
      "\u001b[1;32m~\\AppData\\Local\\Temp/ipykernel_8068/2956826746.py\u001b[0m in \u001b[0;36m<module>\u001b[1;34m\u001b[0m\n\u001b[0;32m      1\u001b[0m \u001b[1;32mfor\u001b[0m \u001b[0mi\u001b[0m \u001b[1;32min\u001b[0m \u001b[0moutput\u001b[0m\u001b[1;33m:\u001b[0m\u001b[1;33m\u001b[0m\u001b[1;33m\u001b[0m\u001b[0m\n\u001b[1;32m----> 2\u001b[1;33m     \u001b[0mprint\u001b[0m\u001b[1;33m(\u001b[0m\u001b[1;34m\"{} : {}\"\u001b[0m\u001b[1;33m.\u001b[0m\u001b[0mformat\u001b[0m\u001b[1;33m(\u001b[0m\u001b[0mi\u001b[0m\u001b[1;33m,\u001b[0m \u001b[1;34m\"{:b}\"\u001b[0m\u001b[1;33m.\u001b[0m\u001b[0mformat\u001b[0m\u001b[1;33m(\u001b[0m\u001b[0mi\u001b[0m\u001b[1;33m)\u001b[0m\u001b[1;33m)\u001b[0m\u001b[1;33m)\u001b[0m\u001b[1;33m\u001b[0m\u001b[1;33m\u001b[0m\u001b[0m\n\u001b[0m\u001b[0;32m      3\u001b[0m \u001b[1;33m\u001b[0m\u001b[0m\n\u001b[0;32m      4\u001b[0m \u001b[0mprint\u001b[0m\u001b[1;33m(\u001b[0m\u001b[1;34m\"합계:\"\u001b[0m\u001b[1;33m,\u001b[0m\u001b[0msum\u001b[0m\u001b[1;33m(\u001b[0m\u001b[0moutput\u001b[0m\u001b[1;33m)\u001b[0m\u001b[1;33m)\u001b[0m\u001b[1;33m\u001b[0m\u001b[1;33m\u001b[0m\u001b[0m\n",
      "\u001b[1;31mValueError\u001b[0m: Unknown format code 'b' for object of type 'str'"
     ]
    }
   ],
   "source": [
    "for i in output:\n",
    "\n",
    "    print(\"{} : {}\".format(i, \"{:b}\".format(i)))\n",
    "    \n",
    "print(\"합계:\",sum(output))"
   ]
  },
  {
   "cell_type": "code",
   "execution_count": 262,
   "id": "c9c30f29-b2f2-46a4-91dc-10e53ea4468c",
   "metadata": {},
   "outputs": [],
   "source": [
    "one_zero = []\n",
    "for i in output:\n",
    "    if i.count(\"0\") == 1:\n",
    "        one_zero.append(int(i,2))"
   ]
  },
  {
   "cell_type": "code",
   "execution_count": 264,
   "id": "bcd10db9-01ea-4ca2-bb1c-c7e5eea1b17a",
   "metadata": {},
   "outputs": [
    {
     "data": {
      "text/plain": [
       "539"
      ]
     },
     "execution_count": 264,
     "metadata": {},
     "output_type": "execute_result"
    }
   ],
   "source": [
    "sum(one_zero)"
   ]
  },
  {
   "cell_type": "code",
   "execution_count": 265,
   "id": "ef92ef29-0880-4ad2-ae01-5e638e88e895",
   "metadata": {},
   "outputs": [
    {
     "data": {
      "text/plain": [
       "539"
      ]
     },
     "execution_count": 265,
     "metadata": {},
     "output_type": "execute_result"
    }
   ],
   "source": [
    "sum([int(i,2) for i in output if i.count(\"0\") == 1])"
   ]
  },
  {
   "cell_type": "code",
   "execution_count": 284,
   "id": "991a2630-b6cc-43ac-8e74-6392f30891b3",
   "metadata": {},
   "outputs": [],
   "source": [
    "def 함수명():\n",
    "    return 10"
   ]
  },
  {
   "cell_type": "code",
   "execution_count": 285,
   "id": "bbd93641-41c2-41f8-b38b-667afd818a5a",
   "metadata": {},
   "outputs": [],
   "source": [
    "a = 함수명()"
   ]
  },
  {
   "cell_type": "code",
   "execution_count": 286,
   "id": "1d082972-7c69-489f-bcb4-61d0b77de690",
   "metadata": {},
   "outputs": [
    {
     "data": {
      "text/plain": [
       "10"
      ]
     },
     "execution_count": 286,
     "metadata": {},
     "output_type": "execute_result"
    }
   ],
   "source": [
    "a"
   ]
  },
  {
   "cell_type": "code",
   "execution_count": 306,
   "id": "98a53a11-910e-437a-9a7c-cf169245153c",
   "metadata": {},
   "outputs": [],
   "source": [
    "def aaa(x):\n",
    "    s = 0\n",
    "    for i in x:\n",
    "        s += i\n",
    "    return s"
   ]
  },
  {
   "cell_type": "code",
   "execution_count": 308,
   "id": "2cd8e317-c426-4cf5-b7d3-dd39786a93f9",
   "metadata": {
    "tags": []
   },
   "outputs": [
    {
     "data": {
      "text/plain": [
       "101"
      ]
     },
     "execution_count": 308,
     "metadata": {},
     "output_type": "execute_result"
    }
   ],
   "source": [
    "aaa([1,100])"
   ]
  },
  {
   "cell_type": "code",
   "execution_count": 353,
   "id": "1f7ad29f-afbc-4fc3-9c35-db3de610ebd7",
   "metadata": {},
   "outputs": [],
   "source": [
    "def sum(x):\n",
    "    s = 0\n",
    "    for i in x:\n",
    "        s += int(i)\n",
    "    return s"
   ]
  },
  {
   "cell_type": "code",
   "execution_count": 354,
   "id": "1a23741c-38a3-4667-ad74-29c2bb26f003",
   "metadata": {},
   "outputs": [],
   "source": [
    "x = [1,2,32,\"23\",True]"
   ]
  },
  {
   "cell_type": "code",
   "execution_count": 355,
   "id": "be90db89-516c-4854-8286-6aa35324e776",
   "metadata": {},
   "outputs": [
    {
     "data": {
      "text/plain": [
       "59"
      ]
     },
     "execution_count": 355,
     "metadata": {},
     "output_type": "execute_result"
    }
   ],
   "source": [
    "sum(x)"
   ]
  },
  {
   "cell_type": "code",
   "execution_count": 356,
   "id": "a485cb5b-8dc3-471c-90a3-f4e080c50342",
   "metadata": {},
   "outputs": [],
   "source": [
    "def bbb(x):\n",
    "    s = 0\n",
    "    for i in x:\n",
    "        if type(i) in [int,float]:\n",
    "            s += i\n",
    "    return s"
   ]
  },
  {
   "cell_type": "code",
   "execution_count": 357,
   "id": "a7b37211-867f-4fe0-bcd7-4f95d29912ed",
   "metadata": {},
   "outputs": [],
   "source": [
    "y = [1,2,32,\"23\",True]"
   ]
  },
  {
   "cell_type": "code",
   "execution_count": 358,
   "id": "e954c44e-55a1-4ef4-a6d3-e0cc6938aab5",
   "metadata": {},
   "outputs": [
    {
     "data": {
      "text/plain": [
       "35"
      ]
     },
     "execution_count": 358,
     "metadata": {},
     "output_type": "execute_result"
    }
   ],
   "source": [
    "bbb(y)"
   ]
  },
  {
   "cell_type": "code",
   "execution_count": 367,
   "id": "6b1b001d-45c5-45c3-9478-dcbafadb8ca1",
   "metadata": {},
   "outputs": [],
   "source": [
    "def khj(x):\n",
    "    s = 0\n",
    "    l = 0\n",
    "    for i in x:\n",
    "        if type(i) in [int,float]:\n",
    "            s += i\n",
    "            l += 1\n",
    "    print(f'''\n",
    "사용된 데이터의 수는 : {l}\n",
    "합계는 : {s}\n",
    "평균은 : {s/l}''')\n",
    "    return s/l"
   ]
  },
  {
   "cell_type": "code",
   "execution_count": 377,
   "id": "14e5444e-7c06-49e8-8a1a-19cc98bfec04",
   "metadata": {},
   "outputs": [
    {
     "data": {
      "text/plain": [
       "tuple"
      ]
     },
     "execution_count": 377,
     "metadata": {},
     "output_type": "execute_result"
    }
   ],
   "source": [
    "type(khj(y))"
   ]
  },
  {
   "cell_type": "markdown",
   "id": "ee839cad-4892-4c7f-a789-f884779dae7e",
   "metadata": {},
   "source": [
    "사용된 데이터의 수는 : 3\n",
    "합계는 : 35\n",
    "평균은 : 11.666666666"
   ]
  },
  {
   "cell_type": "code",
   "execution_count": 374,
   "id": "c47abf4d-4e40-4177-8704-debb6d0f73ca",
   "metadata": {},
   "outputs": [],
   "source": [
    "def khj1(x):\n",
    "    tmp = []\n",
    "    for i in x:\n",
    "        if type(i) in [int,float]:\n",
    "            tmp.append(i)\n",
    "    return {'합계':sum(tmp), '개수':len(tmp), '평균':sum(tmp)/len(tmp)}"
   ]
  },
  {
   "cell_type": "code",
   "execution_count": 376,
   "id": "b1299c48-60b2-4401-a915-2ce5097c52a6",
   "metadata": {},
   "outputs": [
    {
     "data": {
      "text/plain": [
       "dict"
      ]
     },
     "execution_count": 376,
     "metadata": {},
     "output_type": "execute_result"
    }
   ],
   "source": [
    "type(khj1(y))"
   ]
  },
  {
   "cell_type": "code",
   "execution_count": 390,
   "id": "1ccf2166-cd1f-4e29-b81e-d55a6d474cc3",
   "metadata": {},
   "outputs": [],
   "source": [
    "def lll(x):\n",
    "    s = 0\n",
    "    for i in x:\n",
    "        if i == ' ':\n",
    "            pass\n",
    "        else:\n",
    "            s += 1\n",
    "    return s"
   ]
  },
  {
   "cell_type": "code",
   "execution_count": 392,
   "id": "f87a1cf1-1b45-46f5-a38f-612831c27e5f",
   "metadata": {},
   "outputs": [
    {
     "data": {
      "text/plain": [
       "11"
      ]
     },
     "execution_count": 392,
     "metadata": {},
     "output_type": "execute_result"
    }
   ],
   "source": [
    "lll(\"안녕하세요 python\")"
   ]
  },
  {
   "cell_type": "code",
   "execution_count": 395,
   "id": "a110b5bc-5bd4-4a16-83ad-677d0136f471",
   "metadata": {},
   "outputs": [
    {
     "data": {
      "text/plain": [
       "5"
      ]
     },
     "execution_count": 395,
     "metadata": {},
     "output_type": "execute_result"
    }
   ],
   "source": [
    "lll([1,2,3,4,''])"
   ]
  },
  {
   "cell_type": "code",
   "execution_count": 403,
   "id": "f324f97a-62b4-409a-8c17-e9d6cf955cd4",
   "metadata": {},
   "outputs": [],
   "source": [
    "def lll(x):\n",
    "    s = 0\n",
    "    if type(x) == str:\n",
    "        x = [i for i in x if i != ' ']\n",
    "    for i in x:\n",
    "        s += 1\n",
    "    return s"
   ]
  },
  {
   "cell_type": "code",
   "execution_count": 404,
   "id": "2d43833d-5ac5-46cd-ad8f-82d72fc5419a",
   "metadata": {},
   "outputs": [
    {
     "data": {
      "text/plain": [
       "11"
      ]
     },
     "execution_count": 404,
     "metadata": {},
     "output_type": "execute_result"
    }
   ],
   "source": [
    "lll(\"안녕하세요 python\")"
   ]
  },
  {
   "cell_type": "code",
   "execution_count": 405,
   "id": "bc31a6b7-b4c5-4a67-852a-d403f544b13f",
   "metadata": {},
   "outputs": [
    {
     "data": {
      "text/plain": [
       "5"
      ]
     },
     "execution_count": 405,
     "metadata": {},
     "output_type": "execute_result"
    }
   ],
   "source": [
    "lll([1,2,3,4,''])"
   ]
  },
  {
   "cell_type": "code",
   "execution_count": 414,
   "id": "88ddb463-8837-44ec-b48f-9d042a7c8db0",
   "metadata": {},
   "outputs": [],
   "source": [
    "def lll1(x):\n",
    "    s = 0\n",
    "    for i in x:\n",
    "        s += 1\n",
    "    if type(x) == str:\n",
    "        s = s - x.count(' ')\n",
    "    return s"
   ]
  },
  {
   "cell_type": "code",
   "execution_count": 415,
   "id": "d7683c0f-3a0d-41a9-ace4-e2c80109f9d5",
   "metadata": {},
   "outputs": [
    {
     "data": {
      "text/plain": [
       "11"
      ]
     },
     "execution_count": 415,
     "metadata": {},
     "output_type": "execute_result"
    }
   ],
   "source": [
    "lll1(\"안녕하세요 python\")"
   ]
  },
  {
   "cell_type": "code",
   "execution_count": null,
   "id": "51cf097b-d1a0-4e9f-8d1b-9bfef67ae797",
   "metadata": {},
   "outputs": [],
   "source": []
  }
 ],
 "metadata": {
  "kernelspec": {
   "display_name": "isaac",
   "language": "python",
   "name": "isaac"
  },
  "language_info": {
   "codemirror_mode": {
    "name": "ipython",
    "version": 3
   },
   "file_extension": ".py",
   "mimetype": "text/x-python",
   "name": "python",
   "nbconvert_exporter": "python",
   "pygments_lexer": "ipython3",
   "version": "3.7.11"
  }
 },
 "nbformat": 4,
 "nbformat_minor": 5
}
