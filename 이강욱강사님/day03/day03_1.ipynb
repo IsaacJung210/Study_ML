{
 "cells": [
  {
   "cell_type": "code",
   "execution_count": 1,
   "id": "5a1f5c3f-f1c6-4b7f-a99a-d80bef4e1ad5",
   "metadata": {},
   "outputs": [],
   "source": [
    "import numpy as np"
   ]
  },
  {
   "cell_type": "code",
   "execution_count": 442,
   "id": "e014ccaf-dfb2-466a-81b8-b2b0d7f0161c",
   "metadata": {},
   "outputs": [],
   "source": [
    "def sigmoid(x):\n",
    "    return 1/(1+np.exp(-x))\n",
    "\n",
    "def softmax(x):\n",
    "    x = x - np.max(x,axis=1).reshape(-1,1)\n",
    "    return np.exp(x)/np.sum(np.exp(x),axis=1).reshape(-1,1)"
   ]
  },
  {
   "cell_type": "code",
   "execution_count": 181,
   "id": "8596fb36-b8c2-4b34-b7f6-10ccc7f6977c",
   "metadata": {},
   "outputs": [],
   "source": [
    "def cross_entropy_error(y,t):\n",
    "    return -np.sum(t*np.log(y))/len(t)"
   ]
  },
  {
   "cell_type": "code",
   "execution_count": null,
   "id": "812e6dad-0ef3-4061-a2da-cafd2e677be0",
   "metadata": {},
   "outputs": [],
   "source": [
    "def cross_entropy_error(y,t):\n",
    "    return -np.sum(t*np.log(y))/y.shape[0]"
   ]
  },
  {
   "cell_type": "code",
   "execution_count": 170,
   "id": "dd574b8e-70c7-4a72-9d51-b1d40510f769",
   "metadata": {},
   "outputs": [
    {
     "data": {
      "text/plain": [
       "10"
      ]
     },
     "execution_count": 170,
     "metadata": {},
     "output_type": "execute_result"
    }
   ],
   "source": [
    "len(np.random.randn(10,2))"
   ]
  },
  {
   "cell_type": "code",
   "execution_count": 3,
   "id": "24459c80-06d2-4cd6-9a64-f163bcaeb1e1",
   "metadata": {},
   "outputs": [],
   "source": [
    "input_x = np.random.randn(3,2)"
   ]
  },
  {
   "cell_type": "code",
   "execution_count": 7,
   "id": "a23b96c9-e419-4879-a9c5-f66fcf7b38b3",
   "metadata": {},
   "outputs": [],
   "source": [
    "t = np.array(['monkey','cat','dog'])"
   ]
  },
  {
   "cell_type": "code",
   "execution_count": 15,
   "id": "db9797f2-7413-45bf-9a07-2f2b2fe1c57a",
   "metadata": {},
   "outputs": [],
   "source": [
    "t = np.array([[0],[1],[2]])"
   ]
  },
  {
   "cell_type": "code",
   "execution_count": 12,
   "id": "200668f3-54b7-4008-8dc4-cf3a47bdd46f",
   "metadata": {},
   "outputs": [
    {
     "data": {
      "text/plain": [
       "array([[ 0.1891208 , -0.89899271],\n",
       "       [ 0.89482329,  2.39401176],\n",
       "       [ 1.53608315,  0.08338061]])"
      ]
     },
     "execution_count": 12,
     "metadata": {},
     "output_type": "execute_result"
    }
   ],
   "source": [
    "input_x"
   ]
  },
  {
   "cell_type": "code",
   "execution_count": 26,
   "id": "ac56c54d-5f25-425c-97ca-93688a961aaf",
   "metadata": {},
   "outputs": [],
   "source": [
    "w = np.random.randn(2,3)"
   ]
  },
  {
   "cell_type": "code",
   "execution_count": 27,
   "id": "8800f936-5d64-4c28-848c-fe5e42487a79",
   "metadata": {},
   "outputs": [],
   "source": [
    "output = np.dot(input_x,w)"
   ]
  },
  {
   "cell_type": "code",
   "execution_count": 41,
   "id": "7c0116a6-d8f6-4d2c-8f8d-51c379703138",
   "metadata": {},
   "outputs": [
    {
     "data": {
      "text/plain": [
       "array([[-0.75115977, -0.07647734,  0.39584385],\n",
       "       [ 2.15954761,  1.15649617, -1.36670187],\n",
       "       [ 0.24654978,  1.06565827, -0.38396959]])"
      ]
     },
     "execution_count": 41,
     "metadata": {},
     "output_type": "execute_result"
    }
   ],
   "source": [
    "output"
   ]
  },
  {
   "cell_type": "code",
   "execution_count": 68,
   "id": "045bf3f5-ca2f-4585-b694-bc2fda590f67",
   "metadata": {},
   "outputs": [
    {
     "data": {
      "text/plain": [
       "array([1., 1., 1.])"
      ]
     },
     "execution_count": 68,
     "metadata": {},
     "output_type": "execute_result"
    }
   ],
   "source": [
    "np.sum(softmax(output),axis=1)"
   ]
  },
  {
   "cell_type": "code",
   "execution_count": 42,
   "id": "4053fe71-0be2-4f09-8a96-a38a8d6261ac",
   "metadata": {},
   "outputs": [
    {
     "data": {
      "text/plain": [
       "array([[-1.14700362, -0.47232119,  0.        ],\n",
       "       [ 0.        , -1.00305145, -3.52624948],\n",
       "       [-0.81910849,  0.        , -1.44962786]])"
      ]
     },
     "execution_count": 42,
     "metadata": {},
     "output_type": "execute_result"
    }
   ],
   "source": [
    "output - np.max(output,axis=1).reshape(-1,1)"
   ]
  },
  {
   "cell_type": "code",
   "execution_count": 23,
   "id": "bdc25bbb-3bcb-416b-97c9-92991a65c0c6",
   "metadata": {},
   "outputs": [],
   "source": [
    "t = np.array([[1,0,0],[0,1,0],[0,0,1]])"
   ]
  },
  {
   "cell_type": "code",
   "execution_count": 70,
   "id": "631b63d0-c818-4c56-b0c9-3e77d5a48cfa",
   "metadata": {},
   "outputs": [
    {
     "data": {
      "text/plain": [
       "array([[0.16360846, 0.32123039, 0.51516115],\n",
       "       [0.7162433 , 0.26268838, 0.02106832],\n",
       "       [0.26310307, 0.59684315, 0.14005378]])"
      ]
     },
     "execution_count": 70,
     "metadata": {},
     "output_type": "execute_result"
    }
   ],
   "source": [
    "softmax(output)"
   ]
  },
  {
   "cell_type": "code",
   "execution_count": 74,
   "id": "035071bc-8e9e-4adf-ae81-a0cb33e8b74c",
   "metadata": {},
   "outputs": [],
   "source": [
    "def loss(y,t):\n",
    "    return np.sum(t*np.log(y))/y.shape[0]"
   ]
  },
  {
   "cell_type": "code",
   "execution_count": 75,
   "id": "7cadf8bf-f330-4075-9fc2-8e26346b31b3",
   "metadata": {},
   "outputs": [
    {
     "data": {
      "text/plain": [
       "-1.7042649108246497"
      ]
     },
     "execution_count": 75,
     "metadata": {},
     "output_type": "execute_result"
    }
   ],
   "source": [
    "loss(softmax(output),t) # 미분하여"
   ]
  },
  {
   "cell_type": "code",
   "execution_count": 82,
   "id": "9c35f7a3-9029-45e7-9baa-e2c7ebc363e4",
   "metadata": {},
   "outputs": [],
   "source": [
    "def f(x):\n",
    "    return np.sum(x**2)"
   ]
  },
  {
   "cell_type": "code",
   "execution_count": 83,
   "id": "497ddef9-875c-44d3-9ae8-e9a017486ac8",
   "metadata": {},
   "outputs": [
    {
     "data": {
      "text/plain": [
       "25"
      ]
     },
     "execution_count": 83,
     "metadata": {},
     "output_type": "execute_result"
    }
   ],
   "source": [
    "f(np.array([3,4]))"
   ]
  },
  {
   "cell_type": "code",
   "execution_count": 92,
   "id": "b8b5f907-b4e3-4d75-a1a2-d0ad23461739",
   "metadata": {},
   "outputs": [],
   "source": [
    "def _diff(f,x):\n",
    "    h = 1e-7\n",
    "    fx = f(x)\n",
    "    tmp_val = x\n",
    "    x = tmp_val + h\n",
    "    fxh = f(x)\n",
    "    return (fxh-fx)/h"
   ]
  },
  {
   "cell_type": "code",
   "execution_count": 102,
   "id": "d7aabc76-71e7-47a0-b0bc-870a987cc961",
   "metadata": {},
   "outputs": [
    {
     "data": {
      "text/plain": [
       "14.000000234659637"
      ]
     },
     "execution_count": 102,
     "metadata": {},
     "output_type": "execute_result"
    }
   ],
   "source": [
    "_diff(f,np.array([3,4]))"
   ]
  },
  {
   "cell_type": "code",
   "execution_count": 98,
   "id": "8cc87933-814f-4ca7-a1c9-b687e12a24f9",
   "metadata": {},
   "outputs": [
    {
     "data": {
      "text/plain": [
       "array([2, 0, 1])"
      ]
     },
     "execution_count": 98,
     "metadata": {},
     "output_type": "execute_result"
    }
   ],
   "source": [
    "np.argmax(softmax(output),axis=1)"
   ]
  },
  {
   "cell_type": "code",
   "execution_count": 100,
   "id": "49689d40-0648-429c-b452-be39490ab797",
   "metadata": {},
   "outputs": [
    {
     "data": {
      "text/plain": [
       "array([0, 1, 2])"
      ]
     },
     "execution_count": 100,
     "metadata": {},
     "output_type": "execute_result"
    }
   ],
   "source": [
    "np.argmax(t,axis=1)"
   ]
  },
  {
   "cell_type": "code",
   "execution_count": 103,
   "id": "3aa668aa-daaf-4f7d-9586-dbb5f7b88394",
   "metadata": {},
   "outputs": [],
   "source": [
    "def _diff(f,x):\n",
    "    h = 1e-7\n",
    "    fx = f(x)\n",
    "    tmp_val = x\n",
    "    x = tmp_val + h\n",
    "    fxh = f(x)\n",
    "    return (fxh-fx)/h"
   ]
  },
  {
   "cell_type": "code",
   "execution_count": 130,
   "id": "73b738cb-52cc-42e9-ad6d-930e06e23e4b",
   "metadata": {},
   "outputs": [
    {
     "data": {
      "text/plain": [
       "2"
      ]
     },
     "execution_count": 130,
     "metadata": {},
     "output_type": "execute_result"
    }
   ],
   "source": [
    "x = np.random.randn(10,3)\n",
    "x.ndim"
   ]
  },
  {
   "cell_type": "code",
   "execution_count": 153,
   "id": "84ce6e32-e734-4d5b-a115-ad4d170fb77e",
   "metadata": {},
   "outputs": [],
   "source": [
    "tmp_val = x[0,0]"
   ]
  },
  {
   "cell_type": "code",
   "execution_count": 156,
   "id": "f9e7b436-2aba-467e-b870-ead28e81a780",
   "metadata": {},
   "outputs": [],
   "source": [
    "f = lambda x:x**2"
   ]
  },
  {
   "cell_type": "code",
   "execution_count": 157,
   "id": "c0cf84cd-c2ca-4d5b-a1fa-d8d140430048",
   "metadata": {},
   "outputs": [],
   "source": [
    "fxh = f(x)"
   ]
  },
  {
   "cell_type": "code",
   "execution_count": 158,
   "id": "f7cb4980-77b1-4062-8870-c0efb44d2eb7",
   "metadata": {},
   "outputs": [
    {
     "data": {
      "text/plain": [
       "array([[ 1.00060009,  4.        ,  9.        ],\n",
       "       [ 4.        ,  9.        , 49.        ]])"
      ]
     },
     "execution_count": 158,
     "metadata": {},
     "output_type": "execute_result"
    }
   ],
   "source": [
    "fxh"
   ]
  },
  {
   "cell_type": "code",
   "execution_count": 155,
   "id": "c912ae3b-53a3-480e-832c-9e223ade0e20",
   "metadata": {},
   "outputs": [
    {
     "data": {
      "text/plain": [
       "1.0003"
      ]
     },
     "execution_count": 155,
     "metadata": {},
     "output_type": "execute_result"
    }
   ],
   "source": [
    "x[i,j] = tmp_val + h\n",
    "x[i,j]"
   ]
  },
  {
   "cell_type": "code",
   "execution_count": 412,
   "id": "ca54d823-070c-43a1-974b-f4e34c1871f0",
   "metadata": {},
   "outputs": [],
   "source": [
    "def numerical_gradient(f,x):\n",
    "    h = 1e-4\n",
    "    grad = np.zeros_like(x)\n",
    "    if x.ndim == 2: \n",
    "        for i in range(grad.shape[0]):\n",
    "            for j in range(grad.shape[1]):\n",
    "                fx = f(x[i,j])\n",
    "                tmp_val = x[i,j]\n",
    "                x[i,j] = tmp_val + h\n",
    "                fxh = f(x[i,j])\n",
    "                grad[i,j] = (fxh - fx)/h\n",
    "                x[i,j] = tmp_val\n",
    "        return grad\n",
    "    else:\n",
    "        for i in range(x.size):\n",
    "            tmp_val = x[i]\n",
    "            x[i] = tmp_val + h\n",
    "            fxh1 = f(x[i])\n",
    "            x[i] = tmp_val - h\n",
    "            fxh2 = f(x[i])\n",
    "            grad[i] = (fxh1-fxh2)/2*h\n",
    "            x[i] = tmp_val\n",
    "        return grad"
   ]
  },
  {
   "cell_type": "code",
   "execution_count": 413,
   "id": "84eb1be6-ba5e-4c95-8031-6b26868622e9",
   "metadata": {},
   "outputs": [],
   "source": [
    "def mse(y,t):\n",
    "    return np.sum((y-t)**2)/len(y)"
   ]
  },
  {
   "cell_type": "code",
   "execution_count": 414,
   "id": "63e4fa76-1602-482f-af21-9a4d0b3c6cd3",
   "metadata": {},
   "outputs": [],
   "source": [
    "class Network:\n",
    "    def __init__(self):\n",
    "        self.W = np.random.randn(2,2)\n",
    "        self.b = np.random.randn(1)\n",
    "        \n",
    "    def predict(self,x):\n",
    "        return np.dot(x,self.W) + self.b\n",
    "    \n",
    "    def loss(self,x,t):\n",
    "        z = self.predict(x)\n",
    "        y = softmax(z)\n",
    "        loss = cross_entropy_error(y,t)\n",
    "        return loss"
   ]
  },
  {
   "cell_type": "code",
   "execution_count": null,
   "id": "eed8ed9a-6323-443a-9e6d-1a6729e32639",
   "metadata": {},
   "outputs": [],
   "source": [
    "def cross_entropy_error(y,t):\n",
    "    return -np.sum(t*np.log(y))/y.shape[0]"
   ]
  },
  {
   "cell_type": "code",
   "execution_count": 428,
   "id": "0132e743-b718-4633-9866-b2531bbfd67f",
   "metadata": {},
   "outputs": [],
   "source": [
    "from sklearn.datasets import load_iris"
   ]
  },
  {
   "cell_type": "code",
   "execution_count": 429,
   "id": "aa847a8a-f114-44ce-a62f-0b09fecdf6fd",
   "metadata": {},
   "outputs": [],
   "source": [
    "X = load_iris()['data']\n",
    "y = load_iris()['target']"
   ]
  },
  {
   "cell_type": "code",
   "execution_count": 435,
   "id": "a9af60ab-ecb2-40e6-ba6c-c69012b3b125",
   "metadata": {},
   "outputs": [],
   "source": [
    "t = np.zeros((150,3))\n",
    "for i in range(150):\n",
    "    t[i,y[i]] = 1"
   ]
  },
  {
   "cell_type": "code",
   "execution_count": 457,
   "id": "9a2c8d2c-1305-4fe7-9eb1-f4a69403f5b4",
   "metadata": {},
   "outputs": [],
   "source": [
    "input_size = X.shape[1]\n",
    "hidden_size = 5\n",
    "output_size = t.shape[1]"
   ]
  },
  {
   "cell_type": "code",
   "execution_count": 458,
   "id": "7277782d-ec37-49d9-9414-2e23225f494e",
   "metadata": {},
   "outputs": [],
   "source": [
    "network = TwoLayerNet(input_size,hidden_size,output_size)"
   ]
  },
  {
   "cell_type": "code",
   "execution_count": 506,
   "id": "6ac98a76-5bc8-4c69-b73e-3b59e2657ad9",
   "metadata": {},
   "outputs": [],
   "source": [
    "def train(epochs,learning_rate,x,t):\n",
    "    for epoch in range(epochs):\n",
    "        grads = network.numerical_gradient(x,t)\n",
    "        for key in grads.keys():\n",
    "            network.W[key] -= learning_rate*grads[key]\n",
    "        print(\"==========>loss  \", network.loss(x,t), \"  =====>  \",network.accuracy(x,t))\n",
    "        "
   ]
  },
  {
   "cell_type": "code",
   "execution_count": 509,
   "id": "68cae921-2d92-4a78-bf57-526e266580ad",
   "metadata": {},
   "outputs": [
    {
     "data": {
      "text/plain": [
       "0.9733333333333334"
      ]
     },
     "execution_count": 509,
     "metadata": {},
     "output_type": "execute_result"
    }
   ],
   "source": [
    "network.accuracy(X,t)"
   ]
  },
  {
   "cell_type": "code",
   "execution_count": 511,
   "id": "ea9d209c-1081-466a-95dc-ea476884a1b0",
   "metadata": {},
   "outputs": [
    {
     "data": {
      "text/plain": [
       "array([0, 0, 0, 0, 0, 0, 0, 0, 0, 0, 0, 0, 0, 0, 0, 0, 0, 0, 0, 0, 0, 0,\n",
       "       0, 0, 0, 0, 0, 0, 0, 0, 0, 0, 0, 0, 0, 0, 0, 0, 0, 0, 0, 0, 0, 0,\n",
       "       0, 0, 0, 0, 0, 0, 1, 1, 1, 1, 1, 1, 1, 1, 1, 1, 1, 1, 1, 1, 1, 1,\n",
       "       1, 1, 1, 1, 1, 1, 1, 1, 1, 1, 1, 1, 1, 1, 1, 1, 1, 1, 1, 1, 1, 1,\n",
       "       1, 1, 1, 1, 1, 1, 1, 1, 1, 1, 1, 1, 2, 2, 2, 2, 2, 2, 2, 2, 2, 2,\n",
       "       2, 2, 2, 2, 2, 2, 2, 2, 2, 2, 2, 2, 2, 2, 2, 2, 2, 2, 2, 2, 2, 2,\n",
       "       2, 2, 2, 2, 2, 2, 2, 2, 2, 2, 2, 2, 2, 2, 2, 2, 2, 2])"
      ]
     },
     "execution_count": 511,
     "metadata": {},
     "output_type": "execute_result"
    }
   ],
   "source": [
    "np.argmax(t,axis=1)"
   ]
  },
  {
   "cell_type": "code",
   "execution_count": 510,
   "id": "959633dd-47a6-4c3a-8387-12dad6eae5f3",
   "metadata": {},
   "outputs": [
    {
     "data": {
      "text/plain": [
       "array([0, 0, 0, 0, 0, 0, 0, 0, 0, 0, 0, 0, 0, 0, 0, 0, 0, 0, 0, 0, 0, 0,\n",
       "       0, 0, 0, 0, 0, 0, 0, 0, 0, 0, 0, 0, 0, 0, 0, 0, 0, 0, 0, 0, 0, 0,\n",
       "       0, 0, 0, 0, 0, 0, 1, 1, 1, 1, 1, 1, 1, 1, 1, 1, 1, 1, 1, 1, 1, 1,\n",
       "       1, 1, 1, 1, 2, 1, 2, 1, 1, 1, 1, 1, 1, 1, 1, 1, 1, 2, 2, 1, 1, 1,\n",
       "       1, 1, 1, 1, 1, 1, 1, 1, 1, 1, 1, 1, 2, 2, 2, 2, 2, 2, 2, 2, 2, 2,\n",
       "       2, 2, 2, 2, 2, 2, 2, 2, 2, 2, 2, 2, 2, 2, 2, 2, 2, 2, 2, 2, 2, 2,\n",
       "       2, 2, 2, 2, 2, 2, 2, 2, 2, 2, 2, 2, 2, 2, 2, 2, 2, 2])"
      ]
     },
     "execution_count": 510,
     "metadata": {},
     "output_type": "execute_result"
    }
   ],
   "source": [
    "np.argmax(network.predict(X),axis=1)"
   ]
  },
  {
   "cell_type": "code",
   "execution_count": 459,
   "id": "cb2dade3-469f-480b-9f44-1e829e67ffe4",
   "metadata": {},
   "outputs": [],
   "source": [
    "lr = 0.0001\n",
    "epochs = 100\n",
    "for epoch in range(epochs):\n",
    "    grads = network.numerical_gradient(X,t)\n",
    "    W1, W2 = network.numerical_gradient(X,t)['W1'], network.numerical_gradient(X,t)['W2']\n",
    "    b1, b2 = network.numerical_gradient(X,t)['b1'], network.numerical_gradient(X,t)['b2']\n",
    "    network.W['W1'] -= lr*W1\n",
    "    network.W['W2'] -= lr*W2\n",
    "    network.W['b1'] -= lr*b1\n",
    "    network.W['b2'] -= lr*b2"
   ]
  },
  {
   "cell_type": "code",
   "execution_count": 482,
   "id": "8333799b-e020-490a-a5ab-a829223673ae",
   "metadata": {},
   "outputs": [],
   "source": [
    "X = load_iris()['data']\n",
    "y = load_iris()['target']\n",
    "t = np.zeros((150,3))\n",
    "for i in range(150):\n",
    "    t[i,y[i]] = 1\n",
    "input_size = X.shape[1]\n",
    "hidden_size = 10\n",
    "output_size = t.shape[1]\n",
    "network = TwoLayerNet(input_size,hidden_size,output_size)"
   ]
  },
  {
   "cell_type": "code",
   "execution_count": 536,
   "id": "6e5ff117-a3db-485b-a99f-e46434c34608",
   "metadata": {},
   "outputs": [],
   "source": [
    "def relu(x):\n",
    "    return np.maximum(0,x)"
   ]
  },
  {
   "cell_type": "code",
   "execution_count": 537,
   "id": "43e3a1d6-46a2-496f-aa1e-30f137014272",
   "metadata": {},
   "outputs": [],
   "source": [
    "class TwoLayerNet:\n",
    "    def __init__(self,input_size,hidden_size,output_size):\n",
    "        self.W = {}\n",
    "        self.W['W1'] = np.random.randn(input_size,hidden_size)\n",
    "        self.W['b1'] = np.random.randn(hidden_size)\n",
    "        self.W['W2'] = np.random.randn(hidden_size,output_size)\n",
    "        self.W['b2'] = np.random.randn(output_size)\n",
    "        self.loss_val = []\n",
    "    \n",
    "    def predict(self,x):\n",
    "        W1 = self.W['W1']\n",
    "        W2 = self.W['W2']\n",
    "        b1 = self.W['b1']\n",
    "        b2 = self.W['b2']\n",
    "        \n",
    "        a1 = np.dot(x,W1) + b1 # 출력값\n",
    "        z1 = relu(a1)\n",
    "        a2 = np.dot(z1,W2) + b2\n",
    "        out = softmax(a2)\n",
    "        return out\n",
    "    \n",
    "    def loss(self,x,t):\n",
    "        y = self.predict(x)\n",
    "        loss = cross_entropy_error(y,t)\n",
    "        return loss\n",
    "\n",
    "    def numerical_gradient(self,x,t):\n",
    "        f = lambda W: self.loss(x,t)\n",
    "        \n",
    "        grads = {}\n",
    "        grads['W1'] = numerical_gradient(f, self.W['W1'])\n",
    "        grads['b1'] = numerical_gradient(f, self.W['b1'])\n",
    "        grads['W2'] = numerical_gradient(f, self.W['W2'])\n",
    "        grads['b2'] = numerical_gradient(f, self.W['b2'])\n",
    "        \n",
    "        return grads\n",
    "\n",
    "    \n",
    "    def accuracy(self,x,t):\n",
    "        y = self.predict(x)\n",
    "        y = np.argmax(y,axis=1)\n",
    "        t = np.argmax(t,axis=1)\n",
    "        acc = sum(y == t)/x.shape[0]\n",
    "        return acc\n",
    "    \n",
    "    def train(self,epochs,lr,x,t):\n",
    "        for epoch in range(epochs):\n",
    "            grads = self.numerical_gradient(x,t)\n",
    "            for key in grads.keys():\n",
    "                self.W[key] -= lr*grads[key]\n",
    "            self.loss_val.append(self.loss(x,t))\n",
    "        "
   ]
  },
  {
   "cell_type": "code",
   "execution_count": 544,
   "id": "64076717-3577-4e7b-ba62-861633c50e84",
   "metadata": {},
   "outputs": [],
   "source": [
    "from sklearn.model_selection import train_test_split"
   ]
  },
  {
   "cell_type": "code",
   "execution_count": 545,
   "id": "05c237d9-0be6-4c70-96d8-1432a17445bf",
   "metadata": {},
   "outputs": [],
   "source": [
    "X = load_iris()['data']\n",
    "y = load_iris()['target']\n",
    "X_train, X_test, y_train, y_test = train_test_split(X,y,test_size=.2)\n",
    "t_train = np.zeros((y_train.size,np.unique(y_train).size))\n",
    "for i in range(len(t_train)):\n",
    "    t_train[i,y_train[i]] = 1\n",
    "t_test = np.zeros((y_test.size,np.unique(y_test).size))\n",
    "for i in range(len(t_test)):\n",
    "    t_test[i,y_test[i]] = 1\n",
    "input_size = X_train.shape[1]\n",
    "hidden_size = 5\n",
    "output_size = t_train.shape[1]\n",
    "network = TwoLayerNet(input_size=input_size,hidden_size=hidden_size,output_size=output_size)"
   ]
  },
  {
   "cell_type": "code",
   "execution_count": 546,
   "id": "e472b7d2-51bf-4c9f-a12b-660788527375",
   "metadata": {},
   "outputs": [],
   "source": [
    "network.train(10000,1e-3,X_train,t_train)"
   ]
  },
  {
   "cell_type": "code",
   "execution_count": 547,
   "id": "248c718f-7906-4aab-b59f-749a4db96e2e",
   "metadata": {},
   "outputs": [
    {
     "data": {
      "text/plain": [
       "0.9666666666666667"
      ]
     },
     "execution_count": 547,
     "metadata": {},
     "output_type": "execute_result"
    }
   ],
   "source": [
    "network.accuracy(X_test,t_test)"
   ]
  },
  {
   "cell_type": "code",
   "execution_count": 548,
   "id": "d218a45e-10eb-4112-b518-1c5dd8f72379",
   "metadata": {},
   "outputs": [
    {
     "data": {
      "text/plain": [
       "[<matplotlib.lines.Line2D at 0x7efeebd28640>]"
      ]
     },
     "execution_count": 548,
     "metadata": {},
     "output_type": "execute_result"
    },
    {
     "data": {
      "image/png": "[encoded data removed]",
      "text/plain": [
       "<Figure size 432x288 with 1 Axes>"
      ]
     },
     "metadata": {
      "needs_background": "light"
     },
     "output_type": "display_data"
    }
   ],
   "source": [
    "import matplotlib.pyplot as plt\n",
    "plt.plot(np.arange(len(network.loss_val)),network.loss_val)"
   ]
  },
  {
   "cell_type": "code",
   "execution_count": 418,
   "id": "cb0f0657-b9ca-4146-af5d-4b3d00d7bdcb",
   "metadata": {},
   "outputs": [],
   "source": [
    "network.numerical_gradient()"
   ]
  },
  {
   "cell_type": "code",
   "execution_count": 419,
   "id": "2916b706-67bb-4108-9b4c-772980cfe2f7",
   "metadata": {},
   "outputs": [],
   "source": [
    "epochs = 10000\n",
    "lr = 1e-5\n",
    "for epoch in range(epochs):\n",
    "    net.W = net.W - lr*numerical_gradient(f,net.W)"
   ]
  },
  {
   "cell_type": "code",
   "execution_count": 420,
   "id": "9e9bda1b-ec89-485c-8781-9f2da5abbfc6",
   "metadata": {},
   "outputs": [],
   "source": [
    "epochs = 10000\n",
    "lr = 1e-5\n",
    "for epoch in range(epochs):\n",
    "    net.b = net.b - lr*numerical_gradient(f,net.b)"
   ]
  },
  {
   "cell_type": "code",
   "execution_count": 421,
   "id": "561bfee5-f660-4487-9021-94c4651d7c9d",
   "metadata": {},
   "outputs": [
    {
     "data": {
      "text/plain": [
       "array([[-0.32131844, -0.63825576],\n",
       "       [-0.75639995,  0.08016968]])"
      ]
     },
     "execution_count": 421,
     "metadata": {},
     "output_type": "execute_result"
    }
   ],
   "source": [
    "net.W"
   ]
  },
  {
   "cell_type": "code",
   "execution_count": 422,
   "id": "8a4e4699-2e64-41df-a06f-b942be5b34cf",
   "metadata": {},
   "outputs": [
    {
     "data": {
      "text/plain": [
       "array([[-1.65038309, -1.65038309],\n",
       "       [-2.40678304, -1.57021341],\n",
       "       [-1.97170153, -2.28863885],\n",
       "       [-2.72810147, -2.20846918]])"
      ]
     },
     "execution_count": 422,
     "metadata": {},
     "output_type": "execute_result"
    }
   ],
   "source": [
    "net.predict(X)"
   ]
  },
  {
   "cell_type": "code",
   "execution_count": 423,
   "id": "ae1ee63a-51c5-4f85-ab3e-3b6f54e68bdb",
   "metadata": {},
   "outputs": [
    {
     "data": {
      "text/plain": [
       "array([0, 1, 0, 1])"
      ]
     },
     "execution_count": 423,
     "metadata": {},
     "output_type": "execute_result"
    }
   ],
   "source": [
    "np.argmax(net.predict(X),axis=1)"
   ]
  },
  {
   "cell_type": "code",
   "execution_count": 424,
   "id": "ef916d9b-2fb6-4cfc-9365-ba6e631c3004",
   "metadata": {},
   "outputs": [
    {
     "name": "stdout",
     "output_type": "stream",
     "text": [
      "[[-0.32131844 -0.63825576]\n",
      " [-0.75639995  0.08016968]]\n",
      "[-1.65038309]\n"
     ]
    }
   ],
   "source": [
    "print(net.W)\n",
    "print(net.b)"
   ]
  },
  {
   "cell_type": "code",
   "execution_count": 425,
   "id": "1dfc66a6-dbb4-463f-a0cb-654a45dde2ec",
   "metadata": {},
   "outputs": [
    {
     "data": {
      "text/plain": [
       "array([0, 0, 0, 1])"
      ]
     },
     "execution_count": 425,
     "metadata": {},
     "output_type": "execute_result"
    }
   ],
   "source": [
    "np.argmax(t,axis=1)"
   ]
  },
  {
   "cell_type": "code",
   "execution_count": 163,
   "id": "7132bcd0-673c-4df3-865f-43b5bdfb56d3",
   "metadata": {},
   "outputs": [
    {
     "data": {
      "text/plain": [
       "array([2.e-08, 4.e-08, 6.e-08])"
      ]
     },
     "execution_count": 163,
     "metadata": {},
     "output_type": "execute_result"
    }
   ],
   "source": [
    "x = np.array([1.,2.,3.])\n",
    "loss = cross_entropy_error(y,t)\n",
    "numerical_gradient(,x)"
   ]
  },
  {
   "cell_type": "code",
   "execution_count": 161,
   "id": "4721ff92-3acf-4818-9ce6-fc72356b3468",
   "metadata": {},
   "outputs": [
    {
     "data": {
      "text/plain": [
       "array([[ 2.0001,  4.0001,  6.0001],\n",
       "       [ 4.0001,  6.0001, 14.0001]])"
      ]
     },
     "execution_count": 161,
     "metadata": {},
     "output_type": "execute_result"
    }
   ],
   "source": [
    "numerical_gradient(f,x)"
   ]
  },
  {
   "cell_type": "code",
   "execution_count": 117,
   "id": "beb2d986-dd37-4029-800d-03e7cb8b148b",
   "metadata": {},
   "outputs": [
    {
     "data": {
      "text/plain": [
       "array([1, 4, 9])"
      ]
     },
     "execution_count": 117,
     "metadata": {},
     "output_type": "execute_result"
    }
   ],
   "source": [
    "f(np.array([1,2,3]))"
   ]
  },
  {
   "cell_type": "code",
   "execution_count": 124,
   "id": "5ac131a9-6b4c-424c-81a0-b0d32bd09d05",
   "metadata": {},
   "outputs": [],
   "source": [
    "x = np.random.randn(2,3,3)"
   ]
  },
  {
   "cell_type": "code",
   "execution_count": 125,
   "id": "e77d8ec9-1c8a-492e-bd49-7c5f337b5ff5",
   "metadata": {},
   "outputs": [
    {
     "data": {
      "text/plain": [
       "array([[[0., 0., 0.],\n",
       "        [0., 0., 0.],\n",
       "        [0., 0., 0.]],\n",
       "\n",
       "       [[0., 0., 0.],\n",
       "        [0., 0., 0.],\n",
       "        [0., 0., 0.]]])"
      ]
     },
     "execution_count": 125,
     "metadata": {},
     "output_type": "execute_result"
    }
   ],
   "source": [
    "np.zeros_like(x)"
   ]
  },
  {
   "cell_type": "code",
   "execution_count": 122,
   "id": "ac338fe6-08b6-42a9-a9e9-33677376a647",
   "metadata": {},
   "outputs": [
    {
     "data": {
      "text/plain": [
       "array([[0., 0., 0.],\n",
       "       [0., 0., 0.]])"
      ]
     },
     "execution_count": 122,
     "metadata": {},
     "output_type": "execute_result"
    }
   ],
   "source": [
    "np.zeros((x.shape[0],x.shape[1]))"
   ]
  },
  {
   "cell_type": "code",
   "execution_count": null,
   "id": "7ff20384-81bb-4761-a5a5-e12c54143fea",
   "metadata": {},
   "outputs": [],
   "source": []
  }
 ],
 "metadata": {
  "kernelspec": {
   "display_name": "Python 3 (ipykernel)",
   "language": "python",
   "name": "python3"
  },
  "language_info": {
   "codemirror_mode": {
    "name": "ipython",
    "version": 3
   },
   "file_extension": ".py",
   "mimetype": "text/x-python",
   "name": "python",
   "nbconvert_exporter": "python",
   "pygments_lexer": "ipython3",
   "version": "3.9.7"
  }
 },
 "nbformat": 4,
 "nbformat_minor": 5
}
