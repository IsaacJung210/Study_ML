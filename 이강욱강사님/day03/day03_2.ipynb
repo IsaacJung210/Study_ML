{
 "cells": [
  {
   "cell_type": "code",
   "execution_count": 18,
   "id": "e01c8e0b-9d48-449c-8276-45380b594fcb",
   "metadata": {},
   "outputs": [],
   "source": [
    "import numpy as np\n",
    "from TwoLayerNet import TwoLayerNet \n",
    "from loss import cross_entropy_error\n",
    "from activation import relu, softmax, sigmoid\n",
    "from numerical_gradient import numerical_gradient "
   ]
  },
  {
   "cell_type": "code",
   "execution_count": 2,
   "id": "6d19c6e1-af6b-43d0-affa-53e40612951f",
   "metadata": {},
   "outputs": [],
   "source": [
    "from sklearn.datasets import fetch_openml"
   ]
  },
  {
   "cell_type": "code",
   "execution_count": 3,
   "id": "ccb23e52-3a6e-4efa-8996-e831ce556546",
   "metadata": {},
   "outputs": [],
   "source": [
    "mnist = fetch_openml('mnist_784')"
   ]
  },
  {
   "cell_type": "code",
   "execution_count": 4,
   "id": "bc61bad8-efb8-40a8-a61b-a04827342ddf",
   "metadata": {},
   "outputs": [],
   "source": [
    "X = mnist['data']\n",
    "y = mnist['target']"
   ]
  },
  {
   "cell_type": "code",
   "execution_count": 5,
   "id": "1c43733f-f6a8-4c6b-aba4-ea76fa0a29c6",
   "metadata": {},
   "outputs": [],
   "source": [
    "X = X.values"
   ]
  },
  {
   "cell_type": "code",
   "execution_count": 6,
   "id": "649a54f3-4f90-4ef5-a352-0dbbf0029b26",
   "metadata": {},
   "outputs": [
    {
     "name": "stderr",
     "output_type": "stream",
     "text": [
      "/tmp/ipykernel_4955/1431651893.py:1: DeprecationWarning: `np.int` is a deprecated alias for the builtin `int`. To silence this warning, use `int` by itself. Doing this will not modify any behavior and is safe. When replacing `np.int`, you may wish to use e.g. `np.int64` or `np.int32` to specify the precision. If you wish to review your current use, check the release note link for additional information.\n",
      "Deprecated in NumPy 1.20; for more details and guidance: https://numpy.org/devdocs/release/1.20.0-notes.html#deprecations\n",
      "  y = y.values.astype(np.int)\n"
     ]
    }
   ],
   "source": [
    "y = y.values.astype(np.int)"
   ]
  },
  {
   "cell_type": "code",
   "execution_count": 7,
   "id": "ff6dffca-0fde-495f-bfc6-1d244bc96829",
   "metadata": {},
   "outputs": [],
   "source": [
    "t = np.zeros((y.size,np.unique(y).size))\n",
    "for i in range(t.shape[0]):\n",
    "    t[i,y[i]] = 1"
   ]
  },
  {
   "cell_type": "code",
   "execution_count": 8,
   "id": "945bc09d-2b74-4874-bf36-b0a8d889ae51",
   "metadata": {},
   "outputs": [],
   "source": [
    "input_size = X.shape[1]\n",
    "hidden_size = 100\n",
    "output_size = t.shape[1]\n",
    "lr = 1e-5\n",
    "epochs = 5"
   ]
  },
  {
   "cell_type": "code",
   "execution_count": 22,
   "id": "0e7c115d-01b8-48fb-89f6-3f4b9f75698b",
   "metadata": {},
   "outputs": [],
   "source": [
    "model = TwoLayerNet(input_size=input_size,hidden_size=hidden_size,output_size=output_size)"
   ]
  },
  {
   "cell_type": "code",
   "execution_count": null,
   "id": "704d10e0-5fb6-42d1-8f19-0aaf9c135546",
   "metadata": {},
   "outputs": [],
   "source": [
    "%%time\n",
    "model.train(5,1e-5,X,t)"
   ]
  },
  {
   "cell_type": "code",
   "execution_count": 21,
   "id": "689abfbd-e53c-4764-b57f-b361d8320b00",
   "metadata": {},
   "outputs": [],
   "source": [
    "class TwoLayerNet:\n",
    "    def __init__(self,input_size,hidden_size,output_size):\n",
    "        self.W = {}\n",
    "        self.W['W1'] = np.random.randn(input_size,hidden_size)\n",
    "        self.W['b1'] = np.random.randn(hidden_size)\n",
    "        self.W['W2'] = np.random.randn(hidden_size,output_size)\n",
    "        self.W['b2'] = np.random.randn(output_size)\n",
    "        self.loss_val = []\n",
    "    \n",
    "    def predict(self,x):\n",
    "        W1 = self.W['W1']\n",
    "        W2 = self.W['W2']\n",
    "        b1 = self.W['b1']\n",
    "        b2 = self.W['b2']\n",
    "        \n",
    "        a1 = np.dot(x,W1) + b1 # 출력값\n",
    "        z1 = relu(a1)\n",
    "        a2 = np.dot(z1,W2) + b2\n",
    "        out = softmax(a2)\n",
    "        return out\n",
    "    \n",
    "    def loss(self,x,t):\n",
    "        y = self.predict(x)\n",
    "        loss = cross_entropy_error(y,t)\n",
    "        return loss\n",
    "\n",
    "    def numerical_gradient(self,x,t):\n",
    "        f = lambda W: self.loss(x,t)\n",
    "        \n",
    "        grads = {}\n",
    "        grads['W1'] = numerical_gradient(f, self.W['W1'])\n",
    "        grads['b1'] = numerical_gradient(f, self.W['b1'])\n",
    "        grads['W2'] = numerical_gradient(f, self.W['W2'])\n",
    "        grads['b2'] = numerical_gradient(f, self.W['b2'])\n",
    "        \n",
    "        return grads\n",
    "\n",
    "    \n",
    "    def accuracy(self,x,t):\n",
    "        y = self.predict(x)\n",
    "        y = np.argmax(y,axis=1)\n",
    "        t = np.argmax(t,axis=1)\n",
    "        acc = sum(y == t)/x.shape[0]\n",
    "        return acc\n",
    "    \n",
    "    def train(self,epochs,lr,x,t):\n",
    "        for epoch in range(epochs):\n",
    "            grads = self.numerical_gradient(x,t)\n",
    "            for key in grads.keys():\n",
    "                self.W[key] -= lr*grads[key]\n",
    "            self.loss_val.append(self.loss(x,t))"
   ]
  },
  {
   "cell_type": "code",
   "execution_count": null,
   "id": "6bc35652-72a8-4188-b545-3ab3703ff151",
   "metadata": {},
   "outputs": [],
   "source": []
  }
 ],
 "metadata": {
  "kernelspec": {
   "display_name": "Python 3 (ipykernel)",
   "language": "python",
   "name": "python3"
  },
  "language_info": {
   "codemirror_mode": {
    "name": "ipython",
    "version": 3
   },
   "file_extension": ".py",
   "mimetype": "text/x-python",
   "name": "python",
   "nbconvert_exporter": "python",
   "pygments_lexer": "ipython3",
   "version": "3.9.7"
  }
 },
 "nbformat": 4,
 "nbformat_minor": 5
}
