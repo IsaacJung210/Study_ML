{
 "cells": [
  {
   "cell_type": "code",
   "execution_count": 2,
   "id": "5bde9f3c-aea0-4ff0-ae8e-6c8b8a972d92",
   "metadata": {},
   "outputs": [],
   "source": [
    "character = {\n",
    "    \"name\" : \"기사\",\n",
    "    \"level\" : 12,\n",
    "    \"item\" : {\n",
    "        \"sword\" : \"불꽃의 검\",\n",
    "        'armor' : '풀플레이트'\n",
    "    },\n",
    "    \"skill\" : [\"베기\",'세게 베기','아주 세게 베기']    \n",
    "}"
   ]
  },
  {
   "cell_type": "code",
   "execution_count": 3,
   "id": "7c7eaa82-74b1-4d60-be46-58d72dc0ab7a",
   "metadata": {},
   "outputs": [
    {
     "name": "stdout",
     "output_type": "stream",
     "text": [
      "name : 기사\n",
      "level : 12\n",
      "sword : 불꽃의 검\n",
      "armor : 풀플레이트\n",
      "skill : 베기\n",
      "skill : 세게 베기\n",
      "skill : 아주 세게 베기\n"
     ]
    }
   ],
   "source": [
    "for key in character:\n",
    "    if type(character[key]) == str or type(character[key]) == int:\n",
    "        print(f'{key} : {character[key]}')\n",
    "    elif type(character[key]) == dict:\n",
    "        for k,v in character[key].items():\n",
    "            print(f'{k} : {v}')\n",
    "    elif type(character[key]) == list:\n",
    "        for i in character[key]:\n",
    "            print(f'skill : {i}')"
   ]
  },
  {
   "cell_type": "code",
   "execution_count": null,
   "id": "e0e49fff-e3e6-49ac-a54d-58646afb006d",
   "metadata": {},
   "outputs": [],
   "source": []
  }
 ],
 "metadata": {
  "kernelspec": {
   "display_name": "isaac",
   "language": "python",
   "name": "isaac"
  },
  "language_info": {
   "codemirror_mode": {
    "name": "ipython",
    "version": 3
   },
   "file_extension": ".py",
   "mimetype": "text/x-python",
   "name": "python",
   "nbconvert_exporter": "python",
   "pygments_lexer": "ipython3",
   "version": "3.7.11"
  }
 },
 "nbformat": 4,
 "nbformat_minor": 5
}
