{
 "cells": [
  {
   "cell_type": "code",
   "execution_count": 16,
   "id": "788afa2d-6df0-408d-806c-8139206f4748",
   "metadata": {},
   "outputs": [],
   "source": [
    "import numpy as np\n",
    "from activation import softmax, sigmoid, relu\n",
    "from loss import mse, cross_entropy_err\n",
    "from sklearn.datasets import fetch_openml\n",
    "mnist = fetch_openml('mnist_784')"
   ]
  },
  {
   "cell_type": "code",
   "execution_count": 17,
   "id": "2f8d5d14-635d-48c6-a75c-bd6560b57b10",
   "metadata": {},
   "outputs": [],
   "source": [
    "x = mnist['data']\n",
    "y = mnist['target']"
   ]
  },
  {
   "cell_type": "code",
   "execution_count": 18,
   "id": "547db8b7-cc12-41c2-bb8f-10f91b81911c",
   "metadata": {},
   "outputs": [
    {
     "name": "stderr",
     "output_type": "stream",
     "text": [
      "C:\\Users\\user\\AppData\\Local\\Temp/ipykernel_12340/3609945712.py:1: DeprecationWarning: `np.int` is a deprecated alias for the builtin `int`. To silence this warning, use `int` by itself. Doing this will not modify any behavior and is safe. When replacing `np.int`, you may wish to use e.g. `np.int64` or `np.int32` to specify the precision. If you wish to review your current use, check the release note link for additional information.\n",
      "Deprecated in NumPy 1.20; for more details and guidance: https://numpy.org/devdocs/release/1.20.0-notes.html#deprecations\n",
      "  y = y.astype(np.int)\n"
     ]
    }
   ],
   "source": [
    "y = y.astype(np.int)\n",
    "t = np.zeros((y.size,np.unique(y).size))"
   ]
  },
  {
   "cell_type": "code",
   "execution_count": 19,
   "id": "40e40791-aa7b-4cc5-a743-91bb648efa6c",
   "metadata": {},
   "outputs": [],
   "source": [
    "for i in range(y.size):\n",
    "    t[i,y[i]] = 1"
   ]
  },
  {
   "cell_type": "code",
   "execution_count": 20,
   "id": "642bb1d7-b049-4e26-a1d4-fbd8226cfc33",
   "metadata": {},
   "outputs": [],
   "source": [
    "def SimpleLayer(x,y):\n",
    "    W = np.random.randn(x,y)\n",
    "    b = np.random.randn(y)\n",
    "    network = {'W':W, 'b':b}\n",
    "    return network"
   ]
  },
  {
   "cell_type": "code",
   "execution_count": 21,
   "id": "10df3984-a406-47e7-952b-045a42a661ec",
   "metadata": {},
   "outputs": [],
   "source": [
    "def softmax(x):\n",
    "    c = np.max(x,axis=1).reshape(-1,1)\n",
    "    a = x - c\n",
    "    return np.exp(a)/np.sum(np.exp(a),axis=1).reshape(-1,1)"
   ]
  },
  {
   "cell_type": "code",
   "execution_count": 22,
   "id": "b8f2f45d-26c1-45a9-b3d1-642dee2785dd",
   "metadata": {},
   "outputs": [
    {
     "data": {
      "text/plain": [
       "array([[0.08629229, 0.69890051, 0.2148072 ],\n",
       "       [0.29649309, 0.52898046, 0.17452645],\n",
       "       [0.54104964, 0.11717086, 0.34177951],\n",
       "       [0.24333606, 0.30273515, 0.45392879]])"
      ]
     },
     "execution_count": 22,
     "metadata": {},
     "output_type": "execute_result"
    }
   ],
   "source": [
    "x = np.random.randn(4,3)\n",
    "softmax(x)"
   ]
  },
  {
   "cell_type": "code",
   "execution_count": 23,
   "id": "0126b9b8-9a3c-4d04-b93f-3861263f31ae",
   "metadata": {},
   "outputs": [
    {
     "data": {
      "text/plain": [
       "array([[-0.15241307],\n",
       "       [ 1.20597594],\n",
       "       [ 1.22331186],\n",
       "       [ 0.43601692]])"
      ]
     },
     "execution_count": 23,
     "metadata": {},
     "output_type": "execute_result"
    }
   ],
   "source": [
    "np.max(x,axis=1).reshape(-1,1)"
   ]
  },
  {
   "cell_type": "code",
   "execution_count": 24,
   "id": "7458d52a-1e7a-4682-8daa-59f59eaa4b0b",
   "metadata": {},
   "outputs": [],
   "source": [
    "init_network = SimpleLayer(x.shape[1],t.shape[1])"
   ]
  },
  {
   "cell_type": "code",
   "execution_count": 25,
   "id": "cdb8bd5f-b4e4-4c94-ae6d-80be0c3862de",
   "metadata": {},
   "outputs": [],
   "source": [
    "W, b = init_network['W'], init_network['b']"
   ]
  },
  {
   "cell_type": "code",
   "execution_count": 26,
   "id": "89aeaa35-e441-4bb3-ba03-c995943c1677",
   "metadata": {},
   "outputs": [],
   "source": [
    "y = softmax(np.dot(x,W)+b)"
   ]
  },
  {
   "cell_type": "code",
   "execution_count": 27,
   "id": "a594c559-20fb-43b4-9c39-3841c98bede7",
   "metadata": {},
   "outputs": [
    {
     "data": {
      "text/plain": [
       "array([[2.06719210e-03, 5.73645360e-02, 1.63437039e-03, 1.39799893e-03,\n",
       "        7.31024532e-03, 1.05655533e-03, 4.44690546e-03, 1.96640219e-03,\n",
       "        1.21735568e-06, 9.22754577e-01],\n",
       "       [9.31824178e-01, 1.93319697e-04, 3.67010697e-03, 1.46487743e-02,\n",
       "        4.79830004e-03, 1.23797302e-03, 2.15547699e-02, 8.33087036e-03,\n",
       "        1.31658385e-02, 5.75869532e-04],\n",
       "       [1.59008377e-01, 1.03392287e-03, 1.06420465e-01, 5.78420973e-01,\n",
       "        7.97744542e-03, 1.09845299e-02, 2.48115450e-03, 2.75639137e-02,\n",
       "        9.13265078e-02, 1.47827114e-02],\n",
       "       [3.02322948e-01, 1.61699826e-02, 1.25237951e-01, 2.97326614e-01,\n",
       "        3.22105248e-02, 1.86415029e-02, 1.51876162e-02, 4.19054789e-02,\n",
       "        8.89868660e-03, 1.42098694e-01]])"
      ]
     },
     "execution_count": 27,
     "metadata": {},
     "output_type": "execute_result"
    }
   ],
   "source": [
    "y"
   ]
  },
  {
   "cell_type": "code",
   "execution_count": 28,
   "id": "989bb418-451c-4023-bb4e-adc0a6a8cb84",
   "metadata": {},
   "outputs": [],
   "source": [
    "c = np.max(x,axis=1)"
   ]
  },
  {
   "cell_type": "code",
   "execution_count": 29,
   "id": "c4c90aa8-9105-45b1-95fd-0a9b74ee853b",
   "metadata": {},
   "outputs": [
    {
     "data": {
      "text/plain": [
       "array([-0.15241307,  1.20597594,  1.22331186,  0.43601692])"
      ]
     },
     "execution_count": 29,
     "metadata": {},
     "output_type": "execute_result"
    }
   ],
   "source": [
    "c"
   ]
  },
  {
   "cell_type": "code",
   "execution_count": 30,
   "id": "202af540-1c43-4153-a2d7-ce3a66d1b850",
   "metadata": {},
   "outputs": [
    {
     "ename": "ValueError",
     "evalue": "operands could not be broadcast together with shapes (70000,10) (4,10) ",
     "output_type": "error",
     "traceback": [
      "\u001b[1;31m---------------------------------------------------------------------------\u001b[0m",
      "\u001b[1;31mValueError\u001b[0m                                Traceback (most recent call last)",
      "\u001b[1;32m~\\AppData\\Local\\Temp/ipykernel_12340/2269725373.py\u001b[0m in \u001b[0;36m<module>\u001b[1;34m\u001b[0m\n\u001b[1;32m----> 1\u001b[1;33m \u001b[0mcross_entropy_err\u001b[0m\u001b[1;33m(\u001b[0m\u001b[0my\u001b[0m\u001b[1;33m,\u001b[0m\u001b[0mt\u001b[0m\u001b[1;33m)\u001b[0m\u001b[1;33m\u001b[0m\u001b[1;33m\u001b[0m\u001b[0m\n\u001b[0m",
      "\u001b[1;32mc:\\Users\\user\\Desktop\\공부\\이강욱강사님 수업\\쥬피터\\딥러닝\\day02\\loss.py\u001b[0m in \u001b[0;36mcross_entropy_err\u001b[1;34m(y, t)\u001b[0m\n\u001b[0;32m      8\u001b[0m \u001b[1;32mdef\u001b[0m \u001b[0mcross_entropy_err\u001b[0m\u001b[1;33m(\u001b[0m\u001b[0my\u001b[0m\u001b[1;33m,\u001b[0m \u001b[0mt\u001b[0m\u001b[1;33m)\u001b[0m\u001b[1;33m:\u001b[0m\u001b[1;33m\u001b[0m\u001b[1;33m\u001b[0m\u001b[0m\n\u001b[0;32m      9\u001b[0m     \u001b[0mdelta\u001b[0m \u001b[1;33m=\u001b[0m \u001b[1;36m1e-7\u001b[0m\u001b[1;33m\u001b[0m\u001b[1;33m\u001b[0m\u001b[0m\n\u001b[1;32m---> 10\u001b[1;33m     \u001b[1;32mreturn\u001b[0m \u001b[1;33m-\u001b[0m\u001b[0mnp\u001b[0m\u001b[1;33m.\u001b[0m\u001b[0msum\u001b[0m\u001b[1;33m(\u001b[0m\u001b[0mt\u001b[0m\u001b[1;33m*\u001b[0m\u001b[0mnp\u001b[0m\u001b[1;33m.\u001b[0m\u001b[0mlog\u001b[0m\u001b[1;33m(\u001b[0m\u001b[0my\u001b[0m\u001b[1;33m+\u001b[0m\u001b[0mdelta\u001b[0m\u001b[1;33m)\u001b[0m\u001b[1;33m)\u001b[0m \u001b[1;33m/\u001b[0m \u001b[0my\u001b[0m\u001b[1;33m.\u001b[0m\u001b[0mshape\u001b[0m\u001b[1;33m[\u001b[0m\u001b[1;36m0\u001b[0m\u001b[1;33m]\u001b[0m\u001b[1;33m\u001b[0m\u001b[1;33m\u001b[0m\u001b[0m\n\u001b[0m",
      "\u001b[1;31mValueError\u001b[0m: operands could not be broadcast together with shapes (70000,10) (4,10) "
     ]
    }
   ],
   "source": [
    "cross_entropy_err(y,t)"
   ]
  },
  {
   "cell_type": "code",
   "execution_count": null,
   "id": "e725b10b-8f71-4874-b348-46ce8532984a",
   "metadata": {},
   "outputs": [
    {
     "data": {
      "text/plain": [
       "(70000, 10)"
      ]
     },
     "execution_count": 61,
     "metadata": {},
     "output_type": "execute_result"
    }
   ],
   "source": [
    "np.dot(x,init_network['W']).shape"
   ]
  },
  {
   "cell_type": "code",
   "execution_count": null,
   "id": "bd652981-c888-4475-8328-800cac066f32",
   "metadata": {},
   "outputs": [
    {
     "data": {
      "text/plain": [
       "array([13])"
      ]
     },
     "execution_count": 18,
     "metadata": {},
     "output_type": "execute_result"
    }
   ],
   "source": [
    "np.random.randint(10,100,1)"
   ]
  },
  {
   "cell_type": "code",
   "execution_count": null,
   "id": "2aed6b6b-305d-4712-b552-66f3be7488dd",
   "metadata": {},
   "outputs": [
    {
     "data": {
      "text/plain": [
       "(70000, 10)"
      ]
     },
     "execution_count": 39,
     "metadata": {},
     "output_type": "execute_result"
    }
   ],
   "source": [
    "init_network['W'].shape"
   ]
  },
  {
   "cell_type": "code",
   "execution_count": null,
   "id": "33cf6f85-eb39-4998-a968-2a46f59b9355",
   "metadata": {},
   "outputs": [],
   "source": [
    "def cross_entropy_error(y, t):\n",
    "    if y.ndim == 1:\n",
    "        t = t.reshape(1, t.size)\n",
    "        y = y.reshape(1, y.size)\n",
    "        \n",
    "    if t.size == y.size:\n",
    "        t = t.argmax(axis=1)\n",
    "             \n",
    "    batch_size = y.shape[0]\n",
    "    return -np.sum(np.log(y+ 1e-7)) / batch_size\n"
   ]
  },
  {
   "cell_type": "code",
   "execution_count": null,
   "id": "290fc1a0-b51d-464b-aaa0-26fed2ecb3a0",
   "metadata": {},
   "outputs": [
    {
     "data": {
      "text/plain": [
       "1015035.0907345656"
      ]
     },
     "execution_count": 93,
     "metadata": {},
     "output_type": "execute_result"
    }
   ],
   "source": [
    "cross_entropy_error(y,t)"
   ]
  },
  {
   "cell_type": "code",
   "execution_count": null,
   "id": "7006d8eb-23b1-460b-9643-07bd15826526",
   "metadata": {},
   "outputs": [
    {
     "data": {
      "text/plain": [
       "(10, 70000)"
      ]
     },
     "execution_count": 95,
     "metadata": {},
     "output_type": "execute_result"
    }
   ],
   "source": [
    "y.shape"
   ]
  },
  {
   "cell_type": "code",
   "execution_count": null,
   "id": "ed1e5d32-a899-4670-ae1c-fae792921691",
   "metadata": {},
   "outputs": [],
   "source": [
    "def fx(x):\n",
    "    return x**3 - 3*x**2 + 3"
   ]
  },
  {
   "cell_type": "code",
   "execution_count": null,
   "id": "f7703c5c-d12f-4ef2-865c-ebf78342ff8e",
   "metadata": {},
   "outputs": [],
   "source": [
    "def _diff(f,x):\n",
    "    h = 1e-5\n",
    "    fx = f\n",
    "    return (fx(x+h)-fx(x))/h"
   ]
  },
  {
   "cell_type": "code",
   "execution_count": null,
   "id": "186e6808-684f-4805-8194-20ac36a2f0dc",
   "metadata": {},
   "outputs": [
    {
     "data": {
      "text/plain": [
       "array([-3.00000000e+00,  3.00001801e-05,  9.00006000e+00])"
      ]
     },
     "execution_count": 147,
     "metadata": {},
     "output_type": "execute_result"
    }
   ],
   "source": [
    "_diff(fx,np.array([1,2,3]))"
   ]
  },
  {
   "cell_type": "code",
   "execution_count": null,
   "id": "c44256b2-23f7-4f1b-bcdc-a34bb3e9b71b",
   "metadata": {},
   "outputs": [],
   "source": [
    "def cross_entropy_err(y,t):\n",
    "    delta = 1e-7\n",
    "    return np.sum(-np.sum(t*np.log(y+delta)))/y.size"
   ]
  },
  {
   "cell_type": "code",
   "execution_count": null,
   "id": "b7c84b9d-dfe8-4fab-ae8e-0297e166c730",
   "metadata": {},
   "outputs": [
    {
     "data": {
      "text/plain": [
       "[<matplotlib.lines.Line2D at 0x7f5305e1f7f0>]"
      ]
     },
     "execution_count": 146,
     "metadata": {},
     "output_type": "execute_result"
    },
    {
     "data": {
      "image/png": "[encoded data removed]",
      "text/plain": [
       "<Figure size 432x288 with 1 Axes>"
      ]
     },
     "metadata": {
      "needs_background": "light"
     },
     "output_type": "display_data"
    }
   ],
   "source": [
    "import matplotlib.pyplot as plt\n",
    "x = np.arange(0,10,0.1)\n",
    "y1 = fx(x)\n",
    "\n",
    "plt.plot(x,y)"
   ]
  },
  {
   "cell_type": "code",
   "execution_count": null,
   "id": "ebbadd90-ef40-41c9-afca-4416a9d8bba6",
   "metadata": {},
   "outputs": [],
   "source": [
    "def _diff2(x)"
   ]
  },
  {
   "cell_type": "code",
   "execution_count": null,
   "id": "bd4d594b-808a-4422-9545-a1849c43c918",
   "metadata": {},
   "outputs": [],
   "source": []
  }
 ],
 "metadata": {
  "kernelspec": {
   "display_name": "Python 3 (ipykernel)",
   "language": "python",
   "name": "python3"
  },
  "language_info": {
   "codemirror_mode": {
    "name": "ipython",
    "version": 3
   },
   "file_extension": ".py",
   "mimetype": "text/x-python",
   "name": "python",
   "nbconvert_exporter": "python",
   "pygments_lexer": "ipython3",
   "version": "3.9.7"
  }
 },
 "nbformat": 4,
 "nbformat_minor": 5
}
