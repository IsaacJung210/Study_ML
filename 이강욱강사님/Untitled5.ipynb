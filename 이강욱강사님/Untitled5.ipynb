{
 "cells": [
  {
   "cell_type": "code",
   "execution_count": 1,
   "id": "02ce87d5-4976-4847-9923-3b5d4b5f15be",
   "metadata": {},
   "outputs": [],
   "source": [
    "# 필요모듈 임포트\n",
    "import pandas as pd                                    #데이터를 이용시\n",
    "from dash import Dash, dcc, html, Input, Output, State #웹을 만들때 필요\n",
    "import plotly.express as px                            #그래프를 만들때 필요\n",
    "import pymysql                                         #데이터를 연결해주는 역할\n",
    "from sqlalchemy import create_engine,text              #서버 연결시 필요"
   ]
  },
  {
   "cell_type": "code",
   "execution_count": 2,
   "id": "22a1ddf7-3f79-4d65-b80a-b7a10b05ecc0",
   "metadata": {},
   "outputs": [],
   "source": [
    "##데이터베이스 연결\n",
    "#접속정보\n",
    "user = \"bigdata\"\n",
    "password = 'Bigdata123!!'\n",
    "host = '192.168.56.101'\n",
    "port = '3306'\n",
    "db = 'SampleDB'\n",
    "\n",
    "#접속 스크립트\n",
    "conn_script = f'mysql+pymysql://{user}:{password}@{host}:{port}/{db}'\n",
    "#connection instance\n",
    "engine = create_engine(conn_script)\n",
    "conn = engine.connect()"
   ]
  },
  {
   "cell_type": "code",
   "execution_count": 12,
   "id": "745c27d5-f5a1-406e-ba8f-24008fbb419d",
   "metadata": {},
   "outputs": [],
   "source": [
    "country = pd.read_sql('select distinct country from world',conn)\n",
    "country = country.loc[:,\"country\"].to_list()\n",
    "country = list(set(country))  #set 중복 제거"
   ]
  },
  {
   "cell_type": "code",
   "execution_count": 13,
   "id": "3c98befa-51f2-471a-b833-233313a76d2a",
   "metadata": {},
   "outputs": [],
   "source": [
    "## dash application 구성 (front end)\n",
    "app = Dash(__name__) \n",
    "app.layout = html.Div(    \n",
    "    [\n",
    "        html.H4(\"년도별 인구수 변화\"),\n",
    "        dcc.RadioItems(id=\"radio-items\",\n",
    "                       options = ['라인그래프','막대그래프','파이그래프'], \n",
    "                       value = \"라인그래프\",\n",
    "                       inline = True\n",
    "                       ),\n",
    "        dcc.Dropdown(id=\"dropdown-items\",\n",
    "                     options = [{\"label\":i, \"value\":i} for i in country]),\n",
    "        html.Hr(),\n",
    "        dcc.Graph(id=\"plot-graph\")\n",
    "    ]\n",
    ")\n"
   ]
  },
  {
   "cell_type": "code",
   "execution_count": 14,
   "id": "955b004a-a0e3-4d5a-9f06-e3e84dd40d9c",
   "metadata": {},
   "outputs": [],
   "source": [
    "## backend\n",
    "@app.callback(\n",
    "    Output(\"plot-graph\",\"figure\"),\n",
    "    Input(\"radio-items\",\"value\"),\n",
    ")\n",
    "def update_graph(graph_type):\n",
    "    df = pd.read_sql('select year, sum(pop) as pop from world group by year',conn)\n",
    "    if graph_type == \"라인그래프\":\n",
    "        fig = px.line(df,x='year',y='pop')\n",
    "    elif graph_type == \"막대그래프\":\n",
    "        fig = px.bar(df,x='year',y='pop')\n",
    "    else:\n",
    "        fig = px.pie(df,values=\"pop\",names=\"year\")\n",
    "    return fig   "
   ]
  },
  {
   "cell_type": "code",
   "execution_count": 15,
   "id": "1f0f163e-40e6-4471-af3e-c81f68c1cfc6",
   "metadata": {},
   "outputs": [
    {
     "name": "stdout",
     "output_type": "stream",
     "text": [
      "Dash is running on http://192.168.56.101:7777/\n",
      "\n",
      "Dash is running on http://192.168.56.101:7777/\n",
      "\n",
      " * Serving Flask app \"__main__\" (lazy loading)\n",
      " * Environment: production\n",
      "\u001b[31m   WARNING: This is a development server. Do not use it in a production deployment.\u001b[0m\n",
      "\u001b[2m   Use a production WSGI server instead.\u001b[0m\n",
      " * Debug mode: off\n"
     ]
    },
    {
     "name": "stderr",
     "output_type": "stream",
     "text": [
      " * Running on http://192.168.56.101:7777/ (Press CTRL+C to quit)\n",
      "192.168.56.1 - - [18/Feb/2022 17:23:51] \"GET / HTTP/1.1\" 200 -\n",
      "192.168.56.1 - - [18/Feb/2022 17:23:51] \"GET /_dash-layout HTTP/1.1\" 200 -\n",
      "192.168.56.1 - - [18/Feb/2022 17:23:51] \"GET /_dash-dependencies HTTP/1.1\" 200 -\n",
      "192.168.56.1 - - [18/Feb/2022 17:23:51] \"GET /_dash-component-suites/dash/dcc/async-dropdown.js HTTP/1.1\" 200 -\n",
      "192.168.56.1 - - [18/Feb/2022 17:23:51] \"GET /_dash-component-suites/dash/dcc/async-plotlyjs.js HTTP/1.1\" 200 -\n",
      "192.168.56.1 - - [18/Feb/2022 17:23:51] \"GET /_dash-component-suites/dash/dcc/async-graph.js HTTP/1.1\" 200 -\n",
      "192.168.56.1 - - [18/Feb/2022 17:23:51] \"POST /_dash-update-component HTTP/1.1\" 200 -\n",
      "192.168.56.1 - - [18/Feb/2022 17:23:52] \"POST /_dash-update-component HTTP/1.1\" 200 -\n",
      "192.168.56.1 - - [18/Feb/2022 17:23:53] \"POST /_dash-update-component HTTP/1.1\" 200 -\n",
      "192.168.56.1 - - [18/Feb/2022 17:23:54] \"POST /_dash-update-component HTTP/1.1\" 200 -\n"
     ]
    }
   ],
   "source": [
    "## 서버구동\n",
    "\n",
    "app.run_server(host=host,port=7777)"
   ]
  },
  {
   "cell_type": "code",
   "execution_count": null,
   "id": "2e19830b-6746-4a12-aa79-55404928add1",
   "metadata": {},
   "outputs": [],
   "source": []
  }
 ],
 "metadata": {
  "kernelspec": {
   "display_name": "Python 3 (ipykernel)",
   "language": "python",
   "name": "python3"
  },
  "language_info": {
   "codemirror_mode": {
    "name": "ipython",
    "version": 3
   },
   "file_extension": ".py",
   "mimetype": "text/x-python",
   "name": "python",
   "nbconvert_exporter": "python",
   "pygments_lexer": "ipython3",
   "version": "3.9.7"
  }
 },
 "nbformat": 4,
 "nbformat_minor": 5
}
