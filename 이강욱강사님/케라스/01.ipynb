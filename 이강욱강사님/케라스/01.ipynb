{
 "cells": [
  {
   "cell_type": "code",
   "execution_count": 50,
   "id": "e5879335-2469-48d6-a1ef-48f6865552c7",
   "metadata": {},
   "outputs": [],
   "source": [
    "import numpy as np\n",
    "from keras.layers import Dense\n",
    "from keras.models import Sequential\n",
    "import tensorflow as tf\n",
    "from keras.datasets import mnist\n",
    "from tensorflow.keras.utils import to_categorical\n",
    "from sklearn.model_selection import train_test_split"
   ]
  },
  {
   "cell_type": "code",
   "execution_count": 51,
   "id": "b72a00db",
   "metadata": {},
   "outputs": [],
   "source": [
    "(X_train, y_train), (X_test,y_test) = mnist.load_data()\n",
    "X_train, X_val, y_train, y_val = train_test_split(X_train,y_train,test_size=0.2)\n",
    "y_train = to_categorical(y_train)\n",
    "y_val = to_categorical(y_val)\n",
    "y_test = to_categorical(y_test)"
   ]
  },
  {
   "cell_type": "code",
   "execution_count": 52,
   "id": "6a4904bb",
   "metadata": {},
   "outputs": [],
   "source": [
    "X_train = X_train.reshape(-1,28*28)\n",
    "X_val = X_val.reshape(-1,28*28)\n",
    "X_test = X_test.reshape(-1,28*28)\n",
    "\n",
    "input_shape = X_train.shape[1]\n",
    "output_shape = y_train.shape[1]\n",
    "network = Sequential()\n",
    "network.add(Dense(512, activation='relu', input_shape=(input_shape,)))\n",
    "network.add(Dense(256, activation='sigmoid'))\n",
    "network.add(Dense(256, activation='tanh'))\n",
    "network.add(Dense(output_shape, activation='softmax'))"
   ]
  },
  {
   "cell_type": "code",
   "execution_count": 53,
   "id": "74b58771",
   "metadata": {},
   "outputs": [],
   "source": [
    "opt = 'rmsprop'\n",
    "loss = 'categorical_crossentropy'\n",
    "metrics = ['accuracy']\n",
    "network.compile(optimizer=opt,\n",
    "                loss=loss,\n",
    "                metrics=metrics)"
   ]
  },
  {
   "cell_type": "code",
   "execution_count": 54,
   "id": "ee00076f",
   "metadata": {},
   "outputs": [
    {
     "name": "stdout",
     "output_type": "stream",
     "text": [
      "Model: \"sequential_3\"\n",
      "_________________________________________________________________\n",
      " Layer (type)                Output Shape              Param #   \n",
      "=================================================================\n",
      " dense_10 (Dense)            (None, 512)               401920    \n",
      "                                                                 \n",
      " dense_11 (Dense)            (None, 256)               131328    \n",
      "                                                                 \n",
      " dense_12 (Dense)            (None, 256)               65792     \n",
      "                                                                 \n",
      " dense_13 (Dense)            (None, 10)                2570      \n",
      "                                                                 \n",
      "=================================================================\n",
      "Total params: 601,610\n",
      "Trainable params: 601,610\n",
      "Non-trainable params: 0\n",
      "_________________________________________________________________\n"
     ]
    }
   ],
   "source": [
    "network.summary()"
   ]
  },
  {
   "cell_type": "code",
   "execution_count": 55,
   "id": "14b75cbf",
   "metadata": {},
   "outputs": [
    {
     "name": "stdout",
     "output_type": "stream",
     "text": [
      "Epoch 1/10\n",
      "240/240 [==============================] - 3s 11ms/step - loss: 0.4666 - accuracy: 0.8585 - val_loss: 0.2584 - val_accuracy: 0.9209\n",
      "Epoch 2/10\n",
      "240/240 [==============================] - 2s 9ms/step - loss: 0.2617 - accuracy: 0.9185 - val_loss: 0.2194 - val_accuracy: 0.9311\n",
      "Epoch 3/10\n",
      "240/240 [==============================] - 2s 9ms/step - loss: 0.2307 - accuracy: 0.9309 - val_loss: 0.1978 - val_accuracy: 0.9373\n",
      "Epoch 4/10\n",
      "240/240 [==============================] - 2s 9ms/step - loss: 0.2198 - accuracy: 0.9330 - val_loss: 0.2824 - val_accuracy: 0.9133\n",
      "Epoch 5/10\n",
      "240/240 [==============================] - 2s 9ms/step - loss: 0.2054 - accuracy: 0.9377 - val_loss: 0.2111 - val_accuracy: 0.9358\n",
      "Epoch 6/10\n",
      "240/240 [==============================] - 2s 9ms/step - loss: 0.1870 - accuracy: 0.9438 - val_loss: 0.1868 - val_accuracy: 0.9422\n",
      "Epoch 7/10\n",
      "240/240 [==============================] - 2s 10ms/step - loss: 0.1735 - accuracy: 0.9473 - val_loss: 0.1655 - val_accuracy: 0.9487\n",
      "Epoch 8/10\n",
      "240/240 [==============================] - 2s 8ms/step - loss: 0.1662 - accuracy: 0.9484 - val_loss: 0.1743 - val_accuracy: 0.9456\n",
      "Epoch 9/10\n",
      "240/240 [==============================] - 2s 8ms/step - loss: 0.1538 - accuracy: 0.9523 - val_loss: 0.1734 - val_accuracy: 0.9479\n",
      "Epoch 10/10\n",
      "240/240 [==============================] - 2s 9ms/step - loss: 0.1440 - accuracy: 0.9550 - val_loss: 0.1398 - val_accuracy: 0.9578\n"
     ]
    },
    {
     "data": {
      "text/plain": [
       "<keras.callbacks.History at 0x1d9ec1b6fd0>"
      ]
     },
     "execution_count": 55,
     "metadata": {},
     "output_type": "execute_result"
    }
   ],
   "source": [
    "epochs = 10\n",
    "batch_size = 200\n",
    "network.fit(X_train,\n",
    "          y_train,\n",
    "          epochs = epochs,\n",
    "          batch_size  = batch_size,\n",
    "          validation_data = (X_val,y_val))"
   ]
  },
  {
   "cell_type": "code",
   "execution_count": 56,
   "id": "72a260d1",
   "metadata": {},
   "outputs": [
    {
     "name": "stdout",
     "output_type": "stream",
     "text": [
      "313/313 [==============================] - 0s 1ms/step - loss: 0.1576 - accuracy: 0.9505\n"
     ]
    },
    {
     "data": {
      "text/plain": [
       "0.9505000114440918"
      ]
     },
     "execution_count": 56,
     "metadata": {},
     "output_type": "execute_result"
    }
   ],
   "source": [
    "network.evaluate(X_test,y_test)[1]"
   ]
  },
  {
   "cell_type": "code",
   "execution_count": 57,
   "id": "5fcdc492",
   "metadata": {},
   "outputs": [],
   "source": [
    "from keras.datasets import imdb"
   ]
  },
  {
   "cell_type": "code",
   "execution_count": 58,
   "id": "6170f120",
   "metadata": {},
   "outputs": [],
   "source": [
    "(X_train, y_train), (X_test,y_test) = imdb.load_data(num_words=10000)"
   ]
  },
  {
   "cell_type": "code",
   "execution_count": 59,
   "id": "c7358237",
   "metadata": {},
   "outputs": [
    {
     "data": {
      "text/plain": [
       "array([1, 1, 1, ..., 1, 1, 1])"
      ]
     },
     "execution_count": 59,
     "metadata": {},
     "output_type": "execute_result"
    }
   ],
   "source": [
    "np.apply_along_axis(len,1,X_train.reshape(-1,1))"
   ]
  },
  {
   "cell_type": "code",
   "execution_count": 60,
   "id": "37a8767b",
   "metadata": {},
   "outputs": [
    {
     "data": {
      "text/plain": [
       "0        218\n",
       "1        189\n",
       "2        141\n",
       "3        550\n",
       "4        147\n",
       "        ... \n",
       "24995    180\n",
       "24996    328\n",
       "24997    184\n",
       "24998    150\n",
       "24999    153\n",
       "Length: 25000, dtype: int64"
      ]
     },
     "execution_count": 60,
     "metadata": {},
     "output_type": "execute_result"
    }
   ],
   "source": [
    "import pandas as pd\n",
    "pd.Series(X_train).apply(len)"
   ]
  },
  {
   "cell_type": "markdown",
   "id": "5a62a399",
   "metadata": {},
   "source": [
    "##### 중복값 확인"
   ]
  },
  {
   "cell_type": "code",
   "execution_count": 61,
   "id": "88ee533a",
   "metadata": {},
   "outputs": [
    {
     "name": "stdout",
     "output_type": "stream",
     "text": [
      "120\n",
      "218\n"
     ]
    }
   ],
   "source": [
    "print(np.unique(np.array(X_train[0])).size)\n",
    "print(len(X_train[0]))"
   ]
  },
  {
   "cell_type": "markdown",
   "id": "abbd8f8c",
   "metadata": {},
   "source": [
    "#### 확인결과 중복값 있음"
   ]
  },
  {
   "cell_type": "code",
   "execution_count": 62,
   "id": "1b1f6a78",
   "metadata": {},
   "outputs": [
    {
     "data": {
      "text/plain": [
       "9999"
      ]
     },
     "execution_count": 62,
     "metadata": {},
     "output_type": "execute_result"
    }
   ],
   "source": [
    "max([max(sequence) for sequence in X_train])"
   ]
  },
  {
   "cell_type": "code",
   "execution_count": 63,
   "id": "38b3c5dc",
   "metadata": {},
   "outputs": [],
   "source": [
    "word_index = imdb.get_word_index()"
   ]
  },
  {
   "cell_type": "code",
   "execution_count": 64,
   "id": "ef8ba0ab",
   "metadata": {},
   "outputs": [],
   "source": [
    "index_word = { v:k for k,v in word_index.items()}"
   ]
  },
  {
   "cell_type": "code",
   "execution_count": 65,
   "id": "e3a9e7b5",
   "metadata": {},
   "outputs": [
    {
     "data": {
      "text/plain": [
       "'of'"
      ]
     },
     "execution_count": 65,
     "metadata": {},
     "output_type": "execute_result"
    }
   ],
   "source": [
    "index_word[4]"
   ]
  },
  {
   "cell_type": "code",
   "execution_count": 66,
   "id": "7b92f91b",
   "metadata": {},
   "outputs": [],
   "source": [
    "X_train_word = []\n",
    "for i in X_train[0]:\n",
    "    X_train_word.append(index_word[i])"
   ]
  },
  {
   "cell_type": "code",
   "execution_count": 67,
   "id": "54db0bd3",
   "metadata": {},
   "outputs": [
    {
     "data": {
      "text/plain": [
       "['the',\n",
       " 'as',\n",
       " 'you',\n",
       " 'with',\n",
       " 'out',\n",
       " 'themselves',\n",
       " 'powerful',\n",
       " 'lets',\n",
       " 'loves',\n",
       " 'their',\n",
       " 'becomes',\n",
       " 'reaching',\n",
       " 'had',\n",
       " 'journalist',\n",
       " 'of',\n",
       " 'lot',\n",
       " 'from',\n",
       " 'anyone',\n",
       " 'to',\n",
       " 'have',\n",
       " 'after',\n",
       " 'out',\n",
       " 'atmosphere',\n",
       " 'never',\n",
       " 'more',\n",
       " 'room',\n",
       " 'and',\n",
       " 'it',\n",
       " 'so',\n",
       " 'heart',\n",
       " 'shows',\n",
       " 'to',\n",
       " 'years',\n",
       " 'of',\n",
       " 'every',\n",
       " 'never',\n",
       " 'going',\n",
       " 'and',\n",
       " 'help',\n",
       " 'moments',\n",
       " 'or',\n",
       " 'of',\n",
       " 'every',\n",
       " 'chest',\n",
       " 'visual',\n",
       " 'movie',\n",
       " 'except',\n",
       " 'her',\n",
       " 'was',\n",
       " 'several',\n",
       " 'of',\n",
       " 'enough',\n",
       " 'more',\n",
       " 'with',\n",
       " 'is',\n",
       " 'now',\n",
       " 'current',\n",
       " 'film',\n",
       " 'as',\n",
       " 'you',\n",
       " 'of',\n",
       " 'mine',\n",
       " 'potentially',\n",
       " 'unfortunately',\n",
       " 'of',\n",
       " 'you',\n",
       " 'than',\n",
       " 'him',\n",
       " 'that',\n",
       " 'with',\n",
       " 'out',\n",
       " 'themselves',\n",
       " 'her',\n",
       " 'get',\n",
       " 'for',\n",
       " 'was',\n",
       " 'camp',\n",
       " 'of',\n",
       " 'you',\n",
       " 'movie',\n",
       " 'sometimes',\n",
       " 'movie',\n",
       " 'that',\n",
       " 'with',\n",
       " 'scary',\n",
       " 'but',\n",
       " 'and',\n",
       " 'to',\n",
       " 'story',\n",
       " 'wonderful',\n",
       " 'that',\n",
       " 'in',\n",
       " 'seeing',\n",
       " 'in',\n",
       " 'character',\n",
       " 'to',\n",
       " 'of',\n",
       " '70s',\n",
       " 'musicians',\n",
       " 'with',\n",
       " 'heart',\n",
       " 'had',\n",
       " 'shadows',\n",
       " 'they',\n",
       " 'of',\n",
       " 'here',\n",
       " 'that',\n",
       " 'with',\n",
       " 'her',\n",
       " 'serious',\n",
       " 'to',\n",
       " 'have',\n",
       " 'does',\n",
       " 'when',\n",
       " 'from',\n",
       " 'why',\n",
       " 'what',\n",
       " 'have',\n",
       " 'critics',\n",
       " 'they',\n",
       " 'is',\n",
       " 'you',\n",
       " 'that',\n",
       " \"isn't\",\n",
       " 'one',\n",
       " 'will',\n",
       " 'very',\n",
       " 'to',\n",
       " 'as',\n",
       " 'itself',\n",
       " 'with',\n",
       " 'other',\n",
       " 'and',\n",
       " 'in',\n",
       " 'of',\n",
       " 'seen',\n",
       " 'over',\n",
       " 'landed',\n",
       " 'for',\n",
       " 'anyone',\n",
       " 'of',\n",
       " 'and',\n",
       " 'br',\n",
       " \"show's\",\n",
       " 'to',\n",
       " 'whether',\n",
       " 'from',\n",
       " 'than',\n",
       " 'out',\n",
       " 'themselves',\n",
       " 'history',\n",
       " 'he',\n",
       " 'name',\n",
       " 'half',\n",
       " 'some',\n",
       " 'br',\n",
       " 'of',\n",
       " 'and',\n",
       " 'odd',\n",
       " 'was',\n",
       " 'two',\n",
       " 'most',\n",
       " 'of',\n",
       " 'mean',\n",
       " 'for',\n",
       " '1',\n",
       " 'any',\n",
       " 'an',\n",
       " 'boat',\n",
       " 'she',\n",
       " 'he',\n",
       " 'should',\n",
       " 'is',\n",
       " 'thought',\n",
       " 'frog',\n",
       " 'but',\n",
       " 'of',\n",
       " 'script',\n",
       " 'you',\n",
       " 'not',\n",
       " 'while',\n",
       " 'history',\n",
       " 'he',\n",
       " 'heart',\n",
       " 'to',\n",
       " 'real',\n",
       " 'at',\n",
       " 'barrel',\n",
       " 'but',\n",
       " 'when',\n",
       " 'from',\n",
       " 'one',\n",
       " 'bit',\n",
       " 'then',\n",
       " 'have',\n",
       " 'two',\n",
       " 'of',\n",
       " 'script',\n",
       " 'their',\n",
       " 'with',\n",
       " 'her',\n",
       " 'nobody',\n",
       " 'most',\n",
       " 'that',\n",
       " 'with',\n",
       " \"wasn't\",\n",
       " 'to',\n",
       " 'with',\n",
       " 'armed',\n",
       " 'acting',\n",
       " 'watch',\n",
       " 'an',\n",
       " 'for',\n",
       " 'with',\n",
       " 'heartfelt',\n",
       " 'film',\n",
       " 'want',\n",
       " 'an']"
      ]
     },
     "execution_count": 67,
     "metadata": {},
     "output_type": "execute_result"
    }
   ],
   "source": [
    "X_train_word"
   ]
  },
  {
   "cell_type": "code",
   "execution_count": 68,
   "id": "5672b448",
   "metadata": {},
   "outputs": [],
   "source": [
    "import numpy as np\n",
    "\n",
    "def vectorize_sequences(sequences, dimension=10000):\n",
    "    # 크기가 (len(sequences), dimension))이고 모든 원소가 0인 행렬을 만듭니다\n",
    "    results = np.zeros((len(sequences), dimension))\n",
    "    for i, sequence in enumerate(sequences):\n",
    "        results[i, sequence] = 1.  # results[i]에서 특정 인덱스의 위치를 1로 만듭니다\n",
    "    return results"
   ]
  },
  {
   "cell_type": "code",
   "execution_count": 69,
   "id": "22a85405",
   "metadata": {},
   "outputs": [],
   "source": [
    "X_train = vectorize_sequences(X_train)\n",
    "X_test = vectorize_sequences(X_test)"
   ]
  },
  {
   "cell_type": "code",
   "execution_count": 70,
   "id": "40c04f35",
   "metadata": {},
   "outputs": [],
   "source": [
    "X_train, X_val, y_train, y_val = train_test_split(X_train, y_train)"
   ]
  },
  {
   "cell_type": "code",
   "execution_count": 71,
   "id": "fec4f489",
   "metadata": {},
   "outputs": [
    {
     "name": "stdout",
     "output_type": "stream",
     "text": [
      "(18750, 10000)\n",
      "(6250, 10000)\n",
      "(25000, 10000)\n",
      "(18750,)\n",
      "(6250,)\n",
      "(25000,)\n"
     ]
    }
   ],
   "source": [
    "print(X_train.shape)\n",
    "print(X_val.shape)\n",
    "print(X_test.shape)\n",
    "print(y_train.shape)\n",
    "print(y_val.shape)\n",
    "print(y_test.shape)"
   ]
  },
  {
   "cell_type": "code",
   "execution_count": 72,
   "id": "1f5a81f4",
   "metadata": {},
   "outputs": [],
   "source": [
    "y_train = y_train.reshape(-1,1)\n",
    "y_test = y_test.reshape(-1,1)\n",
    "y_val = y_val.reshape(-1,1)\n"
   ]
  },
  {
   "cell_type": "code",
   "execution_count": 73,
   "id": "ace94837",
   "metadata": {},
   "outputs": [],
   "source": [
    "input_shape = X_train.shape[1]\n",
    "output_shape = y_train.shape[1]"
   ]
  },
  {
   "cell_type": "code",
   "execution_count": 74,
   "id": "02ab21ea",
   "metadata": {},
   "outputs": [],
   "source": [
    "model = Sequential()\n",
    "model.add(Dense(100,activation='sigmoid',input_shape = (input_shape,)))\n",
    "model.add(Dense(28,activation='tanh'))\n",
    "model.add(Dense(20,activation='relu'))\n",
    "model.add(Dense(output_shape,activation='sigmoid'))"
   ]
  },
  {
   "cell_type": "code",
   "execution_count": 82,
   "id": "c94d99c2",
   "metadata": {},
   "outputs": [],
   "source": [
    "opt='adam'\n",
    "# loss='binary_crossentropy'/\n",
    "loss = 'mse'\n",
    "metrics=['accuracy']\n",
    "model.compile(optimizer = opt,\n",
    "              loss = loss,\n",
    "              metrics = metrics)"
   ]
  },
  {
   "cell_type": "code",
   "execution_count": 83,
   "id": "c41c343e",
   "metadata": {},
   "outputs": [
    {
     "name": "stdout",
     "output_type": "stream",
     "text": [
      "Epoch 1/100\n",
      "63/63 [==============================] - 1s 11ms/step - loss: 4.0332e-10 - accuracy: 1.0000 - val_loss: 0.1368 - val_accuracy: 0.8592\n",
      "Epoch 2/100\n",
      "63/63 [==============================] - 1s 10ms/step - loss: 3.9091e-10 - accuracy: 1.0000 - val_loss: 0.1368 - val_accuracy: 0.8592\n",
      "Epoch 3/100\n",
      "63/63 [==============================] - 1s 10ms/step - loss: 3.7223e-10 - accuracy: 1.0000 - val_loss: 0.1368 - val_accuracy: 0.8594\n",
      "Epoch 4/100\n",
      "63/63 [==============================] - 1s 10ms/step - loss: 3.5190e-10 - accuracy: 1.0000 - val_loss: 0.1369 - val_accuracy: 0.8594\n",
      "Epoch 5/100\n",
      "63/63 [==============================] - 1s 10ms/step - loss: 3.3017e-10 - accuracy: 1.0000 - val_loss: 0.1369 - val_accuracy: 0.8592\n",
      "Epoch 6/100\n",
      "63/63 [==============================] - 1s 10ms/step - loss: 3.0891e-10 - accuracy: 1.0000 - val_loss: 0.1369 - val_accuracy: 0.8590\n",
      "Epoch 7/100\n",
      "63/63 [==============================] - 1s 10ms/step - loss: 2.8948e-10 - accuracy: 1.0000 - val_loss: 0.1370 - val_accuracy: 0.8589\n",
      "Epoch 8/100\n",
      "63/63 [==============================] - 1s 10ms/step - loss: 2.7164e-10 - accuracy: 1.0000 - val_loss: 0.1370 - val_accuracy: 0.8586\n",
      "Epoch 9/100\n",
      "63/63 [==============================] - 1s 10ms/step - loss: 2.5569e-10 - accuracy: 1.0000 - val_loss: 0.1371 - val_accuracy: 0.8581\n",
      "Epoch 10/100\n",
      "63/63 [==============================] - 1s 10ms/step - loss: 2.4112e-10 - accuracy: 1.0000 - val_loss: 0.1371 - val_accuracy: 0.8581\n",
      "Epoch 11/100\n",
      "63/63 [==============================] - 1s 10ms/step - loss: 2.2670e-10 - accuracy: 1.0000 - val_loss: 0.1371 - val_accuracy: 0.8582\n",
      "Epoch 12/100\n",
      "63/63 [==============================] - 1s 10ms/step - loss: 2.1435e-10 - accuracy: 1.0000 - val_loss: 0.1372 - val_accuracy: 0.8582\n",
      "Epoch 13/100\n",
      "63/63 [==============================] - 1s 10ms/step - loss: 2.0293e-10 - accuracy: 1.0000 - val_loss: 0.1372 - val_accuracy: 0.8579\n",
      "Epoch 14/100\n",
      "63/63 [==============================] - 1s 10ms/step - loss: 1.9262e-10 - accuracy: 1.0000 - val_loss: 0.1372 - val_accuracy: 0.8581\n",
      "Epoch 15/100\n",
      "63/63 [==============================] - 1s 10ms/step - loss: 1.8306e-10 - accuracy: 1.0000 - val_loss: 0.1373 - val_accuracy: 0.8581\n",
      "Epoch 16/100\n",
      "63/63 [==============================] - 1s 10ms/step - loss: 1.7401e-10 - accuracy: 1.0000 - val_loss: 0.1373 - val_accuracy: 0.8578\n",
      "Epoch 17/100\n",
      "63/63 [==============================] - 1s 10ms/step - loss: 1.6649e-10 - accuracy: 1.0000 - val_loss: 0.1374 - val_accuracy: 0.8581\n",
      "Epoch 18/100\n",
      "63/63 [==============================] - 1s 11ms/step - loss: 1.5903e-10 - accuracy: 1.0000 - val_loss: 0.1374 - val_accuracy: 0.8579\n",
      "Epoch 19/100\n",
      "63/63 [==============================] - 1s 10ms/step - loss: 1.5265e-10 - accuracy: 1.0000 - val_loss: 0.1374 - val_accuracy: 0.8579\n",
      "Epoch 20/100\n",
      "63/63 [==============================] - 1s 9ms/step - loss: 1.4612e-10 - accuracy: 1.0000 - val_loss: 0.1374 - val_accuracy: 0.8581\n",
      "Epoch 21/100\n",
      "63/63 [==============================] - 1s 10ms/step - loss: 1.4057e-10 - accuracy: 1.0000 - val_loss: 0.1375 - val_accuracy: 0.8578\n",
      "Epoch 22/100\n",
      "63/63 [==============================] - 1s 10ms/step - loss: 1.3546e-10 - accuracy: 1.0000 - val_loss: 0.1375 - val_accuracy: 0.8579\n",
      "Epoch 23/100\n",
      "63/63 [==============================] - 1s 10ms/step - loss: 1.3054e-10 - accuracy: 1.0000 - val_loss: 0.1375 - val_accuracy: 0.8579\n",
      "Epoch 24/100\n",
      "63/63 [==============================] - 1s 10ms/step - loss: 1.2617e-10 - accuracy: 1.0000 - val_loss: 0.1375 - val_accuracy: 0.8578\n",
      "Epoch 25/100\n",
      "63/63 [==============================] - 1s 10ms/step - loss: 1.2191e-10 - accuracy: 1.0000 - val_loss: 0.1376 - val_accuracy: 0.8578\n",
      "Epoch 26/100\n",
      "63/63 [==============================] - 1s 10ms/step - loss: 1.1818e-10 - accuracy: 1.0000 - val_loss: 0.1376 - val_accuracy: 0.8576\n",
      "Epoch 27/100\n",
      "63/63 [==============================] - 1s 9ms/step - loss: 1.1442e-10 - accuracy: 1.0000 - val_loss: 0.1376 - val_accuracy: 0.8576\n",
      "Epoch 28/100\n",
      "63/63 [==============================] - 1s 9ms/step - loss: 1.1088e-10 - accuracy: 1.0000 - val_loss: 0.1376 - val_accuracy: 0.8574\n",
      "Epoch 29/100\n",
      "63/63 [==============================] - 1s 10ms/step - loss: 1.0772e-10 - accuracy: 1.0000 - val_loss: 0.1376 - val_accuracy: 0.8574\n",
      "Epoch 30/100\n",
      "63/63 [==============================] - 1s 10ms/step - loss: 1.0467e-10 - accuracy: 1.0000 - val_loss: 0.1376 - val_accuracy: 0.8574\n",
      "Epoch 31/100\n",
      "63/63 [==============================] - 1s 10ms/step - loss: 1.0193e-10 - accuracy: 1.0000 - val_loss: 0.1376 - val_accuracy: 0.8573\n",
      "Epoch 32/100\n",
      "63/63 [==============================] - 1s 10ms/step - loss: 9.9069e-11 - accuracy: 1.0000 - val_loss: 0.1376 - val_accuracy: 0.8573\n",
      "Epoch 33/100\n",
      "63/63 [==============================] - 1s 11ms/step - loss: 9.6563e-11 - accuracy: 1.0000 - val_loss: 0.1376 - val_accuracy: 0.8573\n",
      "Epoch 34/100\n",
      "63/63 [==============================] - 1s 10ms/step - loss: 9.4213e-11 - accuracy: 1.0000 - val_loss: 0.1376 - val_accuracy: 0.8573\n",
      "Epoch 35/100\n",
      "63/63 [==============================] - 1s 10ms/step - loss: 9.2089e-11 - accuracy: 1.0000 - val_loss: 0.1377 - val_accuracy: 0.8576\n",
      "Epoch 36/100\n",
      "63/63 [==============================] - 1s 9ms/step - loss: 8.9835e-11 - accuracy: 1.0000 - val_loss: 0.1377 - val_accuracy: 0.8576\n",
      "Epoch 37/100\n",
      "63/63 [==============================] - 1s 9ms/step - loss: 8.7784e-11 - accuracy: 1.0000 - val_loss: 0.1376 - val_accuracy: 0.8576\n",
      "Epoch 38/100\n",
      "63/63 [==============================] - 1s 10ms/step - loss: 8.6170e-11 - accuracy: 1.0000 - val_loss: 0.1377 - val_accuracy: 0.8576\n",
      "Epoch 39/100\n",
      "63/63 [==============================] - 1s 10ms/step - loss: 8.4063e-11 - accuracy: 1.0000 - val_loss: 0.1377 - val_accuracy: 0.8576\n",
      "Epoch 40/100\n",
      "63/63 [==============================] - 1s 10ms/step - loss: 8.2267e-11 - accuracy: 1.0000 - val_loss: 0.1376 - val_accuracy: 0.8576\n",
      "Epoch 41/100\n",
      "63/63 [==============================] - 1s 10ms/step - loss: 8.0555e-11 - accuracy: 1.0000 - val_loss: 0.1376 - val_accuracy: 0.8576\n",
      "Epoch 42/100\n",
      "63/63 [==============================] - 1s 10ms/step - loss: 7.9032e-11 - accuracy: 1.0000 - val_loss: 0.1376 - val_accuracy: 0.8576\n",
      "Epoch 43/100\n",
      "63/63 [==============================] - 1s 10ms/step - loss: 7.7448e-11 - accuracy: 1.0000 - val_loss: 0.1376 - val_accuracy: 0.8576\n",
      "Epoch 44/100\n",
      "63/63 [==============================] - 1s 10ms/step - loss: 7.5951e-11 - accuracy: 1.0000 - val_loss: 0.1376 - val_accuracy: 0.8576\n",
      "Epoch 45/100\n",
      "63/63 [==============================] - 1s 10ms/step - loss: 7.4621e-11 - accuracy: 1.0000 - val_loss: 0.1376 - val_accuracy: 0.8576\n",
      "Epoch 46/100\n",
      "63/63 [==============================] - 1s 10ms/step - loss: 7.3185e-11 - accuracy: 1.0000 - val_loss: 0.1376 - val_accuracy: 0.8576\n",
      "Epoch 47/100\n",
      "63/63 [==============================] - 1s 10ms/step - loss: 7.1859e-11 - accuracy: 1.0000 - val_loss: 0.1376 - val_accuracy: 0.8576\n",
      "Epoch 48/100\n",
      "63/63 [==============================] - 1s 10ms/step - loss: 7.0582e-11 - accuracy: 1.0000 - val_loss: 0.1376 - val_accuracy: 0.8576\n",
      "Epoch 49/100\n",
      "63/63 [==============================] - 1s 11ms/step - loss: 6.9480e-11 - accuracy: 1.0000 - val_loss: 0.1376 - val_accuracy: 0.8578\n",
      "Epoch 50/100\n",
      "63/63 [==============================] - 1s 10ms/step - loss: 6.8239e-11 - accuracy: 1.0000 - val_loss: 0.1376 - val_accuracy: 0.8578\n",
      "Epoch 51/100\n",
      "63/63 [==============================] - 1s 10ms/step - loss: 6.7059e-11 - accuracy: 1.0000 - val_loss: 0.1376 - val_accuracy: 0.8578\n",
      "Epoch 52/100\n",
      "63/63 [==============================] - 1s 10ms/step - loss: 6.5967e-11 - accuracy: 1.0000 - val_loss: 0.1376 - val_accuracy: 0.8578\n",
      "Epoch 53/100\n",
      "63/63 [==============================] - 1s 10ms/step - loss: 6.4953e-11 - accuracy: 1.0000 - val_loss: 0.1376 - val_accuracy: 0.8578\n",
      "Epoch 54/100\n",
      "63/63 [==============================] - 1s 10ms/step - loss: 6.3953e-11 - accuracy: 1.0000 - val_loss: 0.1376 - val_accuracy: 0.8578\n",
      "Epoch 55/100\n",
      "63/63 [==============================] - 1s 10ms/step - loss: 6.2924e-11 - accuracy: 1.0000 - val_loss: 0.1376 - val_accuracy: 0.8578\n",
      "Epoch 56/100\n",
      "63/63 [==============================] - 1s 10ms/step - loss: 6.1965e-11 - accuracy: 1.0000 - val_loss: 0.1376 - val_accuracy: 0.8579\n",
      "Epoch 57/100\n",
      "63/63 [==============================] - 1s 10ms/step - loss: 6.1055e-11 - accuracy: 1.0000 - val_loss: 0.1376 - val_accuracy: 0.8579\n",
      "Epoch 58/100\n",
      "63/63 [==============================] - 1s 10ms/step - loss: 6.0170e-11 - accuracy: 1.0000 - val_loss: 0.1376 - val_accuracy: 0.8579\n",
      "Epoch 59/100\n",
      "63/63 [==============================] - 1s 10ms/step - loss: 5.9351e-11 - accuracy: 1.0000 - val_loss: 0.1376 - val_accuracy: 0.8579\n",
      "Epoch 60/100\n",
      "63/63 [==============================] - 1s 10ms/step - loss: 5.8486e-11 - accuracy: 1.0000 - val_loss: 0.1376 - val_accuracy: 0.8579\n",
      "Epoch 61/100\n",
      "63/63 [==============================] - 1s 11ms/step - loss: 5.7701e-11 - accuracy: 1.0000 - val_loss: 0.1376 - val_accuracy: 0.8579\n",
      "Epoch 62/100\n",
      "63/63 [==============================] - 1s 10ms/step - loss: 5.6852e-11 - accuracy: 1.0000 - val_loss: 0.1376 - val_accuracy: 0.8579\n",
      "Epoch 63/100\n",
      "63/63 [==============================] - 1s 10ms/step - loss: 5.6074e-11 - accuracy: 1.0000 - val_loss: 0.1376 - val_accuracy: 0.8579\n",
      "Epoch 64/100\n",
      "63/63 [==============================] - 1s 10ms/step - loss: 5.5341e-11 - accuracy: 1.0000 - val_loss: 0.1376 - val_accuracy: 0.8579\n",
      "Epoch 65/100\n",
      "63/63 [==============================] - 1s 10ms/step - loss: 5.4659e-11 - accuracy: 1.0000 - val_loss: 0.1376 - val_accuracy: 0.8579\n",
      "Epoch 66/100\n",
      "63/63 [==============================] - 1s 10ms/step - loss: 5.3933e-11 - accuracy: 1.0000 - val_loss: 0.1376 - val_accuracy: 0.8579\n",
      "Epoch 67/100\n",
      "63/63 [==============================] - 1s 10ms/step - loss: 5.3272e-11 - accuracy: 1.0000 - val_loss: 0.1376 - val_accuracy: 0.8579\n",
      "Epoch 68/100\n",
      "63/63 [==============================] - 1s 10ms/step - loss: 5.2562e-11 - accuracy: 1.0000 - val_loss: 0.1375 - val_accuracy: 0.8581\n",
      "Epoch 69/100\n",
      "63/63 [==============================] - 1s 10ms/step - loss: 5.1905e-11 - accuracy: 1.0000 - val_loss: 0.1375 - val_accuracy: 0.8579\n",
      "Epoch 70/100\n",
      "63/63 [==============================] - 1s 10ms/step - loss: 5.1361e-11 - accuracy: 1.0000 - val_loss: 0.1375 - val_accuracy: 0.8582\n",
      "Epoch 71/100\n",
      "63/63 [==============================] - 1s 10ms/step - loss: 5.0707e-11 - accuracy: 1.0000 - val_loss: 0.1375 - val_accuracy: 0.8581\n",
      "Epoch 72/100\n",
      "63/63 [==============================] - 1s 10ms/step - loss: 5.0073e-11 - accuracy: 1.0000 - val_loss: 0.1375 - val_accuracy: 0.8579\n",
      "Epoch 73/100\n",
      "63/63 [==============================] - 1s 9ms/step - loss: 4.9503e-11 - accuracy: 1.0000 - val_loss: 0.1375 - val_accuracy: 0.8579\n",
      "Epoch 74/100\n",
      "63/63 [==============================] - 1s 10ms/step - loss: 4.8929e-11 - accuracy: 1.0000 - val_loss: 0.1375 - val_accuracy: 0.8579\n",
      "Epoch 75/100\n",
      "63/63 [==============================] - 1s 9ms/step - loss: 4.8395e-11 - accuracy: 1.0000 - val_loss: 0.1375 - val_accuracy: 0.8579\n",
      "Epoch 76/100\n",
      "63/63 [==============================] - 1s 9ms/step - loss: 4.7827e-11 - accuracy: 1.0000 - val_loss: 0.1375 - val_accuracy: 0.8579\n",
      "Epoch 77/100\n",
      "63/63 [==============================] - 1s 10ms/step - loss: 4.7296e-11 - accuracy: 1.0000 - val_loss: 0.1375 - val_accuracy: 0.8579\n",
      "Epoch 78/100\n",
      "63/63 [==============================] - 1s 10ms/step - loss: 4.6765e-11 - accuracy: 1.0000 - val_loss: 0.1375 - val_accuracy: 0.8579\n",
      "Epoch 79/100\n",
      "63/63 [==============================] - 1s 9ms/step - loss: 4.6271e-11 - accuracy: 1.0000 - val_loss: 0.1375 - val_accuracy: 0.8579\n",
      "Epoch 80/100\n",
      "63/63 [==============================] - 1s 11ms/step - loss: 4.5784e-11 - accuracy: 1.0000 - val_loss: 0.1375 - val_accuracy: 0.8579\n",
      "Epoch 81/100\n",
      "63/63 [==============================] - 1s 10ms/step - loss: 4.5341e-11 - accuracy: 1.0000 - val_loss: 0.1375 - val_accuracy: 0.8579\n",
      "Epoch 82/100\n",
      "63/63 [==============================] - 1s 10ms/step - loss: 4.4835e-11 - accuracy: 1.0000 - val_loss: 0.1375 - val_accuracy: 0.8579\n",
      "Epoch 83/100\n",
      "63/63 [==============================] - 1s 10ms/step - loss: 4.4377e-11 - accuracy: 1.0000 - val_loss: 0.1375 - val_accuracy: 0.8579\n",
      "Epoch 84/100\n",
      "63/63 [==============================] - 1s 9ms/step - loss: 4.3885e-11 - accuracy: 1.0000 - val_loss: 0.1375 - val_accuracy: 0.8579\n",
      "Epoch 85/100\n",
      "63/63 [==============================] - 1s 10ms/step - loss: 4.3514e-11 - accuracy: 1.0000 - val_loss: 0.1375 - val_accuracy: 0.8579\n",
      "Epoch 86/100\n",
      "63/63 [==============================] - 1s 9ms/step - loss: 4.3037e-11 - accuracy: 1.0000 - val_loss: 0.1375 - val_accuracy: 0.8579\n",
      "Epoch 87/100\n",
      "63/63 [==============================] - 1s 10ms/step - loss: 4.2610e-11 - accuracy: 1.0000 - val_loss: 0.1375 - val_accuracy: 0.8581\n",
      "Epoch 88/100\n",
      "63/63 [==============================] - 1s 10ms/step - loss: 4.2217e-11 - accuracy: 1.0000 - val_loss: 0.1375 - val_accuracy: 0.8582\n",
      "Epoch 89/100\n",
      "63/63 [==============================] - 1s 9ms/step - loss: 4.1775e-11 - accuracy: 1.0000 - val_loss: 0.1375 - val_accuracy: 0.8582\n",
      "Epoch 90/100\n",
      "63/63 [==============================] - 1s 9ms/step - loss: 4.1419e-11 - accuracy: 1.0000 - val_loss: 0.1375 - val_accuracy: 0.8582\n",
      "Epoch 91/100\n",
      "63/63 [==============================] - 1s 10ms/step - loss: 4.1008e-11 - accuracy: 1.0000 - val_loss: 0.1375 - val_accuracy: 0.8582\n",
      "Epoch 92/100\n",
      "63/63 [==============================] - 1s 10ms/step - loss: 4.0620e-11 - accuracy: 1.0000 - val_loss: 0.1375 - val_accuracy: 0.8582\n",
      "Epoch 93/100\n",
      "63/63 [==============================] - 1s 10ms/step - loss: 4.0250e-11 - accuracy: 1.0000 - val_loss: 0.1375 - val_accuracy: 0.8582\n",
      "Epoch 94/100\n",
      "63/63 [==============================] - 1s 9ms/step - loss: 3.9895e-11 - accuracy: 1.0000 - val_loss: 0.1375 - val_accuracy: 0.8582\n",
      "Epoch 95/100\n",
      "63/63 [==============================] - 1s 9ms/step - loss: 3.9542e-11 - accuracy: 1.0000 - val_loss: 0.1375 - val_accuracy: 0.8582\n",
      "Epoch 96/100\n",
      "63/63 [==============================] - 1s 10ms/step - loss: 3.9199e-11 - accuracy: 1.0000 - val_loss: 0.1375 - val_accuracy: 0.8579\n",
      "Epoch 97/100\n",
      "63/63 [==============================] - 1s 10ms/step - loss: 3.8824e-11 - accuracy: 1.0000 - val_loss: 0.1375 - val_accuracy: 0.8579\n",
      "Epoch 98/100\n",
      "63/63 [==============================] - 1s 10ms/step - loss: 3.8519e-11 - accuracy: 1.0000 - val_loss: 0.1375 - val_accuracy: 0.8579\n",
      "Epoch 99/100\n",
      "63/63 [==============================] - 1s 11ms/step - loss: 3.8152e-11 - accuracy: 1.0000 - val_loss: 0.1375 - val_accuracy: 0.8579\n",
      "Epoch 100/100\n",
      "63/63 [==============================] - 1s 10ms/step - loss: 3.7820e-11 - accuracy: 1.0000 - val_loss: 0.1374 - val_accuracy: 0.8579\n"
     ]
    },
    {
     "data": {
      "text/plain": [
       "<keras.callbacks.History at 0x1d9e83a1eb0>"
      ]
     },
     "execution_count": 83,
     "metadata": {},
     "output_type": "execute_result"
    }
   ],
   "source": [
    "epochs = 100\n",
    "batch_size = 300\n",
    "model.fit(X_train,y_train,\n",
    "          epochs=epochs,\n",
    "          batch_size=batch_size,\n",
    "          validation_data = (X_val, y_val))"
   ]
  },
  {
   "cell_type": "code",
   "execution_count": 84,
   "id": "f9df29e5",
   "metadata": {},
   "outputs": [],
   "source": [
    "from keras import losses"
   ]
  },
  {
   "cell_type": "code",
   "execution_count": 85,
   "id": "844a575c",
   "metadata": {},
   "outputs": [
    {
     "data": {
      "text/plain": [
       "['BCE',\n",
       " 'BinaryCrossentropy',\n",
       " 'BinaryFocalCrossentropy',\n",
       " 'CategoricalCrossentropy',\n",
       " 'CategoricalHinge',\n",
       " 'CosineSimilarity',\n",
       " 'Hinge',\n",
       " 'Huber',\n",
       " 'KLD',\n",
       " 'KLDivergence',\n",
       " 'LABEL_DTYPES_FOR_LOSSES',\n",
       " 'LogCosh',\n",
       " 'Loss',\n",
       " 'LossFunctionWrapper',\n",
       " 'MAE',\n",
       " 'MAPE',\n",
       " 'MSE',\n",
       " 'MSLE',\n",
       " 'MeanAbsoluteError',\n",
       " 'MeanAbsolutePercentageError',\n",
       " 'MeanSquaredError',\n",
       " 'MeanSquaredLogarithmicError',\n",
       " 'Poisson',\n",
       " 'SparseCategoricalCrossentropy',\n",
       " 'SquaredHinge',\n",
       " '__builtins__',\n",
       " '__cached__',\n",
       " '__doc__',\n",
       " '__file__',\n",
       " '__loader__',\n",
       " '__name__',\n",
       " '__package__',\n",
       " '__spec__',\n",
       " '_maybe_convert_labels',\n",
       " '_ragged_tensor_apply_loss',\n",
       " '_ragged_tensor_binary_crossentropy',\n",
       " '_ragged_tensor_binary_focal_crossentropy',\n",
       " '_ragged_tensor_categorical_crossentropy',\n",
       " '_ragged_tensor_mae',\n",
       " '_ragged_tensor_mape',\n",
       " '_ragged_tensor_mse',\n",
       " '_ragged_tensor_msle',\n",
       " '_ragged_tensor_sparse_categorical_crossentropy',\n",
       " 'abc',\n",
       " 'backend',\n",
       " 'bce',\n",
       " 'binary_crossentropy',\n",
       " 'binary_focal_crossentropy',\n",
       " 'categorical_crossentropy',\n",
       " 'categorical_hinge',\n",
       " 'cosine_similarity',\n",
       " 'deserialize',\n",
       " 'deserialize_keras_object',\n",
       " 'dispatch',\n",
       " 'doc_controls',\n",
       " 'functools',\n",
       " 'get',\n",
       " 'hinge',\n",
       " 'huber',\n",
       " 'huber_loss',\n",
       " 'is_categorical_crossentropy',\n",
       " 'keras_export',\n",
       " 'kl_divergence',\n",
       " 'kld',\n",
       " 'kullback_leibler_divergence',\n",
       " 'log_cosh',\n",
       " 'logcosh',\n",
       " 'losses_utils',\n",
       " 'mae',\n",
       " 'mape',\n",
       " 'mean_absolute_error',\n",
       " 'mean_absolute_percentage_error',\n",
       " 'mean_squared_error',\n",
       " 'mean_squared_logarithmic_error',\n",
       " 'mse',\n",
       " 'msle',\n",
       " 'poisson',\n",
       " 'ragged_map_ops',\n",
       " 'ragged_util',\n",
       " 'serialize',\n",
       " 'serialize_keras_object',\n",
       " 'sparse_categorical_crossentropy',\n",
       " 'squared_hinge',\n",
       " 'tf',\n",
       " 'tf_utils']"
      ]
     },
     "execution_count": 85,
     "metadata": {},
     "output_type": "execute_result"
    }
   ],
   "source": [
    "dir(losses)"
   ]
  },
  {
   "cell_type": "code",
   "execution_count": 86,
   "id": "2fe520d3",
   "metadata": {},
   "outputs": [],
   "source": [
    "from keras.datasets import reuters"
   ]
  },
  {
   "cell_type": "code",
   "execution_count": 87,
   "id": "cbdcd127",
   "metadata": {},
   "outputs": [
    {
     "name": "stdout",
     "output_type": "stream",
     "text": [
      "Downloading data from https://storage.googleapis.com/tensorflow/tf-keras-datasets/reuters.npz\n",
      "2113536/2110848 [==============================] - 0s 0us/step\n",
      "2121728/2110848 [==============================] - 0s 0us/step\n"
     ]
    }
   ],
   "source": [
    "(X_train, y_train),(X_test,y_test) = reuters.load_data()"
   ]
  },
  {
   "cell_type": "code",
   "execution_count": 88,
   "id": "4ce036da",
   "metadata": {},
   "outputs": [],
   "source": [
    "x = [ i for i in word_index.values()]"
   ]
  },
  {
   "cell_type": "code",
   "execution_count": 90,
   "id": "649aa5a1",
   "metadata": {},
   "outputs": [
    {
     "data": {
      "text/plain": [
       "88584"
      ]
     },
     "execution_count": 90,
     "metadata": {},
     "output_type": "execute_result"
    }
   ],
   "source": [
    "max(x)"
   ]
  },
  {
   "cell_type": "code",
   "execution_count": 91,
   "id": "06ba0874",
   "metadata": {},
   "outputs": [],
   "source": [
    "X_train, X_val, y_train, y_val = train_test_split(X_train, y_train, test_size=.2)"
   ]
  },
  {
   "cell_type": "code",
   "execution_count": 92,
   "id": "af36a821",
   "metadata": {},
   "outputs": [],
   "source": [
    "X_train = vectorize_sequences(X_train,30983)\n",
    "X_test = vectorize_sequences(X_test,30983)\n",
    "X_val = vectorize_sequences(X_val,30983)\n",
    "y_train = to_categorical(y_train,30983)\n",
    "y_test = to_categorical(y_test,30983)\n",
    "y_val = to_categorical(y_val,30983)"
   ]
  },
  {
   "cell_type": "code",
   "execution_count": 93,
   "id": "926a873d",
   "metadata": {},
   "outputs": [],
   "source": [
    "input_shape = X_train.shape[1]\n",
    "output_shape = y_train.shape[1]\n",
    "model = Sequential()\n",
    "model.add(Dense(64,activation='sigmoid',input_shape=(input_shape,)))\n",
    "model.add(Dense(128,activation='relu'))\n",
    "model.add(Dense(output_shape,activation='softmax'))"
   ]
  },
  {
   "cell_type": "code",
   "execution_count": 94,
   "id": "da281098",
   "metadata": {},
   "outputs": [],
   "source": [
    "opt = 'adam'\n",
    "loss = 'categorical_crossentropy'\n",
    "metrics = ['accuracy']\n",
    "\n",
    "model.compile(optimizer=opt,\n",
    "             loss=loss,\n",
    "             metrics = metrics)"
   ]
  },
  {
   "cell_type": "code",
   "execution_count": 95,
   "id": "831ec23a",
   "metadata": {},
   "outputs": [
    {
     "name": "stdout",
     "output_type": "stream",
     "text": [
      "Epoch 1/100\n",
      "36/36 [==============================] - 6s 163ms/step - loss: 6.8947 - accuracy: 0.1165 - val_loss: 2.5313 - val_accuracy: 0.3606\n",
      "Epoch 2/100\n",
      "36/36 [==============================] - 6s 159ms/step - loss: 2.5280 - accuracy: 0.3495 - val_loss: 2.4528 - val_accuracy: 0.3606\n",
      "Epoch 3/100\n",
      "36/36 [==============================] - 6s 155ms/step - loss: 2.4453 - accuracy: 0.3495 - val_loss: 2.3941 - val_accuracy: 0.3606\n",
      "Epoch 4/100\n",
      "36/36 [==============================] - 5s 153ms/step - loss: 2.3664 - accuracy: 0.3495 - val_loss: 2.2899 - val_accuracy: 0.3606\n",
      "Epoch 5/100\n",
      "36/36 [==============================] - 5s 153ms/step - loss: 2.1946 - accuracy: 0.3832 - val_loss: 2.0656 - val_accuracy: 0.3851\n",
      "Epoch 6/100\n",
      "36/36 [==============================] - 6s 157ms/step - loss: 1.9475 - accuracy: 0.4785 - val_loss: 1.8375 - val_accuracy: 0.5287\n",
      "Epoch 7/100\n",
      "36/36 [==============================] - 6s 154ms/step - loss: 1.7157 - accuracy: 0.5659 - val_loss: 1.6481 - val_accuracy: 0.5715\n",
      "Epoch 8/100\n",
      "36/36 [==============================] - 5s 148ms/step - loss: 1.5258 - accuracy: 0.6193 - val_loss: 1.5316 - val_accuracy: 0.6316\n",
      "Epoch 9/100\n",
      "36/36 [==============================] - 5s 152ms/step - loss: 1.3780 - accuracy: 0.6717 - val_loss: 1.4311 - val_accuracy: 0.6800\n",
      "Epoch 10/100\n",
      "36/36 [==============================] - 5s 146ms/step - loss: 1.2167 - accuracy: 0.7223 - val_loss: 1.3247 - val_accuracy: 0.6984\n",
      "Epoch 11/100\n",
      "36/36 [==============================] - 5s 145ms/step - loss: 1.0370 - accuracy: 0.7457 - val_loss: 1.2115 - val_accuracy: 0.7145\n",
      "Epoch 12/100\n",
      "36/36 [==============================] - 5s 143ms/step - loss: 0.8722 - accuracy: 0.7790 - val_loss: 1.1241 - val_accuracy: 0.7351\n",
      "Epoch 13/100\n",
      "36/36 [==============================] - 5s 150ms/step - loss: 0.7307 - accuracy: 0.8195 - val_loss: 1.0697 - val_accuracy: 0.7457\n",
      "Epoch 14/100\n",
      "36/36 [==============================] - 6s 155ms/step - loss: 0.6140 - accuracy: 0.8480 - val_loss: 1.0446 - val_accuracy: 0.7557\n",
      "Epoch 15/100\n",
      "36/36 [==============================] - 5s 149ms/step - loss: 0.5154 - accuracy: 0.8736 - val_loss: 1.0352 - val_accuracy: 0.7741\n",
      "Epoch 16/100\n",
      "36/36 [==============================] - 5s 148ms/step - loss: 0.4349 - accuracy: 0.8942 - val_loss: 1.0023 - val_accuracy: 0.7763\n",
      "Epoch 17/100\n",
      "36/36 [==============================] - 5s 151ms/step - loss: 0.3627 - accuracy: 0.9143 - val_loss: 1.0021 - val_accuracy: 0.7874\n",
      "Epoch 18/100\n",
      "36/36 [==============================] - 5s 147ms/step - loss: 0.3042 - accuracy: 0.9257 - val_loss: 1.0025 - val_accuracy: 0.7913\n",
      "Epoch 19/100\n",
      "36/36 [==============================] - 5s 150ms/step - loss: 0.2577 - accuracy: 0.9379 - val_loss: 1.0256 - val_accuracy: 0.7874\n",
      "Epoch 20/100\n",
      "36/36 [==============================] - 6s 156ms/step - loss: 0.2186 - accuracy: 0.9441 - val_loss: 1.0112 - val_accuracy: 0.7969\n",
      "Epoch 21/100\n",
      "36/36 [==============================] - 6s 155ms/step - loss: 0.1884 - accuracy: 0.9498 - val_loss: 1.0466 - val_accuracy: 0.7902\n",
      "Epoch 22/100\n",
      "36/36 [==============================] - 6s 171ms/step - loss: 0.1656 - accuracy: 0.9535 - val_loss: 1.0401 - val_accuracy: 0.7997\n",
      "Epoch 23/100\n",
      "36/36 [==============================] - 6s 163ms/step - loss: 0.1489 - accuracy: 0.9539 - val_loss: 1.0528 - val_accuracy: 0.7947\n",
      "Epoch 24/100\n",
      "36/36 [==============================] - 6s 165ms/step - loss: 0.1327 - accuracy: 0.9567 - val_loss: 1.0771 - val_accuracy: 0.7963\n",
      "Epoch 25/100\n",
      "36/36 [==============================] - 6s 156ms/step - loss: 0.1225 - accuracy: 0.9576 - val_loss: 1.0951 - val_accuracy: 0.7935\n",
      "Epoch 26/100\n",
      "36/36 [==============================] - 6s 157ms/step - loss: 0.1120 - accuracy: 0.9610 - val_loss: 1.1109 - val_accuracy: 0.7952\n",
      "Epoch 27/100\n",
      "36/36 [==============================] - 5s 148ms/step - loss: 0.1059 - accuracy: 0.9627 - val_loss: 1.1242 - val_accuracy: 0.7980\n",
      "Epoch 28/100\n",
      "36/36 [==============================] - 5s 152ms/step - loss: 0.1007 - accuracy: 0.9624 - val_loss: 1.1358 - val_accuracy: 0.7896\n",
      "Epoch 29/100\n",
      "36/36 [==============================] - 5s 147ms/step - loss: 0.0967 - accuracy: 0.9631 - val_loss: 1.1543 - val_accuracy: 0.7913\n",
      "Epoch 30/100\n",
      "36/36 [==============================] - 5s 144ms/step - loss: 0.0905 - accuracy: 0.9628 - val_loss: 1.1384 - val_accuracy: 0.7919\n",
      "Epoch 31/100\n",
      "36/36 [==============================] - 5s 148ms/step - loss: 0.0866 - accuracy: 0.9641 - val_loss: 1.1784 - val_accuracy: 0.7930\n",
      "Epoch 32/100\n",
      "36/36 [==============================] - 5s 150ms/step - loss: 0.0840 - accuracy: 0.9621 - val_loss: 1.1737 - val_accuracy: 0.7980\n",
      "Epoch 33/100\n",
      "36/36 [==============================] - 5s 152ms/step - loss: 0.0809 - accuracy: 0.9630 - val_loss: 1.1964 - val_accuracy: 0.7980\n",
      "Epoch 34/100\n",
      "36/36 [==============================] - 5s 151ms/step - loss: 0.0787 - accuracy: 0.9627 - val_loss: 1.1896 - val_accuracy: 0.7969\n",
      "Epoch 35/100\n",
      "36/36 [==============================] - 5s 146ms/step - loss: 0.0787 - accuracy: 0.9634 - val_loss: 1.1931 - val_accuracy: 0.7908\n",
      "Epoch 36/100\n",
      "36/36 [==============================] - 5s 142ms/step - loss: 0.0748 - accuracy: 0.9624 - val_loss: 1.1992 - val_accuracy: 0.7930\n",
      "Epoch 37/100\n",
      "36/36 [==============================] - 5s 146ms/step - loss: 0.0752 - accuracy: 0.9644 - val_loss: 1.2069 - val_accuracy: 0.7952\n",
      "Epoch 38/100\n",
      "36/36 [==============================] - 5s 145ms/step - loss: 0.0723 - accuracy: 0.9652 - val_loss: 1.2208 - val_accuracy: 0.7930\n",
      "Epoch 39/100\n",
      "36/36 [==============================] - 5s 144ms/step - loss: 0.0715 - accuracy: 0.9670 - val_loss: 1.2338 - val_accuracy: 0.7908\n",
      "Epoch 40/100\n",
      "36/36 [==============================] - 5s 145ms/step - loss: 0.0724 - accuracy: 0.9638 - val_loss: 1.2380 - val_accuracy: 0.7924\n",
      "Epoch 41/100\n",
      "36/36 [==============================] - 5s 143ms/step - loss: 0.0685 - accuracy: 0.9653 - val_loss: 1.2369 - val_accuracy: 0.7863\n",
      "Epoch 42/100\n",
      "36/36 [==============================] - 5s 149ms/step - loss: 0.0714 - accuracy: 0.9635 - val_loss: 1.2770 - val_accuracy: 0.7896\n",
      "Epoch 43/100\n",
      "36/36 [==============================] - 5s 147ms/step - loss: 0.0697 - accuracy: 0.9640 - val_loss: 1.2663 - val_accuracy: 0.7947\n",
      "Epoch 44/100\n",
      "36/36 [==============================] - 5s 147ms/step - loss: 0.0667 - accuracy: 0.9644 - val_loss: 1.2675 - val_accuracy: 0.7930\n",
      "Epoch 45/100\n",
      "36/36 [==============================] - 5s 148ms/step - loss: 0.0661 - accuracy: 0.9660 - val_loss: 1.2805 - val_accuracy: 0.7930\n",
      "Epoch 46/100\n",
      "36/36 [==============================] - 5s 149ms/step - loss: 0.0679 - accuracy: 0.9631 - val_loss: 1.2730 - val_accuracy: 0.7947\n",
      "Epoch 47/100\n",
      "36/36 [==============================] - 5s 144ms/step - loss: 0.0657 - accuracy: 0.9667 - val_loss: 1.2844 - val_accuracy: 0.7919\n",
      "Epoch 48/100\n",
      "36/36 [==============================] - 5s 144ms/step - loss: 0.0645 - accuracy: 0.9638 - val_loss: 1.2748 - val_accuracy: 0.7941\n",
      "Epoch 49/100\n",
      "36/36 [==============================] - 5s 139ms/step - loss: 0.0659 - accuracy: 0.9630 - val_loss: 1.2922 - val_accuracy: 0.7874\n",
      "Epoch 50/100\n",
      "36/36 [==============================] - 5s 141ms/step - loss: 0.0642 - accuracy: 0.9637 - val_loss: 1.3127 - val_accuracy: 0.7896\n",
      "Epoch 51/100\n",
      "36/36 [==============================] - 5s 142ms/step - loss: 0.0637 - accuracy: 0.9630 - val_loss: 1.2979 - val_accuracy: 0.7930\n",
      "Epoch 52/100\n",
      "36/36 [==============================] - 5s 139ms/step - loss: 0.0627 - accuracy: 0.9646 - val_loss: 1.2923 - val_accuracy: 0.7924\n",
      "Epoch 53/100\n",
      "36/36 [==============================] - 5s 142ms/step - loss: 0.0638 - accuracy: 0.9624 - val_loss: 1.2988 - val_accuracy: 0.7919\n",
      "Epoch 54/100\n",
      "36/36 [==============================] - 5s 141ms/step - loss: 0.0640 - accuracy: 0.9653 - val_loss: 1.3325 - val_accuracy: 0.7908\n",
      "Epoch 55/100\n",
      "36/36 [==============================] - 5s 141ms/step - loss: 0.0617 - accuracy: 0.9660 - val_loss: 1.3228 - val_accuracy: 0.7924\n",
      "Epoch 56/100\n",
      "36/36 [==============================] - 5s 149ms/step - loss: 0.0629 - accuracy: 0.9634 - val_loss: 1.3095 - val_accuracy: 0.7930\n",
      "Epoch 57/100\n",
      "36/36 [==============================] - 5s 149ms/step - loss: 0.0626 - accuracy: 0.9628 - val_loss: 1.3141 - val_accuracy: 0.7947\n",
      "Epoch 58/100\n",
      "36/36 [==============================] - 6s 160ms/step - loss: 0.0619 - accuracy: 0.9634 - val_loss: 1.3465 - val_accuracy: 0.7869\n",
      "Epoch 59/100\n",
      "36/36 [==============================] - 5s 145ms/step - loss: 0.0604 - accuracy: 0.9637 - val_loss: 1.3250 - val_accuracy: 0.7902\n",
      "Epoch 60/100\n",
      "36/36 [==============================] - 5s 146ms/step - loss: 0.0622 - accuracy: 0.9658 - val_loss: 1.3134 - val_accuracy: 0.7896\n",
      "Epoch 61/100\n",
      "36/36 [==============================] - 5s 152ms/step - loss: 0.0610 - accuracy: 0.9641 - val_loss: 1.3452 - val_accuracy: 0.7913\n",
      "Epoch 62/100\n",
      "36/36 [==============================] - 6s 159ms/step - loss: 0.0584 - accuracy: 0.9651 - val_loss: 1.3373 - val_accuracy: 0.7941\n",
      "Epoch 63/100\n",
      "36/36 [==============================] - 5s 144ms/step - loss: 0.0598 - accuracy: 0.9649 - val_loss: 1.3457 - val_accuracy: 0.7891\n",
      "Epoch 64/100\n",
      "36/36 [==============================] - 5s 143ms/step - loss: 0.0593 - accuracy: 0.9674 - val_loss: 1.3288 - val_accuracy: 0.7863\n",
      "Epoch 65/100\n",
      "36/36 [==============================] - 5s 143ms/step - loss: 0.0579 - accuracy: 0.9648 - val_loss: 1.3617 - val_accuracy: 0.7885\n",
      "Epoch 66/100\n",
      "36/36 [==============================] - 5s 154ms/step - loss: 0.0588 - accuracy: 0.9656 - val_loss: 1.3541 - val_accuracy: 0.7902\n",
      "Epoch 67/100\n",
      "36/36 [==============================] - 6s 153ms/step - loss: 0.0595 - accuracy: 0.9644 - val_loss: 1.3411 - val_accuracy: 0.7896\n",
      "Epoch 68/100\n",
      "36/36 [==============================] - 5s 151ms/step - loss: 0.0615 - accuracy: 0.9638 - val_loss: 1.3561 - val_accuracy: 0.7924\n",
      "Epoch 69/100\n",
      "36/36 [==============================] - 5s 150ms/step - loss: 0.0586 - accuracy: 0.9653 - val_loss: 1.3726 - val_accuracy: 0.7891\n",
      "Epoch 70/100\n",
      "36/36 [==============================] - 5s 146ms/step - loss: 0.0574 - accuracy: 0.9665 - val_loss: 1.3649 - val_accuracy: 0.7908\n",
      "Epoch 71/100\n",
      "36/36 [==============================] - 5s 149ms/step - loss: 0.0579 - accuracy: 0.9652 - val_loss: 1.3690 - val_accuracy: 0.7885\n",
      "Epoch 72/100\n",
      "36/36 [==============================] - 5s 146ms/step - loss: 0.0578 - accuracy: 0.9642 - val_loss: 1.3674 - val_accuracy: 0.7874\n",
      "Epoch 73/100\n",
      "36/36 [==============================] - 5s 149ms/step - loss: 0.0570 - accuracy: 0.9645 - val_loss: 1.3692 - val_accuracy: 0.7896\n",
      "Epoch 74/100\n",
      "36/36 [==============================] - 5s 151ms/step - loss: 0.0567 - accuracy: 0.9652 - val_loss: 1.3889 - val_accuracy: 0.7908\n",
      "Epoch 75/100\n",
      "36/36 [==============================] - 5s 152ms/step - loss: 0.0568 - accuracy: 0.9648 - val_loss: 1.3873 - val_accuracy: 0.7908\n",
      "Epoch 76/100\n",
      "36/36 [==============================] - 5s 151ms/step - loss: 0.0589 - accuracy: 0.9634 - val_loss: 1.3870 - val_accuracy: 0.7869\n",
      "Epoch 77/100\n",
      "36/36 [==============================] - 5s 149ms/step - loss: 0.0586 - accuracy: 0.9655 - val_loss: 1.3978 - val_accuracy: 0.7863\n",
      "Epoch 78/100\n",
      "36/36 [==============================] - 5s 147ms/step - loss: 0.0579 - accuracy: 0.9652 - val_loss: 1.3780 - val_accuracy: 0.7874\n",
      "Epoch 79/100\n",
      "36/36 [==============================] - 5s 140ms/step - loss: 0.0591 - accuracy: 0.9631 - val_loss: 1.3839 - val_accuracy: 0.7880\n",
      "Epoch 80/100\n",
      "36/36 [==============================] - 5s 140ms/step - loss: 0.0589 - accuracy: 0.9651 - val_loss: 1.3783 - val_accuracy: 0.7935\n",
      "Epoch 81/100\n",
      "36/36 [==============================] - 5s 141ms/step - loss: 0.0562 - accuracy: 0.9646 - val_loss: 1.3905 - val_accuracy: 0.7874\n",
      "Epoch 82/100\n",
      "36/36 [==============================] - 5s 140ms/step - loss: 0.0550 - accuracy: 0.9652 - val_loss: 1.3906 - val_accuracy: 0.7902\n",
      "Epoch 83/100\n",
      "36/36 [==============================] - 5s 139ms/step - loss: 0.0567 - accuracy: 0.9634 - val_loss: 1.3939 - val_accuracy: 0.7885\n",
      "Epoch 84/100\n",
      "36/36 [==============================] - 5s 141ms/step - loss: 0.0568 - accuracy: 0.9630 - val_loss: 1.3888 - val_accuracy: 0.7924\n",
      "Epoch 85/100\n",
      "36/36 [==============================] - 5s 143ms/step - loss: 0.0564 - accuracy: 0.9649 - val_loss: 1.3982 - val_accuracy: 0.7880\n",
      "Epoch 86/100\n",
      "36/36 [==============================] - 5s 140ms/step - loss: 0.0574 - accuracy: 0.9627 - val_loss: 1.4180 - val_accuracy: 0.7869\n",
      "Epoch 87/100\n",
      "36/36 [==============================] - 5s 141ms/step - loss: 0.0559 - accuracy: 0.9634 - val_loss: 1.4119 - val_accuracy: 0.7841\n",
      "Epoch 88/100\n",
      "36/36 [==============================] - 5s 140ms/step - loss: 0.0563 - accuracy: 0.9648 - val_loss: 1.4240 - val_accuracy: 0.7869\n",
      "Epoch 89/100\n",
      "36/36 [==============================] - 5s 144ms/step - loss: 0.0545 - accuracy: 0.9684 - val_loss: 1.4042 - val_accuracy: 0.7874\n",
      "Epoch 90/100\n",
      "36/36 [==============================] - 5s 143ms/step - loss: 0.0573 - accuracy: 0.9626 - val_loss: 1.4116 - val_accuracy: 0.7863\n",
      "Epoch 91/100\n",
      "36/36 [==============================] - 5s 141ms/step - loss: 0.0558 - accuracy: 0.9644 - val_loss: 1.4131 - val_accuracy: 0.7902\n",
      "Epoch 92/100\n",
      "36/36 [==============================] - 5s 145ms/step - loss: 0.0543 - accuracy: 0.9649 - val_loss: 1.4036 - val_accuracy: 0.7841\n",
      "Epoch 93/100\n",
      "36/36 [==============================] - 5s 140ms/step - loss: 0.0548 - accuracy: 0.9641 - val_loss: 1.4240 - val_accuracy: 0.7902\n",
      "Epoch 94/100\n",
      "36/36 [==============================] - 5s 142ms/step - loss: 0.0546 - accuracy: 0.9644 - val_loss: 1.4286 - val_accuracy: 0.7896\n",
      "Epoch 95/100\n",
      "36/36 [==============================] - 5s 141ms/step - loss: 0.0545 - accuracy: 0.9669 - val_loss: 1.4365 - val_accuracy: 0.7824\n",
      "Epoch 96/100\n",
      "36/36 [==============================] - 5s 142ms/step - loss: 0.0576 - accuracy: 0.9659 - val_loss: 1.4428 - val_accuracy: 0.7902\n",
      "Epoch 97/100\n",
      "36/36 [==============================] - 5s 141ms/step - loss: 0.0562 - accuracy: 0.9649 - val_loss: 1.4254 - val_accuracy: 0.7896\n",
      "Epoch 98/100\n",
      "36/36 [==============================] - 5s 141ms/step - loss: 0.0578 - accuracy: 0.9659 - val_loss: 1.4438 - val_accuracy: 0.7802\n",
      "Epoch 99/100\n",
      "36/36 [==============================] - 5s 140ms/step - loss: 0.0535 - accuracy: 0.9674 - val_loss: 1.4331 - val_accuracy: 0.7874\n",
      "Epoch 100/100\n",
      "36/36 [==============================] - 5s 133ms/step - loss: 0.0542 - accuracy: 0.9659 - val_loss: 1.4257 - val_accuracy: 0.7830\n"
     ]
    },
    {
     "data": {
      "text/plain": [
       "<keras.callbacks.History at 0x1d9ed8a2d00>"
      ]
     },
     "execution_count": 95,
     "metadata": {},
     "output_type": "execute_result"
    }
   ],
   "source": [
    "epochs = 100\n",
    "batch_size = 200\n",
    "model.fit(X_train,y_train,\n",
    "          epochs=epochs,\n",
    "         batch_size=batch_size,\n",
    "         validation_data = (X_val,y_val))"
   ]
  },
  {
   "cell_type": "code",
   "execution_count": 96,
   "id": "1b701bd1",
   "metadata": {},
   "outputs": [
    {
     "name": "stdout",
     "output_type": "stream",
     "text": [
      "71/71 [==============================] - 1s 14ms/step - loss: 1.5558 - accuracy: 0.7765\n"
     ]
    },
    {
     "data": {
      "text/plain": [
       "[1.5558041334152222, 0.7764915227890015]"
      ]
     },
     "execution_count": 96,
     "metadata": {},
     "output_type": "execute_result"
    }
   ],
   "source": [
    "model.evaluate(X_test,y_test)"
   ]
  },
  {
   "cell_type": "code",
   "execution_count": null,
   "id": "06fea053",
   "metadata": {},
   "outputs": [],
   "source": []
  }
 ],
 "metadata": {
  "interpreter": {
   "hash": "6d46af94c2bbce495f1e668725902fa517c90b1782bcfe2fce0dd9868df553d3"
  },
  "kernelspec": {
   "display_name": "keras",
   "language": "python",
   "name": "python3"
  },
  "language_info": {
   "codemirror_mode": {
    "name": "ipython",
    "version": 3
   },
   "file_extension": ".py",
   "mimetype": "text/x-python",
   "name": "python",
   "nbconvert_exporter": "python",
   "pygments_lexer": "ipython3",
   "version": "3.9.7"
  }
 },
 "nbformat": 4,
 "nbformat_minor": 5
}
