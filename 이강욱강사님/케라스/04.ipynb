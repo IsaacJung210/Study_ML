{
 "cells": [
  {
   "cell_type": "code",
   "execution_count": 1,
   "id": "c8f5daa7-1d85-411f-9235-c56095ce9ba9",
   "metadata": {},
   "outputs": [],
   "source": [
    "import numpy as np\n",
    "import pandas as pd\n",
    "from keras.utils.np_utils import to_categorical\n",
    "from keras.datasets import boston_housing\n",
    "from keras.models import Sequential\n",
    "from keras.layers import Dense\n",
    "from sklearn.model_selection import train_test_split"
   ]
  },
  {
   "cell_type": "code",
   "execution_count": 25,
   "id": "3354d5d3-be0e-4cdb-905f-4169f964c91f",
   "metadata": {},
   "outputs": [],
   "source": [
    "from sklearn.linear_model import LinearRegression\n",
    "from sklearn.ensemble import RandomForestRegressor"
   ]
  },
  {
   "cell_type": "code",
   "execution_count": 2,
   "id": "e5593b4e-2587-4468-b18b-f86d61de1db1",
   "metadata": {},
   "outputs": [
    {
     "name": "stdout",
     "output_type": "stream",
     "text": [
      "Downloading data from https://storage.googleapis.com/tensorflow/tf-keras-datasets/boston_housing.npz\n",
      "57344/57026 [==============================] - 0s 0us/step\n",
      "65536/57026 [==================================] - 0s 0us/step\n"
     ]
    }
   ],
   "source": [
    "(X_train,y_train), (X_test,y_test) = boston_housing.load_data() "
   ]
  },
  {
   "cell_type": "code",
   "execution_count": 6,
   "id": "57f94d78-5dc1-4d20-a2d3-1153b5a16670",
   "metadata": {},
   "outputs": [],
   "source": [
    "y_train = y_train.reshape(-1,1)\n",
    "y_test = y_test.reshape(-1,1)"
   ]
  },
  {
   "cell_type": "code",
   "execution_count": 34,
   "id": "3b9d192b-0e09-40bd-8b2d-b567e422bbc4",
   "metadata": {},
   "outputs": [],
   "source": [
    "input_shape = X_train.shape[1]\n",
    "output_shape = y_train.shape[1]\n",
    "model = Sequential()\n",
    "model.add(Dense(28,activation='relu',input_shape=(input_shape,)))\n",
    "model.add(Dense(5,activation='relu'))\n",
    "model.add(Dense(output_shape))"
   ]
  },
  {
   "cell_type": "code",
   "execution_count": 35,
   "id": "6b51c751-09c1-4e22-8c48-5f15ba1fbb71",
   "metadata": {},
   "outputs": [],
   "source": [
    "opt = 'rmsprop'\n",
    "loss = 'mse'\n",
    "metrics = ['mse']\n",
    "model.compile(optimizer=opt, loss = loss, metrics = metrics)"
   ]
  },
  {
   "cell_type": "code",
   "execution_count": 36,
   "id": "ba3e9c56-0195-4aa4-ab20-8c3977758436",
   "metadata": {},
   "outputs": [
    {
     "name": "stdout",
     "output_type": "stream",
     "text": [
      "Epoch 1/30\n",
      "21/21 [==============================] - 0s 5ms/step - loss: 277.2371 - mse: 277.2371 - val_loss: 112.1641 - val_mse: 112.1641\n",
      "Epoch 2/30\n",
      "21/21 [==============================] - 0s 1ms/step - loss: 110.8949 - mse: 110.8950 - val_loss: 232.6753 - val_mse: 232.6753\n",
      "Epoch 3/30\n",
      "21/21 [==============================] - 0s 2ms/step - loss: 104.1983 - mse: 104.1983 - val_loss: 94.9543 - val_mse: 94.9543\n",
      "Epoch 4/30\n",
      "21/21 [==============================] - 0s 2ms/step - loss: 91.4415 - mse: 91.4415 - val_loss: 76.7836 - val_mse: 76.7836\n",
      "Epoch 5/30\n",
      "21/21 [==============================] - 0s 2ms/step - loss: 80.3712 - mse: 80.3712 - val_loss: 107.0195 - val_mse: 107.0195\n",
      "Epoch 6/30\n",
      "21/21 [==============================] - 0s 2ms/step - loss: 76.8424 - mse: 76.8424 - val_loss: 80.6571 - val_mse: 80.6571\n",
      "Epoch 7/30\n",
      "21/21 [==============================] - 0s 2ms/step - loss: 72.0099 - mse: 72.0099 - val_loss: 89.9515 - val_mse: 89.9515\n",
      "Epoch 8/30\n",
      "21/21 [==============================] - 0s 2ms/step - loss: 70.4543 - mse: 70.4543 - val_loss: 138.8512 - val_mse: 138.8512\n",
      "Epoch 9/30\n",
      "21/21 [==============================] - 0s 2ms/step - loss: 67.1776 - mse: 67.1776 - val_loss: 95.6376 - val_mse: 95.6376\n",
      "Epoch 10/30\n",
      "21/21 [==============================] - 0s 2ms/step - loss: 62.6949 - mse: 62.6949 - val_loss: 63.1347 - val_mse: 63.1347\n",
      "Epoch 11/30\n",
      "21/21 [==============================] - 0s 2ms/step - loss: 58.5781 - mse: 58.5781 - val_loss: 170.5843 - val_mse: 170.5843\n",
      "Epoch 12/30\n",
      "21/21 [==============================] - 0s 2ms/step - loss: 60.0180 - mse: 60.0180 - val_loss: 61.4294 - val_mse: 61.4294\n",
      "Epoch 13/30\n",
      "21/21 [==============================] - 0s 2ms/step - loss: 60.1324 - mse: 60.1324 - val_loss: 92.6599 - val_mse: 92.6599\n",
      "Epoch 14/30\n",
      "21/21 [==============================] - 0s 2ms/step - loss: 54.4195 - mse: 54.4195 - val_loss: 56.6826 - val_mse: 56.6826\n",
      "Epoch 15/30\n",
      "21/21 [==============================] - 0s 2ms/step - loss: 55.8125 - mse: 55.8125 - val_loss: 61.7473 - val_mse: 61.7473\n",
      "Epoch 16/30\n",
      "21/21 [==============================] - 0s 2ms/step - loss: 52.5926 - mse: 52.5926 - val_loss: 59.6257 - val_mse: 59.6257\n",
      "Epoch 17/30\n",
      "21/21 [==============================] - 0s 2ms/step - loss: 53.7549 - mse: 53.7549 - val_loss: 56.6155 - val_mse: 56.6155\n",
      "Epoch 18/30\n",
      "21/21 [==============================] - 0s 2ms/step - loss: 47.7454 - mse: 47.7454 - val_loss: 51.1722 - val_mse: 51.1722\n",
      "Epoch 19/30\n",
      "21/21 [==============================] - 0s 2ms/step - loss: 53.8043 - mse: 53.8043 - val_loss: 215.6323 - val_mse: 215.6323\n",
      "Epoch 20/30\n",
      "21/21 [==============================] - 0s 2ms/step - loss: 53.9919 - mse: 53.9919 - val_loss: 52.7292 - val_mse: 52.7292\n",
      "Epoch 21/30\n",
      "21/21 [==============================] - 0s 2ms/step - loss: 50.1638 - mse: 50.1638 - val_loss: 104.9780 - val_mse: 104.9780\n",
      "Epoch 22/30\n",
      "21/21 [==============================] - 0s 2ms/step - loss: 47.0923 - mse: 47.0923 - val_loss: 52.0010 - val_mse: 52.0010\n",
      "Epoch 23/30\n",
      "21/21 [==============================] - 0s 2ms/step - loss: 47.0649 - mse: 47.0649 - val_loss: 91.4594 - val_mse: 91.4594\n",
      "Epoch 24/30\n",
      "21/21 [==============================] - 0s 2ms/step - loss: 44.7646 - mse: 44.7646 - val_loss: 52.5592 - val_mse: 52.5592\n",
      "Epoch 25/30\n",
      "21/21 [==============================] - 0s 2ms/step - loss: 44.7392 - mse: 44.7392 - val_loss: 115.1225 - val_mse: 115.1225\n",
      "Epoch 26/30\n",
      "21/21 [==============================] - 0s 2ms/step - loss: 46.7001 - mse: 46.7001 - val_loss: 55.6742 - val_mse: 55.6742\n",
      "Epoch 27/30\n",
      "21/21 [==============================] - 0s 3ms/step - loss: 46.5910 - mse: 46.5910 - val_loss: 48.6525 - val_mse: 48.6525\n",
      "Epoch 28/30\n",
      "21/21 [==============================] - 0s 2ms/step - loss: 43.8679 - mse: 43.8679 - val_loss: 56.7717 - val_mse: 56.7717\n",
      "Epoch 29/30\n",
      "21/21 [==============================] - 0s 2ms/step - loss: 49.9766 - mse: 49.9766 - val_loss: 62.2609 - val_mse: 62.2609\n",
      "Epoch 30/30\n",
      "21/21 [==============================] - 0s 2ms/step - loss: 42.0446 - mse: 42.0446 - val_loss: 71.6031 - val_mse: 71.6031\n"
     ]
    },
    {
     "data": {
      "text/plain": [
       "<keras.callbacks.History at 0x7f64aa576910>"
      ]
     },
     "execution_count": 36,
     "metadata": {},
     "output_type": "execute_result"
    }
   ],
   "source": [
    "epochs = 30\n",
    "batch_size = 20\n",
    "model.fit(X_train,\n",
    "          y_train,\n",
    "          epochs=epochs,\n",
    "          batch_size=batch_size,\n",
    "         validation_data=(X_test,y_test))"
   ]
  },
  {
   "cell_type": "code",
   "execution_count": 37,
   "id": "57ed5a16-cf6d-43f7-aa89-33c97c529916",
   "metadata": {},
   "outputs": [
    {
     "name": "stdout",
     "output_type": "stream",
     "text": [
      "4/4 [==============================] - 0s 1ms/step - loss: 71.6031 - mse: 71.6031\n"
     ]
    },
    {
     "data": {
      "text/plain": [
       "8.461859458223273"
      ]
     },
     "execution_count": 37,
     "metadata": {},
     "output_type": "execute_result"
    }
   ],
   "source": [
    "np.sqrt(model.evaluate(X_test,y_test)[0])"
   ]
  },
  {
   "cell_type": "code",
   "execution_count": 17,
   "id": "5665be34-4c04-4fac-884a-569a021053d0",
   "metadata": {},
   "outputs": [
    {
     "data": {
      "text/plain": [
       "LinearRegression()"
      ]
     },
     "execution_count": 17,
     "metadata": {},
     "output_type": "execute_result"
    }
   ],
   "source": [
    "lr_model = LinearRegression()\n",
    "lr_model.fit(X_train,y_train)"
   ]
  },
  {
   "cell_type": "code",
   "execution_count": 20,
   "id": "8e167a24-bd27-43bb-ab27-aeeda6911197",
   "metadata": {},
   "outputs": [
    {
     "data": {
      "text/plain": [
       "2365.951124155147"
      ]
     },
     "execution_count": 20,
     "metadata": {},
     "output_type": "execute_result"
    }
   ],
   "source": [
    "np.sum((lr_model.predict(X_test) - y_test)**2)"
   ]
  },
  {
   "cell_type": "code",
   "execution_count": 22,
   "id": "ada4bf51-9496-47f5-b721-36511c3e2702",
   "metadata": {},
   "outputs": [
    {
     "data": {
      "text/plain": [
       "0.7213535934621549"
      ]
     },
     "execution_count": 22,
     "metadata": {},
     "output_type": "execute_result"
    }
   ],
   "source": [
    "lr_model.score(X_test,y_test)"
   ]
  },
  {
   "cell_type": "code",
   "execution_count": 26,
   "id": "b4e846bf-0a5d-4f23-be3b-698a077ce2c6",
   "metadata": {},
   "outputs": [
    {
     "name": "stderr",
     "output_type": "stream",
     "text": [
      "/tmp/ipykernel_12749/2971716159.py:2: DataConversionWarning: A column-vector y was passed when a 1d array was expected. Please change the shape of y to (n_samples,), for example using ravel().\n",
      "  rf_model.fit(X_train,y_train)\n"
     ]
    },
    {
     "data": {
      "text/plain": [
       "RandomForestRegressor()"
      ]
     },
     "execution_count": 26,
     "metadata": {},
     "output_type": "execute_result"
    }
   ],
   "source": [
    "rf_model = RandomForestRegressor()\n",
    "rf_model.fit(X_train,y_train)"
   ]
  },
  {
   "cell_type": "code",
   "execution_count": 27,
   "id": "e29ca70d-6077-4a84-bd47-1d8e6815490f",
   "metadata": {},
   "outputs": [
    {
     "data": {
      "text/plain": [
       "15153.752135372557"
      ]
     },
     "execution_count": 27,
     "metadata": {},
     "output_type": "execute_result"
    }
   ],
   "source": [
    "np.sum((rf_model.predict(X_test) - y_test)**2)/y_test.size"
   ]
  },
  {
   "cell_type": "code",
   "execution_count": 33,
   "id": "84b36de0-9584-4cd2-8b62-9f9eafc8478d",
   "metadata": {},
   "outputs": [
    {
     "data": {
      "text/plain": [
       "8.329958301447853"
      ]
     },
     "execution_count": 33,
     "metadata": {},
     "output_type": "execute_result"
    }
   ],
   "source": [
    "np.sqrt(np.sum((model.predict(X_test) - y_test)**2)/y_test.size)"
   ]
  },
  {
   "cell_type": "code",
   "execution_count": 3,
   "id": "e38f4ad0-3ce0-49d9-b86a-83d56e16f62f",
   "metadata": {},
   "outputs": [],
   "source": [
    "from keras.datasets import reuters"
   ]
  },
  {
   "cell_type": "code",
   "execution_count": 4,
   "id": "00e328bf-4e39-4bfb-bf49-248eef5103c0",
   "metadata": {},
   "outputs": [],
   "source": [
    "(X_train, y_train), (X_test, y_test) = reuters.load_data(num_words=10000)"
   ]
  },
  {
   "cell_type": "code",
   "execution_count": 5,
   "id": "70692c91-bb53-44ad-8609-41d30e407771",
   "metadata": {},
   "outputs": [],
   "source": [
    "X = np.concatenate([X_train,X_test])\n",
    "y = np.concatenate([y_train,y_test])"
   ]
  },
  {
   "cell_type": "code",
   "execution_count": 6,
   "id": "7e815738-00b8-4274-ab06-2519f639b44e",
   "metadata": {},
   "outputs": [],
   "source": [
    "word_index = reuters.get_word_index()"
   ]
  },
  {
   "cell_type": "code",
   "execution_count": 7,
   "id": "2e925310-2ae6-436b-9690-c335121984e6",
   "metadata": {},
   "outputs": [],
   "source": [
    "index_word = { v:k for k, v in word_index.items()}"
   ]
  },
  {
   "cell_type": "code",
   "execution_count": 8,
   "id": "21d80a50-d845-4777-a55f-f94b521aee89",
   "metadata": {},
   "outputs": [],
   "source": [
    "def make_sentence(x):\n",
    "    doc = []\n",
    "    for i in x:\n",
    "        tmp = []\n",
    "        for j in range(len(i)):\n",
    "            if i[j] < 30980:\n",
    "                tmp.append(index_word[i[j]])\n",
    "                sentence = ' '.join(tmp)\n",
    "        doc.append(sentence)\n",
    "    return pd.DataFrame(doc,columns=['text'])"
   ]
  },
  {
   "cell_type": "code",
   "execution_count": 9,
   "id": "272575fe-d032-4a81-b30f-4a95213f8f66",
   "metadata": {},
   "outputs": [],
   "source": [
    "X = make_sentence(X)"
   ]
  },
  {
   "cell_type": "code",
   "execution_count": 10,
   "id": "0486b210-cd2d-4848-bd82-9e45c70684ef",
   "metadata": {},
   "outputs": [],
   "source": [
    "xx = []\n",
    "for i in X.text.str.split(' '):\n",
    "    xx.extend(i)"
   ]
  },
  {
   "cell_type": "code",
   "execution_count": 11,
   "id": "eef1f7c9-77fc-4f4a-8973-dfdfcc079316",
   "metadata": {},
   "outputs": [],
   "source": [
    "aa = np.unique(np.array(xx))"
   ]
  },
  {
   "cell_type": "code",
   "execution_count": 12,
   "id": "f971cd10-6baf-4367-992e-c5925f564e06",
   "metadata": {},
   "outputs": [],
   "source": [
    "word_index1 = { k:v for k, v in enumerate(list(aa))}"
   ]
  },
  {
   "cell_type": "code",
   "execution_count": 13,
   "id": "09902cd7-35c0-411f-9ae4-31479e8636cd",
   "metadata": {},
   "outputs": [],
   "source": [
    "index_word1 = { v:k for k, v in word_index1.items()}"
   ]
  },
  {
   "cell_type": "code",
   "execution_count": 14,
   "id": "8ecee822-e5e0-45e4-b89b-03f5cddafa94",
   "metadata": {},
   "outputs": [
    {
     "data": {
      "text/plain": [
       "11228"
      ]
     },
     "execution_count": 14,
     "metadata": {},
     "output_type": "execute_result"
    }
   ],
   "source": [
    "len(X)"
   ]
  },
  {
   "cell_type": "code",
   "execution_count": 15,
   "id": "6254d845-adb8-404b-99db-41723cb7eaaa",
   "metadata": {},
   "outputs": [],
   "source": [
    "def make_index(x):\n",
    "    x = x.split(' ')\n",
    "    tmp = []\n",
    "    for i in x: \n",
    "        tmp.append(index_word1[i])\n",
    "    return tmp"
   ]
  },
  {
   "cell_type": "code",
   "execution_count": 16,
   "id": "7972cd88-9fd6-4be6-b008-0b4ce2869905",
   "metadata": {},
   "outputs": [],
   "source": [
    "X = X.text.apply(make_index)"
   ]
  },
  {
   "cell_type": "code",
   "execution_count": 17,
   "id": "5fbc5731-1f75-408d-bf83-a2dc8aadca8d",
   "metadata": {},
   "outputs": [],
   "source": [
    "def vectorize_sequences(sequences, dimension=10000):\n",
    "    # 크기가 (len(sequences), dimension))이고 모든 원소가 0인 행렬을 만듭니다\n",
    "    results = np.zeros((len(sequences), dimension))\n",
    "    for i, sequence in enumerate(sequences):\n",
    "        results[i, sequence] = 1.  # results[i]에서 특정 인덱스의 위치를 1로 만듭니다\n",
    "    return results"
   ]
  },
  {
   "cell_type": "code",
   "execution_count": 19,
   "id": "03a3a078-3900-4833-bd2a-1dfbdc56d765",
   "metadata": {},
   "outputs": [],
   "source": [
    "X_train, X_test, y_train, y_test = train_test_split(X,y,test_size=.2)"
   ]
  },
  {
   "cell_type": "code",
   "execution_count": 22,
   "id": "7e813e9e-c9a7-47b5-8aad-0a4eab3ff5fc",
   "metadata": {},
   "outputs": [],
   "source": [
    "y_train = to_categorical(y_train)\n",
    "y_test = to_categorical(y_test)"
   ]
  },
  {
   "cell_type": "code",
   "execution_count": 23,
   "id": "c93702af-f54d-407c-a76d-cc3cf801bc8b",
   "metadata": {},
   "outputs": [],
   "source": [
    "input_shape = X_train.shape[1]\n",
    "output_shape = y_train.shape[1]"
   ]
  },
  {
   "cell_type": "code",
   "execution_count": 26,
   "id": "0d2144f1-3331-4b81-b8f3-97845a6075e2",
   "metadata": {},
   "outputs": [
    {
     "name": "stderr",
     "output_type": "stream",
     "text": [
      "2022-05-02 17:23:30.678696: I tensorflow/core/platform/cpu_feature_guard.cc:142] This TensorFlow binary is optimized with oneAPI Deep Neural Network Library (oneDNN) to use the following CPU instructions in performance-critical operations:  SSE4.1 SSE4.2 AVX AVX2\n",
      "To enable them in other operations, rebuild TensorFlow with the appropriate compiler flags.\n",
      "2022-05-02 17:23:30.679952: I tensorflow/core/common_runtime/process_util.cc:146] Creating new thread pool with default inter op setting: 2. Tune using inter_op_parallelism_threads for best performance.\n"
     ]
    }
   ],
   "source": [
    "model = Sequential()\n",
    "model.add(Dense(1024,activation='relu',input_shape=(input_shape,)))\n",
    "model.add(Dense(256,activation='relu'))\n",
    "model.add(Dense(512,activation='relu'))\n",
    "model.add(Dense(1024,activation='relu'))\n",
    "model.add(Dense(output_shape,activation='softmax'))"
   ]
  },
  {
   "cell_type": "code",
   "execution_count": 27,
   "id": "d20f66c6-7801-4d1e-a0e6-ecefd0aeb1e5",
   "metadata": {},
   "outputs": [],
   "source": [
    "opt = 'adam'\n",
    "loss = 'categorical_crossentropy'\n",
    "metrics = ['accuracy']\n",
    "model.compile(optimizer=opt,\n",
    "             loss=loss,\n",
    "             metrics=metrics)"
   ]
  },
  {
   "cell_type": "code",
   "execution_count": 28,
   "id": "47f1b4a7-abb4-4569-911d-691288b7f8be",
   "metadata": {},
   "outputs": [
    {
     "name": "stderr",
     "output_type": "stream",
     "text": [
      "2022-05-02 17:23:32.990535: I tensorflow/compiler/mlir/mlir_graph_optimization_pass.cc:185] None of the MLIR Optimization Passes are enabled (registered 2)\n"
     ]
    },
    {
     "name": "stdout",
     "output_type": "stream",
     "text": [
      "Epoch 1/100\n",
      "23/23 [==============================] - 5s 220ms/step - loss: 1.9906 - accuracy: 0.5640\n",
      "Epoch 2/100\n",
      "23/23 [==============================] - 5s 210ms/step - loss: 1.0379 - accuracy: 0.7497\n",
      "Epoch 3/100\n",
      "23/23 [==============================] - 5s 204ms/step - loss: 0.6323 - accuracy: 0.8417\n",
      "Epoch 4/100\n",
      "23/23 [==============================] - 5s 202ms/step - loss: 0.3897 - accuracy: 0.9024\n",
      "Epoch 5/100\n",
      "23/23 [==============================] - 5s 205ms/step - loss: 0.2604 - accuracy: 0.9318\n",
      "Epoch 6/100\n",
      "23/23 [==============================] - 5s 205ms/step - loss: 0.1804 - accuracy: 0.9482\n",
      "Epoch 7/100\n",
      "23/23 [==============================] - 5s 202ms/step - loss: 0.1425 - accuracy: 0.9538\n",
      "Epoch 8/100\n",
      "23/23 [==============================] - 5s 200ms/step - loss: 0.1214 - accuracy: 0.9575\n",
      "Epoch 9/100\n",
      "23/23 [==============================] - 5s 200ms/step - loss: 0.1079 - accuracy: 0.9551\n",
      "Epoch 10/100\n",
      "23/23 [==============================] - 5s 199ms/step - loss: 0.1032 - accuracy: 0.9556\n",
      "Epoch 11/100\n",
      "23/23 [==============================] - 5s 201ms/step - loss: 0.0908 - accuracy: 0.9551\n",
      "Epoch 12/100\n",
      "23/23 [==============================] - 5s 201ms/step - loss: 0.0850 - accuracy: 0.9588\n",
      "Epoch 13/100\n",
      "23/23 [==============================] - 5s 204ms/step - loss: 0.0833 - accuracy: 0.9585\n",
      "Epoch 14/100\n",
      "23/23 [==============================] - 5s 207ms/step - loss: 0.0832 - accuracy: 0.9585\n",
      "Epoch 15/100\n",
      "23/23 [==============================] - 5s 205ms/step - loss: 0.0770 - accuracy: 0.9582\n",
      "Epoch 16/100\n",
      "23/23 [==============================] - 5s 203ms/step - loss: 0.0850 - accuracy: 0.9564\n",
      "Epoch 17/100\n",
      "23/23 [==============================] - 5s 201ms/step - loss: 0.0780 - accuracy: 0.9590\n",
      "Epoch 18/100\n",
      "23/23 [==============================] - 5s 204ms/step - loss: 0.0749 - accuracy: 0.9585\n",
      "Epoch 19/100\n",
      "23/23 [==============================] - 5s 204ms/step - loss: 0.0706 - accuracy: 0.9582\n",
      "Epoch 20/100\n",
      "23/23 [==============================] - 5s 201ms/step - loss: 0.0715 - accuracy: 0.9567\n",
      "Epoch 21/100\n",
      " 2/23 [=>............................] - ETA: 4s - loss: 0.0511 - accuracy: 0.9700"
     ]
    },
    {
     "ename": "KeyboardInterrupt",
     "evalue": "",
     "output_type": "error",
     "traceback": [
      "\u001b[0;31m---------------------------------------------------------------------------\u001b[0m",
      "\u001b[0;31mKeyboardInterrupt\u001b[0m                         Traceback (most recent call last)",
      "Input \u001b[0;32mIn [28]\u001b[0m, in \u001b[0;36m<cell line: 3>\u001b[0;34m()\u001b[0m\n\u001b[1;32m      1\u001b[0m epochs \u001b[38;5;241m=\u001b[39m \u001b[38;5;241m100\u001b[39m\n\u001b[1;32m      2\u001b[0m batch_size \u001b[38;5;241m=\u001b[39m \u001b[38;5;241m400\u001b[39m\n\u001b[0;32m----> 3\u001b[0m \u001b[43mmodel\u001b[49m\u001b[38;5;241;43m.\u001b[39;49m\u001b[43mfit\u001b[49m\u001b[43m(\u001b[49m\u001b[43mX_train\u001b[49m\u001b[43m,\u001b[49m\u001b[43m \u001b[49m\u001b[43my_train\u001b[49m\u001b[43m,\u001b[49m\u001b[43m \u001b[49m\u001b[43mepochs\u001b[49m\u001b[38;5;241;43m=\u001b[39;49m\u001b[43mepochs\u001b[49m\u001b[43m,\u001b[49m\u001b[43m \u001b[49m\u001b[43mbatch_size\u001b[49m\u001b[38;5;241;43m=\u001b[39;49m\u001b[43mbatch_size\u001b[49m\u001b[43m)\u001b[49m\n",
      "File \u001b[0;32m~/anaconda3/envs/keras/lib/python3.8/site-packages/keras/engine/training.py:1184\u001b[0m, in \u001b[0;36mModel.fit\u001b[0;34m(self, x, y, batch_size, epochs, verbose, callbacks, validation_split, validation_data, shuffle, class_weight, sample_weight, initial_epoch, steps_per_epoch, validation_steps, validation_batch_size, validation_freq, max_queue_size, workers, use_multiprocessing)\u001b[0m\n\u001b[1;32m   1177\u001b[0m \u001b[38;5;28;01mwith\u001b[39;00m tf\u001b[38;5;241m.\u001b[39mprofiler\u001b[38;5;241m.\u001b[39mexperimental\u001b[38;5;241m.\u001b[39mTrace(\n\u001b[1;32m   1178\u001b[0m     \u001b[38;5;124m'\u001b[39m\u001b[38;5;124mtrain\u001b[39m\u001b[38;5;124m'\u001b[39m,\n\u001b[1;32m   1179\u001b[0m     epoch_num\u001b[38;5;241m=\u001b[39mepoch,\n\u001b[1;32m   1180\u001b[0m     step_num\u001b[38;5;241m=\u001b[39mstep,\n\u001b[1;32m   1181\u001b[0m     batch_size\u001b[38;5;241m=\u001b[39mbatch_size,\n\u001b[1;32m   1182\u001b[0m     _r\u001b[38;5;241m=\u001b[39m\u001b[38;5;241m1\u001b[39m):\n\u001b[1;32m   1183\u001b[0m   callbacks\u001b[38;5;241m.\u001b[39mon_train_batch_begin(step)\n\u001b[0;32m-> 1184\u001b[0m   tmp_logs \u001b[38;5;241m=\u001b[39m \u001b[38;5;28;43mself\u001b[39;49m\u001b[38;5;241;43m.\u001b[39;49m\u001b[43mtrain_function\u001b[49m\u001b[43m(\u001b[49m\u001b[43miterator\u001b[49m\u001b[43m)\u001b[49m\n\u001b[1;32m   1185\u001b[0m   \u001b[38;5;28;01mif\u001b[39;00m data_handler\u001b[38;5;241m.\u001b[39mshould_sync:\n\u001b[1;32m   1186\u001b[0m     context\u001b[38;5;241m.\u001b[39masync_wait()\n",
      "File \u001b[0;32m~/anaconda3/envs/keras/lib/python3.8/site-packages/tensorflow/python/eager/def_function.py:885\u001b[0m, in \u001b[0;36mFunction.__call__\u001b[0;34m(self, *args, **kwds)\u001b[0m\n\u001b[1;32m    882\u001b[0m compiler \u001b[38;5;241m=\u001b[39m \u001b[38;5;124m\"\u001b[39m\u001b[38;5;124mxla\u001b[39m\u001b[38;5;124m\"\u001b[39m \u001b[38;5;28;01mif\u001b[39;00m \u001b[38;5;28mself\u001b[39m\u001b[38;5;241m.\u001b[39m_jit_compile \u001b[38;5;28;01melse\u001b[39;00m \u001b[38;5;124m\"\u001b[39m\u001b[38;5;124mnonXla\u001b[39m\u001b[38;5;124m\"\u001b[39m\n\u001b[1;32m    884\u001b[0m \u001b[38;5;28;01mwith\u001b[39;00m OptionalXlaContext(\u001b[38;5;28mself\u001b[39m\u001b[38;5;241m.\u001b[39m_jit_compile):\n\u001b[0;32m--> 885\u001b[0m   result \u001b[38;5;241m=\u001b[39m \u001b[38;5;28;43mself\u001b[39;49m\u001b[38;5;241;43m.\u001b[39;49m\u001b[43m_call\u001b[49m\u001b[43m(\u001b[49m\u001b[38;5;241;43m*\u001b[39;49m\u001b[43margs\u001b[49m\u001b[43m,\u001b[49m\u001b[43m \u001b[49m\u001b[38;5;241;43m*\u001b[39;49m\u001b[38;5;241;43m*\u001b[39;49m\u001b[43mkwds\u001b[49m\u001b[43m)\u001b[49m\n\u001b[1;32m    887\u001b[0m new_tracing_count \u001b[38;5;241m=\u001b[39m \u001b[38;5;28mself\u001b[39m\u001b[38;5;241m.\u001b[39mexperimental_get_tracing_count()\n\u001b[1;32m    888\u001b[0m without_tracing \u001b[38;5;241m=\u001b[39m (tracing_count \u001b[38;5;241m==\u001b[39m new_tracing_count)\n",
      "File \u001b[0;32m~/anaconda3/envs/keras/lib/python3.8/site-packages/tensorflow/python/eager/def_function.py:917\u001b[0m, in \u001b[0;36mFunction._call\u001b[0;34m(self, *args, **kwds)\u001b[0m\n\u001b[1;32m    914\u001b[0m   \u001b[38;5;28mself\u001b[39m\u001b[38;5;241m.\u001b[39m_lock\u001b[38;5;241m.\u001b[39mrelease()\n\u001b[1;32m    915\u001b[0m   \u001b[38;5;66;03m# In this case we have created variables on the first call, so we run the\u001b[39;00m\n\u001b[1;32m    916\u001b[0m   \u001b[38;5;66;03m# defunned version which is guaranteed to never create variables.\u001b[39;00m\n\u001b[0;32m--> 917\u001b[0m   \u001b[38;5;28;01mreturn\u001b[39;00m \u001b[38;5;28;43mself\u001b[39;49m\u001b[38;5;241;43m.\u001b[39;49m\u001b[43m_stateless_fn\u001b[49m\u001b[43m(\u001b[49m\u001b[38;5;241;43m*\u001b[39;49m\u001b[43margs\u001b[49m\u001b[43m,\u001b[49m\u001b[43m \u001b[49m\u001b[38;5;241;43m*\u001b[39;49m\u001b[38;5;241;43m*\u001b[39;49m\u001b[43mkwds\u001b[49m\u001b[43m)\u001b[49m  \u001b[38;5;66;03m# pylint: disable=not-callable\u001b[39;00m\n\u001b[1;32m    918\u001b[0m \u001b[38;5;28;01melif\u001b[39;00m \u001b[38;5;28mself\u001b[39m\u001b[38;5;241m.\u001b[39m_stateful_fn \u001b[38;5;129;01mis\u001b[39;00m \u001b[38;5;129;01mnot\u001b[39;00m \u001b[38;5;28;01mNone\u001b[39;00m:\n\u001b[1;32m    919\u001b[0m   \u001b[38;5;66;03m# Release the lock early so that multiple threads can perform the call\u001b[39;00m\n\u001b[1;32m    920\u001b[0m   \u001b[38;5;66;03m# in parallel.\u001b[39;00m\n\u001b[1;32m    921\u001b[0m   \u001b[38;5;28mself\u001b[39m\u001b[38;5;241m.\u001b[39m_lock\u001b[38;5;241m.\u001b[39mrelease()\n",
      "File \u001b[0;32m~/anaconda3/envs/keras/lib/python3.8/site-packages/tensorflow/python/eager/function.py:3039\u001b[0m, in \u001b[0;36mFunction.__call__\u001b[0;34m(self, *args, **kwargs)\u001b[0m\n\u001b[1;32m   3036\u001b[0m \u001b[38;5;28;01mwith\u001b[39;00m \u001b[38;5;28mself\u001b[39m\u001b[38;5;241m.\u001b[39m_lock:\n\u001b[1;32m   3037\u001b[0m   (graph_function,\n\u001b[1;32m   3038\u001b[0m    filtered_flat_args) \u001b[38;5;241m=\u001b[39m \u001b[38;5;28mself\u001b[39m\u001b[38;5;241m.\u001b[39m_maybe_define_function(args, kwargs)\n\u001b[0;32m-> 3039\u001b[0m \u001b[38;5;28;01mreturn\u001b[39;00m \u001b[43mgraph_function\u001b[49m\u001b[38;5;241;43m.\u001b[39;49m\u001b[43m_call_flat\u001b[49m\u001b[43m(\u001b[49m\n\u001b[1;32m   3040\u001b[0m \u001b[43m    \u001b[49m\u001b[43mfiltered_flat_args\u001b[49m\u001b[43m,\u001b[49m\u001b[43m \u001b[49m\u001b[43mcaptured_inputs\u001b[49m\u001b[38;5;241;43m=\u001b[39;49m\u001b[43mgraph_function\u001b[49m\u001b[38;5;241;43m.\u001b[39;49m\u001b[43mcaptured_inputs\u001b[49m\u001b[43m)\u001b[49m\n",
      "File \u001b[0;32m~/anaconda3/envs/keras/lib/python3.8/site-packages/tensorflow/python/eager/function.py:1963\u001b[0m, in \u001b[0;36mConcreteFunction._call_flat\u001b[0;34m(self, args, captured_inputs, cancellation_manager)\u001b[0m\n\u001b[1;32m   1959\u001b[0m possible_gradient_type \u001b[38;5;241m=\u001b[39m gradients_util\u001b[38;5;241m.\u001b[39mPossibleTapeGradientTypes(args)\n\u001b[1;32m   1960\u001b[0m \u001b[38;5;28;01mif\u001b[39;00m (possible_gradient_type \u001b[38;5;241m==\u001b[39m gradients_util\u001b[38;5;241m.\u001b[39mPOSSIBLE_GRADIENT_TYPES_NONE\n\u001b[1;32m   1961\u001b[0m     \u001b[38;5;129;01mand\u001b[39;00m executing_eagerly):\n\u001b[1;32m   1962\u001b[0m   \u001b[38;5;66;03m# No tape is watching; skip to running the function.\u001b[39;00m\n\u001b[0;32m-> 1963\u001b[0m   \u001b[38;5;28;01mreturn\u001b[39;00m \u001b[38;5;28mself\u001b[39m\u001b[38;5;241m.\u001b[39m_build_call_outputs(\u001b[38;5;28;43mself\u001b[39;49m\u001b[38;5;241;43m.\u001b[39;49m\u001b[43m_inference_function\u001b[49m\u001b[38;5;241;43m.\u001b[39;49m\u001b[43mcall\u001b[49m\u001b[43m(\u001b[49m\n\u001b[1;32m   1964\u001b[0m \u001b[43m      \u001b[49m\u001b[43mctx\u001b[49m\u001b[43m,\u001b[49m\u001b[43m \u001b[49m\u001b[43margs\u001b[49m\u001b[43m,\u001b[49m\u001b[43m \u001b[49m\u001b[43mcancellation_manager\u001b[49m\u001b[38;5;241;43m=\u001b[39;49m\u001b[43mcancellation_manager\u001b[49m\u001b[43m)\u001b[49m)\n\u001b[1;32m   1965\u001b[0m forward_backward \u001b[38;5;241m=\u001b[39m \u001b[38;5;28mself\u001b[39m\u001b[38;5;241m.\u001b[39m_select_forward_and_backward_functions(\n\u001b[1;32m   1966\u001b[0m     args,\n\u001b[1;32m   1967\u001b[0m     possible_gradient_type,\n\u001b[1;32m   1968\u001b[0m     executing_eagerly)\n\u001b[1;32m   1969\u001b[0m forward_function, args_with_tangents \u001b[38;5;241m=\u001b[39m forward_backward\u001b[38;5;241m.\u001b[39mforward()\n",
      "File \u001b[0;32m~/anaconda3/envs/keras/lib/python3.8/site-packages/tensorflow/python/eager/function.py:591\u001b[0m, in \u001b[0;36m_EagerDefinedFunction.call\u001b[0;34m(self, ctx, args, cancellation_manager)\u001b[0m\n\u001b[1;32m    589\u001b[0m \u001b[38;5;28;01mwith\u001b[39;00m _InterpolateFunctionError(\u001b[38;5;28mself\u001b[39m):\n\u001b[1;32m    590\u001b[0m   \u001b[38;5;28;01mif\u001b[39;00m cancellation_manager \u001b[38;5;129;01mis\u001b[39;00m \u001b[38;5;28;01mNone\u001b[39;00m:\n\u001b[0;32m--> 591\u001b[0m     outputs \u001b[38;5;241m=\u001b[39m \u001b[43mexecute\u001b[49m\u001b[38;5;241;43m.\u001b[39;49m\u001b[43mexecute\u001b[49m\u001b[43m(\u001b[49m\n\u001b[1;32m    592\u001b[0m \u001b[43m        \u001b[49m\u001b[38;5;28;43mstr\u001b[39;49m\u001b[43m(\u001b[49m\u001b[38;5;28;43mself\u001b[39;49m\u001b[38;5;241;43m.\u001b[39;49m\u001b[43msignature\u001b[49m\u001b[38;5;241;43m.\u001b[39;49m\u001b[43mname\u001b[49m\u001b[43m)\u001b[49m\u001b[43m,\u001b[49m\n\u001b[1;32m    593\u001b[0m \u001b[43m        \u001b[49m\u001b[43mnum_outputs\u001b[49m\u001b[38;5;241;43m=\u001b[39;49m\u001b[38;5;28;43mself\u001b[39;49m\u001b[38;5;241;43m.\u001b[39;49m\u001b[43m_num_outputs\u001b[49m\u001b[43m,\u001b[49m\n\u001b[1;32m    594\u001b[0m \u001b[43m        \u001b[49m\u001b[43minputs\u001b[49m\u001b[38;5;241;43m=\u001b[39;49m\u001b[43margs\u001b[49m\u001b[43m,\u001b[49m\n\u001b[1;32m    595\u001b[0m \u001b[43m        \u001b[49m\u001b[43mattrs\u001b[49m\u001b[38;5;241;43m=\u001b[39;49m\u001b[43mattrs\u001b[49m\u001b[43m,\u001b[49m\n\u001b[1;32m    596\u001b[0m \u001b[43m        \u001b[49m\u001b[43mctx\u001b[49m\u001b[38;5;241;43m=\u001b[39;49m\u001b[43mctx\u001b[49m\u001b[43m)\u001b[49m\n\u001b[1;32m    597\u001b[0m   \u001b[38;5;28;01melse\u001b[39;00m:\n\u001b[1;32m    598\u001b[0m     outputs \u001b[38;5;241m=\u001b[39m execute\u001b[38;5;241m.\u001b[39mexecute_with_cancellation(\n\u001b[1;32m    599\u001b[0m         \u001b[38;5;28mstr\u001b[39m(\u001b[38;5;28mself\u001b[39m\u001b[38;5;241m.\u001b[39msignature\u001b[38;5;241m.\u001b[39mname),\n\u001b[1;32m    600\u001b[0m         num_outputs\u001b[38;5;241m=\u001b[39m\u001b[38;5;28mself\u001b[39m\u001b[38;5;241m.\u001b[39m_num_outputs,\n\u001b[0;32m   (...)\u001b[0m\n\u001b[1;32m    603\u001b[0m         ctx\u001b[38;5;241m=\u001b[39mctx,\n\u001b[1;32m    604\u001b[0m         cancellation_manager\u001b[38;5;241m=\u001b[39mcancellation_manager)\n",
      "File \u001b[0;32m~/anaconda3/envs/keras/lib/python3.8/site-packages/tensorflow/python/eager/execute.py:59\u001b[0m, in \u001b[0;36mquick_execute\u001b[0;34m(op_name, num_outputs, inputs, attrs, ctx, name)\u001b[0m\n\u001b[1;32m     57\u001b[0m \u001b[38;5;28;01mtry\u001b[39;00m:\n\u001b[1;32m     58\u001b[0m   ctx\u001b[38;5;241m.\u001b[39mensure_initialized()\n\u001b[0;32m---> 59\u001b[0m   tensors \u001b[38;5;241m=\u001b[39m \u001b[43mpywrap_tfe\u001b[49m\u001b[38;5;241;43m.\u001b[39;49m\u001b[43mTFE_Py_Execute\u001b[49m\u001b[43m(\u001b[49m\u001b[43mctx\u001b[49m\u001b[38;5;241;43m.\u001b[39;49m\u001b[43m_handle\u001b[49m\u001b[43m,\u001b[49m\u001b[43m \u001b[49m\u001b[43mdevice_name\u001b[49m\u001b[43m,\u001b[49m\u001b[43m \u001b[49m\u001b[43mop_name\u001b[49m\u001b[43m,\u001b[49m\n\u001b[1;32m     60\u001b[0m \u001b[43m                                      \u001b[49m\u001b[43minputs\u001b[49m\u001b[43m,\u001b[49m\u001b[43m \u001b[49m\u001b[43mattrs\u001b[49m\u001b[43m,\u001b[49m\u001b[43m \u001b[49m\u001b[43mnum_outputs\u001b[49m\u001b[43m)\u001b[49m\n\u001b[1;32m     61\u001b[0m \u001b[38;5;28;01mexcept\u001b[39;00m core\u001b[38;5;241m.\u001b[39m_NotOkStatusException \u001b[38;5;28;01mas\u001b[39;00m e:\n\u001b[1;32m     62\u001b[0m   \u001b[38;5;28;01mif\u001b[39;00m name \u001b[38;5;129;01mis\u001b[39;00m \u001b[38;5;129;01mnot\u001b[39;00m \u001b[38;5;28;01mNone\u001b[39;00m:\n",
      "\u001b[0;31mKeyboardInterrupt\u001b[0m: "
     ]
    }
   ],
   "source": [
    "epochs = 100\n",
    "batch_size = 400\n",
    "model.fit(X_train, y_train, epochs=epochs, batch_size=batch_size)"
   ]
  },
  {
   "cell_type": "code",
   "execution_count": 79,
   "id": "a1909ef7-ecb0-4cad-b422-1125593068fe",
   "metadata": {},
   "outputs": [
    {
     "data": {
      "text/plain": [
       "array([0., 0., 0., ..., 0., 0., 0.])"
      ]
     },
     "execution_count": 79,
     "metadata": {},
     "output_type": "execute_result"
    }
   ],
   "source": [
    "X_test[0]"
   ]
  },
  {
   "cell_type": "code",
   "execution_count": 45,
   "id": "82a13f32-f29d-4cd8-a02d-b4eb8cde86ba",
   "metadata": {},
   "outputs": [],
   "source": [
    "data = '''\n",
    " decision came after Germany modern pentathlon coach Kim Raisner struck a horse at the Tokyo Games last year when it refused to jump a fence, an incident that led to widespread criticism of the sport.\n",
    "\n",
    "UIPM, which is set to hold an executive board meeting later on Monday, did not immediately respond to a Reuters request for comment.\n",
    "\n",
    "The report also said Britain Olympic champion Joe Choong was among athletes who wrote to International Olympic Committee President Thomas Bach on Sunday asking him to intervene.\n",
    "\n",
    "The letter stated that athletes had not played a central role in the review and consultation process for the fifth discipline, as per the IOC's expectations, the report added.\n",
    "\n",
    "The IOC was also made aware of a poll by Pentathlon United - a group formed to block the removal of the equestrian element - which showed 95% of athletes were unhappy with the UIPM decision, the report said.\n",
    "\n",
    "Modern pentathlon has been an Olympic sport since 1912 and features five events: fencing, swimming, equestrian show jumping, pistol shooting and cross-country running.\n",
    "'''"
   ]
  },
  {
   "cell_type": "code",
   "execution_count": 46,
   "id": "3c191a04-8a0f-4d0d-8195-089597fb8ed5",
   "metadata": {},
   "outputs": [],
   "source": [
    "data = data.replace('\\n','')"
   ]
  },
  {
   "cell_type": "code",
   "execution_count": 51,
   "id": "cc1e3dd4-bb53-43a0-a810-5d59c1ad7718",
   "metadata": {},
   "outputs": [],
   "source": [
    "def make_index(x):\n",
    "    x = x.split(' ')\n",
    "    tmp = []\n",
    "    for i in x:\n",
    "        try:\n",
    "            tmp.append(index_word1[i])\n",
    "        except KeyError:\n",
    "            tmp.append(7)\n",
    "    return tmp"
   ]
  },
  {
   "cell_type": "code",
   "execution_count": 54,
   "id": "51e7be59-ed0a-4ae5-b5f3-319a0f5c1e5a",
   "metadata": {},
   "outputs": [
    {
     "data": {
      "text/plain": [
       "647"
      ]
     },
     "execution_count": 54,
     "metadata": {},
     "output_type": "execute_result"
    }
   ],
   "source": [
    "def vectorize_sequences(sequences, dimension=10000):\n",
    "    # 크기가 (len(sequences), dimension))이고 모든 원소가 0인 행렬을 만듭니다\n",
    "    results = np.zeros((len(sequences), dimension))\n",
    "    for i, sequence in enumerate(sequences):\n",
    "        results[i, sequence] = 1.  # results[i]에서 특정 인덱스의 위치를 1로 만듭니다\n",
    "    return results\n",
    "np.argmax(model.predict(vectorize_sequences(make_index(data))))"
   ]
  },
  {
   "cell_type": "code",
   "execution_count": 92,
   "id": "eb782650-cabd-4dc0-9da3-4c2619206606",
   "metadata": {},
   "outputs": [],
   "source": [
    "x = make_index(data)\n",
    "t = np.zeros(10000)\n",
    "for i in range(len(x)):\n",
    "    t[x[i]] = 1"
   ]
  },
  {
   "cell_type": "code",
   "execution_count": 96,
   "id": "b81975b6-45bc-4a0c-9a98-b4a61842d342",
   "metadata": {},
   "outputs": [
    {
     "data": {
      "text/plain": [
       "3"
      ]
     },
     "execution_count": 96,
     "metadata": {},
     "output_type": "execute_result"
    }
   ],
   "source": [
    "np.argmax(model.predict(t.reshape(1,-1)))"
   ]
  },
  {
   "cell_type": "code",
   "execution_count": 81,
   "id": "f0a930eb-f294-46e7-9f58-59154705d9ee",
   "metadata": {},
   "outputs": [
    {
     "data": {
      "text/plain": [
       "(2, 46)"
      ]
     },
     "execution_count": 81,
     "metadata": {},
     "output_type": "execute_result"
    }
   ],
   "source": [
    "model.predict(vectorize_sequences(make_index(data[0]))).shape"
   ]
  },
  {
   "cell_type": "code",
   "execution_count": 77,
   "id": "c55cd1f1-de60-4772-a2a3-d64e6f21e6d5",
   "metadata": {},
   "outputs": [
    {
     "data": {
      "text/plain": [
       "(172, 10000)"
      ]
     },
     "execution_count": 77,
     "metadata": {},
     "output_type": "execute_result"
    }
   ],
   "source": [
    "vectorize_sequences(make_index(data))"
   ]
  },
  {
   "cell_type": "code",
   "execution_count": 71,
   "id": "336f033b-8ffe-4749-bf8e-43aed47c17cc",
   "metadata": {},
   "outputs": [
    {
     "data": {
      "text/plain": [
       "array([ 3,  3,  3,  3,  3,  3,  3,  3,  3,  3,  3,  3,  3,  3,  3,  3,  3,\n",
       "        3,  3,  3,  3,  4,  3,  3,  3,  3,  3,  3,  3,  3,  3,  3,  3,  3,\n",
       "        3,  3,  3, 20,  3,  3,  3,  3,  3,  3,  3, 19,  3,  3, 16,  3,  3,\n",
       "        3,  3,  3,  3,  3,  3,  3,  3,  3,  3,  3,  3,  3,  3,  3,  3,  3,\n",
       "        3,  3,  3,  3,  3,  3,  3,  3,  3,  3,  3,  3,  4,  3,  3,  3,  3,\n",
       "        3,  3,  3,  3,  3,  3,  3,  4,  3,  3,  3,  3,  3, 20,  3,  3,  3,\n",
       "        3,  3,  3,  3,  3,  3,  3,  3,  3,  3,  3,  3,  3,  3,  3,  3,  3,\n",
       "        3,  3,  3,  3,  3,  3,  3,  3,  3,  3,  3,  3,  3,  3,  3,  3,  3,\n",
       "        3,  3,  3,  3,  3,  3,  3,  3,  3,  3,  3,  3,  3,  3,  3,  3,  3,\n",
       "        3,  3,  3,  3,  3,  3,  3,  3,  3,  3,  3,  3,  3,  3,  3,  3,  3,\n",
       "        3,  3])"
      ]
     },
     "execution_count": 71,
     "metadata": {},
     "output_type": "execute_result"
    }
   ],
   "source": [
    "np.argmax(model.predict(vectorize_sequences(make_index(data))),axis=1)"
   ]
  },
  {
   "cell_type": "code",
   "execution_count": null,
   "id": "fe098b71-c8d4-4936-a62a-ec1e5504204a",
   "metadata": {},
   "outputs": [],
   "source": []
  }
 ],
 "metadata": {
  "kernelspec": {
   "display_name": "keras",
   "language": "python",
   "name": "keras"
  },
  "language_info": {
   "codemirror_mode": {
    "name": "ipython",
    "version": 3
   },
   "file_extension": ".py",
   "mimetype": "text/x-python",
   "name": "python",
   "nbconvert_exporter": "python",
   "pygments_lexer": "ipython3",
   "version": "3.8.13"
  }
 },
 "nbformat": 4,
 "nbformat_minor": 5
}
