{
 "cells": [
  {
   "cell_type": "code",
   "execution_count": 1,
   "id": "28f39772-4f38-4674-b282-684ddb7c5863",
   "metadata": {},
   "outputs": [],
   "source": [
    "import numpy as np\n",
    "import pandas as pd\n",
    "from collections import Counter\n",
    "from sklearn.model_selection import train_test_split\n",
    "from keras.utils.np_utils import to_categorical\n",
    "from keras.models import Sequential\n",
    "from keras.layers import Dense\n",
    "from keras.datasets import imdb"
   ]
  },
  {
   "cell_type": "code",
   "execution_count": 2,
   "id": "d0a83759-39aa-4025-bb8e-02d2ba284581",
   "metadata": {},
   "outputs": [],
   "source": [
    "(X_train_raw, y_train_raw), (X_test_raw,y_test_raw) = imdb.load_data()"
   ]
  },
  {
   "cell_type": "code",
   "execution_count": 3,
   "id": "248e0e14-3539-40b5-a8c7-f29e4681edf2",
   "metadata": {},
   "outputs": [],
   "source": [
    "word_index = imdb.get_word_index()"
   ]
  },
  {
   "cell_type": "code",
   "execution_count": 4,
   "id": "7455cff3-66ff-4d67-a42c-b2cbaec6f724",
   "metadata": {},
   "outputs": [],
   "source": [
    "index_word = { v:k for k,v in word_index.items()}"
   ]
  },
  {
   "cell_type": "code",
   "execution_count": 5,
   "id": "07d43d62-64a5-4a52-8236-64e0b459f6c4",
   "metadata": {},
   "outputs": [],
   "source": [
    "def make_sentence(x):\n",
    "    doc = []\n",
    "    for i in x:\n",
    "        i = np.array(i)[np.array(i) <= max(word_index.values())]\n",
    "        tmp = []\n",
    "        for j in range(len(i)):\n",
    "            tmp.append(index_word[i[j]])\n",
    "            sentence = ' '.join(tmp)\n",
    "        doc.append(sentence)\n",
    "    return pd.DataFrame(doc,columns=['text'])"
   ]
  },
  {
   "cell_type": "code",
   "execution_count": 6,
   "id": "33e74212-664e-4e68-83c5-69d5df32525b",
   "metadata": {},
   "outputs": [],
   "source": [
    "X_train = make_sentence(X_train_raw)"
   ]
  },
  {
   "cell_type": "code",
   "execution_count": 7,
   "id": "6ee02880-4333-4257-ba2b-4b655c775c49",
   "metadata": {},
   "outputs": [],
   "source": [
    "X_test = make_sentence(X_test_raw)"
   ]
  },
  {
   "cell_type": "code",
   "execution_count": 8,
   "id": "20483dd8-ec5d-44c2-86ef-8a4091f02a61",
   "metadata": {},
   "outputs": [],
   "source": [
    "X = pd.concat([X_train,X_test])"
   ]
  },
  {
   "cell_type": "code",
   "execution_count": 10,
   "id": "cc71fa15-f590-4b4d-8002-f64fd1f2339b",
   "metadata": {},
   "outputs": [],
   "source": [
    "y = np.concatenate([y_train_raw,y_test_raw])"
   ]
  },
  {
   "cell_type": "code",
   "execution_count": 11,
   "id": "2dc88e4b-9a49-4d4e-a3c3-fe19b513cf13",
   "metadata": {},
   "outputs": [],
   "source": [
    "X['label'] = y"
   ]
  },
  {
   "cell_type": "code",
   "execution_count": 57,
   "id": "6d5c2ebc-aab5-4cad-8f02-4f3281131e1a",
   "metadata": {},
   "outputs": [],
   "source": [
    "# preprocessing\n",
    "# 단어 unique -full_text, --> unique\n",
    "# word_index (사전 정수인덱스:단어)\n",
    "# index_word (사전 단어:정수인덱스)\n",
    "# 정수 인코딩\n",
    "# X_train, y_train, X_test, y_test, (8:2) \n",
    "# X_train, y_train, X_val, y_val (8:2)\n",
    "# X_train, val, test ==> one-hot"
   ]
  },
  {
   "cell_type": "code",
   "execution_count": 13,
   "id": "28295e34-e297-482b-ab50-88b7b0aa2b2c",
   "metadata": {},
   "outputs": [],
   "source": [
    "X.reset_index(inplace=True)"
   ]
  },
  {
   "cell_type": "code",
   "execution_count": 14,
   "id": "a7bc15b5-18be-49e1-964e-d48789e08628",
   "metadata": {},
   "outputs": [],
   "source": [
    "full_text = []\n",
    "for i in X.text:\n",
    "    tmp = i.split()\n",
    "    full_text.extend(tmp)"
   ]
  },
  {
   "cell_type": "code",
   "execution_count": 15,
   "id": "bb0d7682-ec59-4b74-b0f6-e45273e14680",
   "metadata": {},
   "outputs": [],
   "source": [
    "word_cnt = Counter(full_text)"
   ]
  },
  {
   "cell_type": "code",
   "execution_count": 16,
   "id": "6e3e576d-c8f2-425d-8b33-ca1a22b7ba2f",
   "metadata": {},
   "outputs": [],
   "source": [
    "common_word = word_cnt.most_common(1000)"
   ]
  },
  {
   "cell_type": "code",
   "execution_count": 17,
   "id": "6f4cdefb-479a-4fe0-9d67-12e66f932265",
   "metadata": {},
   "outputs": [],
   "source": [
    "used_word = [ i for i,j in common_word]"
   ]
  },
  {
   "cell_type": "code",
   "execution_count": 18,
   "id": "64560e54-4dba-43df-b5eb-fc326cf2cc13",
   "metadata": {},
   "outputs": [],
   "source": [
    "unique_word = list(set(used_word))"
   ]
  },
  {
   "cell_type": "code",
   "execution_count": 19,
   "id": "6a55456b-9abd-4716-b86f-ebba66923930",
   "metadata": {},
   "outputs": [],
   "source": [
    "word_index = { k+1:v for k, v in enumerate(unique_word)}"
   ]
  },
  {
   "cell_type": "code",
   "execution_count": 20,
   "id": "f4b48c1b-a8f3-4ea1-a6b8-a06c8a80402e",
   "metadata": {},
   "outputs": [],
   "source": [
    "index_word = { v:k for k,v in word_index.items()}"
   ]
  },
  {
   "cell_type": "code",
   "execution_count": 21,
   "id": "e244c1f0-9eab-426d-97c7-5f4971185f14",
   "metadata": {},
   "outputs": [
    {
     "data": {
      "text/plain": [
       "1000"
      ]
     },
     "execution_count": 21,
     "metadata": {},
     "output_type": "execute_result"
    }
   ],
   "source": [
    "max(word_index.keys())"
   ]
  },
  {
   "cell_type": "code",
   "execution_count": 22,
   "id": "d89577d2-5553-4dfa-9ab9-a8cd6ee9ee03",
   "metadata": {},
   "outputs": [],
   "source": [
    "def make_sentence(x):\n",
    "    encoded_x = []\n",
    "    for i in x.split():\n",
    "        encoded_x.append(index_word.get(i,0))\n",
    "    return encoded_x"
   ]
  },
  {
   "cell_type": "code",
   "execution_count": 23,
   "id": "2ea09612-9bf2-4e7b-8aa8-9c32092ed4bf",
   "metadata": {},
   "outputs": [],
   "source": [
    "encoded_x = X.text.apply(make_sentence)"
   ]
  },
  {
   "cell_type": "code",
   "execution_count": 24,
   "id": "7ea628a3-fe75-4aef-a4f0-a8a3cadb2105",
   "metadata": {},
   "outputs": [],
   "source": [
    "def vectorize_word(x,dimension=1000):\n",
    "    t = np.zeros((x.shape[0],dimension))\n",
    "    for k,v in enumerate(x.values):\n",
    "        for i in v:\n",
    "            if i < dimension:\n",
    "                t[k,i] += 1\n",
    "    return t"
   ]
  },
  {
   "cell_type": "code",
   "execution_count": 25,
   "id": "db360145-b445-4704-8a6e-f6406d980041",
   "metadata": {},
   "outputs": [],
   "source": [
    "vectorized_x = vectorize_word(encoded_x)"
   ]
  },
  {
   "cell_type": "code",
   "execution_count": 26,
   "id": "0377723e-506f-42c1-b8f0-4a3269ac73fc",
   "metadata": {},
   "outputs": [],
   "source": [
    "y = X.label.values"
   ]
  },
  {
   "cell_type": "code",
   "execution_count": 27,
   "id": "3c0e02d9-22fc-4c35-93f2-2e6cb10bbb6b",
   "metadata": {},
   "outputs": [],
   "source": [
    "y = y.reshape(-1,1)"
   ]
  },
  {
   "cell_type": "code",
   "execution_count": 28,
   "id": "5c3f9f59-b742-4b49-9aea-f5428d5785e2",
   "metadata": {},
   "outputs": [],
   "source": [
    "idx = int(vectorized_x.shape[0]*0.8)"
   ]
  },
  {
   "cell_type": "code",
   "execution_count": 29,
   "id": "ab835586-6536-45ae-b132-5b1aea1d1699",
   "metadata": {},
   "outputs": [],
   "source": [
    "X_train = vectorized_x[:idx]\n",
    "y_train = y[:idx]\n",
    "X_test = vectorized_x[idx:]\n",
    "y_test = y[idx:]"
   ]
  },
  {
   "cell_type": "code",
   "execution_count": 30,
   "id": "fd7b0f33-3532-4e45-988e-07ddbee89164",
   "metadata": {},
   "outputs": [],
   "source": [
    "idx = int(X_train.shape[0]*0.8)"
   ]
  },
  {
   "cell_type": "code",
   "execution_count": 31,
   "id": "82c9788b-0131-4717-9cba-f3f0e38c3f91",
   "metadata": {},
   "outputs": [],
   "source": [
    "X_val = X_train[idx:]\n",
    "X_train = X_train[:idx]\n",
    "y_val = y_train[idx:]\n",
    "y_train = y_train[:idx]"
   ]
  },
  {
   "cell_type": "code",
   "execution_count": 32,
   "id": "efcdf5c4-e224-489f-95c9-ce8b8633693d",
   "metadata": {},
   "outputs": [],
   "source": [
    "input_shape = X_train.shape[1]\n",
    "output_shape = y_train.shape[1]"
   ]
  },
  {
   "cell_type": "code",
   "execution_count": 33,
   "id": "dd8c28ec-210a-4975-881e-93e21ac59fce",
   "metadata": {},
   "outputs": [
    {
     "name": "stderr",
     "output_type": "stream",
     "text": [
      "2022-05-03 13:56:03.609737: I tensorflow/core/platform/cpu_feature_guard.cc:142] This TensorFlow binary is optimized with oneAPI Deep Neural Network Library (oneDNN) to use the following CPU instructions in performance-critical operations:  SSE4.1 SSE4.2 AVX AVX2\n",
      "To enable them in other operations, rebuild TensorFlow with the appropriate compiler flags.\n",
      "2022-05-03 13:56:03.610530: I tensorflow/core/common_runtime/process_util.cc:146] Creating new thread pool with default inter op setting: 2. Tune using inter_op_parallelism_threads for best performance.\n"
     ]
    }
   ],
   "source": [
    "# 모델생성\n",
    "model = Sequential()\n",
    "model.add(Dense(64,activation='relu',input_shape=(input_shape,)))\n",
    "model.add(Dense(32,activation='relu'))\n",
    "model.add(Dense(output_shape,activation='sigmoid'))"
   ]
  },
  {
   "cell_type": "code",
   "execution_count": 34,
   "id": "906363bb-910c-463f-aa5e-5a428dea44b4",
   "metadata": {},
   "outputs": [],
   "source": [
    "# 모델컴파일\n",
    "optimizer = 'adam'\n",
    "loss = 'binary_crossentropy'\n",
    "metrics = ['accuracy']\n",
    "model.compile(optimizer=optimizer,\n",
    "             loss=loss,\n",
    "             metrics=metrics)"
   ]
  },
  {
   "cell_type": "code",
   "execution_count": 35,
   "id": "4a664cda-50e1-4c8d-b96b-053ce512079a",
   "metadata": {},
   "outputs": [
    {
     "name": "stderr",
     "output_type": "stream",
     "text": [
      "2022-05-03 13:56:09.958968: I tensorflow/compiler/mlir/mlir_graph_optimization_pass.cc:185] None of the MLIR Optimization Passes are enabled (registered 2)\n"
     ]
    },
    {
     "name": "stdout",
     "output_type": "stream",
     "text": [
      "Epoch 1/10\n",
      "320/320 [==============================] - 1s 2ms/step - loss: 0.4517 - accuracy: 0.7994 - val_loss: 0.3288 - val_accuracy: 0.8664\n",
      "Epoch 2/10\n",
      "320/320 [==============================] - 0s 1ms/step - loss: 0.3193 - accuracy: 0.8687 - val_loss: 0.3219 - val_accuracy: 0.8665\n",
      "Epoch 3/10\n",
      "320/320 [==============================] - 0s 1ms/step - loss: 0.2961 - accuracy: 0.8758 - val_loss: 0.3184 - val_accuracy: 0.8674\n",
      "Epoch 4/10\n",
      "320/320 [==============================] - 0s 1ms/step - loss: 0.2734 - accuracy: 0.8854 - val_loss: 0.3249 - val_accuracy: 0.8627\n",
      "Epoch 5/10\n",
      "320/320 [==============================] - 0s 1ms/step - loss: 0.2462 - accuracy: 0.8975 - val_loss: 0.3288 - val_accuracy: 0.8630\n",
      "Epoch 6/10\n",
      "320/320 [==============================] - 0s 1ms/step - loss: 0.2194 - accuracy: 0.9082 - val_loss: 0.3598 - val_accuracy: 0.8612\n",
      "Epoch 7/10\n",
      "320/320 [==============================] - 0s 1ms/step - loss: 0.1821 - accuracy: 0.9263 - val_loss: 0.4049 - val_accuracy: 0.8589\n",
      "Epoch 8/10\n",
      "320/320 [==============================] - 0s 1ms/step - loss: 0.1526 - accuracy: 0.9396 - val_loss: 0.4283 - val_accuracy: 0.8569\n",
      "Epoch 9/10\n",
      "320/320 [==============================] - 0s 1ms/step - loss: 0.1183 - accuracy: 0.9548 - val_loss: 0.4522 - val_accuracy: 0.8462\n",
      "Epoch 10/10\n",
      "320/320 [==============================] - 0s 1ms/step - loss: 0.0926 - accuracy: 0.9657 - val_loss: 0.5561 - val_accuracy: 0.8405\n"
     ]
    },
    {
     "data": {
      "text/plain": [
       "<keras.callbacks.History at 0x7f21d06e6130>"
      ]
     },
     "execution_count": 35,
     "metadata": {},
     "output_type": "execute_result"
    }
   ],
   "source": [
    "# 모델학습\n",
    "epochs = 10\n",
    "batch_size = 100\n",
    "validation_data = (X_val, y_val)\n",
    "model.fit(X_train,\n",
    "          y_train,\n",
    "         epochs=epochs,\n",
    "         batch_size= batch_size,\n",
    "         validation_data=validation_data)"
   ]
  },
  {
   "cell_type": "code",
   "execution_count": 36,
   "id": "d8e2b241-a64f-481b-b464-397fd0693d7a",
   "metadata": {},
   "outputs": [
    {
     "name": "stdout",
     "output_type": "stream",
     "text": [
      "313/313 [==============================] - 0s 784us/step - loss: 0.5050 - accuracy: 0.8456\n"
     ]
    },
    {
     "data": {
      "text/plain": [
       "[0.5050464868545532, 0.8456000089645386]"
      ]
     },
     "execution_count": 36,
     "metadata": {},
     "output_type": "execute_result"
    }
   ],
   "source": [
    "# 모델 테스트\n",
    "model.evaluate(X_test,y_test)"
   ]
  },
  {
   "cell_type": "code",
   "execution_count": 63,
   "id": "eaad8ec0-10a5-4216-bc5e-5688a91c0509",
   "metadata": {},
   "outputs": [],
   "source": [
    "comment = X.text[0]\n",
    "\n",
    "def make_sentence(x):\n",
    "    encoded_x = []\n",
    "    for i in x.split():\n",
    "        encoded_x.append(index_word.get(i,0))\n",
    "    return encoded_x"
   ]
  },
  {
   "cell_type": "code",
   "execution_count": 73,
   "id": "0428d6ae-2e74-419b-aa02-1ff019e31a1d",
   "metadata": {},
   "outputs": [
    {
     "data": {
      "text/plain": [
       "array([[1]])"
      ]
     },
     "execution_count": 73,
     "metadata": {},
     "output_type": "execute_result"
    }
   ],
   "source": [
    "comment = X.text[0]\n",
    "x = make_sentence(comment)\n",
    "def vectorize(x):\n",
    "    t = np.zeros(X_train.shape[1])\n",
    "    for i in x:\n",
    "        t[i] += 1\n",
    "    return t.reshape(1,-1)\n",
    "x = vectorize(x)\n",
    "result = np.where(model.predict(x) > 0.5,1,0)\n",
    "result"
   ]
  },
  {
   "cell_type": "code",
   "execution_count": 81,
   "id": "bb619d3c-973b-47a7-9a83-5b51ea5a6b83",
   "metadata": {},
   "outputs": [],
   "source": [
    "# 1-긍정 0-부정\n",
    "def answer(x):\n",
    "    x = make_sentence(x)\n",
    "    x = vectorize(x)\n",
    "    result = np.where(model.predict(x) >0.5,'긍정','부정')\n",
    "    print(str(result[0][0]))\n",
    "    return result"
   ]
  },
  {
   "cell_type": "code",
   "execution_count": 82,
   "id": "b02aa518-23ed-491d-8016-d00c5bbdccf8",
   "metadata": {},
   "outputs": [
    {
     "data": {
      "text/plain": [
       "\"the of bernadette mon they halfway of identity went plot actors watch of share was well these can this only coe ten so failing feels only novak killer theo of bill br gretal would find of films saw grade about hated it for br so ten remain by in of songs are of sahib gigantic is morality it's her or know would care i i br screen that obvious plot actors new would with paris not have attempt lead or of too would local that of every their it coming this eleven of information to concocts br singers movie was anxious that film is under by left this troble is entertainment ok this in own be house of sticks worker in bound my i i obviously sake things just as lost lot br comes never like thing start of obviously comes indeed coming want no bad than history from lost comes accidentally young to movie bad facts dream from reason these honor movie elizabeth it's movie so fi implanted enough to computer duo film paraphrasing almost jeffrey rarely obviously snag alive to appears i i only human it gildersleeve just only hop to be hop new made comes evidence blues high in want to other blues of their for concludes those i'm 1995 that wider obviously message obviously obviously for submarine of bikinis brother br singers make climbs lit woody's this estimated of blood br andy worst cavil it boyish this across as it when lines that make excellent scenery that there is julia fantasy to repressed notoriety film good br of loose incorporates basic have into your whatever i i gildersleeve invade demented be hop this standards cole new be home all seek film wives lot br made critters in at this of search how concept in thirty some this pliers not all it rachel are of boys war's re is incorporates animals deserve i i worst more it is renting concerned message made all critters in does of nor of nor side be nykvist center obviously know end computer here to all tries in does of nor side of home br be indeed i i all it officer in could is performance buffoon fully in of shrimp br by br sniveling its tatsuhito lit well of nor at coming it's it that an this obviously i i this as their has obviously bad dunno exist countless conquers mixed of attackers br work to of run up meteorite attackers br dear nor this early her bad having tortured film invade movie all care of their br be right acting i i dictator's of tatsuhito mormons it away of its shooting criteria to suffering version you br singers your way just invade was can't compared condition film of camerawork br united obviously are up obviously not other just invade was segel as true was least of hiyao certainly lady poorly of setting produced haim br refuse to make just have 2 which indefinitely of resigned dialog stuntmen br of frye say in can is you for it wasn't in singers as by it away plenty what have reason zones are that willing that's have 2 which sister thee of important br halfway to of took work 20 br similar more he good flower for hit at coming not see reputation\""
      ]
     },
     "execution_count": 82,
     "metadata": {},
     "output_type": "execute_result"
    }
   ],
   "source": [
    "comment = X.text[3]\n",
    "comment"
   ]
  },
  {
   "cell_type": "code",
   "execution_count": 83,
   "id": "ead5264a-5fec-4bd8-a197-02fe349f5bab",
   "metadata": {},
   "outputs": [
    {
     "name": "stdout",
     "output_type": "stream",
     "text": [
      "긍정\n"
     ]
    },
    {
     "data": {
      "text/plain": [
       "array([['긍정']], dtype='<U2')"
      ]
     },
     "execution_count": 83,
     "metadata": {},
     "output_type": "execute_result"
    }
   ],
   "source": [
    "answer(comment)"
   ]
  },
  {
   "cell_type": "code",
   "execution_count": 1,
   "id": "14b20f6a-9e7b-48ef-a614-57c91d9a8c07",
   "metadata": {},
   "outputs": [],
   "source": [
    "from konlpy.tag import Komoran, Kkma, Okt, Hannanum"
   ]
  },
  {
   "cell_type": "code",
   "execution_count": 2,
   "id": "e3ceca8b-f71c-4b0a-bfe8-06526df0d860",
   "metadata": {},
   "outputs": [],
   "source": [
    "sentence = '아버지가방에들어가신다'"
   ]
  },
  {
   "cell_type": "code",
   "execution_count": 3,
   "id": "b5ad4855",
   "metadata": {},
   "outputs": [],
   "source": [
    "komoran = Komoran()\n",
    "okt = Okt()\n",
    "kkma = Kkma()\n",
    "han = Hannanum()"
   ]
  },
  {
   "cell_type": "code",
   "execution_count": 4,
   "id": "03cb0ce9",
   "metadata": {},
   "outputs": [
    {
     "data": {
      "text/plain": [
       "['아버지', '가방']"
      ]
     },
     "execution_count": 4,
     "metadata": {},
     "output_type": "execute_result"
    }
   ],
   "source": [
    "komoran.nouns(sentence)"
   ]
  },
  {
   "cell_type": "code",
   "execution_count": 5,
   "id": "aca458f6",
   "metadata": {},
   "outputs": [
    {
     "data": {
      "text/plain": [
       "['아버지', '가방']"
      ]
     },
     "execution_count": 5,
     "metadata": {},
     "output_type": "execute_result"
    }
   ],
   "source": [
    "okt.nouns(sentence)"
   ]
  },
  {
   "cell_type": "code",
   "execution_count": 6,
   "id": "650a88a8",
   "metadata": {},
   "outputs": [
    {
     "data": {
      "text/plain": [
       "['아버지', '아버지가방', '가방']"
      ]
     },
     "execution_count": 6,
     "metadata": {},
     "output_type": "execute_result"
    }
   ],
   "source": [
    "kkma.nouns(sentence)"
   ]
  },
  {
   "cell_type": "code",
   "execution_count": 7,
   "id": "440edc54",
   "metadata": {},
   "outputs": [
    {
     "data": {
      "text/plain": [
       "['아버지가방에들어가']"
      ]
     },
     "execution_count": 7,
     "metadata": {},
     "output_type": "execute_result"
    }
   ],
   "source": [
    "han.nouns(sentence)"
   ]
  },
  {
   "cell_type": "code",
   "execution_count": 8,
   "id": "480b82f2",
   "metadata": {},
   "outputs": [
    {
     "data": {
      "text/plain": [
       "[('아버지', 'NNG'),\n",
       " ('가방', 'NNP'),\n",
       " ('에', 'JKB'),\n",
       " ('들어가', 'VV'),\n",
       " ('시', 'EP'),\n",
       " ('ㄴ다', 'EC')]"
      ]
     },
     "execution_count": 8,
     "metadata": {},
     "output_type": "execute_result"
    }
   ],
   "source": [
    "komoran.pos(sentence)"
   ]
  },
  {
   "cell_type": "code",
   "execution_count": null,
   "id": "b6ecf939",
   "metadata": {},
   "outputs": [],
   "source": []
  }
 ],
 "metadata": {
  "interpreter": {
   "hash": "6d46af94c2bbce495f1e668725902fa517c90b1782bcfe2fce0dd9868df553d3"
  },
  "kernelspec": {
   "display_name": "keras",
   "language": "python",
   "name": "python3"
  },
  "language_info": {
   "codemirror_mode": {
    "name": "ipython",
    "version": 3
   },
   "file_extension": ".py",
   "mimetype": "text/x-python",
   "name": "python",
   "nbconvert_exporter": "python",
   "pygments_lexer": "ipython3",
   "version": "3.9.7"
  }
 },
 "nbformat": 4,
 "nbformat_minor": 5
}
