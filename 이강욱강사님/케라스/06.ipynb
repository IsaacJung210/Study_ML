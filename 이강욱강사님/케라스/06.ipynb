{
 "cells": [
  {
   "cell_type": "code",
   "execution_count": 14,
   "id": "649e2acc-b74f-4a71-ab64-440bacfe9f22",
   "metadata": {},
   "outputs": [],
   "source": [
    "import numpy as np\n",
    "import pandas as pd\n",
    "from konlpy.tag import Komoran, Kkma, Okt\n",
    "from collections import Counter\n",
    "from keras.utils.np_utils import to_categorical\n",
    "from keras.models import Sequential\n",
    "from keras.layers import Dense"
   ]
  },
  {
   "cell_type": "code",
   "execution_count": 15,
   "id": "49ff6768-b4f2-45b9-834c-0824aa62ef99",
   "metadata": {},
   "outputs": [],
   "source": [
    "data = pd.read_csv(\"kedi.csv\",encoding='cp949')"
   ]
  },
  {
   "cell_type": "code",
   "execution_count": 16,
   "id": "56bcb20a-9eb5-4157-b86c-84350850f323",
   "metadata": {},
   "outputs": [],
   "source": [
    "okt = Okt()"
   ]
  },
  {
   "cell_type": "code",
   "execution_count": 17,
   "id": "766fa053-fc1f-4adf-bc2f-fc252a5eb201",
   "metadata": {},
   "outputs": [],
   "source": [
    "def make_nouns(x):\n",
    "    return okt.nouns(x)"
   ]
  },
  {
   "cell_type": "code",
   "execution_count": 18,
   "id": "68f565f7-a9da-4c92-95f2-ee18a5cb1501",
   "metadata": {},
   "outputs": [],
   "source": [
    "data = data[[\"프로그램명\",\"소분류코드\",\"소분류\"]]"
   ]
  },
  {
   "cell_type": "code",
   "execution_count": 19,
   "id": "03df810e-0464-4016-90cb-567309659957",
   "metadata": {},
   "outputs": [],
   "source": [
    "data.columns = ['program_name','code','code_name']"
   ]
  },
  {
   "cell_type": "code",
   "execution_count": 20,
   "id": "706a4075-19d6-4cad-b7f9-bcf2fc9fa19d",
   "metadata": {},
   "outputs": [],
   "source": [
    "data = data.iloc[1:,:]"
   ]
  },
  {
   "cell_type": "code",
   "execution_count": 21,
   "id": "c5479591-d4c6-49a5-b74e-d4b1e0d95df2",
   "metadata": {},
   "outputs": [],
   "source": [
    "data.reset_index(inplace=True)"
   ]
  },
  {
   "cell_type": "code",
   "execution_count": 22,
   "id": "e942f977-b880-44aa-a5c1-d2d0a0b6a3b4",
   "metadata": {},
   "outputs": [],
   "source": [
    "data.drop('index',axis=1,inplace=True)"
   ]
  },
  {
   "cell_type": "code",
   "execution_count": 23,
   "id": "06ac0307-f6d5-4226-92cc-2073c23be98b",
   "metadata": {},
   "outputs": [],
   "source": [
    "X = data.program_name.apply(make_nouns)"
   ]
  },
  {
   "cell_type": "code",
   "execution_count": 24,
   "id": "99440f90-ebcf-4e81-8ebb-5a71fd7f7c26",
   "metadata": {},
   "outputs": [],
   "source": [
    "def remove_one(x):\n",
    "    new_x = []\n",
    "    for i in x:\n",
    "        if len(i) > 1:\n",
    "            new_x.append(i)\n",
    "    return new_x"
   ]
  },
  {
   "cell_type": "code",
   "execution_count": 25,
   "id": "dcce4106-342b-41d4-a179-5aff6be68b8f",
   "metadata": {},
   "outputs": [],
   "source": [
    "X = X.apply(remove_one)"
   ]
  },
  {
   "cell_type": "code",
   "execution_count": 26,
   "id": "d2cf2aeb-2b46-4b1d-ad70-08ed6458829b",
   "metadata": {},
   "outputs": [],
   "source": [
    "full_text = []\n",
    "for i in X:\n",
    "    full_text.extend(i)"
   ]
  },
  {
   "cell_type": "code",
   "execution_count": 27,
   "id": "89c03a59-8f6a-4cf7-9c27-5fa69ec70e54",
   "metadata": {},
   "outputs": [],
   "source": [
    "unique_word = list(set(full_text))"
   ]
  },
  {
   "cell_type": "code",
   "execution_count": 34,
   "id": "f0c37f23-5e59-400d-a129-5fdb8a7edf09",
   "metadata": {},
   "outputs": [],
   "source": [
    "word_cnt = Counter(full_text)\n",
    "common_word = word_cnt.most_common(1000)"
   ]
  },
  {
   "cell_type": "code",
   "execution_count": 35,
   "id": "51c6ccc6-cf8e-476d-867a-fd5ea0a3f267",
   "metadata": {},
   "outputs": [],
   "source": [
    "unique_word = [ i for i,j in common_word]"
   ]
  },
  {
   "cell_type": "code",
   "execution_count": 36,
   "id": "91f81fe8-433d-416b-81d3-e31f9863e818",
   "metadata": {},
   "outputs": [],
   "source": [
    "word_index = { k:v for k,v in enumerate(unique_word) }"
   ]
  },
  {
   "cell_type": "code",
   "execution_count": 37,
   "id": "2462cb5d-710b-4c42-855b-658443b472ac",
   "metadata": {},
   "outputs": [],
   "source": [
    "index_word = { v:k for k,v in word_index.items()}"
   ]
  },
  {
   "cell_type": "code",
   "execution_count": 38,
   "id": "cca72124-dac0-4083-89ba-6bae2c72c204",
   "metadata": {},
   "outputs": [],
   "source": [
    "## 정수 인코딩\n",
    "def label_encode(x):\n",
    "    encoded_x = []\n",
    "    for i in x:\n",
    "        encoded_x.append(index_word.get(i,0))\n",
    "    return encoded_x"
   ]
  },
  {
   "cell_type": "code",
   "execution_count": 39,
   "id": "b24379ec-f934-4a22-851d-be168ae9d6c0",
   "metadata": {},
   "outputs": [],
   "source": [
    "label_encoded = X.apply(label_encode)"
   ]
  },
  {
   "cell_type": "code",
   "execution_count": 40,
   "id": "f8a5bcb8-efe5-4586-a473-ac10a85d1a57",
   "metadata": {},
   "outputs": [],
   "source": [
    "def vectorize_word(x,dimension=1000):\n",
    "    t = np.zeros((x.shape[0],dimension))\n",
    "    for k,v in enumerate(x.values):\n",
    "        for i in v:\n",
    "            if i < dimension:\n",
    "                t[k,i] += 1\n",
    "    return t"
   ]
  },
  {
   "cell_type": "code",
   "execution_count": 41,
   "id": "b0cd207c-7a29-4e88-afcc-0d9a8c3afd6e",
   "metadata": {},
   "outputs": [],
   "source": [
    "one_hot = vectorize_word(label_encoded)"
   ]
  },
  {
   "cell_type": "code",
   "execution_count": 42,
   "id": "f00db749-d7b5-45ea-a9cc-10c200b74f75",
   "metadata": {},
   "outputs": [],
   "source": [
    "code_text = []\n",
    "for i in data.code:\n",
    "    code_text.append(i)"
   ]
  },
  {
   "cell_type": "code",
   "execution_count": 43,
   "id": "f5af58c0-37c0-499e-aaee-d4219a11a661",
   "metadata": {},
   "outputs": [],
   "source": [
    "unique_code = list(set(code_text))"
   ]
  },
  {
   "cell_type": "code",
   "execution_count": 44,
   "id": "2c2e8f98-a792-4c45-a52e-d1851fd310ec",
   "metadata": {},
   "outputs": [],
   "source": [
    "code_index = { k:v for k,v in enumerate(unique_code)} \n",
    "index_code = { v:k for k,v in code_index.items()}"
   ]
  },
  {
   "cell_type": "code",
   "execution_count": 45,
   "id": "b1ba5cc8-0faa-4e8f-b903-cdb61946b826",
   "metadata": {},
   "outputs": [],
   "source": [
    "def code_encode(x):\n",
    "    encoded_x = []\n",
    "    for i in x:\n",
    "        encoded_x.append(index_code.get(i,0))\n",
    "    return encoded_x"
   ]
  },
  {
   "cell_type": "code",
   "execution_count": 46,
   "id": "4515bab4-c129-4d74-bf4a-1ed943daa745",
   "metadata": {},
   "outputs": [],
   "source": [
    "label_code = []\n",
    "for i in data.code:\n",
    "    label_code.append(index_code[i])\n",
    "data['label'] = label_code"
   ]
  },
  {
   "cell_type": "code",
   "execution_count": 47,
   "id": "7f5fdfda-c82b-4447-99ce-355a45b81a1a",
   "metadata": {},
   "outputs": [],
   "source": [
    "y = to_categorical(data.label.values)"
   ]
  },
  {
   "cell_type": "code",
   "execution_count": 90,
   "id": "15d79c4a-7f41-48ad-a255-2ccf3fd63bf4",
   "metadata": {},
   "outputs": [
    {
     "data": {
      "text/html": [
       "<div>\n",
       "<style scoped>\n",
       "    .dataframe tbody tr th:only-of-type {\n",
       "        vertical-align: middle;\n",
       "    }\n",
       "\n",
       "    .dataframe tbody tr th {\n",
       "        vertical-align: top;\n",
       "    }\n",
       "\n",
       "    .dataframe thead th {\n",
       "        text-align: right;\n",
       "    }\n",
       "</style>\n",
       "<table border=\"1\" class=\"dataframe\">\n",
       "  <thead>\n",
       "    <tr style=\"text-align: right;\">\n",
       "      <th></th>\n",
       "      <th>code_name</th>\n",
       "      <th>label</th>\n",
       "    </tr>\n",
       "  </thead>\n",
       "  <tbody>\n",
       "    <tr>\n",
       "      <th>0</th>\n",
       "      <td>한국어</td>\n",
       "      <td>72</td>\n",
       "    </tr>\n",
       "    <tr>\n",
       "      <th>1</th>\n",
       "      <td>한국어</td>\n",
       "      <td>72</td>\n",
       "    </tr>\n",
       "    <tr>\n",
       "      <th>2</th>\n",
       "      <td>한국어</td>\n",
       "      <td>72</td>\n",
       "    </tr>\n",
       "    <tr>\n",
       "      <th>3</th>\n",
       "      <td>한국어</td>\n",
       "      <td>72</td>\n",
       "    </tr>\n",
       "    <tr>\n",
       "      <th>4</th>\n",
       "      <td>한국어</td>\n",
       "      <td>72</td>\n",
       "    </tr>\n",
       "    <tr>\n",
       "      <th>...</th>\n",
       "      <td>...</td>\n",
       "      <td>...</td>\n",
       "    </tr>\n",
       "    <tr>\n",
       "      <th>125164</th>\n",
       "      <td>입시 기타</td>\n",
       "      <td>32</td>\n",
       "    </tr>\n",
       "    <tr>\n",
       "      <th>125165</th>\n",
       "      <td>입시 기타</td>\n",
       "      <td>32</td>\n",
       "    </tr>\n",
       "    <tr>\n",
       "      <th>125166</th>\n",
       "      <td>입시 기타</td>\n",
       "      <td>32</td>\n",
       "    </tr>\n",
       "    <tr>\n",
       "      <th>125167</th>\n",
       "      <td>입시 기타</td>\n",
       "      <td>32</td>\n",
       "    </tr>\n",
       "    <tr>\n",
       "      <th>125168</th>\n",
       "      <td>입시 기타</td>\n",
       "      <td>32</td>\n",
       "    </tr>\n",
       "  </tbody>\n",
       "</table>\n",
       "<p>125169 rows × 2 columns</p>\n",
       "</div>"
      ],
      "text/plain": [
       "       code_name  label\n",
       "0            한국어     72\n",
       "1            한국어     72\n",
       "2            한국어     72\n",
       "3            한국어     72\n",
       "4            한국어     72\n",
       "...          ...    ...\n",
       "125164     입시 기타     32\n",
       "125165     입시 기타     32\n",
       "125166     입시 기타     32\n",
       "125167     입시 기타     32\n",
       "125168     입시 기타     32\n",
       "\n",
       "[125169 rows x 2 columns]"
      ]
     },
     "execution_count": 90,
     "metadata": {},
     "output_type": "execute_result"
    }
   ],
   "source": [
    "data[[\"code_name\",\"label\"]]"
   ]
  },
  {
   "cell_type": "code",
   "execution_count": 91,
   "id": "acad040d-66a4-4f59-9627-8d45b20fe334",
   "metadata": {},
   "outputs": [],
   "source": [
    "code_dictionary = {}\n",
    "for i in range(data.code_name.size):\n",
    "    code_dictionary[data.label[i]] = data.code_name[i]"
   ]
  },
  {
   "cell_type": "code",
   "execution_count": 48,
   "id": "4e3f8496-5c4e-4be8-a083-38d3580a046d",
   "metadata": {},
   "outputs": [],
   "source": [
    "dt = pd.DataFrame(np.c_[one_hot,y])"
   ]
  },
  {
   "cell_type": "code",
   "execution_count": 49,
   "id": "e77ad033-5da7-47b3-9c34-dbe39e514045",
   "metadata": {},
   "outputs": [],
   "source": [
    "idx = np.random.choice(dt.index,len(dt.index),replace=False)"
   ]
  },
  {
   "cell_type": "code",
   "execution_count": 50,
   "id": "22a8ff60-f52b-4c3e-ae6d-bba8c787e5d4",
   "metadata": {},
   "outputs": [],
   "source": [
    "tr_idx = idx[:int(0.8*len(idx))]\n",
    "te_idx = idx[int(0.8*len(idx)):]"
   ]
  },
  {
   "cell_type": "code",
   "execution_count": 51,
   "id": "97a7dd80-833c-4f53-9923-3ab2ef27f668",
   "metadata": {},
   "outputs": [],
   "source": [
    "X_train = dt.iloc[tr_idx,:1000].values\n",
    "X_test = dt.iloc[te_idx,:1000].values\n",
    "y_train = dt.iloc[tr_idx,1000:].values\n",
    "y_test = dt.iloc[te_idx,1000:].values"
   ]
  },
  {
   "cell_type": "code",
   "execution_count": 52,
   "id": "7c524265-daa8-4986-a599-f14dafe56ae1",
   "metadata": {},
   "outputs": [],
   "source": [
    "input_shape = X_train.shape[1]\n",
    "output_shape = y_train.shape[1]"
   ]
  },
  {
   "cell_type": "code",
   "execution_count": 58,
   "id": "ab69b258-a583-4ac8-bd7a-c1e20d47d9c2",
   "metadata": {},
   "outputs": [],
   "source": [
    "model = Sequential()\n",
    "model.add(Dense(256,activation='relu',input_shape=(input_shape,)))\n",
    "model.add(Dense(512,activation='relu'))\n",
    "model.add(Dense(256,activation='relu'))\n",
    "model.add(Dense(output_shape,activation='softmax'))"
   ]
  },
  {
   "cell_type": "code",
   "execution_count": 59,
   "id": "c5c39fb2-e15c-4b56-9d64-b7983b9c355c",
   "metadata": {},
   "outputs": [
    {
     "name": "stdout",
     "output_type": "stream",
     "text": [
      "Model: \"sequential_1\"\n",
      "_________________________________________________________________\n",
      "Layer (type)                 Output Shape              Param #   \n",
      "=================================================================\n",
      "dense_3 (Dense)              (None, 256)               256256    \n",
      "_________________________________________________________________\n",
      "dense_4 (Dense)              (None, 512)               131584    \n",
      "_________________________________________________________________\n",
      "dense_5 (Dense)              (None, 256)               131328    \n",
      "_________________________________________________________________\n",
      "dense_6 (Dense)              (None, 121)               31097     \n",
      "=================================================================\n",
      "Total params: 550,265\n",
      "Trainable params: 550,265\n",
      "Non-trainable params: 0\n",
      "_________________________________________________________________\n"
     ]
    }
   ],
   "source": [
    "model.summary()"
   ]
  },
  {
   "cell_type": "code",
   "execution_count": 60,
   "id": "a6e31bab-ecf5-4d50-ab25-1f3cdf626bf6",
   "metadata": {},
   "outputs": [],
   "source": [
    "optimizer = 'adam'\n",
    "loss = 'categorical_crossentropy'\n",
    "metrics = ['accuracy']\n",
    "model.compile(optimizer=optimizer,\n",
    "             loss=loss,\n",
    "             metrics=metrics)"
   ]
  },
  {
   "cell_type": "code",
   "execution_count": 61,
   "id": "9e1a8376-9f6a-4a66-b264-5502d4c89a4c",
   "metadata": {},
   "outputs": [
    {
     "name": "stdout",
     "output_type": "stream",
     "text": [
      "Epoch 1/100\n",
      "334/334 [==============================] - 6s 16ms/step - loss: 2.1104 - accuracy: 0.5353 - val_loss: 1.4088 - val_accuracy: 0.6656\n",
      "Epoch 2/100\n",
      "334/334 [==============================] - 5s 15ms/step - loss: 1.2959 - accuracy: 0.6826 - val_loss: 1.3114 - val_accuracy: 0.6784\n",
      "Epoch 3/100\n",
      "334/334 [==============================] - 5s 15ms/step - loss: 1.1895 - accuracy: 0.6986 - val_loss: 1.2718 - val_accuracy: 0.6843\n",
      "Epoch 4/100\n",
      "334/334 [==============================] - 5s 16ms/step - loss: 1.1308 - accuracy: 0.7085 - val_loss: 1.2562 - val_accuracy: 0.6850\n",
      "Epoch 5/100\n",
      "334/334 [==============================] - 5s 16ms/step - loss: 1.0831 - accuracy: 0.7186 - val_loss: 1.2326 - val_accuracy: 0.6913\n",
      "Epoch 6/100\n",
      "334/334 [==============================] - 5s 16ms/step - loss: 1.0406 - accuracy: 0.7274 - val_loss: 1.2345 - val_accuracy: 0.6915\n",
      "Epoch 7/100\n",
      "334/334 [==============================] - 5s 15ms/step - loss: 1.0037 - accuracy: 0.7338 - val_loss: 1.2405 - val_accuracy: 0.6916\n",
      "Epoch 8/100\n",
      "334/334 [==============================] - 5s 15ms/step - loss: 0.9717 - accuracy: 0.7407 - val_loss: 1.2366 - val_accuracy: 0.6970\n",
      "Epoch 9/100\n",
      "334/334 [==============================] - 5s 15ms/step - loss: 0.9442 - accuracy: 0.7480 - val_loss: 1.2487 - val_accuracy: 0.6955\n",
      "Epoch 10/100\n",
      "334/334 [==============================] - 5s 15ms/step - loss: 0.9193 - accuracy: 0.7526 - val_loss: 1.2557 - val_accuracy: 0.6961\n",
      "Epoch 11/100\n",
      "334/334 [==============================] - 5s 16ms/step - loss: 0.8970 - accuracy: 0.7571 - val_loss: 1.2751 - val_accuracy: 0.6983\n",
      "Epoch 12/100\n",
      "334/334 [==============================] - 5s 14ms/step - loss: 0.8759 - accuracy: 0.7632 - val_loss: 1.2858 - val_accuracy: 0.6915\n",
      "Epoch 13/100\n",
      "334/334 [==============================] - 5s 16ms/step - loss: 0.8591 - accuracy: 0.7655 - val_loss: 1.2965 - val_accuracy: 0.6950\n",
      "Epoch 14/100\n",
      "334/334 [==============================] - 5s 15ms/step - loss: 0.8396 - accuracy: 0.7714 - val_loss: 1.2963 - val_accuracy: 0.6967\n",
      "Epoch 15/100\n",
      "334/334 [==============================] - 5s 15ms/step - loss: 0.8278 - accuracy: 0.7752 - val_loss: 1.3251 - val_accuracy: 0.6946\n",
      "Epoch 16/100\n",
      "334/334 [==============================] - 5s 15ms/step - loss: 0.8155 - accuracy: 0.7765 - val_loss: 1.3326 - val_accuracy: 0.6947\n",
      "Epoch 17/100\n",
      "334/334 [==============================] - 5s 15ms/step - loss: 0.8002 - accuracy: 0.7808 - val_loss: 1.3511 - val_accuracy: 0.6927\n",
      "Epoch 18/100\n",
      "334/334 [==============================] - 5s 15ms/step - loss: 0.7946 - accuracy: 0.7818 - val_loss: 1.3531 - val_accuracy: 0.6933\n",
      "Epoch 19/100\n",
      "334/334 [==============================] - 5s 15ms/step - loss: 0.7826 - accuracy: 0.7844 - val_loss: 1.3688 - val_accuracy: 0.6951\n",
      "Epoch 20/100\n",
      "334/334 [==============================] - 5s 15ms/step - loss: 0.7732 - accuracy: 0.7871 - val_loss: 1.3761 - val_accuracy: 0.6911\n",
      "Epoch 21/100\n",
      "334/334 [==============================] - 5s 15ms/step - loss: 0.7652 - accuracy: 0.7888 - val_loss: 1.3847 - val_accuracy: 0.6929\n",
      "Epoch 22/100\n",
      "334/334 [==============================] - 5s 15ms/step - loss: 0.7585 - accuracy: 0.7901 - val_loss: 1.4050 - val_accuracy: 0.6931\n",
      "Epoch 23/100\n",
      "334/334 [==============================] - 5s 15ms/step - loss: 0.7509 - accuracy: 0.7917 - val_loss: 1.4162 - val_accuracy: 0.6923\n",
      "Epoch 24/100\n",
      "334/334 [==============================] - 5s 15ms/step - loss: 0.7440 - accuracy: 0.7917 - val_loss: 1.4314 - val_accuracy: 0.6936\n",
      "Epoch 25/100\n",
      "334/334 [==============================] - 5s 15ms/step - loss: 0.7385 - accuracy: 0.7943 - val_loss: 1.4353 - val_accuracy: 0.6931\n",
      "Epoch 26/100\n",
      "334/334 [==============================] - 5s 15ms/step - loss: 0.7343 - accuracy: 0.7949 - val_loss: 1.4420 - val_accuracy: 0.6921\n",
      "Epoch 27/100\n",
      "334/334 [==============================] - 5s 15ms/step - loss: 0.7298 - accuracy: 0.7955 - val_loss: 1.4646 - val_accuracy: 0.6935\n",
      "Epoch 28/100\n",
      "334/334 [==============================] - 5s 15ms/step - loss: 0.7226 - accuracy: 0.7978 - val_loss: 1.4674 - val_accuracy: 0.6906\n",
      "Epoch 29/100\n",
      "334/334 [==============================] - 5s 15ms/step - loss: 0.7203 - accuracy: 0.7976 - val_loss: 1.4995 - val_accuracy: 0.6923\n",
      "Epoch 30/100\n",
      "334/334 [==============================] - 5s 15ms/step - loss: 0.7149 - accuracy: 0.7985 - val_loss: 1.4701 - val_accuracy: 0.6921\n",
      "Epoch 31/100\n",
      "334/334 [==============================] - 5s 15ms/step - loss: 0.7105 - accuracy: 0.7997 - val_loss: 1.5073 - val_accuracy: 0.6944\n",
      "Epoch 32/100\n",
      "334/334 [==============================] - 5s 15ms/step - loss: 0.7082 - accuracy: 0.7993 - val_loss: 1.5227 - val_accuracy: 0.6924\n",
      "Epoch 33/100\n",
      "334/334 [==============================] - 5s 15ms/step - loss: 0.7040 - accuracy: 0.8009 - val_loss: 1.5283 - val_accuracy: 0.6936\n",
      "Epoch 34/100\n",
      "334/334 [==============================] - 5s 14ms/step - loss: 0.7013 - accuracy: 0.8006 - val_loss: 1.5286 - val_accuracy: 0.6904\n",
      "Epoch 35/100\n",
      "334/334 [==============================] - 5s 14ms/step - loss: 0.6980 - accuracy: 0.8015 - val_loss: 1.5338 - val_accuracy: 0.6923\n",
      "Epoch 36/100\n",
      "334/334 [==============================] - 5s 14ms/step - loss: 0.6946 - accuracy: 0.8023 - val_loss: 1.5423 - val_accuracy: 0.6935\n",
      "Epoch 37/100\n",
      "334/334 [==============================] - 5s 14ms/step - loss: 0.6926 - accuracy: 0.8031 - val_loss: 1.5695 - val_accuracy: 0.6911\n",
      "Epoch 38/100\n",
      "334/334 [==============================] - 5s 14ms/step - loss: 0.6913 - accuracy: 0.8031 - val_loss: 1.5525 - val_accuracy: 0.6921\n",
      "Epoch 39/100\n",
      "334/334 [==============================] - 5s 14ms/step - loss: 0.6871 - accuracy: 0.8034 - val_loss: 1.5526 - val_accuracy: 0.6876\n",
      "Epoch 40/100\n",
      "334/334 [==============================] - 5s 14ms/step - loss: 0.6846 - accuracy: 0.8040 - val_loss: 1.5656 - val_accuracy: 0.6901\n",
      "Epoch 41/100\n",
      "334/334 [==============================] - 5s 14ms/step - loss: 0.6816 - accuracy: 0.8048 - val_loss: 1.5894 - val_accuracy: 0.6921\n",
      "Epoch 42/100\n",
      "334/334 [==============================] - 5s 14ms/step - loss: 0.6798 - accuracy: 0.8051 - val_loss: 1.5899 - val_accuracy: 0.6919\n",
      "Epoch 43/100\n",
      "334/334 [==============================] - 5s 14ms/step - loss: 0.6780 - accuracy: 0.8046 - val_loss: 1.5972 - val_accuracy: 0.6938\n",
      "Epoch 44/100\n",
      "334/334 [==============================] - 5s 14ms/step - loss: 0.6765 - accuracy: 0.8057 - val_loss: 1.5857 - val_accuracy: 0.6930\n",
      "Epoch 45/100\n",
      "334/334 [==============================] - 5s 14ms/step - loss: 0.6747 - accuracy: 0.8055 - val_loss: 1.6023 - val_accuracy: 0.6899\n",
      "Epoch 46/100\n",
      "334/334 [==============================] - 5s 14ms/step - loss: 0.6730 - accuracy: 0.8064 - val_loss: 1.6176 - val_accuracy: 0.6901\n",
      "Epoch 47/100\n",
      "334/334 [==============================] - 5s 14ms/step - loss: 0.6699 - accuracy: 0.8060 - val_loss: 1.6255 - val_accuracy: 0.6932\n",
      "Epoch 48/100\n",
      "334/334 [==============================] - 5s 14ms/step - loss: 0.6686 - accuracy: 0.8067 - val_loss: 1.6389 - val_accuracy: 0.6905\n",
      "Epoch 49/100\n",
      "334/334 [==============================] - 5s 14ms/step - loss: 0.6673 - accuracy: 0.8060 - val_loss: 1.6609 - val_accuracy: 0.6884\n",
      "Epoch 50/100\n",
      "334/334 [==============================] - 5s 14ms/step - loss: 0.6657 - accuracy: 0.8064 - val_loss: 1.6191 - val_accuracy: 0.6894\n",
      "Epoch 51/100\n",
      "334/334 [==============================] - 5s 14ms/step - loss: 0.6651 - accuracy: 0.8068 - val_loss: 1.6446 - val_accuracy: 0.6926\n",
      "Epoch 52/100\n",
      "334/334 [==============================] - 5s 14ms/step - loss: 0.6619 - accuracy: 0.8072 - val_loss: 1.6460 - val_accuracy: 0.6912\n",
      "Epoch 53/100\n",
      "334/334 [==============================] - 5s 14ms/step - loss: 0.6611 - accuracy: 0.8077 - val_loss: 1.6612 - val_accuracy: 0.6913\n",
      "Epoch 54/100\n",
      "334/334 [==============================] - 5s 14ms/step - loss: 0.6598 - accuracy: 0.8074 - val_loss: 1.6821 - val_accuracy: 0.6931\n",
      "Epoch 55/100\n",
      "334/334 [==============================] - 5s 13ms/step - loss: 0.6584 - accuracy: 0.8082 - val_loss: 1.6819 - val_accuracy: 0.6893\n",
      "Epoch 56/100\n",
      "334/334 [==============================] - 5s 14ms/step - loss: 0.6576 - accuracy: 0.8077 - val_loss: 1.7005 - val_accuracy: 0.6923\n",
      "Epoch 57/100\n",
      "334/334 [==============================] - 5s 14ms/step - loss: 0.6558 - accuracy: 0.8078 - val_loss: 1.7086 - val_accuracy: 0.6883\n",
      "Epoch 58/100\n",
      "334/334 [==============================] - 5s 14ms/step - loss: 0.6545 - accuracy: 0.8076 - val_loss: 1.6962 - val_accuracy: 0.6913\n",
      "Epoch 59/100\n",
      "334/334 [==============================] - 5s 14ms/step - loss: 0.6541 - accuracy: 0.8080 - val_loss: 1.7374 - val_accuracy: 0.6898\n",
      "Epoch 60/100\n",
      "334/334 [==============================] - 5s 14ms/step - loss: 0.6516 - accuracy: 0.8092 - val_loss: 1.7100 - val_accuracy: 0.6899\n",
      "Epoch 61/100\n",
      "334/334 [==============================] - 5s 14ms/step - loss: 0.6514 - accuracy: 0.8086 - val_loss: 1.7438 - val_accuracy: 0.6908\n",
      "Epoch 62/100\n",
      "334/334 [==============================] - 5s 14ms/step - loss: 0.6494 - accuracy: 0.8087 - val_loss: 1.7328 - val_accuracy: 0.6911\n",
      "Epoch 63/100\n",
      "334/334 [==============================] - 5s 14ms/step - loss: 0.6488 - accuracy: 0.8086 - val_loss: 1.7659 - val_accuracy: 0.6920\n",
      "Epoch 64/100\n",
      "334/334 [==============================] - 5s 14ms/step - loss: 0.6476 - accuracy: 0.8088 - val_loss: 1.7794 - val_accuracy: 0.6921\n",
      "Epoch 65/100\n",
      "334/334 [==============================] - 5s 14ms/step - loss: 0.6468 - accuracy: 0.8093 - val_loss: 1.7665 - val_accuracy: 0.6902\n",
      "Epoch 66/100\n",
      "334/334 [==============================] - 5s 14ms/step - loss: 0.6453 - accuracy: 0.8093 - val_loss: 1.7456 - val_accuracy: 0.6918\n",
      "Epoch 67/100\n",
      "334/334 [==============================] - 5s 16ms/step - loss: 0.6444 - accuracy: 0.8101 - val_loss: 1.7461 - val_accuracy: 0.6931\n",
      "Epoch 68/100\n",
      "334/334 [==============================] - 5s 15ms/step - loss: 0.6441 - accuracy: 0.8092 - val_loss: 1.7872 - val_accuracy: 0.6898\n",
      "Epoch 69/100\n",
      "334/334 [==============================] - 5s 15ms/step - loss: 0.6427 - accuracy: 0.8090 - val_loss: 1.7882 - val_accuracy: 0.6875\n",
      "Epoch 70/100\n",
      "334/334 [==============================] - 5s 15ms/step - loss: 0.6417 - accuracy: 0.8096 - val_loss: 1.8150 - val_accuracy: 0.6921\n",
      "Epoch 71/100\n",
      "334/334 [==============================] - 5s 15ms/step - loss: 0.6402 - accuracy: 0.8094 - val_loss: 1.7957 - val_accuracy: 0.6908\n",
      "Epoch 72/100\n",
      "334/334 [==============================] - 5s 15ms/step - loss: 0.6400 - accuracy: 0.8100 - val_loss: 1.8217 - val_accuracy: 0.6934\n",
      "Epoch 73/100\n",
      "334/334 [==============================] - 5s 16ms/step - loss: 0.6384 - accuracy: 0.8098 - val_loss: 1.8113 - val_accuracy: 0.6906\n",
      "Epoch 74/100\n",
      "334/334 [==============================] - 5s 15ms/step - loss: 0.6384 - accuracy: 0.8105 - val_loss: 1.8370 - val_accuracy: 0.6904\n",
      "Epoch 75/100\n",
      "334/334 [==============================] - 5s 15ms/step - loss: 0.6379 - accuracy: 0.8101 - val_loss: 1.8319 - val_accuracy: 0.6897\n",
      "Epoch 76/100\n",
      "334/334 [==============================] - 5s 15ms/step - loss: 0.6368 - accuracy: 0.8104 - val_loss: 1.8599 - val_accuracy: 0.6910\n",
      "Epoch 77/100\n",
      "334/334 [==============================] - 5s 15ms/step - loss: 0.6349 - accuracy: 0.8102 - val_loss: 1.8758 - val_accuracy: 0.6885\n",
      "Epoch 78/100\n",
      "334/334 [==============================] - 5s 16ms/step - loss: 0.6349 - accuracy: 0.8105 - val_loss: 1.8736 - val_accuracy: 0.6884\n",
      "Epoch 79/100\n",
      "334/334 [==============================] - 5s 15ms/step - loss: 0.6357 - accuracy: 0.8105 - val_loss: 1.8513 - val_accuracy: 0.6892\n",
      "Epoch 80/100\n",
      "334/334 [==============================] - 5s 15ms/step - loss: 0.6331 - accuracy: 0.8103 - val_loss: 1.9059 - val_accuracy: 0.6921\n",
      "Epoch 81/100\n",
      "334/334 [==============================] - 5s 15ms/step - loss: 0.6323 - accuracy: 0.8112 - val_loss: 1.8845 - val_accuracy: 0.6900\n",
      "Epoch 82/100\n",
      "334/334 [==============================] - 5s 15ms/step - loss: 0.6315 - accuracy: 0.8118 - val_loss: 1.9283 - val_accuracy: 0.6903\n",
      "Epoch 83/100\n",
      "334/334 [==============================] - 5s 15ms/step - loss: 0.6316 - accuracy: 0.8110 - val_loss: 1.9089 - val_accuracy: 0.6879\n",
      "Epoch 84/100\n",
      "334/334 [==============================] - 5s 16ms/step - loss: 0.6316 - accuracy: 0.8099 - val_loss: 1.9081 - val_accuracy: 0.6910\n",
      "Epoch 85/100\n",
      "334/334 [==============================] - 5s 15ms/step - loss: 0.6305 - accuracy: 0.8109 - val_loss: 1.9067 - val_accuracy: 0.6911\n",
      "Epoch 86/100\n",
      "334/334 [==============================] - 5s 15ms/step - loss: 0.6298 - accuracy: 0.8106 - val_loss: 1.9227 - val_accuracy: 0.6893\n",
      "Epoch 87/100\n",
      "334/334 [==============================] - 5s 15ms/step - loss: 0.6290 - accuracy: 0.8110 - val_loss: 1.9217 - val_accuracy: 0.6912\n",
      "Epoch 88/100\n",
      "334/334 [==============================] - 5s 15ms/step - loss: 0.6276 - accuracy: 0.8108 - val_loss: 1.9366 - val_accuracy: 0.6891\n",
      "Epoch 89/100\n",
      "334/334 [==============================] - 5s 15ms/step - loss: 0.6269 - accuracy: 0.8112 - val_loss: 1.9800 - val_accuracy: 0.6899\n",
      "Epoch 90/100\n",
      "334/334 [==============================] - 5s 15ms/step - loss: 0.6282 - accuracy: 0.8112 - val_loss: 1.9443 - val_accuracy: 0.6908\n",
      "Epoch 91/100\n",
      "334/334 [==============================] - 5s 15ms/step - loss: 0.6254 - accuracy: 0.8113 - val_loss: 1.9606 - val_accuracy: 0.6917\n",
      "Epoch 92/100\n",
      "334/334 [==============================] - 5s 15ms/step - loss: 0.6254 - accuracy: 0.8114 - val_loss: 1.9609 - val_accuracy: 0.6911\n",
      "Epoch 93/100\n",
      "334/334 [==============================] - 5s 15ms/step - loss: 0.6250 - accuracy: 0.8116 - val_loss: 2.0124 - val_accuracy: 0.6897\n",
      "Epoch 94/100\n",
      "334/334 [==============================] - 5s 15ms/step - loss: 0.6257 - accuracy: 0.8117 - val_loss: 1.9783 - val_accuracy: 0.6921\n",
      "Epoch 95/100\n",
      "334/334 [==============================] - 5s 15ms/step - loss: 0.6248 - accuracy: 0.8107 - val_loss: 1.9832 - val_accuracy: 0.6921\n",
      "Epoch 96/100\n",
      "334/334 [==============================] - 5s 15ms/step - loss: 0.6242 - accuracy: 0.8120 - val_loss: 1.9857 - val_accuracy: 0.6910\n",
      "Epoch 97/100\n",
      "334/334 [==============================] - 5s 15ms/step - loss: 0.6248 - accuracy: 0.8115 - val_loss: 1.9880 - val_accuracy: 0.6908\n",
      "Epoch 98/100\n",
      "334/334 [==============================] - 5s 15ms/step - loss: 0.6234 - accuracy: 0.8112 - val_loss: 2.0043 - val_accuracy: 0.6906\n",
      "Epoch 99/100\n",
      "334/334 [==============================] - 5s 15ms/step - loss: 0.6216 - accuracy: 0.8115 - val_loss: 2.0326 - val_accuracy: 0.6902\n",
      "Epoch 100/100\n",
      "334/334 [==============================] - 5s 15ms/step - loss: 0.6195 - accuracy: 0.8126 - val_loss: 2.0315 - val_accuracy: 0.6911\n"
     ]
    },
    {
     "data": {
      "text/plain": [
       "<keras.callbacks.History at 0x7f4a19ee7a60>"
      ]
     },
     "execution_count": 61,
     "metadata": {},
     "output_type": "execute_result"
    }
   ],
   "source": [
    "epochs = 100\n",
    "batch_size = 300\n",
    "validation_data = (X_test,y_test)\n",
    "model.fit(X_train,\n",
    "         y_train,\n",
    "         epochs=epochs,\n",
    "         batch_size=batch_size,\n",
    "         validation_data=validation_data)"
   ]
  },
  {
   "cell_type": "code",
   "execution_count": 62,
   "id": "b7519fc8-2ec2-4482-8fd3-e77b5f25dfc9",
   "metadata": {},
   "outputs": [
    {
     "name": "stdout",
     "output_type": "stream",
     "text": [
      "783/783 [==============================] - 1s 1ms/step - loss: 2.0315 - accuracy: 0.6911\n"
     ]
    },
    {
     "data": {
      "text/plain": [
       "[2.0314998626708984, 0.6911001205444336]"
      ]
     },
     "execution_count": 62,
     "metadata": {},
     "output_type": "execute_result"
    }
   ],
   "source": [
    "model.evaluate(X_test,y_test)"
   ]
  },
  {
   "cell_type": "code",
   "execution_count": 92,
   "id": "50efeb86-6643-43f2-8f7a-d100be5b0c3c",
   "metadata": {},
   "outputs": [],
   "source": [
    "def predict_subject(subject):\n",
    "    x = okt.nouns(subject)\n",
    "    x = label_encode(x)\n",
    "    x = vectorize_list(x)\n",
    "    result = np.argmax(model.predict(x))\n",
    "    result = code_dictionary[result]\n",
    "    return f'입력한 {subject}의 분야는 {result}입니다.'"
   ]
  },
  {
   "cell_type": "code",
   "execution_count": 102,
   "id": "40898b15-eb40-46e4-bbc7-64e07f85f6a1",
   "metadata": {},
   "outputs": [
    {
     "data": {
      "text/plain": [
       "'입력한 초등학교 논리수업의 분야는 아동발달입니다.'"
      ]
     },
     "execution_count": 102,
     "metadata": {},
     "output_type": "execute_result"
    }
   ],
   "source": [
    "subject = '초등학교 논리수업'\n",
    "predict_subject(subject)"
   ]
  },
  {
   "cell_type": "code",
   "execution_count": 84,
   "id": "8a9dcaa6-9a16-4598-bbee-ddb28861d4e1",
   "metadata": {},
   "outputs": [],
   "source": [
    "subject = vectorize_list(subject)"
   ]
  },
  {
   "cell_type": "code",
   "execution_count": 82,
   "id": "88708734-e34d-4a1d-803c-b7773c8b9ba8",
   "metadata": {},
   "outputs": [],
   "source": [
    "def vectorize_list(x,dimension=1000):\n",
    "    t = np.zeros(dimension)\n",
    "    for i in x:\n",
    "        t[i] = 1\n",
    "    return np.array(t).reshape(1,-1)"
   ]
  },
  {
   "cell_type": "code",
   "execution_count": null,
   "id": "d73b8b37-8561-467e-ab5d-21634ebea38f",
   "metadata": {},
   "outputs": [],
   "source": [
    "def vectorize_word(x,dimension=1000):\n",
    "    t = np.zeros((x.shape[0],dimension))\n",
    "    for k,v in enumerate(x.values):\n",
    "        for i in v:\n",
    "            if i < dimension:\n",
    "                t[k,i] += 1\n",
    "    return t"
   ]
  },
  {
   "cell_type": "code",
   "execution_count": 65,
   "id": "a95caa81-c649-408e-83aa-c3110423f5ee",
   "metadata": {},
   "outputs": [
    {
     "data": {
      "text/plain": [
       "19"
      ]
     },
     "execution_count": 65,
     "metadata": {},
     "output_type": "execute_result"
    }
   ],
   "source": [
    "np.argmax(model.predict(X_train[[0]]))"
   ]
  },
  {
   "cell_type": "code",
   "execution_count": 66,
   "id": "4c5d0b59-d50c-478f-a145-f32acc4c805c",
   "metadata": {},
   "outputs": [
    {
     "data": {
      "text/plain": [
       "0         72\n",
       "1         72\n",
       "2         72\n",
       "3         72\n",
       "4         72\n",
       "          ..\n",
       "125164    32\n",
       "125165    32\n",
       "125166    32\n",
       "125167    32\n",
       "125168    32\n",
       "Name: label, Length: 125169, dtype: int64"
      ]
     },
     "execution_count": 66,
     "metadata": {},
     "output_type": "execute_result"
    }
   ],
   "source": [
    "code_dictionary[]"
   ]
  },
  {
   "cell_type": "code",
   "execution_count": null,
   "id": "fd05d63f-b7ce-47a0-aaba-a16b6bb61a0e",
   "metadata": {},
   "outputs": [],
   "source": []
  }
 ],
 "metadata": {
  "kernelspec": {
   "display_name": "keras",
   "language": "python",
   "name": "keras"
  },
  "language_info": {
   "codemirror_mode": {
    "name": "ipython",
    "version": 3
   },
   "file_extension": ".py",
   "mimetype": "text/x-python",
   "name": "python",
   "nbconvert_exporter": "python",
   "pygments_lexer": "ipython3",
   "version": "3.8.13"
  }
 },
 "nbformat": 4,
 "nbformat_minor": 5
}
