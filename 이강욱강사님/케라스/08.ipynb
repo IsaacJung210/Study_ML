{
 "cells": [
  {
   "cell_type": "code",
   "execution_count": 13,
   "id": "c41c2472-a28f-4328-822d-05d477a9a9a5",
   "metadata": {},
   "outputs": [],
   "source": [
    "from keras.datasets import mnist\n",
    "from keras.models import Sequential\n",
    "from keras.layers import Dense\n",
    "from keras.utils.np_utils import to_categorical"
   ]
  },
  {
   "cell_type": "code",
   "execution_count": 40,
   "id": "65aeb7dc-9cca-4a0c-8ebd-f9ffc87cf420",
   "metadata": {},
   "outputs": [],
   "source": [
    "(X_train,y_train), (X_test,y_test) = mnist.load_data()"
   ]
  },
  {
   "cell_type": "code",
   "execution_count": 41,
   "id": "b8afdaf9-7c2a-4565-9690-bdd2073dcf62",
   "metadata": {},
   "outputs": [],
   "source": [
    "X_train = X_train.reshape(-1,28*28)"
   ]
  },
  {
   "cell_type": "code",
   "execution_count": 25,
   "id": "7b51b7ed-6bae-48ab-b40d-1c1877967c7b",
   "metadata": {},
   "outputs": [],
   "source": [
    "X_train = X_train[:5000]"
   ]
  },
  {
   "cell_type": "code",
   "execution_count": 26,
   "id": "a0b9d6b0-fc11-4c85-b3f6-b23123e47adc",
   "metadata": {},
   "outputs": [],
   "source": [
    "y_train = y_train[:5000]"
   ]
  },
  {
   "cell_type": "code",
   "execution_count": 43,
   "id": "9de69662-0df7-4e35-a19d-18e3cbc50ad0",
   "metadata": {},
   "outputs": [],
   "source": [
    "y_train = to_categorical(y_train)"
   ]
  },
  {
   "cell_type": "code",
   "execution_count": 44,
   "id": "0ee482db-60f3-4373-9c6f-1cab5087559e",
   "metadata": {},
   "outputs": [],
   "source": [
    "##모델 생성\n",
    "input_shape = X_train.shape[1]\n",
    "output_shape = y_train.shape[1]\n",
    "model = Sequential()\n",
    "model.add(Dense(128,activation='relu',input_shape=(input_shape,)))\n",
    "model.add(Dense(64,activation='relu'))\n",
    "model.add(Dense(32,activation='relu'))\n",
    "model.add(Dense(output_shape,activation='softmax'))"
   ]
  },
  {
   "cell_type": "code",
   "execution_count": 45,
   "id": "b6634756-2995-4412-b29b-15c619b6cf6e",
   "metadata": {},
   "outputs": [],
   "source": [
    "## 컴파일\n",
    "optimizer = 'adam'\n",
    "loss = 'categorical_crossentropy'\n",
    "metrics = ['accuracy']\n",
    "model.compile(optimizer=optimizer,\n",
    "             loss=loss,\n",
    "             metrics=metrics)"
   ]
  },
  {
   "cell_type": "code",
   "execution_count": 46,
   "id": "7ac87996-213a-4b48-8e78-9135520ca6e8",
   "metadata": {},
   "outputs": [
    {
     "name": "stdout",
     "output_type": "stream",
     "text": [
      "Epoch 1/20\n",
      "150/150 [==============================] - 1s 4ms/step - loss: 3.8782 - accuracy: 0.7352\n",
      "Epoch 2/20\n",
      "150/150 [==============================] - 1s 4ms/step - loss: 0.6229 - accuracy: 0.8761\n",
      "Epoch 3/20\n",
      "150/150 [==============================] - 1s 4ms/step - loss: 0.3766 - accuracy: 0.9120\n",
      "Epoch 4/20\n",
      "150/150 [==============================] - 1s 4ms/step - loss: 0.2704 - accuracy: 0.9320\n",
      "Epoch 5/20\n",
      "150/150 [==============================] - 1s 4ms/step - loss: 0.2121 - accuracy: 0.9434\n",
      "Epoch 6/20\n",
      "150/150 [==============================] - 1s 4ms/step - loss: 0.1731 - accuracy: 0.9523\n",
      "Epoch 7/20\n",
      "150/150 [==============================] - 1s 4ms/step - loss: 0.1462 - accuracy: 0.9577\n",
      "Epoch 8/20\n",
      "150/150 [==============================] - 1s 4ms/step - loss: 0.1235 - accuracy: 0.9639\n",
      "Epoch 9/20\n",
      "150/150 [==============================] - 1s 4ms/step - loss: 0.1066 - accuracy: 0.9679\n",
      "Epoch 10/20\n",
      "150/150 [==============================] - 1s 4ms/step - loss: 0.0930 - accuracy: 0.9727\n",
      "Epoch 11/20\n",
      "150/150 [==============================] - 1s 4ms/step - loss: 0.0792 - accuracy: 0.9767\n",
      "Epoch 12/20\n",
      "150/150 [==============================] - 1s 4ms/step - loss: 0.0722 - accuracy: 0.9776\n",
      "Epoch 13/20\n",
      "150/150 [==============================] - 1s 4ms/step - loss: 0.0653 - accuracy: 0.9803\n",
      "Epoch 14/20\n",
      "150/150 [==============================] - 1s 4ms/step - loss: 0.0613 - accuracy: 0.9807\n",
      "Epoch 15/20\n",
      "150/150 [==============================] - 1s 4ms/step - loss: 0.0554 - accuracy: 0.9824\n",
      "Epoch 16/20\n",
      "150/150 [==============================] - 1s 4ms/step - loss: 0.0534 - accuracy: 0.9834\n",
      "Epoch 17/20\n",
      "150/150 [==============================] - 1s 4ms/step - loss: 0.0539 - accuracy: 0.9830\n",
      "Epoch 18/20\n",
      "150/150 [==============================] - 1s 4ms/step - loss: 0.0550 - accuracy: 0.9829\n",
      "Epoch 19/20\n",
      "150/150 [==============================] - 1s 4ms/step - loss: 0.0503 - accuracy: 0.9847\n",
      "Epoch 20/20\n",
      "150/150 [==============================] - 1s 4ms/step - loss: 0.0492 - accuracy: 0.9844\n"
     ]
    },
    {
     "data": {
      "text/plain": [
       "<keras.callbacks.History at 0x7f06f4e688e0>"
      ]
     },
     "execution_count": 46,
     "metadata": {},
     "output_type": "execute_result"
    }
   ],
   "source": [
    "## 학습\n",
    "epochs = 20\n",
    "batch_size = 400\n",
    "model.fit(X_train,\n",
    "         y_train,\n",
    "         epochs=epochs,\n",
    "         batch_size=batch_size)"
   ]
  },
  {
   "cell_type": "code",
   "execution_count": 34,
   "id": "bca14311-2720-4239-b060-ff3fb3b0783c",
   "metadata": {},
   "outputs": [
    {
     "name": "stdout",
     "output_type": "stream",
     "text": [
      "313/313 [==============================] - 0s 935us/step - loss: 1.4197 - accuracy: 0.8144\n"
     ]
    },
    {
     "data": {
      "text/plain": [
       "[1.4197343587875366, 0.8144000172615051]"
      ]
     },
     "execution_count": 34,
     "metadata": {},
     "output_type": "execute_result"
    }
   ],
   "source": [
    "## 평가\n",
    "model.evaluate(X_test.reshape(-1,28*28),to_categorical(y_test))"
   ]
  },
  {
   "cell_type": "code",
   "execution_count": 47,
   "id": "593d1af2-43ee-4f53-aa08-8ff3a3c07eec",
   "metadata": {},
   "outputs": [
    {
     "name": "stdout",
     "output_type": "stream",
     "text": [
      "313/313 [==============================] - 0s 680us/step - loss: 0.2633 - accuracy: 0.9546\n"
     ]
    },
    {
     "data": {
      "text/plain": [
       "[0.26334187388420105, 0.9545999765396118]"
      ]
     },
     "execution_count": 47,
     "metadata": {},
     "output_type": "execute_result"
    }
   ],
   "source": [
    "model.evaluate(X_test.reshape(-1,28*28),to_categorical(y_test))"
   ]
  },
  {
   "cell_type": "code",
   "execution_count": 48,
   "id": "61a996b1-5be1-409a-9a4d-0f9eca486586",
   "metadata": {},
   "outputs": [
    {
     "data": {
      "text/plain": [
       "60000"
      ]
     },
     "execution_count": 48,
     "metadata": {},
     "output_type": "execute_result"
    }
   ],
   "source": [
    "X_train.shape[0]"
   ]
  },
  {
   "cell_type": "code",
   "execution_count": null,
   "id": "40adb049-07d3-440f-b790-d11893b7ee14",
   "metadata": {},
   "outputs": [],
   "source": []
  }
 ],
 "metadata": {
  "kernelspec": {
   "display_name": "keras",
   "language": "python",
   "name": "keras"
  },
  "language_info": {
   "codemirror_mode": {
    "name": "ipython",
    "version": 3
   },
   "file_extension": ".py",
   "mimetype": "text/x-python",
   "name": "python",
   "nbconvert_exporter": "python",
   "pygments_lexer": "ipython3",
   "version": "3.8.13"
  }
 },
 "nbformat": 4,
 "nbformat_minor": 5
}
