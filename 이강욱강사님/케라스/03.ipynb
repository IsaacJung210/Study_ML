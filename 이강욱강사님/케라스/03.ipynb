{
 "cells": [
  {
   "cell_type": "code",
   "execution_count": 1,
   "id": "28f39772-4f38-4674-b282-684ddb7c5863",
   "metadata": {},
   "outputs": [],
   "source": [
    "import numpy as np\n",
    "import pandas as pd\n",
    "\n",
    "from keras.models import Sequential\n",
    "from keras.layers import Dense\n",
    "from keras.datasets import imdb"
   ]
  },
  {
   "cell_type": "code",
   "execution_count": 15,
   "id": "d0a83759-39aa-4025-bb8e-02d2ba284581",
   "metadata": {},
   "outputs": [],
   "source": [
    "(X_train_raw, y_train_raw), (X_test_raw,y_test_raw) = imdb.load_data()"
   ]
  },
  {
   "cell_type": "code",
   "execution_count": 16,
   "id": "248e0e14-3539-40b5-a8c7-f29e4681edf2",
   "metadata": {},
   "outputs": [],
   "source": [
    "word_index = imdb.get_word_index()"
   ]
  },
  {
   "cell_type": "code",
   "execution_count": 17,
   "id": "7455cff3-66ff-4d67-a42c-b2cbaec6f724",
   "metadata": {},
   "outputs": [],
   "source": [
    "index_word = { v:k for k,v in word_index.items()}"
   ]
  },
  {
   "cell_type": "code",
   "execution_count": 19,
   "id": "04b5a4b1-8c15-4674-8af9-ac7f9a08b1ad",
   "metadata": {},
   "outputs": [
    {
     "data": {
      "text/plain": [
       "88584"
      ]
     },
     "execution_count": 19,
     "metadata": {},
     "output_type": "execute_result"
    }
   ],
   "source": [
    "max(word_index.values())"
   ]
  },
  {
   "cell_type": "code",
   "execution_count": 41,
   "id": "07d43d62-64a5-4a52-8236-64e0b459f6c4",
   "metadata": {},
   "outputs": [],
   "source": [
    "def make_sentence(x):\n",
    "    doc = []\n",
    "    for i in x:\n",
    "        i = np.array(i)[np.array(i) <= max(word_index.values())]\n",
    "        tmp = []\n",
    "        for j in range(len(i)):\n",
    "            tmp.append(index_word[i[j]])\n",
    "            sentence = ' '.join(tmp)\n",
    "        doc.append(sentence)\n",
    "    return pd.DataFrame(doc,columns=['text'])"
   ]
  },
  {
   "cell_type": "code",
   "execution_count": 42,
   "id": "33e74212-664e-4e68-83c5-69d5df32525b",
   "metadata": {},
   "outputs": [],
   "source": [
    "X_train = make_sentence(X_train_raw)"
   ]
  },
  {
   "cell_type": "code",
   "execution_count": 43,
   "id": "6ee02880-4333-4257-ba2b-4b655c775c49",
   "metadata": {},
   "outputs": [],
   "source": [
    "X_test = make_sentence(X_test_raw)"
   ]
  },
  {
   "cell_type": "code",
   "execution_count": null,
   "id": "20483dd8-ec5d-44c2-86ef-8a4091f02a61",
   "metadata": {},
   "outputs": [],
   "source": [
    "# X_train X_test합쳐 uniuqe 정수인덱스, 단어인덱스\n"
   ]
  }
 ],
 "metadata": {
  "interpreter": {
   "hash": "6d46af94c2bbce495f1e668725902fa517c90b1782bcfe2fce0dd9868df553d3"
  },
  "kernelspec": {
   "display_name": "keras",
   "language": "python",
   "name": "python3"
  },
  "language_info": {
   "codemirror_mode": {
    "name": "ipython",
    "version": 3
   },
   "file_extension": ".py",
   "mimetype": "text/x-python",
   "name": "python",
   "nbconvert_exporter": "python",
   "pygments_lexer": "ipython3",
   "version": "3.9.7"
  }
 },
 "nbformat": 4,
 "nbformat_minor": 5
}
