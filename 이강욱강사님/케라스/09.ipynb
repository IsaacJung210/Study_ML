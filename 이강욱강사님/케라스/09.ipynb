{
 "cells": [
  {
   "cell_type": "code",
   "execution_count": 14,
   "id": "2582df89-c56c-4f91-9b4b-25b1df6f6198",
   "metadata": {},
   "outputs": [],
   "source": [
    "from keras import layers\n",
    "from keras import models"
   ]
  },
  {
   "cell_type": "code",
   "execution_count": 39,
   "id": "f230d9eb-0c7a-4e9f-824a-e51bd9f65fd1",
   "metadata": {},
   "outputs": [],
   "source": [
    "from keras.datasets import cifar10\n",
    "from keras.models import Sequential\n",
    "from keras.layers import Dense, Dropout, BatchNormalization\n",
    "from keras.utils.np_utils import to_categorical\n",
    "import matplotlib.pyplot as plt\n",
    "from sklearn.model_selection import train_test_split"
   ]
  },
  {
   "cell_type": "code",
   "execution_count": 66,
   "id": "784ecd34-6518-48cf-9301-359b5bb00002",
   "metadata": {},
   "outputs": [],
   "source": [
    "(X_train, y_train), (X_test,y_test) = cifar10.load_data()"
   ]
  },
  {
   "cell_type": "code",
   "execution_count": 45,
   "id": "adafa54c-676a-4797-ba5f-fad7c1eeb9f7",
   "metadata": {},
   "outputs": [],
   "source": [
    "X_train = X_train.reshape(-1,X_train.shape[1]*X_train.shape[2]*X_train.shape[3])\n",
    "X_test = X_test.reshape(-1,X_test.shape[1]*X_test.shape[2]*X_test.shape[3])\n",
    "y_train = to_categorical(y_train)\n",
    "y_test = to_categorical(y_test)\n",
    "X_train, X_val, y_train, y_val = train_test_split(X_train,y_train,test_size=.2)"
   ]
  },
  {
   "cell_type": "code",
   "execution_count": 46,
   "id": "56c269b9-5189-486a-b99d-854debbf87fb",
   "metadata": {},
   "outputs": [],
   "source": [
    "input_shape = X_train.shape[1]\n",
    "output_shape = y_train.shape[1]\n",
    "model = Sequential()\n",
    "model.add(Dense(1024,activation='relu',input_shape=(input_shape,)))\n",
    "model.add(BatchNormalization())\n",
    "model.add(Dense(2048,activation='relu'))\n",
    "model.add(BatchNormalization())\n",
    "model.add(Dense(1024,activation='relu'))\n",
    "model.add(BatchNormalization())\n",
    "model.add(Dense(512,activation='relu'))\n",
    "model.add(Dense(output_shape,activation='softmax'))"
   ]
  },
  {
   "cell_type": "code",
   "execution_count": 47,
   "id": "1ae1f4a2-b139-442a-83cd-e660f0ae4614",
   "metadata": {},
   "outputs": [],
   "source": [
    "optimizer = 'adam'\n",
    "loss = 'categorical_crossentropy'\n",
    "metrics = ['accuracy']\n",
    "model.compile(optimizer=optimizer,\n",
    "             loss=loss,\n",
    "             metrics=metrics)"
   ]
  },
  {
   "cell_type": "code",
   "execution_count": 49,
   "id": "40d75780-d014-40b7-b5d0-46a1124f5bba",
   "metadata": {},
   "outputs": [
    {
     "name": "stdout",
     "output_type": "stream",
     "text": [
      "Epoch 1/20\n",
      "200/200 [==============================] - 28s 139ms/step - loss: 1.5839 - accuracy: 0.4406 - val_loss: 2.8450 - val_accuracy: 0.2092\n",
      "Epoch 2/20\n",
      "200/200 [==============================] - 28s 141ms/step - loss: 1.4590 - accuracy: 0.4805 - val_loss: 2.2308 - val_accuracy: 0.2756\n",
      "Epoch 3/20\n",
      "200/200 [==============================] - 29s 144ms/step - loss: 1.3649 - accuracy: 0.5132 - val_loss: 2.0431 - val_accuracy: 0.3283\n",
      "Epoch 4/20\n",
      "200/200 [==============================] - 27s 136ms/step - loss: 1.2724 - accuracy: 0.5433 - val_loss: 1.8909 - val_accuracy: 0.3588\n",
      "Epoch 5/20\n",
      "200/200 [==============================] - 27s 136ms/step - loss: 1.1838 - accuracy: 0.5734 - val_loss: 2.1343 - val_accuracy: 0.3159\n",
      "Epoch 6/20\n",
      "200/200 [==============================] - 27s 137ms/step - loss: 1.1081 - accuracy: 0.6058 - val_loss: 1.8064 - val_accuracy: 0.4200\n",
      "Epoch 7/20\n",
      "200/200 [==============================] - 27s 137ms/step - loss: 1.0211 - accuracy: 0.6348 - val_loss: 1.8748 - val_accuracy: 0.4085\n",
      "Epoch 8/20\n",
      "200/200 [==============================] - 27s 137ms/step - loss: 0.9440 - accuracy: 0.6603 - val_loss: 2.1927 - val_accuracy: 0.4092\n",
      "Epoch 9/20\n",
      "200/200 [==============================] - 28s 138ms/step - loss: 0.8623 - accuracy: 0.6880 - val_loss: 2.2958 - val_accuracy: 0.4657\n",
      "Epoch 10/20\n",
      "200/200 [==============================] - 27s 137ms/step - loss: 0.7482 - accuracy: 0.7325 - val_loss: 3.2022 - val_accuracy: 0.4517\n",
      "Epoch 11/20\n",
      "200/200 [==============================] - 27s 137ms/step - loss: 0.6461 - accuracy: 0.7671 - val_loss: 3.1839 - val_accuracy: 0.4501\n",
      "Epoch 12/20\n",
      "200/200 [==============================] - 28s 138ms/step - loss: 0.5425 - accuracy: 0.8055 - val_loss: 4.2582 - val_accuracy: 0.3954\n",
      "Epoch 13/20\n",
      "200/200 [==============================] - 28s 138ms/step - loss: 0.4565 - accuracy: 0.8369 - val_loss: 4.6382 - val_accuracy: 0.4460\n",
      "Epoch 14/20\n",
      "200/200 [==============================] - 27s 137ms/step - loss: 0.3645 - accuracy: 0.8709 - val_loss: 5.2209 - val_accuracy: 0.4765\n",
      "Epoch 15/20\n",
      "200/200 [==============================] - 27s 137ms/step - loss: 0.3015 - accuracy: 0.8920 - val_loss: 5.0954 - val_accuracy: 0.4658\n",
      "Epoch 16/20\n",
      "200/200 [==============================] - 27s 137ms/step - loss: 0.2467 - accuracy: 0.9130 - val_loss: 5.7618 - val_accuracy: 0.4849\n",
      "Epoch 17/20\n",
      "200/200 [==============================] - 27s 136ms/step - loss: 0.2122 - accuracy: 0.9247 - val_loss: 6.9503 - val_accuracy: 0.4941\n",
      "Epoch 18/20\n",
      "200/200 [==============================] - 27s 137ms/step - loss: 0.2011 - accuracy: 0.9301 - val_loss: 5.4369 - val_accuracy: 0.4681\n",
      "Epoch 19/20\n",
      "200/200 [==============================] - 27s 136ms/step - loss: 0.1633 - accuracy: 0.9436 - val_loss: 6.8572 - val_accuracy: 0.4767\n",
      "Epoch 20/20\n",
      "200/200 [==============================] - 27s 136ms/step - loss: 0.1554 - accuracy: 0.9449 - val_loss: 6.7181 - val_accuracy: 0.4663\n"
     ]
    },
    {
     "data": {
      "text/plain": [
       "<keras.callbacks.History at 0x7fbef6f3d880>"
      ]
     },
     "execution_count": 49,
     "metadata": {},
     "output_type": "execute_result"
    }
   ],
   "source": [
    "epochs = 20\n",
    "batch_size = 200\n",
    "validation_data = (X_val, y_val)\n",
    "model.fit(X_train,y_train,epochs=epochs,batch_size=batch_size,validation_data=validation_data)"
   ]
  },
  {
   "cell_type": "code",
   "execution_count": 50,
   "id": "19166a09-366b-4787-8841-f7d0c770ebb3",
   "metadata": {},
   "outputs": [
    {
     "name": "stdout",
     "output_type": "stream",
     "text": [
      "313/313 [==============================] - 3s 10ms/step - loss: 4.5798 - accuracy: 0.4773\n"
     ]
    },
    {
     "data": {
      "text/plain": [
       "[4.579836845397949, 0.4772999882698059]"
      ]
     },
     "execution_count": 50,
     "metadata": {},
     "output_type": "execute_result"
    }
   ],
   "source": [
    "model.evaluate(X_test,y_test)"
   ]
  },
  {
   "cell_type": "code",
   "execution_count": 57,
   "id": "b5ebf93b-6b5b-4320-b009-e703c2edd008",
   "metadata": {},
   "outputs": [],
   "source": [
    "from keras.datasets import mnist"
   ]
  },
  {
   "cell_type": "code",
   "execution_count": 58,
   "id": "c966df1a-0366-4d9b-bfd7-0bc62c2a7a2a",
   "metadata": {},
   "outputs": [],
   "source": [
    "(X_train, _),(_, _) = mnist.load_data()"
   ]
  },
  {
   "cell_type": "code",
   "execution_count": 59,
   "id": "a803045c-b578-4640-8b00-3f65b4f62267",
   "metadata": {},
   "outputs": [],
   "source": [
    "x = X_train[0]"
   ]
  },
  {
   "cell_type": "code",
   "execution_count": 62,
   "id": "c374019c-ce74-4518-ad9d-5b38e3e7cc36",
   "metadata": {},
   "outputs": [
    {
     "data": {
      "text/plain": [
       "<matplotlib.image.AxesImage at 0x7fbef4e313a0>"
      ]
     },
     "execution_count": 62,
     "metadata": {},
     "output_type": "execute_result"
    },
    {
     "data": {
      "image/png": "[encoded data removed]",
      "text/plain": [
       "<Figure size 432x288 with 1 Axes>"
      ]
     },
     "metadata": {
      "needs_background": "light"
     },
     "output_type": "display_data"
    }
   ],
   "source": [
    "plt.imshow(x)"
   ]
  },
  {
   "cell_type": "code",
   "execution_count": 65,
   "id": "a3209534-72e2-4dd3-8794-8b86e4fc3dea",
   "metadata": {},
   "outputs": [
    {
     "data": {
      "text/plain": [
       "<matplotlib.image.AxesImage at 0x7fbf4086cf10>"
      ]
     },
     "execution_count": 65,
     "metadata": {},
     "output_type": "execute_result"
    },
    {
     "data": {
      "image/png": "[encoded data removed]",
      "text/plain": [
       "<Figure size 432x288 with 1 Axes>"
      ]
     },
     "metadata": {
      "needs_background": "light"
     },
     "output_type": "display_data"
    }
   ],
   "source": [
    "plt.imshow(x.reshape(1,28*28))"
   ]
  },
  {
   "cell_type": "code",
   "execution_count": 63,
   "id": "0c6756d5-1e42-4358-85f3-7bea73edab3c",
   "metadata": {},
   "outputs": [
    {
     "data": {
      "text/plain": [
       "(28, 28)"
      ]
     },
     "execution_count": 63,
     "metadata": {},
     "output_type": "execute_result"
    }
   ],
   "source": [
    "x.shape"
   ]
  },
  {
   "cell_type": "code",
   "execution_count": 67,
   "id": "8d4e4cad-c7f1-40dd-9c1d-2fdd0e0918d6",
   "metadata": {},
   "outputs": [
    {
     "data": {
      "text/plain": [
       "<matplotlib.image.AxesImage at 0x7fbf408446a0>"
      ]
     },
     "execution_count": 67,
     "metadata": {},
     "output_type": "execute_result"
    },
    {
     "data": {
      "image/png": "[encoded data removed]",
      "text/plain": [
       "<Figure size 432x288 with 1 Axes>"
      ]
     },
     "metadata": {
      "needs_background": "light"
     },
     "output_type": "display_data"
    }
   ],
   "source": [
    "plt.imshow(X_train[0])"
   ]
  },
  {
   "cell_type": "code",
   "execution_count": 76,
   "id": "d193b30a-f349-42a2-9dab-810e11f24663",
   "metadata": {},
   "outputs": [
    {
     "data": {
      "text/plain": [
       "<matplotlib.image.AxesImage at 0x7fbf405098e0>"
      ]
     },
     "execution_count": 76,
     "metadata": {},
     "output_type": "execute_result"
    },
    {
     "data": {
      "image/png": "[encoded data removed]",
      "text/plain": [
       "<Figure size 432x288 with 1 Axes>"
      ]
     },
     "metadata": {
      "needs_background": "light"
     },
     "output_type": "display_data"
    }
   ],
   "source": [
    "plt.imshow(X_train[0][:32,:32,:3])"
   ]
  },
  {
   "cell_type": "code",
   "execution_count": null,
   "id": "6dd20a4b-b4ae-480a-8ccd-ca4532df80ed",
   "metadata": {},
   "outputs": [],
   "source": []
  }
 ],
 "metadata": {
  "kernelspec": {
   "display_name": "keras",
   "language": "python",
   "name": "keras"
  },
  "language_info": {
   "codemirror_mode": {
    "name": "ipython",
    "version": 3
   },
   "file_extension": ".py",
   "mimetype": "text/x-python",
   "name": "python",
   "nbconvert_exporter": "python",
   "pygments_lexer": "ipython3",
   "version": "3.8.13"
  }
 },
 "nbformat": 4,
 "nbformat_minor": 5
}
