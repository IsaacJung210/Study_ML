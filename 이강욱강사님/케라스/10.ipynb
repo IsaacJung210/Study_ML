{
 "cells": [
  {
   "cell_type": "code",
   "execution_count": 1,
   "id": "a2d07a94-f96b-4775-9099-0992ea443a9d",
   "metadata": {},
   "outputs": [],
   "source": [
    "from keras.datasets import mnist"
   ]
  },
  {
   "cell_type": "code",
   "execution_count": 2,
   "id": "c65bd2a7-c493-441b-b558-2422f13448e1",
   "metadata": {},
   "outputs": [],
   "source": [
    "from keras.models import Sequential\n",
    "from keras.layers import Dense, Conv2D, MaxPool2D, Flatten\n",
    "from keras.utils.np_utils import to_categorical"
   ]
  },
  {
   "cell_type": "code",
   "execution_count": 3,
   "id": "72bd5958-ddee-489c-a724-5c5675d9398e",
   "metadata": {},
   "outputs": [],
   "source": [
    "from keras import layers"
   ]
  },
  {
   "cell_type": "code",
   "execution_count": 4,
   "id": "44046028-b8ac-43c7-bed0-62dbaaccb571",
   "metadata": {},
   "outputs": [],
   "source": [
    "(X_train, y_train), (X_test, y_test) = mnist.load_data()"
   ]
  },
  {
   "cell_type": "code",
   "execution_count": 5,
   "id": "fa64e7ad-3cc6-4609-b6b3-714a3795f916",
   "metadata": {},
   "outputs": [],
   "source": [
    "X_train = X_train.reshape(-1,28,28,1)"
   ]
  },
  {
   "cell_type": "code",
   "execution_count": 6,
   "id": "5c748826-7bab-44ee-a595-689aab29b45b",
   "metadata": {},
   "outputs": [],
   "source": [
    "y_train = to_categorical(y_train)"
   ]
  },
  {
   "cell_type": "code",
   "execution_count": 7,
   "id": "b0e8d70b-739c-4faf-8dda-db34b894e64a",
   "metadata": {},
   "outputs": [],
   "source": [
    "output_shape = y_train.shape[1]"
   ]
  },
  {
   "cell_type": "code",
   "execution_count": 8,
   "id": "19d97742-2f34-4b12-9c9f-b966b0bfab06",
   "metadata": {},
   "outputs": [],
   "source": [
    "model = Sequential()\n",
    "model.add(Conv2D(32,(3,3),activation='relu',\n",
    "                 input_shape=(X_train.shape[1],X_train.shape[2],X_train.shape[3])))\n",
    "model.add(MaxPool2D((2,2)))\n",
    "model.add(Conv2D(64,(3,3),activation='relu'))\n",
    "model.add(MaxPool2D((2,2)))\n",
    "model.add(Conv2D(64,(3,3),activation='relu'))\n",
    "model.add(Flatten())\n",
    "model.add(Dense(128,activation='relu'))\n",
    "model.add(Dense(output_shape,activation='softmax'))"
   ]
  },
  {
   "cell_type": "code",
   "execution_count": 9,
   "id": "7eac3522-460f-4e52-889a-60900c359f0d",
   "metadata": {},
   "outputs": [
    {
     "name": "stdout",
     "output_type": "stream",
     "text": [
      "Model: \"sequential\"\n",
      "_________________________________________________________________\n",
      " Layer (type)                Output Shape              Param #   \n",
      "=================================================================\n",
      " conv2d (Conv2D)             (None, 26, 26, 32)        320       \n",
      "                                                                 \n",
      " max_pooling2d (MaxPooling2D  (None, 13, 13, 32)       0         \n",
      " )                                                               \n",
      "                                                                 \n",
      " conv2d_1 (Conv2D)           (None, 11, 11, 64)        18496     \n",
      "                                                                 \n",
      " max_pooling2d_1 (MaxPooling  (None, 5, 5, 64)         0         \n",
      " 2D)                                                             \n",
      "                                                                 \n",
      " conv2d_2 (Conv2D)           (None, 3, 3, 64)          36928     \n",
      "                                                                 \n",
      " flatten (Flatten)           (None, 576)               0         \n",
      "                                                                 \n",
      " dense (Dense)               (None, 128)               73856     \n",
      "                                                                 \n",
      " dense_1 (Dense)             (None, 10)                1290      \n",
      "                                                                 \n",
      "=================================================================\n",
      "Total params: 130,890\n",
      "Trainable params: 130,890\n",
      "Non-trainable params: 0\n",
      "_________________________________________________________________\n"
     ]
    }
   ],
   "source": [
    "model.summary()"
   ]
  },
  {
   "cell_type": "code",
   "execution_count": 10,
   "id": "ea6b6cf0-1e8d-43c1-832b-f621dc605596",
   "metadata": {},
   "outputs": [],
   "source": [
    "optimizer = 'adam'\n",
    "loss = 'categorical_crossentropy'\n",
    "metrics = ['accuracy']\n",
    "model.compile(optimizer=optimizer,\n",
    "             loss=loss,\n",
    "             metrics=metrics)"
   ]
  },
  {
   "cell_type": "code",
   "execution_count": 11,
   "id": "89fc5f96-e5c8-491a-a2fe-53fa97d2271b",
   "metadata": {},
   "outputs": [
    {
     "name": "stdout",
     "output_type": "stream",
     "text": [
      "Epoch 1/20\n",
      "150/150 [==============================] - 20s 130ms/step - loss: 0.9433 - accuracy: 0.8488\n",
      "Epoch 2/20\n",
      "150/150 [==============================] - 19s 128ms/step - loss: 0.0965 - accuracy: 0.9706\n",
      "Epoch 3/20\n",
      "150/150 [==============================] - 20s 132ms/step - loss: 0.0633 - accuracy: 0.9803\n",
      "Epoch 4/20\n",
      "150/150 [==============================] - 20s 130ms/step - loss: 0.0449 - accuracy: 0.9856\n",
      "Epoch 5/20\n",
      "150/150 [==============================] - 20s 132ms/step - loss: 0.0352 - accuracy: 0.9885\n",
      "Epoch 6/20\n",
      "150/150 [==============================] - 19s 127ms/step - loss: 0.0272 - accuracy: 0.9913\n",
      "Epoch 7/20\n",
      "150/150 [==============================] - 19s 126ms/step - loss: 0.0198 - accuracy: 0.9937\n",
      "Epoch 8/20\n",
      "150/150 [==============================] - 19s 124ms/step - loss: 0.0161 - accuracy: 0.9946\n",
      "Epoch 9/20\n",
      "150/150 [==============================] - 19s 128ms/step - loss: 0.0145 - accuracy: 0.9952\n",
      "Epoch 10/20\n",
      "150/150 [==============================] - 20s 130ms/step - loss: 0.0161 - accuracy: 0.9943\n",
      "Epoch 11/20\n",
      "150/150 [==============================] - 20s 134ms/step - loss: 0.0104 - accuracy: 0.9963\n",
      "Epoch 12/20\n",
      "150/150 [==============================] - 22s 146ms/step - loss: 0.0122 - accuracy: 0.9958\n",
      "Epoch 13/20\n",
      "150/150 [==============================] - 22s 147ms/step - loss: 0.0081 - accuracy: 0.9973\n",
      "Epoch 14/20\n",
      "150/150 [==============================] - 21s 143ms/step - loss: 0.0095 - accuracy: 0.9968\n",
      "Epoch 15/20\n",
      "150/150 [==============================] - 21s 141ms/step - loss: 0.0079 - accuracy: 0.9972\n",
      "Epoch 16/20\n",
      "150/150 [==============================] - 22s 144ms/step - loss: 0.0087 - accuracy: 0.9972\n",
      "Epoch 17/20\n",
      "150/150 [==============================] - 21s 141ms/step - loss: 0.0080 - accuracy: 0.9973\n",
      "Epoch 18/20\n",
      "150/150 [==============================] - 21s 142ms/step - loss: 0.0097 - accuracy: 0.9966\n",
      "Epoch 19/20\n",
      "150/150 [==============================] - 21s 141ms/step - loss: 0.0068 - accuracy: 0.9979\n",
      "Epoch 20/20\n",
      "150/150 [==============================] - 21s 140ms/step - loss: 0.0078 - accuracy: 0.9972\n"
     ]
    },
    {
     "data": {
      "text/plain": [
       "<keras.callbacks.History at 0x21af83af4c0>"
      ]
     },
     "execution_count": 11,
     "metadata": {},
     "output_type": "execute_result"
    }
   ],
   "source": [
    "epochs = 20\n",
    "batch_size = 400\n",
    "model.fit(X_train, \n",
    "         y_train,\n",
    "         epochs=epochs,\n",
    "         batch_size=batch_size)"
   ]
  },
  {
   "cell_type": "code",
   "execution_count": 12,
   "id": "413d997b-2bc4-427c-a6b8-da796d20b624",
   "metadata": {},
   "outputs": [
    {
     "name": "stdout",
     "output_type": "stream",
     "text": [
      "Model: \"sequential\"\n",
      "_________________________________________________________________\n",
      " Layer (type)                Output Shape              Param #   \n",
      "=================================================================\n",
      " conv2d (Conv2D)             (None, 26, 26, 32)        320       \n",
      "                                                                 \n",
      " max_pooling2d (MaxPooling2D  (None, 13, 13, 32)       0         \n",
      " )                                                               \n",
      "                                                                 \n",
      " conv2d_1 (Conv2D)           (None, 11, 11, 64)        18496     \n",
      "                                                                 \n",
      " max_pooling2d_1 (MaxPooling  (None, 5, 5, 64)         0         \n",
      " 2D)                                                             \n",
      "                                                                 \n",
      " conv2d_2 (Conv2D)           (None, 3, 3, 64)          36928     \n",
      "                                                                 \n",
      " flatten (Flatten)           (None, 576)               0         \n",
      "                                                                 \n",
      " dense (Dense)               (None, 128)               73856     \n",
      "                                                                 \n",
      " dense_1 (Dense)             (None, 10)                1290      \n",
      "                                                                 \n",
      "=================================================================\n",
      "Total params: 130,890\n",
      "Trainable params: 130,890\n",
      "Non-trainable params: 0\n",
      "_________________________________________________________________\n"
     ]
    }
   ],
   "source": [
    "model.summary()"
   ]
  },
  {
   "cell_type": "code",
   "execution_count": 13,
   "id": "18d4ebb7-2cdf-4a76-86bd-7fbe51b99870",
   "metadata": {},
   "outputs": [],
   "source": [
    "from keras.datasets import cifar10"
   ]
  },
  {
   "cell_type": "code",
   "execution_count": 14,
   "id": "32dd7a75",
   "metadata": {},
   "outputs": [
    {
     "name": "stdout",
     "output_type": "stream",
     "text": [
      "Downloading data from https://www.cs.toronto.edu/~kriz/cifar-10-python.tar.gz\n",
      "170500096/170498071 [==============================] - 75s 0us/step\n",
      "170508288/170498071 [==============================] - 75s 0us/step\n"
     ]
    }
   ],
   "source": [
    "(X_train,y_train), (X_test,y_test) = cifar10.load_data()"
   ]
  },
  {
   "cell_type": "code",
   "execution_count": null,
   "id": "04283d18",
   "metadata": {},
   "outputs": [],
   "source": []
  }
 ],
 "metadata": {
  "interpreter": {
   "hash": "6d46af94c2bbce495f1e668725902fa517c90b1782bcfe2fce0dd9868df553d3"
  },
  "kernelspec": {
   "display_name": "keras",
   "language": "python",
   "name": "python3"
  },
  "language_info": {
   "codemirror_mode": {
    "name": "ipython",
    "version": 3
   },
   "file_extension": ".py",
   "mimetype": "text/x-python",
   "name": "python",
   "nbconvert_exporter": "python",
   "pygments_lexer": "ipython3",
   "version": "3.9.7"
  }
 },
 "nbformat": 4,
 "nbformat_minor": 5
}
