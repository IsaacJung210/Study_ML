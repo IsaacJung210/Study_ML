{
 "cells": [
  {
   "cell_type": "code",
   "execution_count": 31,
   "id": "2e69f9c7-6822-490d-b5a0-0a60caf7d284",
   "metadata": {},
   "outputs": [],
   "source": [
    "## 모듈 임포트\n",
    "from keras.datasets import imdb\n",
    "import numpy as np\n",
    "from keras.models import Sequential\n",
    "from keras.layers import Dense, Dropout"
   ]
  },
  {
   "cell_type": "code",
   "execution_count": 2,
   "id": "4f2aa63f-920a-4977-8739-fdd5639da411",
   "metadata": {},
   "outputs": [],
   "source": [
    "## 데이터정리\n",
    "\n",
    "(train_data, train_labels), (test_data, test_labels) = imdb.load_data(num_words=5000)\n",
    "\n",
    "def vectorize_sequences(sequences, dimension=10000):\n",
    "    # 크기가 (len(sequences), dimension))이고 모든 원소가 0인 행렬을 만듭니다\n",
    "    results = np.zeros((len(sequences), dimension))\n",
    "    for i, sequence in enumerate(sequences):\n",
    "        results[i, sequence] = 1.  # results[i]에서 특정 인덱스의 위치를 1로 만듭니다\n",
    "    return results\n",
    "\n",
    "# 훈련 데이터를 벡터로 변환합니다\n",
    "X_train = vectorize_sequences(train_data)\n",
    "# 테스트 데이터를 벡터로 변환합니다\n",
    "X_test = vectorize_sequences(test_data)\n",
    "# 레이블을 벡터로 변환합니다\n",
    "y_train = np.asarray(train_labels).astype('float32')\n",
    "y_test = np.asarray(test_labels).astype('float32')\n",
    "y_train = y_train.reshape(-1,1)\n",
    "y_train = y_train.reshape(-1,1)"
   ]
  },
  {
   "cell_type": "code",
   "execution_count": 3,
   "id": "7a2e3937-2ed7-48f3-81bc-6adfa7e84160",
   "metadata": {},
   "outputs": [
    {
     "name": "stderr",
     "output_type": "stream",
     "text": [
      "2022-05-04 00:16:35.486353: I tensorflow/core/platform/cpu_feature_guard.cc:142] This TensorFlow binary is optimized with oneAPI Deep Neural Network Library (oneDNN) to use the following CPU instructions in performance-critical operations:  SSE4.1 SSE4.2 AVX AVX2\n",
      "To enable them in other operations, rebuild TensorFlow with the appropriate compiler flags.\n",
      "2022-05-04 00:16:35.487397: I tensorflow/core/common_runtime/process_util.cc:146] Creating new thread pool with default inter op setting: 2. Tune using inter_op_parallelism_threads for best performance.\n"
     ]
    }
   ],
   "source": [
    "## 네트워크 생성(모델생성)\n",
    "input_shape = X_train.shape[1] \n",
    "output_shape = y_train.shape[1]\n",
    "original_model = Sequential()\n",
    "original_model.add(Dense(16,activation='relu',input_shape=(input_shape,)))\n",
    "original_model.add(Dense(16,activation='relu'))\n",
    "original_model.add(Dense(output_shape,activation='sigmoid'))"
   ]
  },
  {
   "cell_type": "code",
   "execution_count": 4,
   "id": "d2d9275a-77ba-4ab8-8801-4c0f1af32642",
   "metadata": {},
   "outputs": [],
   "source": [
    "## 모델설정\n",
    "optimizer=\"rmsprop\"\n",
    "loss=\"binary_crossentropy\"\n",
    "metrics=[\"accuracy\"]\n",
    "original_model.compile(optimizer=optimizer,\n",
    "                      loss=loss,\n",
    "                      metrics=metrics)"
   ]
  },
  {
   "cell_type": "code",
   "execution_count": 5,
   "id": "7b044e55-a695-413e-8437-627487fade0b",
   "metadata": {},
   "outputs": [
    {
     "name": "stderr",
     "output_type": "stream",
     "text": [
      "2022-05-04 00:16:41.052331: I tensorflow/compiler/mlir/mlir_graph_optimization_pass.cc:185] None of the MLIR Optimization Passes are enabled (registered 2)\n"
     ]
    },
    {
     "name": "stdout",
     "output_type": "stream",
     "text": [
      "Epoch 1/20\n",
      "49/49 [==============================] - 2s 35ms/step - loss: 0.4517 - accuracy: 0.8206 - val_loss: 0.3319 - val_accuracy: 0.8793\n",
      "Epoch 2/20\n",
      "49/49 [==============================] - 1s 22ms/step - loss: 0.2792 - accuracy: 0.8980 - val_loss: 0.2940 - val_accuracy: 0.8832\n",
      "Epoch 3/20\n",
      "49/49 [==============================] - 1s 23ms/step - loss: 0.2311 - accuracy: 0.9137 - val_loss: 0.2964 - val_accuracy: 0.8797\n",
      "Epoch 4/20\n",
      "49/49 [==============================] - 1s 23ms/step - loss: 0.2077 - accuracy: 0.9206 - val_loss: 0.2979 - val_accuracy: 0.8806\n",
      "Epoch 5/20\n",
      "49/49 [==============================] - 1s 23ms/step - loss: 0.1917 - accuracy: 0.9290 - val_loss: 0.3378 - val_accuracy: 0.8677\n",
      "Epoch 6/20\n",
      "49/49 [==============================] - 1s 23ms/step - loss: 0.1797 - accuracy: 0.9308 - val_loss: 0.3228 - val_accuracy: 0.8743\n",
      "Epoch 7/20\n",
      "49/49 [==============================] - 1s 22ms/step - loss: 0.1720 - accuracy: 0.9353 - val_loss: 0.3370 - val_accuracy: 0.8719\n",
      "Epoch 8/20\n",
      "49/49 [==============================] - 1s 22ms/step - loss: 0.1610 - accuracy: 0.9416 - val_loss: 0.3660 - val_accuracy: 0.8647\n",
      "Epoch 9/20\n",
      "49/49 [==============================] - 1s 22ms/step - loss: 0.1530 - accuracy: 0.9422 - val_loss: 0.3610 - val_accuracy: 0.8693\n",
      "Epoch 10/20\n",
      "49/49 [==============================] - 1s 23ms/step - loss: 0.1446 - accuracy: 0.9463 - val_loss: 0.3734 - val_accuracy: 0.8659\n",
      "Epoch 11/20\n",
      "49/49 [==============================] - 1s 21ms/step - loss: 0.1378 - accuracy: 0.9490 - val_loss: 0.3992 - val_accuracy: 0.8624\n",
      "Epoch 12/20\n",
      "49/49 [==============================] - 1s 22ms/step - loss: 0.1293 - accuracy: 0.9531 - val_loss: 0.4002 - val_accuracy: 0.8646\n",
      "Epoch 13/20\n",
      "49/49 [==============================] - 1s 24ms/step - loss: 0.1249 - accuracy: 0.9535 - val_loss: 0.4142 - val_accuracy: 0.8640\n",
      "Epoch 14/20\n",
      "49/49 [==============================] - 1s 20ms/step - loss: 0.1152 - accuracy: 0.9581 - val_loss: 0.4338 - val_accuracy: 0.8612\n",
      "Epoch 15/20\n",
      "49/49 [==============================] - 1s 22ms/step - loss: 0.1073 - accuracy: 0.9632 - val_loss: 0.4340 - val_accuracy: 0.8612\n",
      "Epoch 16/20\n",
      "49/49 [==============================] - 1s 20ms/step - loss: 0.1002 - accuracy: 0.9650 - val_loss: 0.4672 - val_accuracy: 0.8586\n",
      "Epoch 17/20\n",
      "49/49 [==============================] - 1s 20ms/step - loss: 0.0919 - accuracy: 0.9685 - val_loss: 0.4687 - val_accuracy: 0.8603\n",
      "Epoch 18/20\n",
      "49/49 [==============================] - 1s 21ms/step - loss: 0.0799 - accuracy: 0.9744 - val_loss: 0.4937 - val_accuracy: 0.8556\n",
      "Epoch 19/20\n",
      "49/49 [==============================] - 1s 21ms/step - loss: 0.0794 - accuracy: 0.9732 - val_loss: 0.5083 - val_accuracy: 0.8572\n",
      "Epoch 20/20\n",
      "49/49 [==============================] - 1s 20ms/step - loss: 0.0656 - accuracy: 0.9802 - val_loss: 0.5252 - val_accuracy: 0.8533\n"
     ]
    },
    {
     "data": {
      "text/plain": [
       "<keras.callbacks.History at 0x7f34687ad820>"
      ]
     },
     "execution_count": 5,
     "metadata": {},
     "output_type": "execute_result"
    }
   ],
   "source": [
    "## 모델학습 및 평가\n",
    "epochs=20\n",
    "batch_size=512\n",
    "validation_data=(X_test,y_test)\n",
    "original_model.fit(X_train,y_train,\n",
    "                  epochs=epochs,\n",
    "                  batch_size=batch_size,\n",
    "                  validation_data=validation_data)"
   ]
  },
  {
   "cell_type": "code",
   "execution_count": 12,
   "id": "f7dffa06-2d05-4d75-b691-b697ca0c394e",
   "metadata": {},
   "outputs": [
    {
     "data": {
      "text/plain": [
       "dict_keys(['loss', 'accuracy', 'val_loss', 'val_accuracy'])"
      ]
     },
     "execution_count": 12,
     "metadata": {},
     "output_type": "execute_result"
    }
   ],
   "source": [
    "## 모델활용\n",
    "import matplotlib.pyplot as plt\n",
    "original_model.history.history.keys()"
   ]
  },
  {
   "cell_type": "code",
   "execution_count": 16,
   "id": "359174f3-c162-4388-9316-bccc14c2128c",
   "metadata": {},
   "outputs": [
    {
     "data": {
      "image/png": "[encoded data removed]",
      "text/plain": [
       "<Figure size 432x288 with 1 Axes>"
      ]
     },
     "metadata": {
      "needs_background": "light"
     },
     "output_type": "display_data"
    }
   ],
   "source": [
    "plt.plot(range(1,21),original_model.history.history['accuracy'])\n",
    "plt.plot(range(1,21),original_model.history.history['val_accuracy'])\n",
    "plt.show()"
   ]
  },
  {
   "cell_type": "code",
   "execution_count": 17,
   "id": "0a363a65-2a4a-4b50-8b42-ff0df668bf9c",
   "metadata": {},
   "outputs": [],
   "source": [
    "small_model = Sequential()\n",
    "small_model.add(Dense(6,activation='relu',input_shape=(input_shape,)))\n",
    "small_model.add(Dense(6,activation='relu'))\n",
    "small_model.add(Dense(output_shape,activation='sigmoid'))"
   ]
  },
  {
   "cell_type": "code",
   "execution_count": 18,
   "id": "6dc8d6f7-3a02-4b8c-8ef0-27e99b668cf4",
   "metadata": {},
   "outputs": [],
   "source": [
    "optimizer=\"rmsprop\"\n",
    "loss=\"binary_crossentropy\"\n",
    "metrics=[\"accuracy\"]\n",
    "small_model.compile(optimizer=optimizer,\n",
    "                      loss=loss,\n",
    "                      metrics=metrics)"
   ]
  },
  {
   "cell_type": "code",
   "execution_count": 19,
   "id": "9136705c-6464-4c97-9ef8-17b74ff357ea",
   "metadata": {},
   "outputs": [
    {
     "name": "stdout",
     "output_type": "stream",
     "text": [
      "Epoch 1/20\n",
      "49/49 [==============================] - 2s 28ms/step - loss: 0.5365 - accuracy: 0.7863 - val_loss: 0.4350 - val_accuracy: 0.8655\n",
      "Epoch 2/20\n",
      "49/49 [==============================] - 1s 18ms/step - loss: 0.3561 - accuracy: 0.8885 - val_loss: 0.3319 - val_accuracy: 0.8828\n",
      "Epoch 3/20\n",
      "49/49 [==============================] - 1s 18ms/step - loss: 0.2757 - accuracy: 0.9074 - val_loss: 0.2969 - val_accuracy: 0.8857\n",
      "Epoch 4/20\n",
      "49/49 [==============================] - 1s 18ms/step - loss: 0.2378 - accuracy: 0.9163 - val_loss: 0.2845 - val_accuracy: 0.8857\n",
      "Epoch 5/20\n",
      "49/49 [==============================] - 1s 18ms/step - loss: 0.2137 - accuracy: 0.9228 - val_loss: 0.2847 - val_accuracy: 0.8846\n",
      "Epoch 6/20\n",
      "49/49 [==============================] - 1s 20ms/step - loss: 0.1973 - accuracy: 0.9289 - val_loss: 0.2873 - val_accuracy: 0.8828\n",
      "Epoch 7/20\n",
      "49/49 [==============================] - 1s 22ms/step - loss: 0.1857 - accuracy: 0.9323 - val_loss: 0.2956 - val_accuracy: 0.8824\n",
      "Epoch 8/20\n",
      "49/49 [==============================] - 1s 19ms/step - loss: 0.1749 - accuracy: 0.9372 - val_loss: 0.3297 - val_accuracy: 0.8706\n",
      "Epoch 9/20\n",
      "49/49 [==============================] - 1s 20ms/step - loss: 0.1684 - accuracy: 0.9386 - val_loss: 0.3113 - val_accuracy: 0.8792\n",
      "Epoch 10/20\n",
      "49/49 [==============================] - 1s 20ms/step - loss: 0.1593 - accuracy: 0.9430 - val_loss: 0.3499 - val_accuracy: 0.8671\n",
      "Epoch 11/20\n",
      "49/49 [==============================] - 1s 22ms/step - loss: 0.1528 - accuracy: 0.9456 - val_loss: 0.3509 - val_accuracy: 0.8683\n",
      "Epoch 12/20\n",
      "49/49 [==============================] - 1s 20ms/step - loss: 0.1475 - accuracy: 0.9476 - val_loss: 0.3418 - val_accuracy: 0.8740\n",
      "Epoch 13/20\n",
      "49/49 [==============================] - 1s 18ms/step - loss: 0.1413 - accuracy: 0.9503 - val_loss: 0.3558 - val_accuracy: 0.8706\n",
      "Epoch 14/20\n",
      "49/49 [==============================] - 1s 19ms/step - loss: 0.1361 - accuracy: 0.9520 - val_loss: 0.3632 - val_accuracy: 0.8713\n",
      "Epoch 15/20\n",
      "49/49 [==============================] - 1s 20ms/step - loss: 0.1304 - accuracy: 0.9550 - val_loss: 0.3892 - val_accuracy: 0.8644\n",
      "Epoch 16/20\n",
      "49/49 [==============================] - 1s 19ms/step - loss: 0.1262 - accuracy: 0.9555 - val_loss: 0.3902 - val_accuracy: 0.8640\n",
      "Epoch 17/20\n",
      "49/49 [==============================] - 1s 19ms/step - loss: 0.1212 - accuracy: 0.9588 - val_loss: 0.3937 - val_accuracy: 0.8649\n",
      "Epoch 18/20\n",
      "49/49 [==============================] - 1s 21ms/step - loss: 0.1153 - accuracy: 0.9615 - val_loss: 0.4053 - val_accuracy: 0.8647\n",
      "Epoch 19/20\n",
      "49/49 [==============================] - 1s 19ms/step - loss: 0.1105 - accuracy: 0.9619 - val_loss: 0.4148 - val_accuracy: 0.8626\n",
      "Epoch 20/20\n",
      "49/49 [==============================] - 1s 19ms/step - loss: 0.1068 - accuracy: 0.9642 - val_loss: 0.4267 - val_accuracy: 0.8607\n"
     ]
    },
    {
     "data": {
      "text/plain": [
       "<keras.callbacks.History at 0x7f3469352490>"
      ]
     },
     "execution_count": 19,
     "metadata": {},
     "output_type": "execute_result"
    }
   ],
   "source": [
    "epochs=20\n",
    "batch_size=512\n",
    "validation_data=(X_test,y_test)\n",
    "small_model.fit(X_train,y_train,\n",
    "                  epochs=epochs,\n",
    "                  batch_size=batch_size,\n",
    "                  validation_data=validation_data)"
   ]
  },
  {
   "cell_type": "code",
   "execution_count": 21,
   "id": "7aa14ae5-b43d-46e3-be2c-a1c59ec01b5e",
   "metadata": {},
   "outputs": [
    {
     "data": {
      "image/png": "[encoded data removed]",
      "text/plain": [
       "<Figure size 432x288 with 1 Axes>"
      ]
     },
     "metadata": {
      "needs_background": "light"
     },
     "output_type": "display_data"
    }
   ],
   "source": [
    "plt.plot(range(1,21),small_model.history.history['accuracy'])\n",
    "plt.plot(range(1,21),small_model.history.history['val_accuracy'])\n",
    "plt.show()"
   ]
  },
  {
   "cell_type": "code",
   "execution_count": 23,
   "id": "a6b66c87-8ffe-40b8-995b-b1b1ce48db85",
   "metadata": {},
   "outputs": [],
   "source": [
    "from keras import regularizers"
   ]
  },
  {
   "cell_type": "code",
   "execution_count": 26,
   "id": "b9da651e-6546-45ef-a27d-daa891c86fd5",
   "metadata": {},
   "outputs": [],
   "source": [
    "from keras.regularizers import l1, l2"
   ]
  },
  {
   "cell_type": "code",
   "execution_count": 27,
   "id": "a685499b-d064-46d6-825b-3f41ef824941",
   "metadata": {},
   "outputs": [],
   "source": [
    "l1_model = Sequential()\n",
    "l1_model.add(Dense(16,activation='relu',kernel_regularizer=l2(0.001),input_shape=(input_shape,)))\n",
    "l1_model.add(Dense(16,activation='relu',kernel_regularizer=l2(0.001)))\n",
    "l1_model.add(Dense(output_shape,activation='sigmoid'))"
   ]
  },
  {
   "cell_type": "code",
   "execution_count": 28,
   "id": "dad6fdf2-f9d2-42e1-9717-65310864761f",
   "metadata": {},
   "outputs": [],
   "source": [
    "optimizer=\"rmsprop\"\n",
    "loss=\"binary_crossentropy\"\n",
    "metrics=[\"accuracy\"]\n",
    "l1_model.compile(optimizer=optimizer,\n",
    "                      loss=loss,\n",
    "                      metrics=metrics)"
   ]
  },
  {
   "cell_type": "code",
   "execution_count": 29,
   "id": "87a85ade-c2c3-48b7-89c6-0db6f03914e6",
   "metadata": {},
   "outputs": [
    {
     "name": "stdout",
     "output_type": "stream",
     "text": [
      "Epoch 1/20\n",
      "49/49 [==============================] - 6s 107ms/step - loss: 0.5032 - accuracy: 0.8184 - val_loss: 0.3933 - val_accuracy: 0.8728\n",
      "Epoch 2/20\n",
      "49/49 [==============================] - 1s 21ms/step - loss: 0.3340 - accuracy: 0.8930 - val_loss: 0.3363 - val_accuracy: 0.8844\n",
      "Epoch 3/20\n",
      "49/49 [==============================] - 1s 24ms/step - loss: 0.2883 - accuracy: 0.9083 - val_loss: 0.3233 - val_accuracy: 0.8871\n",
      "Epoch 4/20\n",
      "49/49 [==============================] - 1s 20ms/step - loss: 0.2702 - accuracy: 0.9142 - val_loss: 0.3253 - val_accuracy: 0.8860\n",
      "Epoch 5/20\n",
      "49/49 [==============================] - 1s 20ms/step - loss: 0.2574 - accuracy: 0.9190 - val_loss: 0.3329 - val_accuracy: 0.8829\n",
      "Epoch 6/20\n",
      "49/49 [==============================] - 1s 25ms/step - loss: 0.2511 - accuracy: 0.9210 - val_loss: 0.3484 - val_accuracy: 0.8778\n",
      "Epoch 7/20\n",
      "49/49 [==============================] - 1s 25ms/step - loss: 0.2483 - accuracy: 0.9238 - val_loss: 0.3447 - val_accuracy: 0.8800\n",
      "Epoch 8/20\n",
      "49/49 [==============================] - 1s 21ms/step - loss: 0.2440 - accuracy: 0.9257 - val_loss: 0.3523 - val_accuracy: 0.8784\n",
      "Epoch 9/20\n",
      "49/49 [==============================] - 1s 24ms/step - loss: 0.2400 - accuracy: 0.9257 - val_loss: 0.3745 - val_accuracy: 0.8696\n",
      "Epoch 10/20\n",
      "49/49 [==============================] - 1s 22ms/step - loss: 0.2369 - accuracy: 0.9266 - val_loss: 0.3581 - val_accuracy: 0.8776\n",
      "Epoch 11/20\n",
      "49/49 [==============================] - 1s 23ms/step - loss: 0.2350 - accuracy: 0.9279 - val_loss: 0.3631 - val_accuracy: 0.8761\n",
      "Epoch 12/20\n",
      "49/49 [==============================] - 1s 21ms/step - loss: 0.2329 - accuracy: 0.9296 - val_loss: 0.3697 - val_accuracy: 0.8745\n",
      "Epoch 13/20\n",
      "49/49 [==============================] - 1s 20ms/step - loss: 0.2334 - accuracy: 0.9290 - val_loss: 0.3804 - val_accuracy: 0.8733\n",
      "Epoch 14/20\n",
      "49/49 [==============================] - 1s 21ms/step - loss: 0.2305 - accuracy: 0.9305 - val_loss: 0.3753 - val_accuracy: 0.8730\n",
      "Epoch 15/20\n",
      "49/49 [==============================] - 1s 20ms/step - loss: 0.2269 - accuracy: 0.9320 - val_loss: 0.4059 - val_accuracy: 0.8669\n",
      "Epoch 16/20\n",
      "49/49 [==============================] - 1s 22ms/step - loss: 0.2271 - accuracy: 0.9308 - val_loss: 0.3999 - val_accuracy: 0.8642\n",
      "Epoch 17/20\n",
      "49/49 [==============================] - 1s 20ms/step - loss: 0.2250 - accuracy: 0.9297 - val_loss: 0.3848 - val_accuracy: 0.8713\n",
      "Epoch 18/20\n",
      "49/49 [==============================] - 1s 21ms/step - loss: 0.2248 - accuracy: 0.9313 - val_loss: 0.3853 - val_accuracy: 0.8718\n",
      "Epoch 19/20\n",
      "49/49 [==============================] - 1s 22ms/step - loss: 0.2234 - accuracy: 0.9323 - val_loss: 0.3883 - val_accuracy: 0.8710\n",
      "Epoch 20/20\n",
      "49/49 [==============================] - 1s 22ms/step - loss: 0.2199 - accuracy: 0.9345 - val_loss: 0.3897 - val_accuracy: 0.8710\n"
     ]
    },
    {
     "data": {
      "text/plain": [
       "<keras.callbacks.History at 0x7f336c7c3700>"
      ]
     },
     "execution_count": 29,
     "metadata": {},
     "output_type": "execute_result"
    }
   ],
   "source": [
    "epochs=20\n",
    "batch_size=512\n",
    "validation_data=(X_test,y_test)\n",
    "l1_model.fit(X_train,y_train,\n",
    "                  epochs=epochs,\n",
    "                  batch_size=batch_size,\n",
    "                  validation_data=validation_data)"
   ]
  },
  {
   "cell_type": "code",
   "execution_count": 30,
   "id": "7aabfe1a-b5ef-415b-be4b-5fea14bf9db8",
   "metadata": {},
   "outputs": [
    {
     "data": {
      "image/png": "[encoded data removed]",
      "text/plain": [
       "<Figure size 432x288 with 1 Axes>"
      ]
     },
     "metadata": {
      "needs_background": "light"
     },
     "output_type": "display_data"
    }
   ],
   "source": [
    "plt.plot(range(1,21),l1_model.history.history['accuracy'])\n",
    "plt.plot(range(1,21),l1_model.history.history['val_accuracy'])\n",
    "plt.show()"
   ]
  },
  {
   "cell_type": "code",
   "execution_count": 40,
   "id": "9b5280e9-3e87-464f-a981-f677673bbc35",
   "metadata": {},
   "outputs": [],
   "source": [
    "drout_model = Sequential()\n",
    "drout_model.add(Dense(16,activation='relu',input_shape=(input_shape,)))\n",
    "drout_model.add(Dropout(0.5))\n",
    "drout_model.add(Dense(16,activation='relu'))\n",
    "drout_model.add(Dropout(0.5))\n",
    "drout_model.add(Dense(output_shape,activation='sigmoid'))"
   ]
  },
  {
   "cell_type": "code",
   "execution_count": 41,
   "id": "a2b8dd2d-0603-4ec4-9eae-f23f41e4e72e",
   "metadata": {},
   "outputs": [],
   "source": [
    "optimizer=\"rmsprop\"\n",
    "loss=\"binary_crossentropy\"\n",
    "metrics=[\"accuracy\"]\n",
    "drout_model.compile(optimizer=optimizer,\n",
    "                      loss=loss,\n",
    "                      metrics=metrics)"
   ]
  },
  {
   "cell_type": "code",
   "execution_count": 42,
   "id": "5a726a1f-9be4-4f7d-beff-908caa9a69af",
   "metadata": {},
   "outputs": [
    {
     "name": "stdout",
     "output_type": "stream",
     "text": [
      "Epoch 1/20\n",
      "49/49 [==============================] - 4s 65ms/step - loss: 0.6249 - accuracy: 0.6481 - val_loss: 0.5028 - val_accuracy: 0.8518\n",
      "Epoch 2/20\n",
      "49/49 [==============================] - 1s 20ms/step - loss: 0.5008 - accuracy: 0.7832 - val_loss: 0.3861 - val_accuracy: 0.8771\n",
      "Epoch 3/20\n",
      "49/49 [==============================] - 1s 19ms/step - loss: 0.4178 - accuracy: 0.8362 - val_loss: 0.3213 - val_accuracy: 0.8844\n",
      "Epoch 4/20\n",
      "49/49 [==============================] - 1s 21ms/step - loss: 0.3569 - accuracy: 0.8641 - val_loss: 0.2924 - val_accuracy: 0.8860\n",
      "Epoch 5/20\n",
      "49/49 [==============================] - 1s 22ms/step - loss: 0.3226 - accuracy: 0.8820 - val_loss: 0.2808 - val_accuracy: 0.8858\n",
      "Epoch 6/20\n",
      "49/49 [==============================] - 1s 23ms/step - loss: 0.2888 - accuracy: 0.8921 - val_loss: 0.2822 - val_accuracy: 0.8842\n",
      "Epoch 7/20\n",
      "49/49 [==============================] - 1s 20ms/step - loss: 0.2678 - accuracy: 0.9030 - val_loss: 0.2853 - val_accuracy: 0.8814\n",
      "Epoch 8/20\n",
      "49/49 [==============================] - 1s 23ms/step - loss: 0.2523 - accuracy: 0.9113 - val_loss: 0.2971 - val_accuracy: 0.8807\n",
      "Epoch 9/20\n",
      "49/49 [==============================] - 1s 20ms/step - loss: 0.2384 - accuracy: 0.9140 - val_loss: 0.3038 - val_accuracy: 0.8816\n",
      "Epoch 10/20\n",
      "49/49 [==============================] - 1s 20ms/step - loss: 0.2236 - accuracy: 0.9217 - val_loss: 0.3127 - val_accuracy: 0.8810\n",
      "Epoch 11/20\n",
      "49/49 [==============================] - 1s 20ms/step - loss: 0.2100 - accuracy: 0.9275 - val_loss: 0.3277 - val_accuracy: 0.8790\n",
      "Epoch 12/20\n",
      "49/49 [==============================] - 1s 23ms/step - loss: 0.2040 - accuracy: 0.9285 - val_loss: 0.3531 - val_accuracy: 0.8784\n",
      "Epoch 13/20\n",
      "49/49 [==============================] - 1s 20ms/step - loss: 0.1960 - accuracy: 0.9332 - val_loss: 0.3544 - val_accuracy: 0.8742\n",
      "Epoch 14/20\n",
      "49/49 [==============================] - 1s 23ms/step - loss: 0.1817 - accuracy: 0.9356 - val_loss: 0.3644 - val_accuracy: 0.8766\n",
      "Epoch 15/20\n",
      "49/49 [==============================] - 1s 20ms/step - loss: 0.1800 - accuracy: 0.9373 - val_loss: 0.3847 - val_accuracy: 0.8737\n",
      "Epoch 16/20\n",
      "49/49 [==============================] - 1s 21ms/step - loss: 0.1723 - accuracy: 0.9406 - val_loss: 0.3901 - val_accuracy: 0.8730\n",
      "Epoch 17/20\n",
      "49/49 [==============================] - 1s 22ms/step - loss: 0.1660 - accuracy: 0.9418 - val_loss: 0.4185 - val_accuracy: 0.8738\n",
      "Epoch 18/20\n",
      "49/49 [==============================] - 1s 20ms/step - loss: 0.1608 - accuracy: 0.9426 - val_loss: 0.4321 - val_accuracy: 0.8714\n",
      "Epoch 19/20\n",
      "49/49 [==============================] - 1s 21ms/step - loss: 0.1630 - accuracy: 0.9442 - val_loss: 0.4453 - val_accuracy: 0.8719\n",
      "Epoch 20/20\n",
      "49/49 [==============================] - 1s 21ms/step - loss: 0.1552 - accuracy: 0.9453 - val_loss: 0.4623 - val_accuracy: 0.8694\n"
     ]
    },
    {
     "data": {
      "text/plain": [
       "<keras.callbacks.History at 0x7f3365d516d0>"
      ]
     },
     "execution_count": 42,
     "metadata": {},
     "output_type": "execute_result"
    }
   ],
   "source": [
    "epochs=20\n",
    "batch_size=512\n",
    "validation_data=(X_test,y_test)\n",
    "drout_model.fit(X_train,y_train,\n",
    "                  epochs=epochs,\n",
    "                  batch_size=batch_size,\n",
    "                  validation_data=validation_data)"
   ]
  },
  {
   "cell_type": "code",
   "execution_count": 43,
   "id": "8a79c0f7-74f9-4ee0-9601-dd09a3ad2bb0",
   "metadata": {},
   "outputs": [
    {
     "data": {
      "image/png": "[encoded data removed]",
      "text/plain": [
       "<Figure size 432x288 with 1 Axes>"
      ]
     },
     "metadata": {
      "needs_background": "light"
     },
     "output_type": "display_data"
    }
   ],
   "source": [
    "plt.plot(range(1,21),drout_model.history.history['accuracy'])\n",
    "plt.plot(range(1,21),drout_model.history.history['val_accuracy'])\n",
    "plt.show()"
   ]
  },
  {
   "cell_type": "code",
   "execution_count": null,
   "id": "57b4e69b-cb80-4aef-81a2-4bc1ff702226",
   "metadata": {},
   "outputs": [],
   "source": []
  }
 ],
 "metadata": {
  "kernelspec": {
   "display_name": "keras",
   "language": "python",
   "name": "keras"
  },
  "language_info": {
   "codemirror_mode": {
    "name": "ipython",
    "version": 3
   },
   "file_extension": ".py",
   "mimetype": "text/x-python",
   "name": "python",
   "nbconvert_exporter": "python",
   "pygments_lexer": "ipython3",
   "version": "3.8.13"
  }
 },
 "nbformat": 4,
 "nbformat_minor": 5
}
